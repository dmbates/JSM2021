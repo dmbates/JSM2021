{
 "cells": [
  {
   "cell_type": "markdown",
   "id": "d3c1ef85",
   "metadata": {
    "slideshow": {
     "slide_type": "slide"
    }
   },
   "source": [
    "# A deep dive into a simple function evaluation\n",
    "\n",
    "- To illustrate how the *Julia* language allows for functions or methods defined at a high level to be compiled, we consider, in great detail, a simple example.\n",
    "- The *logistic* function, $g^{-1}(x) = \\frac{1}{1 + \\exp(-x)}$, will be called on a *linear predictor* vector many times when fitting a logistic regression model (i.e. a GLM with the logit link).\n",
    "- On the [Beautiful Algorithms repository](https://github.com/mossr/BeautifulAlgorithms.jl) the function is coded in Julia as"
   ]
  },
  {
   "cell_type": "code",
   "execution_count": 1,
   "id": "04250ce0",
   "metadata": {
    "slideshow": {
     "slide_type": "fragment"
    }
   },
   "outputs": [
    {
     "data": {
      "text/plain": [
       "logistic (generic function with 1 method)"
      ]
     },
     "execution_count": 1,
     "metadata": {},
     "output_type": "execute_result"
    }
   ],
   "source": [
    "logistic(x) = 1 / (1 + exp(-x))"
   ]
  },
  {
   "cell_type": "markdown",
   "id": "498a0f54",
   "metadata": {
    "slideshow": {
     "slide_type": "slide"
    }
   },
   "source": [
    "### If we were making a meme, `1/(1+exp(-x))` would be *how it started*\n",
    "- Notice that `logistic` is a *generic* function with 1 method."
   ]
  },
  {
   "cell_type": "code",
   "execution_count": 2,
   "id": "9bcf5b2b",
   "metadata": {
    "slideshow": {
     "slide_type": "-"
    }
   },
   "outputs": [
    {
     "data": {
      "text/html": [
       "# 1 method for generic function <b>logistic</b>:<ul><li> logistic(x) in Main at In[1]:1</li> </ul>"
      ],
      "text/plain": [
       "# 1 method for generic function \"logistic\":\n",
       "[1] logistic(x) in Main at In[1]:1"
      ]
     },
     "execution_count": 2,
     "metadata": {},
     "output_type": "execute_result"
    }
   ],
   "source": [
    "methods(logistic)  # prints the implementation methods"
   ]
  },
  {
   "cell_type": "markdown",
   "id": "86c4cf8a",
   "metadata": {},
   "source": [
    "- all functions in Julia are generic"
   ]
  },
  {
   "cell_type": "markdown",
   "id": "4a03b688",
   "metadata": {
    "slideshow": {
     "slide_type": "slide"
    }
   },
   "source": [
    "## Implementation methods\n",
    "- We refer to this method as an *implementation method*. It defines how the generic function, `logistic`, is to be implemented for a particular *signature* of arguments and their types.\n",
    "- In this case there is only one argument, `x`, and it has not been given an explicit type. It receives the default type, `Any`."
   ]
  },
  {
   "cell_type": "markdown",
   "id": "c0ce1005",
   "metadata": {
    "slideshow": {
     "slide_type": "slide"
    }
   },
   "source": [
    "## Applying the method"
   ]
  },
  {
   "cell_type": "code",
   "execution_count": 3,
   "id": "a4db2079",
   "metadata": {
    "slideshow": {
     "slide_type": "fragment"
    }
   },
   "outputs": [
    {
     "data": {
      "text/plain": [
       "0.7858349830425586"
      ]
     },
     "execution_count": 3,
     "metadata": {},
     "output_type": "execute_result"
    }
   ],
   "source": [
    "logistic(1.3)   # double precision floating point (Float64) number"
   ]
  },
  {
   "cell_type": "code",
   "execution_count": 4,
   "id": "adf7f749",
   "metadata": {
    "slideshow": {
     "slide_type": "fragment"
    }
   },
   "outputs": [
    {
     "data": {
      "text/plain": [
       "0.785835f0"
      ]
     },
     "execution_count": 4,
     "metadata": {},
     "output_type": "execute_result"
    }
   ],
   "source": [
    "logistic(1.3f0) # single precision floating point (Float32) number"
   ]
  },
  {
   "cell_type": "code",
   "execution_count": 5,
   "id": "d95f65b1",
   "metadata": {
    "slideshow": {
     "slide_type": "fragment"
    }
   },
   "outputs": [
    {
     "data": {
      "text/plain": [
       "0.7858349830425586126020884722584271689742135868545025097196545829561991203103529"
      ]
     },
     "execution_count": 5,
     "metadata": {},
     "output_type": "execute_result"
    }
   ],
   "source": [
    "logistic(big\"1.3\") # BigFloat"
   ]
  },
  {
   "cell_type": "markdown",
   "id": "d971123b",
   "metadata": {
    "slideshow": {
     "slide_type": "slide"
    }
   },
   "source": [
    "## Method Instances\n",
    "\n",
    "- The Julia compiler acts on methods, but at a much more specific level of signature specification, where it can infer types of intermediate results.\n",
    "- These are called *method instances* where the method signature is all *concrete* types.\n",
    "- There are several functions and macros that allow for inspection of the steps from a specific function call to the actual assembler code produced by the compiler.\n",
    "- We will use the macro versions, `@code_lowered`, `@code_warntype`, ..."
   ]
  },
  {
   "cell_type": "markdown",
   "id": "d54db643",
   "metadata": {
    "slideshow": {
     "slide_type": "slide"
    }
   },
   "source": [
    "### First the code is *lowered*\n",
    "- Parts of the syntax are re-written in a simpler [static single-assignment](https://en.wikipedia.org/wiki/Static_single_assignment_form) form."
   ]
  },
  {
   "cell_type": "code",
   "execution_count": 6,
   "id": "7d000a13",
   "metadata": {
    "slideshow": {
     "slide_type": "-"
    }
   },
   "outputs": [
    {
     "data": {
      "text/plain": [
       "CodeInfo(\n",
       "\u001b[90m1 ─\u001b[39m %1 = -x\n",
       "\u001b[90m│  \u001b[39m %2 = Main.exp(%1)\n",
       "\u001b[90m│  \u001b[39m %3 = 1 + %2\n",
       "\u001b[90m│  \u001b[39m %4 = 1 / %3\n",
       "\u001b[90m└──\u001b[39m      return %4\n",
       ")"
      ]
     },
     "execution_count": 6,
     "metadata": {},
     "output_type": "execute_result"
    }
   ],
   "source": [
    "@code_lowered logistic(1.3)"
   ]
  },
  {
   "cell_type": "markdown",
   "id": "e483543b",
   "metadata": {},
   "source": [
    "- Side note: `@code_lowered` is a call to a macro which takes an expression and re-arranges it to another, more complicated expression, which is then evaluated.  "
   ]
  },
  {
   "cell_type": "code",
   "execution_count": 7,
   "id": "0809031c",
   "metadata": {
    "slideshow": {
     "slide_type": "skip"
    }
   },
   "outputs": [
    {
     "data": {
      "text/plain": [
       "1-element Vector{Core.CodeInfo}:\n",
       " CodeInfo(\n",
       "\u001b[90m1 ─\u001b[39m %1 = -x\n",
       "\u001b[90m│  \u001b[39m %2 = Main.exp(%1)\n",
       "\u001b[90m│  \u001b[39m %3 = 1 + %2\n",
       "\u001b[90m│  \u001b[39m %4 = 1 / %3\n",
       "\u001b[90m└──\u001b[39m      return %4\n",
       ")"
      ]
     },
     "execution_count": 7,
     "metadata": {},
     "output_type": "execute_result"
    }
   ],
   "source": [
    "code_lowered(logistic, (Float64,))"
   ]
  },
  {
   "cell_type": "markdown",
   "id": "f98a5f43",
   "metadata": {
    "slideshow": {
     "slide_type": "slide"
    }
   },
   "source": [
    "### Then *type inference* is performed"
   ]
  },
  {
   "cell_type": "code",
   "execution_count": 8,
   "id": "69c066c1",
   "metadata": {
    "slideshow": {
     "slide_type": "-"
    }
   },
   "outputs": [
    {
     "name": "stdout",
     "output_type": "stream",
     "text": [
      "Variables\n",
      "  #self#\u001b[36m::Core.Const(logistic)\u001b[39m\n",
      "  x\u001b[36m::Float64\u001b[39m\n",
      "\n",
      "Body\u001b[36m::Float64\u001b[39m\n",
      "\u001b[90m1 ─\u001b[39m %1 = -x\u001b[36m::Float64\u001b[39m\n",
      "\u001b[90m│  \u001b[39m %2 = Main.exp(%1)\u001b[36m::Float64\u001b[39m\n",
      "\u001b[90m│  \u001b[39m %3 = (1 + %2)\u001b[36m::Float64\u001b[39m\n",
      "\u001b[90m│  \u001b[39m %4 = (1 / %3)\u001b[36m::Float64\u001b[39m\n",
      "\u001b[90m└──\u001b[39m      return %4\n"
     ]
    }
   ],
   "source": [
    "@code_warntype logistic(1.3)   # after type inference"
   ]
  },
  {
   "cell_type": "markdown",
   "id": "897fb74d",
   "metadata": {
    "slideshow": {
     "slide_type": "slide"
    }
   },
   "source": [
    "### Then the llvm code is generated"
   ]
  },
  {
   "cell_type": "code",
   "execution_count": 9,
   "id": "1e524792",
   "metadata": {
    "slideshow": {
     "slide_type": "-"
    }
   },
   "outputs": [
    {
     "name": "stdout",
     "output_type": "stream",
     "text": [
      "\u001b[90m;  @ In[1]:1 within `logistic'\u001b[39m\n",
      "\u001b[95mdefine\u001b[39m \u001b[36mdouble\u001b[39m \u001b[93m@julia_logistic_1918\u001b[39m\u001b[33m(\u001b[39m\u001b[36mdouble\u001b[39m \u001b[0m%0\u001b[33m)\u001b[39m \u001b[33m{\u001b[39m\n",
      "\u001b[91mtop:\u001b[39m\n",
      "\u001b[90m; ┌ @ float.jl:320 within `-'\u001b[39m\n",
      "   \u001b[0m%1 \u001b[0m= \u001b[96m\u001b[1mfneg\u001b[22m\u001b[39m \u001b[36mdouble\u001b[39m \u001b[0m%0\n",
      "\u001b[90m; └\u001b[39m\n",
      "  \u001b[0m%2 \u001b[0m= \u001b[96m\u001b[1mcall\u001b[22m\u001b[39m \u001b[36mdouble\u001b[39m \u001b[93m@j_exp_1920\u001b[39m\u001b[33m(\u001b[39m\u001b[36mdouble\u001b[39m \u001b[0m%1\u001b[33m)\u001b[39m\n",
      "\u001b[90m; ┌ @ promotion.jl:321 within `+' @ float.jl:326\u001b[39m\n",
      "   \u001b[0m%3 \u001b[0m= \u001b[96m\u001b[1mfadd\u001b[22m\u001b[39m \u001b[36mdouble\u001b[39m \u001b[0m%2\u001b[0m, \u001b[33m1.000000e+00\u001b[39m\n",
      "\u001b[90m; └\u001b[39m\n",
      "\u001b[90m; ┌ @ promotion.jl:324 within `/' @ float.jl:335\u001b[39m\n",
      "   \u001b[0m%4 \u001b[0m= \u001b[96m\u001b[1mfdiv\u001b[22m\u001b[39m \u001b[36mdouble\u001b[39m \u001b[33m1.000000e+00\u001b[39m\u001b[0m, \u001b[0m%3\n",
      "\u001b[90m; └\u001b[39m\n",
      "  \u001b[96m\u001b[1mret\u001b[22m\u001b[39m \u001b[36mdouble\u001b[39m \u001b[0m%4\n",
      "\u001b[33m}\u001b[39m\n"
     ]
    }
   ],
   "source": [
    "@code_llvm logistic(1.3)"
   ]
  },
  {
   "cell_type": "markdown",
   "id": "4fed5de9",
   "metadata": {
    "slideshow": {
     "slide_type": "slide"
    }
   },
   "source": [
    "### And, finally, the native code is generated and cached"
   ]
  },
  {
   "cell_type": "code",
   "execution_count": 10,
   "id": "0589394f",
   "metadata": {
    "slideshow": {
     "slide_type": "fragment"
    }
   },
   "outputs": [
    {
     "name": "stdout",
     "output_type": "stream",
     "text": [
      "\t\u001b[0m.text\n",
      "\u001b[90m; ┌ @ In[1]:1 within `logistic'\u001b[39m\n",
      "\t\u001b[96m\u001b[1mpushq\u001b[22m\u001b[39m\t\u001b[0m%rax\n",
      "\t\u001b[96m\u001b[1mmovabsq\u001b[22m\u001b[39m\t\u001b[93m$.rodata.cst16\u001b[39m\u001b[0m, \u001b[0m%rax\n",
      "\u001b[90m; │┌ @ float.jl:320 within `-'\u001b[39m\n",
      "\t\u001b[96m\u001b[1mvxorpd\u001b[22m\u001b[39m\t\u001b[33m(\u001b[39m\u001b[0m%rax\u001b[33m)\u001b[39m\u001b[0m, \u001b[0m%xmm0\u001b[0m, \u001b[0m%xmm0\n",
      "\u001b[90m; │└\u001b[39m\n",
      "\t\u001b[96m\u001b[1mmovabsq\u001b[22m\u001b[39m\t\u001b[93m$exp\u001b[39m\u001b[0m, \u001b[0m%rax\n",
      "\t\u001b[96m\u001b[1mcallq\u001b[22m\u001b[39m\t\u001b[0m*\u001b[0m%rax\n",
      "\t\u001b[96m\u001b[1mmovabsq\u001b[22m\u001b[39m\t\u001b[93m$.rodata.cst8\u001b[39m\u001b[0m, \u001b[0m%rax\n",
      "\t\u001b[96m\u001b[1mvmovsd\u001b[22m\u001b[39m\t\u001b[33m(\u001b[39m\u001b[0m%rax\u001b[33m)\u001b[39m\u001b[0m, \u001b[0m%xmm1                   \u001b[90m# xmm1 = mem[0],zero\u001b[39m\n",
      "\u001b[90m; │┌ @ promotion.jl:321 within `+' @ float.jl:326\u001b[39m\n",
      "\t\u001b[96m\u001b[1mvaddsd\u001b[22m\u001b[39m\t\u001b[0m%xmm1\u001b[0m, \u001b[0m%xmm0\u001b[0m, \u001b[0m%xmm0\n",
      "\u001b[90m; │└\u001b[39m\n",
      "\u001b[90m; │┌ @ promotion.jl:324 within `/' @ float.jl:335\u001b[39m\n",
      "\t\u001b[96m\u001b[1mvdivsd\u001b[22m\u001b[39m\t\u001b[0m%xmm0\u001b[0m, \u001b[0m%xmm1\u001b[0m, \u001b[0m%xmm0\n",
      "\u001b[90m; │└\u001b[39m\n",
      "\t\u001b[96m\u001b[1mpopq\u001b[22m\u001b[39m\t\u001b[0m%rax\n",
      "\t\u001b[96m\u001b[1mretq\u001b[22m\u001b[39m\n",
      "\t\u001b[96m\u001b[1mnopw\u001b[22m\u001b[39m\t\u001b[0m%cs\u001b[0m:\u001b[33m(\u001b[39m\u001b[0m%rax\u001b[0m,\u001b[0m%rax\u001b[33m)\u001b[39m\n",
      "\u001b[90m; └\u001b[39m\n"
     ]
    }
   ],
   "source": [
    "@code_native logistic(1.3)  # the assembler code for my processor"
   ]
  },
  {
   "cell_type": "markdown",
   "id": "ce7e8da5",
   "metadata": {
    "slideshow": {
     "slide_type": "slide"
    }
   },
   "source": [
    "## An aside:\n",
    "- the 'and cached' is key to making the system performant\n",
    "- the code that dispatches from method calls to compiled method instances is what makes the system possible "
   ]
  },
  {
   "cell_type": "markdown",
   "id": "701989d1",
   "metadata": {
    "slideshow": {
     "slide_type": "slide"
    }
   },
   "source": [
    "## Possibly many method instances from a single implementation\n",
    "\n",
    "- Another (concrete) argument type will result in another method instance."
   ]
  },
  {
   "cell_type": "code",
   "execution_count": 11,
   "id": "4c56fd1c",
   "metadata": {
    "slideshow": {
     "slide_type": "fragment"
    }
   },
   "outputs": [],
   "source": [
    "using MethodAnalysis"
   ]
  },
  {
   "cell_type": "code",
   "execution_count": 12,
   "id": "f46db81d",
   "metadata": {
    "slideshow": {
     "slide_type": "fragment"
    }
   },
   "outputs": [
    {
     "data": {
      "text/plain": [
       "3-element Vector{Core.MethodInstance}:\n",
       " MethodInstance for logistic(::\u001b[0mFloat64)\n",
       " MethodInstance for logistic(::\u001b[0mFloat32)\n",
       " MethodInstance for logistic(::\u001b[0mBigFloat)"
      ]
     },
     "execution_count": 12,
     "metadata": {},
     "output_type": "execute_result"
    }
   ],
   "source": [
    "methodinstances(logistic)"
   ]
  },
  {
   "cell_type": "markdown",
   "id": "153c49ab",
   "metadata": {
    "slideshow": {
     "slide_type": "slide"
    }
   },
   "source": [
    "### Implementation methods should be general, if possible\n",
    "\n",
    "- Often we leave the signature vague in an implementation.\n",
    "- We can even apply a slight generalization of this method implementation to matrices (because `exp(A)` can apply to matrices as the matrix exponential.)"
   ]
  },
  {
   "cell_type": "code",
   "execution_count": 13,
   "id": "96e5449f",
   "metadata": {
    "slideshow": {
     "slide_type": "fragment"
    }
   },
   "outputs": [
    {
     "data": {
      "text/plain": [
       "logistic (generic function with 1 method)"
      ]
     },
     "execution_count": 13,
     "metadata": {},
     "output_type": "execute_result"
    }
   ],
   "source": [
    "logistic(x) = inv(one(x) + exp(-x))"
   ]
  },
  {
   "cell_type": "markdown",
   "id": "1b5a4205",
   "metadata": {
    "slideshow": {
     "slide_type": "fragment"
    }
   },
   "source": [
    "- methods for `one` and `inv` encapsulate 'the idea of'\n",
    "    + `one(x)` returns the multiplicative identity for `typeof(x)`\n",
    "    + `inv(x)` returns the multiplicative inverse of `x`\n",
    "- often these methods are so simple they can be inlined by the compiler, but they allow for generality"
   ]
  },
  {
   "cell_type": "code",
   "execution_count": 14,
   "id": "2be8dc3e",
   "metadata": {
    "slideshow": {
     "slide_type": "slide"
    }
   },
   "outputs": [
    {
     "name": "stdout",
     "output_type": "stream",
     "text": [
      "Variables\n",
      "  #self#\u001b[36m::Core.Const(logistic)\u001b[39m\n",
      "  x\u001b[36m::Float64\u001b[39m\n",
      "\n",
      "Body\u001b[36m::Float64\u001b[39m\n",
      "\u001b[90m1 ─\u001b[39m %1 = Main.one(x)\u001b[36m::Core.Const(1.0)\u001b[39m\n",
      "\u001b[90m│  \u001b[39m %2 = -x\u001b[36m::Float64\u001b[39m\n",
      "\u001b[90m│  \u001b[39m %3 = Main.exp(%2)\u001b[36m::Float64\u001b[39m\n",
      "\u001b[90m│  \u001b[39m %4 = (%1 + %3)\u001b[36m::Float64\u001b[39m\n",
      "\u001b[90m│  \u001b[39m %5 = Main.inv(%4)\u001b[36m::Float64\u001b[39m\n",
      "\u001b[90m└──\u001b[39m      return %5\n"
     ]
    }
   ],
   "source": [
    "@code_warntype logistic(1.3)"
   ]
  },
  {
   "cell_type": "code",
   "execution_count": 15,
   "id": "fdce3c49",
   "metadata": {
    "slideshow": {
     "slide_type": "-"
    }
   },
   "outputs": [
    {
     "name": "stdout",
     "output_type": "stream",
     "text": [
      "\u001b[90m;  @ In[13]:1 within `logistic'\u001b[39m\n",
      "\u001b[95mdefine\u001b[39m \u001b[36mdouble\u001b[39m \u001b[93m@julia_logistic_2130\u001b[39m\u001b[33m(\u001b[39m\u001b[36mdouble\u001b[39m \u001b[0m%0\u001b[33m)\u001b[39m \u001b[33m{\u001b[39m\n",
      "\u001b[91mtop:\u001b[39m\n",
      "\u001b[90m; ┌ @ float.jl:320 within `-'\u001b[39m\n",
      "   \u001b[0m%1 \u001b[0m= \u001b[96m\u001b[1mfneg\u001b[22m\u001b[39m \u001b[36mdouble\u001b[39m \u001b[0m%0\n",
      "\u001b[90m; └\u001b[39m\n",
      "  \u001b[0m%2 \u001b[0m= \u001b[96m\u001b[1mcall\u001b[22m\u001b[39m \u001b[36mdouble\u001b[39m \u001b[93m@j_exp_2132\u001b[39m\u001b[33m(\u001b[39m\u001b[36mdouble\u001b[39m \u001b[0m%1\u001b[33m)\u001b[39m\n",
      "\u001b[90m; ┌ @ float.jl:326 within `+'\u001b[39m\n",
      "   \u001b[0m%3 \u001b[0m= \u001b[96m\u001b[1mfadd\u001b[22m\u001b[39m \u001b[36mdouble\u001b[39m \u001b[0m%2\u001b[0m, \u001b[33m1.000000e+00\u001b[39m\n",
      "\u001b[90m; └\u001b[39m\n",
      "\u001b[90m; ┌ @ number.jl:217 within `inv'\u001b[39m\n",
      "\u001b[90m; │┌ @ float.jl:335 within `/'\u001b[39m\n",
      "    \u001b[0m%4 \u001b[0m= \u001b[96m\u001b[1mfdiv\u001b[22m\u001b[39m \u001b[36mdouble\u001b[39m \u001b[33m1.000000e+00\u001b[39m\u001b[0m, \u001b[0m%3\n",
      "\u001b[90m; └└\u001b[39m\n",
      "  \u001b[96m\u001b[1mret\u001b[22m\u001b[39m \u001b[36mdouble\u001b[39m \u001b[0m%4\n",
      "\u001b[33m}\u001b[39m\n"
     ]
    }
   ],
   "source": [
    "@code_llvm logistic(1.3)"
   ]
  },
  {
   "cell_type": "code",
   "execution_count": 16,
   "id": "578b770e",
   "metadata": {
    "slideshow": {
     "slide_type": "slide"
    }
   },
   "outputs": [
    {
     "data": {
      "text/html": [
       "# 19 methods for generic function <b>one</b>:<ul><li> one(::<b>Union{Type{T}, T}</b>)<i> where T<:AbstractString</i> in Base at <a href=\"https://github.com/JuliaLang/julia/tree/1b93d53fc4bb59350ada898038ed4de2994cce33/base/strings/basic.jl#L262\" target=\"_blank\">strings/basic.jl:262</a></li> <li> one(::<b>Union{Type{P}, P}</b>)<i> where P<:Dates.Period</i> in Dates at <a href=\"file:///buildworker/worker/package_linux64/build/usr/share/julia/stdlib/v1.6/Dates/src/periods.jl\" target=\"_blank\">/home/bates/src/julia-1.6.2/share/julia/stdlib/v1.6/Dates/src/periods.jl:54</a></li> <li> one(A::<b>LinearAlgebra.Tridiagonal{T, V} where V<:AbstractVector{T}</b>)<i> where T</i> in LinearAlgebra at <a href=\"file:///buildworker/worker/package_linux64/build/usr/share/julia/stdlib/v1.6/LinearAlgebra/src/special.jl\" target=\"_blank\">/home/bates/src/julia-1.6.2/share/julia/stdlib/v1.6/LinearAlgebra/src/special.jl:307</a></li> <li> one(A::<b>LinearAlgebra.SymTridiagonal{T, V} where V<:AbstractVector{T}</b>)<i> where T</i> in LinearAlgebra at <a href=\"file:///buildworker/worker/package_linux64/build/usr/share/julia/stdlib/v1.6/LinearAlgebra/src/special.jl\" target=\"_blank\">/home/bates/src/julia-1.6.2/share/julia/stdlib/v1.6/LinearAlgebra/src/special.jl:308</a></li> <li> one(A::<b>LinearAlgebra.Diagonal{T, V} where V<:AbstractVector{T}</b>)<i> where T</i> in LinearAlgebra at <a href=\"file:///buildworker/worker/package_linux64/build/usr/share/julia/stdlib/v1.6/LinearAlgebra/src/special.jl\" target=\"_blank\">/home/bates/src/julia-1.6.2/share/julia/stdlib/v1.6/LinearAlgebra/src/special.jl:305</a></li> <li> one(A::<b>LinearAlgebra.Bidiagonal{T, V} where V<:AbstractVector{T}</b>)<i> where T</i> in LinearAlgebra at <a href=\"file:///buildworker/worker/package_linux64/build/usr/share/julia/stdlib/v1.6/LinearAlgebra/src/special.jl\" target=\"_blank\">/home/bates/src/julia-1.6.2/share/julia/stdlib/v1.6/LinearAlgebra/src/special.jl:306</a></li> <li> one(J::<b>LinearAlgebra.UniformScaling{T}</b>)<i> where T</i> in LinearAlgebra at <a href=\"file:///buildworker/worker/package_linux64/build/usr/share/julia/stdlib/v1.6/LinearAlgebra/src/uniformscaling.jl\" target=\"_blank\">/home/bates/src/julia-1.6.2/share/julia/stdlib/v1.6/LinearAlgebra/src/uniformscaling.jl:132</a></li> <li> one(i::<b>CartesianIndex</b>) in Base at <a href=\"https://github.com/JuliaLang/julia/tree/1b93d53fc4bb59350ada898038ed4de2994cce33/base/deprecated.jl#L70\" target=\"_blank\">deprecated.jl:70</a></li> <li> one(::<b>AbstractIrrational</b>) in Base at <a href=\"https://github.com/JuliaLang/julia/tree/1b93d53fc4bb59350ada898038ed4de2994cce33/base/irrationals.jl#L151\" target=\"_blank\">irrationals.jl:151</a></li> <li> one(x::<b>T</b>)<i> where T<:Number</i> in Base at <a href=\"https://github.com/JuliaLang/julia/tree/1b93d53fc4bb59350ada898038ed4de2994cce33/base/number.jl#L296\" target=\"_blank\">number.jl:296</a></li> <li> one(I::<b>Type{CartesianIndex{N}}</b>)<i> where N</i> in Base at <a href=\"https://github.com/JuliaLang/julia/tree/1b93d53fc4bb59350ada898038ed4de2994cce33/base/deprecated.jl#L70\" target=\"_blank\">deprecated.jl:70</a></li> <li> one(::<b>Type{var\"#s832\"} where var\"#s832\"<:AbstractIrrational</b>) in Base at <a href=\"https://github.com/JuliaLang/julia/tree/1b93d53fc4bb59350ada898038ed4de2994cce33/base/irrationals.jl#L152\" target=\"_blank\">irrationals.jl:152</a></li> <li> one(::<b>Type{T}</b>)<i> where T<:Number</i> in Base at <a href=\"https://github.com/JuliaLang/julia/tree/1b93d53fc4bb59350ada898038ed4de2994cce33/base/number.jl#L295\" target=\"_blank\">number.jl:295</a></li> <li> one(::<b>Type{LinearAlgebra.UniformScaling{T}}</b>)<i> where T</i> in LinearAlgebra at <a href=\"file:///buildworker/worker/package_linux64/build/usr/share/julia/stdlib/v1.6/LinearAlgebra/src/uniformscaling.jl\" target=\"_blank\">/home/bates/src/julia-1.6.2/share/julia/stdlib/v1.6/LinearAlgebra/src/uniformscaling.jl:131</a></li> <li> one(::<b>Missing</b>) in Base at <a href=\"https://github.com/JuliaLang/julia/tree/1b93d53fc4bb59350ada898038ed4de2994cce33/base/missing.jl#L101\" target=\"_blank\">missing.jl:101</a></li> <li> one(x::<b>BitMatrix</b>) in Base at <a href=\"https://github.com/JuliaLang/julia/tree/1b93d53fc4bb59350ada898038ed4de2994cce33/base/bitarray.jl#L426\" target=\"_blank\">bitarray.jl:426</a></li> <li> one(x::<b>AbstractMatrix{T}</b>)<i> where T</i> in Base at <a href=\"https://github.com/JuliaLang/julia/tree/1b93d53fc4bb59350ada898038ed4de2994cce33/base/array.jl#L527\" target=\"_blank\">array.jl:527</a></li> <li> one(::<b>Type{Missing}</b>) in Base at <a href=\"https://github.com/JuliaLang/julia/tree/1b93d53fc4bb59350ada898038ed4de2994cce33/base/missing.jl#L104\" target=\"_blank\">missing.jl:104</a></li> <li> one(::<b>Type{Union{Missing, T}}</b>)<i> where T</i> in Base at <a href=\"https://github.com/JuliaLang/julia/tree/1b93d53fc4bb59350ada898038ed4de2994cce33/base/missing.jl#L105\" target=\"_blank\">missing.jl:105</a></li> </ul>"
      ],
      "text/plain": [
       "# 19 methods for generic function \"one\":\n",
       "[1] one(::Union{Type{T}, T}) where T<:AbstractString in Base at strings/basic.jl:262\n",
       "[2] one(::Union{Type{P}, P}) where P<:Dates.Period in Dates at /home/bates/src/julia-1.6.2/share/julia/stdlib/v1.6/Dates/src/periods.jl:54\n",
       "[3] one(A::LinearAlgebra.Tridiagonal{T, V} where V<:AbstractVector{T}) where T in LinearAlgebra at /home/bates/src/julia-1.6.2/share/julia/stdlib/v1.6/LinearAlgebra/src/special.jl:307\n",
       "[4] one(A::LinearAlgebra.SymTridiagonal{T, V} where V<:AbstractVector{T}) where T in LinearAlgebra at /home/bates/src/julia-1.6.2/share/julia/stdlib/v1.6/LinearAlgebra/src/special.jl:308\n",
       "[5] one(A::LinearAlgebra.Diagonal{T, V} where V<:AbstractVector{T}) where T in LinearAlgebra at /home/bates/src/julia-1.6.2/share/julia/stdlib/v1.6/LinearAlgebra/src/special.jl:305\n",
       "[6] one(A::LinearAlgebra.Bidiagonal{T, V} where V<:AbstractVector{T}) where T in LinearAlgebra at /home/bates/src/julia-1.6.2/share/julia/stdlib/v1.6/LinearAlgebra/src/special.jl:306\n",
       "[7] one(J::LinearAlgebra.UniformScaling{T}) where T in LinearAlgebra at /home/bates/src/julia-1.6.2/share/julia/stdlib/v1.6/LinearAlgebra/src/uniformscaling.jl:132\n",
       "[8] one(i::CartesianIndex) in Base at deprecated.jl:70\n",
       "[9] one(::AbstractIrrational) in Base at irrationals.jl:151\n",
       "[10] one(x::T) where T<:Number in Base at number.jl:296\n",
       "[11] one(I::Type{CartesianIndex{N}}) where N in Base at deprecated.jl:70\n",
       "[12] one(::Type{var\"#s832\"} where var\"#s832\"<:AbstractIrrational) in Base at irrationals.jl:152\n",
       "[13] one(::Type{T}) where T<:Number in Base at number.jl:295\n",
       "[14] one(::Type{LinearAlgebra.UniformScaling{T}}) where T in LinearAlgebra at /home/bates/src/julia-1.6.2/share/julia/stdlib/v1.6/LinearAlgebra/src/uniformscaling.jl:131\n",
       "[15] one(::Missing) in Base at missing.jl:101\n",
       "[16] one(x::BitMatrix) in Base at bitarray.jl:426\n",
       "[17] one(x::AbstractMatrix{T}) where T in Base at array.jl:527\n",
       "[18] one(::Type{Missing}) in Base at missing.jl:104\n",
       "[19] one(::Type{Union{Missing, T}}) where T in Base at missing.jl:105"
      ]
     },
     "execution_count": 16,
     "metadata": {},
     "output_type": "execute_result"
    }
   ],
   "source": [
    "methods(one)"
   ]
  },
  {
   "cell_type": "code",
   "execution_count": 17,
   "id": "b67fe7e8",
   "metadata": {
    "slideshow": {
     "slide_type": "slide"
    }
   },
   "outputs": [
    {
     "data": {
      "text/html": [
       "# 32 methods for generic function <b>inv</b>:<ul><li> inv(A::<b>StridedMatrix{T}</b>)<i> where T</i> in LinearAlgebra at <a href=\"file:///buildworker/worker/package_linux64/build/usr/share/julia/stdlib/v1.6/LinearAlgebra/src/dense.jl\" target=\"_blank\">/home/bates/src/julia-1.6.2/share/julia/stdlib/v1.6/LinearAlgebra/src/dense.jl:806</a></li> <li> inv(J::<b>LinearAlgebra.UniformScaling</b>) in LinearAlgebra at <a href=\"file:///buildworker/worker/package_linux64/build/usr/share/julia/stdlib/v1.6/LinearAlgebra/src/uniformscaling.jl\" target=\"_blank\">/home/bates/src/julia-1.6.2/share/julia/stdlib/v1.6/LinearAlgebra/src/uniformscaling.jl:233</a></li> <li> inv(B::<b>LinearAlgebra.BunchKaufman{var\"#s832\", S} where {var\"#s832\"<:Union{Float32, Float64}, S<:(AbstractMatrix{T} where T)}</b>) in LinearAlgebra at <a href=\"file:///buildworker/worker/package_linux64/build/usr/share/julia/stdlib/v1.6/LinearAlgebra/src/bunchkaufman.jl\" target=\"_blank\">/home/bates/src/julia-1.6.2/share/julia/stdlib/v1.6/LinearAlgebra/src/bunchkaufman.jl:342</a></li> <li> inv(B::<b>LinearAlgebra.BunchKaufman{var\"#s832\", S} where {var\"#s832\"<:Union{ComplexF32, ComplexF64}, S<:(AbstractMatrix{T} where T)}</b>) in LinearAlgebra at <a href=\"file:///buildworker/worker/package_linux64/build/usr/share/julia/stdlib/v1.6/LinearAlgebra/src/bunchkaufman.jl\" target=\"_blank\">/home/bates/src/julia-1.6.2/share/julia/stdlib/v1.6/LinearAlgebra/src/bunchkaufman.jl:350</a></li> <li> inv(A::<b>LinearAlgebra.Hermitian{var\"#s832\", var\"#s831\"} where {var\"#s832\", var\"#s831\"<:(StridedMatrix{T} where T)}</b>) in LinearAlgebra at <a href=\"file:///buildworker/worker/package_linux64/build/usr/share/julia/stdlib/v1.6/LinearAlgebra/src/symmetric.jl\" target=\"_blank\">/home/bates/src/julia-1.6.2/share/julia/stdlib/v1.6/LinearAlgebra/src/symmetric.jl:672</a></li> <li> inv(A::<b>LinearAlgebra.UnitLowerTriangular{T, S} where S<:AbstractMatrix{T}</b>)<i> where T</i> in LinearAlgebra at <a href=\"file:///buildworker/worker/package_linux64/build/usr/share/julia/stdlib/v1.6/LinearAlgebra/src/triangular.jl\" target=\"_blank\">/home/bates/src/julia-1.6.2/share/julia/stdlib/v1.6/LinearAlgebra/src/triangular.jl:824</a></li> <li> inv(x::<b>Rational{T}</b>)<i> where T</i> in Base at <a href=\"https://github.com/JuliaLang/julia/tree/1b93d53fc4bb59350ada898038ed4de2994cce33/base/rational.jl#L324\" target=\"_blank\">rational.jl:324</a></li> <li> inv(A::<b>LinearAlgebra.Adjoint</b>) in LinearAlgebra at <a href=\"file:///buildworker/worker/package_linux64/build/usr/share/julia/stdlib/v1.6/LinearAlgebra/src/generic.jl\" target=\"_blank\">/home/bates/src/julia-1.6.2/share/julia/stdlib/v1.6/LinearAlgebra/src/generic.jl:1069</a></li> <li> inv(A::<b>LinearAlgebra.Symmetric{var\"#s832\", var\"#s831\"} where {var\"#s832\", var\"#s831\"<:(StridedMatrix{T} where T)}</b>) in LinearAlgebra at <a href=\"file:///buildworker/worker/package_linux64/build/usr/share/julia/stdlib/v1.6/LinearAlgebra/src/symmetric.jl\" target=\"_blank\">/home/bates/src/julia-1.6.2/share/julia/stdlib/v1.6/LinearAlgebra/src/symmetric.jl:673</a></li> <li> inv(F::<b>LinearAlgebra.SVD{T, Tr, M} where {Tr, M<:(AbstractArray{T, N} where N)}</b>)<i> where T</i> in LinearAlgebra at <a href=\"file:///buildworker/worker/package_linux64/build/usr/share/julia/stdlib/v1.6/LinearAlgebra/src/svd.jl\" target=\"_blank\">/home/bates/src/julia-1.6.2/share/julia/stdlib/v1.6/LinearAlgebra/src/svd.jl:227</a></li> <li> inv(Q::<b>LinearAlgebra.AbstractQ</b>) in LinearAlgebra at <a href=\"file:///buildworker/worker/package_linux64/build/usr/share/julia/stdlib/v1.6/LinearAlgebra/src/qr.jl\" target=\"_blank\">/home/bates/src/julia-1.6.2/share/julia/stdlib/v1.6/LinearAlgebra/src/qr.jl:504</a></li> <li> inv(A::<b>LinearAlgebra.Transpose</b>) in LinearAlgebra at <a href=\"file:///buildworker/worker/package_linux64/build/usr/share/julia/stdlib/v1.6/LinearAlgebra/src/generic.jl\" target=\"_blank\">/home/bates/src/julia-1.6.2/share/julia/stdlib/v1.6/LinearAlgebra/src/generic.jl:1070</a></li> <li> inv(x::<b>AbstractIrrational</b>) in Base at <a href=\"https://github.com/JuliaLang/julia/tree/1b93d53fc4bb59350ada898038ed4de2994cce33/base/irrationals.jl#L208\" target=\"_blank\">irrationals.jl:208</a></li> <li> inv(A::<b>SparseArrays.AbstractSparseMatrixCSC</b>) in SparseArrays at <a href=\"file:///buildworker/worker/package_linux64/build/usr/share/julia/stdlib/v1.6/SparseArrays/src/linalg.jl\" target=\"_blank\">/home/bates/src/julia-1.6.2/share/julia/stdlib/v1.6/SparseArrays/src/linalg.jl:1456</a></li> <li> inv(A::<b>LinearAlgebra.LU{var\"#s832\", var\"#s831\"} where {var\"#s832\"<:Union{Float32, Float64, ComplexF32, ComplexF64}, var\"#s831\"<:(StridedMatrix{T} where T)}</b>) in LinearAlgebra at <a href=\"file:///buildworker/worker/package_linux64/build/usr/share/julia/stdlib/v1.6/LinearAlgebra/src/lu.jl\" target=\"_blank\">/home/bates/src/julia-1.6.2/share/julia/stdlib/v1.6/LinearAlgebra/src/lu.jl:479</a></li> <li> inv(A::<b>LinearAlgebra.UpperTriangular{T, S} where S<:AbstractMatrix{T}</b>)<i> where T</i> in LinearAlgebra at <a href=\"file:///buildworker/worker/package_linux64/build/usr/share/julia/stdlib/v1.6/LinearAlgebra/src/triangular.jl\" target=\"_blank\">/home/bates/src/julia-1.6.2/share/julia/stdlib/v1.6/LinearAlgebra/src/triangular.jl:819</a></li> <li> inv(D::<b>LinearAlgebra.Diagonal{T, V} where V<:AbstractVector{T}</b>)<i> where T</i> in LinearAlgebra at <a href=\"file:///buildworker/worker/package_linux64/build/usr/share/julia/stdlib/v1.6/LinearAlgebra/src/diagonal.jl\" target=\"_blank\">/home/bates/src/julia-1.6.2/share/julia/stdlib/v1.6/LinearAlgebra/src/diagonal.jl:630</a></li> <li> inv(C::<b>LinearAlgebra.CholeskyPivoted</b>) in LinearAlgebra at <a href=\"file:///buildworker/worker/package_linux64/build/usr/share/julia/stdlib/v1.6/LinearAlgebra/src/cholesky.jl\" target=\"_blank\">/home/bates/src/julia-1.6.2/share/julia/stdlib/v1.6/LinearAlgebra/src/cholesky.jl:632</a></li> <li> inv(A::<b>LinearAlgebra.UnitUpperTriangular{T, S} where S<:AbstractMatrix{T}</b>)<i> where T</i> in LinearAlgebra at <a href=\"file:///buildworker/worker/package_linux64/build/usr/share/julia/stdlib/v1.6/LinearAlgebra/src/triangular.jl\" target=\"_blank\">/home/bates/src/julia-1.6.2/share/julia/stdlib/v1.6/LinearAlgebra/src/triangular.jl:823</a></li> <li> inv(A::<b>LinearAlgebra.LowerTriangular{T, S} where S<:AbstractMatrix{T}</b>)<i> where T</i> in LinearAlgebra at <a href=\"file:///buildworker/worker/package_linux64/build/usr/share/julia/stdlib/v1.6/LinearAlgebra/src/triangular.jl\" target=\"_blank\">/home/bates/src/julia-1.6.2/share/julia/stdlib/v1.6/LinearAlgebra/src/triangular.jl:815</a></li> <li> inv(A::<b>AbstractMatrix{T}</b>)<i> where T</i> in LinearAlgebra at <a href=\"file:///buildworker/worker/package_linux64/build/usr/share/julia/stdlib/v1.6/LinearAlgebra/src/generic.jl\" target=\"_blank\">/home/bates/src/julia-1.6.2/share/julia/stdlib/v1.6/LinearAlgebra/src/generic.jl:1062</a></li> <li> inv(z::<b>Complex{var\"#s79\"} where var\"#s79\"<:Integer</b>) in Base at <a href=\"https://github.com/JuliaLang/julia/tree/1b93d53fc4bb59350ada898038ed4de2994cce33/base/complex.jl#L271\" target=\"_blank\">complex.jl:271</a></li> <li> inv(x::<b>Integer</b>) in Base at <a href=\"https://github.com/JuliaLang/julia/tree/1b93d53fc4bb59350ada898038ed4de2994cce33/base/int.jl#L90\" target=\"_blank\">int.jl:90</a></li> <li> inv(A::<b>LinearAlgebra.Eigen</b>) in LinearAlgebra at <a href=\"file:///buildworker/worker/package_linux64/build/usr/share/julia/stdlib/v1.6/LinearAlgebra/src/eigen.jl\" target=\"_blank\">/home/bates/src/julia-1.6.2/share/julia/stdlib/v1.6/LinearAlgebra/src/eigen.jl:423</a></li> <li> inv(C::<b>LinearAlgebra.Cholesky{var\"#s832\", var\"#s831\"} where {var\"#s832\"<:Union{Float32, Float64, ComplexF32, ComplexF64}, var\"#s831\"<:(StridedMatrix{T} where T)}</b>) in LinearAlgebra at <a href=\"file:///buildworker/worker/package_linux64/build/usr/share/julia/stdlib/v1.6/LinearAlgebra/src/cholesky.jl\" target=\"_blank\">/home/bates/src/julia-1.6.2/share/julia/stdlib/v1.6/LinearAlgebra/src/cholesky.jl:630</a></li> <li> inv(F::<b>LinearAlgebra.Factorization{T}</b>)<i> where T</i> in LinearAlgebra at <a href=\"file:///buildworker/worker/package_linux64/build/usr/share/julia/stdlib/v1.6/LinearAlgebra/src/factorization.jl\" target=\"_blank\">/home/bates/src/julia-1.6.2/share/julia/stdlib/v1.6/LinearAlgebra/src/factorization.jl:62</a></li> <li> inv(w::<b>ComplexF64</b>) in Base at <a href=\"https://github.com/JuliaLang/julia/tree/1b93d53fc4bb59350ada898038ed4de2994cce33/base/complex.jl#L439\" target=\"_blank\">complex.jl:439</a></li> <li> inv(z::<b>Complex{var\"#s79\"} where var\"#s79\"<:Union{Float16, Float32}</b>) in Base at <a href=\"https://github.com/JuliaLang/julia/tree/1b93d53fc4bb59350ada898038ed4de2994cce33/base/complex.jl#L356\" target=\"_blank\">complex.jl:356</a></li> <li> inv(z::<b>Complex</b>) in Base at <a href=\"https://github.com/JuliaLang/julia/tree/1b93d53fc4bb59350ada898038ed4de2994cce33/base/complex.jl#L266\" target=\"_blank\">complex.jl:266</a></li> <li> inv(x::<b>BigFloat</b>) in Base.MPFR at <a href=\"https://github.com/JuliaLang/julia/tree/1b93d53fc4bb59350ada898038ed4de2994cce33/base/mpfr.jl#L465\" target=\"_blank\">mpfr.jl:465</a></li> <li> inv(x::<b>Number</b>) in Base at <a href=\"https://github.com/JuliaLang/julia/tree/1b93d53fc4bb59350ada898038ed4de2994cce33/base/number.jl#L217\" target=\"_blank\">number.jl:217</a></li> <li> inv(::<b>Missing</b>) in Base at <a href=\"https://github.com/JuliaLang/julia/tree/1b93d53fc4bb59350ada898038ed4de2994cce33/base/missing.jl#L101\" target=\"_blank\">missing.jl:101</a></li> </ul>"
      ],
      "text/plain": [
       "# 32 methods for generic function \"inv\":\n",
       "[1] inv(A::StridedMatrix{T}) where T in LinearAlgebra at /home/bates/src/julia-1.6.2/share/julia/stdlib/v1.6/LinearAlgebra/src/dense.jl:806\n",
       "[2] inv(J::LinearAlgebra.UniformScaling) in LinearAlgebra at /home/bates/src/julia-1.6.2/share/julia/stdlib/v1.6/LinearAlgebra/src/uniformscaling.jl:233\n",
       "[3] inv(B::LinearAlgebra.BunchKaufman{var\"#s832\", S} where {var\"#s832\"<:Union{Float32, Float64}, S<:(AbstractMatrix{T} where T)}) in LinearAlgebra at /home/bates/src/julia-1.6.2/share/julia/stdlib/v1.6/LinearAlgebra/src/bunchkaufman.jl:342\n",
       "[4] inv(B::LinearAlgebra.BunchKaufman{var\"#s832\", S} where {var\"#s832\"<:Union{ComplexF32, ComplexF64}, S<:(AbstractMatrix{T} where T)}) in LinearAlgebra at /home/bates/src/julia-1.6.2/share/julia/stdlib/v1.6/LinearAlgebra/src/bunchkaufman.jl:350\n",
       "[5] inv(A::LinearAlgebra.Hermitian{var\"#s832\", var\"#s831\"} where {var\"#s832\", var\"#s831\"<:(StridedMatrix{T} where T)}) in LinearAlgebra at /home/bates/src/julia-1.6.2/share/julia/stdlib/v1.6/LinearAlgebra/src/symmetric.jl:672\n",
       "[6] inv(A::LinearAlgebra.UnitLowerTriangular{T, S} where S<:AbstractMatrix{T}) where T in LinearAlgebra at /home/bates/src/julia-1.6.2/share/julia/stdlib/v1.6/LinearAlgebra/src/triangular.jl:824\n",
       "[7] inv(x::Rational{T}) where T in Base at rational.jl:324\n",
       "[8] inv(A::LinearAlgebra.Adjoint) in LinearAlgebra at /home/bates/src/julia-1.6.2/share/julia/stdlib/v1.6/LinearAlgebra/src/generic.jl:1069\n",
       "[9] inv(A::LinearAlgebra.Symmetric{var\"#s832\", var\"#s831\"} where {var\"#s832\", var\"#s831\"<:(StridedMatrix{T} where T)}) in LinearAlgebra at /home/bates/src/julia-1.6.2/share/julia/stdlib/v1.6/LinearAlgebra/src/symmetric.jl:673\n",
       "[10] inv(F::LinearAlgebra.SVD{T, Tr, M} where {Tr, M<:(AbstractArray{T, N} where N)}) where T in LinearAlgebra at /home/bates/src/julia-1.6.2/share/julia/stdlib/v1.6/LinearAlgebra/src/svd.jl:227\n",
       "[11] inv(Q::LinearAlgebra.AbstractQ) in LinearAlgebra at /home/bates/src/julia-1.6.2/share/julia/stdlib/v1.6/LinearAlgebra/src/qr.jl:504\n",
       "[12] inv(A::LinearAlgebra.Transpose) in LinearAlgebra at /home/bates/src/julia-1.6.2/share/julia/stdlib/v1.6/LinearAlgebra/src/generic.jl:1070\n",
       "[13] inv(x::AbstractIrrational) in Base at irrationals.jl:208\n",
       "[14] inv(A::SparseArrays.AbstractSparseMatrixCSC) in SparseArrays at /home/bates/src/julia-1.6.2/share/julia/stdlib/v1.6/SparseArrays/src/linalg.jl:1456\n",
       "[15] inv(A::LinearAlgebra.LU{var\"#s832\", var\"#s831\"} where {var\"#s832\"<:Union{Float32, Float64, ComplexF32, ComplexF64}, var\"#s831\"<:(StridedMatrix{T} where T)}) in LinearAlgebra at /home/bates/src/julia-1.6.2/share/julia/stdlib/v1.6/LinearAlgebra/src/lu.jl:479\n",
       "[16] inv(A::LinearAlgebra.UpperTriangular{T, S} where S<:AbstractMatrix{T}) where T in LinearAlgebra at /home/bates/src/julia-1.6.2/share/julia/stdlib/v1.6/LinearAlgebra/src/triangular.jl:819\n",
       "[17] inv(D::LinearAlgebra.Diagonal{T, V} where V<:AbstractVector{T}) where T in LinearAlgebra at /home/bates/src/julia-1.6.2/share/julia/stdlib/v1.6/LinearAlgebra/src/diagonal.jl:630\n",
       "[18] inv(C::LinearAlgebra.CholeskyPivoted) in LinearAlgebra at /home/bates/src/julia-1.6.2/share/julia/stdlib/v1.6/LinearAlgebra/src/cholesky.jl:632\n",
       "[19] inv(A::LinearAlgebra.UnitUpperTriangular{T, S} where S<:AbstractMatrix{T}) where T in LinearAlgebra at /home/bates/src/julia-1.6.2/share/julia/stdlib/v1.6/LinearAlgebra/src/triangular.jl:823\n",
       "[20] inv(A::LinearAlgebra.LowerTriangular{T, S} where S<:AbstractMatrix{T}) where T in LinearAlgebra at /home/bates/src/julia-1.6.2/share/julia/stdlib/v1.6/LinearAlgebra/src/triangular.jl:815\n",
       "[21] inv(A::AbstractMatrix{T}) where T in LinearAlgebra at /home/bates/src/julia-1.6.2/share/julia/stdlib/v1.6/LinearAlgebra/src/generic.jl:1062\n",
       "[22] inv(z::Complex{var\"#s79\"} where var\"#s79\"<:Integer) in Base at complex.jl:271\n",
       "[23] inv(x::Integer) in Base at int.jl:90\n",
       "[24] inv(A::LinearAlgebra.Eigen) in LinearAlgebra at /home/bates/src/julia-1.6.2/share/julia/stdlib/v1.6/LinearAlgebra/src/eigen.jl:423\n",
       "[25] inv(C::LinearAlgebra.Cholesky{var\"#s832\", var\"#s831\"} where {var\"#s832\"<:Union{Float32, Float64, ComplexF32, ComplexF64}, var\"#s831\"<:(StridedMatrix{T} where T)}) in LinearAlgebra at /home/bates/src/julia-1.6.2/share/julia/stdlib/v1.6/LinearAlgebra/src/cholesky.jl:630\n",
       "[26] inv(F::LinearAlgebra.Factorization{T}) where T in LinearAlgebra at /home/bates/src/julia-1.6.2/share/julia/stdlib/v1.6/LinearAlgebra/src/factorization.jl:62\n",
       "[27] inv(w::ComplexF64) in Base at complex.jl:439\n",
       "[28] inv(z::Complex{var\"#s79\"} where var\"#s79\"<:Union{Float16, Float32}) in Base at complex.jl:356\n",
       "[29] inv(z::Complex) in Base at complex.jl:266\n",
       "[30] inv(x::BigFloat) in Base.MPFR at mpfr.jl:465\n",
       "[31] inv(x::Number) in Base at number.jl:217\n",
       "[32] inv(::Missing) in Base at missing.jl:101"
      ]
     },
     "execution_count": 17,
     "metadata": {},
     "output_type": "execute_result"
    }
   ],
   "source": [
    "methods(inv)"
   ]
  },
  {
   "cell_type": "markdown",
   "id": "c167964e",
   "metadata": {
    "slideshow": {
     "slide_type": "slide"
    }
   },
   "source": [
    "## Now we can evaluate `logistic` of a Matrix"
   ]
  },
  {
   "cell_type": "code",
   "execution_count": 18,
   "id": "72684fe8",
   "metadata": {
    "slideshow": {
     "slide_type": "-"
    }
   },
   "outputs": [
    {
     "data": {
      "text/plain": [
       "3×3 Matrix{Float64}:\n",
       " 1.60374    0.903433  -1.14782\n",
       " 0.289922  -0.573747   0.0700858\n",
       " 1.60612    0.334255   0.353072"
      ]
     },
     "execution_count": 18,
     "metadata": {},
     "output_type": "execute_result"
    }
   ],
   "source": [
    "A = randn(3, 3)"
   ]
  },
  {
   "cell_type": "code",
   "execution_count": 19,
   "id": "82195af0",
   "metadata": {
    "slideshow": {
     "slide_type": "-"
    }
   },
   "outputs": [
    {
     "data": {
      "text/plain": [
       "3×3 Matrix{Float64}:\n",
       " 0.919259   0.22115    -0.235479\n",
       " 0.0637634  0.357426    0.0291009\n",
       " 0.323827   0.0458982   0.672082"
      ]
     },
     "execution_count": 19,
     "metadata": {},
     "output_type": "execute_result"
    }
   ],
   "source": [
    "logistic(A)"
   ]
  },
  {
   "cell_type": "markdown",
   "id": "09bfc4e6",
   "metadata": {},
   "source": [
    "- this is different from applying `logistic` element-wise to `A` (notice the negative values in the result)\n",
    "- I'm not sure if this is of any use but somebody probably wanted to evaluate $\\left(\\mathbf{I}+\\exp(-\\mathbf{A})\\right)^{-1}$ at some time."
   ]
  },
  {
   "cell_type": "markdown",
   "id": "f756ffe6",
   "metadata": {
    "slideshow": {
     "slide_type": "slide"
    }
   },
   "source": [
    "### Dual numbers\n",
    "- Another example would be using [dual numbers](https://en.wikipedia.org/wiki/Dual_number) for forward-mode automatic differentiation."
   ]
  },
  {
   "cell_type": "code",
   "execution_count": 20,
   "id": "e14a4474",
   "metadata": {},
   "outputs": [
    {
     "data": {
      "text/plain": [
       "0.7858349830425586 + 0.16829836246906024ɛ"
      ]
     },
     "execution_count": 20,
     "metadata": {},
     "output_type": "execute_result"
    }
   ],
   "source": [
    "using DualNumbers\n",
    "logistic(Dual(1.3, 1))"
   ]
  },
  {
   "cell_type": "markdown",
   "id": "2da9647b",
   "metadata": {},
   "source": [
    "- the second component of that `Dual` number is the derivative of the logistic at `x=1.3`"
   ]
  },
  {
   "cell_type": "markdown",
   "id": "7d2f6acf",
   "metadata": {
    "slideshow": {
     "slide_type": "slide"
    }
   },
   "source": [
    "## Our previous values can be reproduced but will cause recompilation"
   ]
  },
  {
   "cell_type": "code",
   "execution_count": 21,
   "id": "740abaeb",
   "metadata": {
    "slideshow": {
     "slide_type": "-"
    }
   },
   "outputs": [
    {
     "data": {
      "text/plain": [
       "0.7858349830425586"
      ]
     },
     "execution_count": 21,
     "metadata": {},
     "output_type": "execute_result"
    }
   ],
   "source": [
    "logistic(1.3)"
   ]
  },
  {
   "cell_type": "code",
   "execution_count": 22,
   "id": "8038417a",
   "metadata": {
    "slideshow": {
     "slide_type": "-"
    }
   },
   "outputs": [
    {
     "data": {
      "text/plain": [
       "3-element Vector{Core.MethodInstance}:\n",
       " MethodInstance for logistic(::\u001b[0mFloat64)\n",
       " MethodInstance for logistic(::\u001b[0mMatrix{Float64})\n",
       " MethodInstance for logistic(::\u001b[0mDual128)"
      ]
     },
     "execution_count": 22,
     "metadata": {},
     "output_type": "execute_result"
    }
   ],
   "source": [
    "methodinstances(logistic)"
   ]
  },
  {
   "cell_type": "markdown",
   "id": "38070e85",
   "metadata": {
    "slideshow": {
     "slide_type": "fragment"
    }
   },
   "source": [
    "- Notice that the previous MethodInstances for `x::Float32` and `x::BigFloat` have been invalidated because the implementation was redefined."
   ]
  },
  {
   "cell_type": "markdown",
   "id": "0d02344a",
   "metadata": {
    "slideshow": {
     "slide_type": "slide"
    }
   },
   "source": [
    "# Vectorization by *dot-broadcasting*\n",
    "\n",
    "- Suppose we wish to plot the logistic function over some range.\n",
    "- The operation of applying a function over the values of a vector (or some other iterator) is sufficiently common that is has a \"short-cut\" syntax called [\"dot-broadcasting\"](https://docs.julialang.org/en/v1/manual/arrays/#Broadcasting)."
   ]
  },
  {
   "cell_type": "code",
   "execution_count": 23,
   "id": "e093658d",
   "metadata": {
    "slideshow": {
     "slide_type": "-"
    }
   },
   "outputs": [],
   "source": [
    "using CairoMakie   # graphics package"
   ]
  },
  {
   "cell_type": "code",
   "execution_count": 24,
   "id": "484fa63c",
   "metadata": {
    "slideshow": {
     "slide_type": "-"
    }
   },
   "outputs": [
    {
     "data": {
      "text/plain": [
       "-5.0:0.02:5.0"
      ]
     },
     "execution_count": 24,
     "metadata": {},
     "output_type": "execute_result"
    }
   ],
   "source": [
    "xvals = -5.0:0.02:5.0 # sequence from -5 to +5 in steps of 0.02"
   ]
  },
  {
   "cell_type": "code",
   "execution_count": 25,
   "id": "78b71016",
   "metadata": {
    "slideshow": {
     "slide_type": "slide"
    }
   },
   "outputs": [
    {
     "data": {
      "image/png": "[encoded data removed]",
      "text/plain": [
       "FigureAxisPlot()"
      ]
     },
     "execution_count": 25,
     "metadata": {},
     "output_type": "execute_result"
    }
   ],
   "source": [
    "lines(xvals, logistic.(xvals), axis=(xlabel=\"x\", ylabel=\"logistic(x)\"))"
   ]
  },
  {
   "cell_type": "markdown",
   "id": "cd1a5dac",
   "metadata": {},
   "source": [
    "- Notice the '.' after `logistic` and before `(xvals)`, which vectorizes the call"
   ]
  },
  {
   "cell_type": "markdown",
   "id": "7a1bb12a",
   "metadata": {
    "slideshow": {
     "slide_type": "slide"
    }
   },
   "source": [
    "## Timings\n",
    "- The `BenchmarkTools` package provides macros to help with benchmarking evaluation of an expression."
   ]
  },
  {
   "cell_type": "code",
   "execution_count": 26,
   "id": "934c8f50",
   "metadata": {
    "slideshow": {
     "slide_type": "-"
    }
   },
   "outputs": [],
   "source": [
    "using BenchmarkTools"
   ]
  },
  {
   "cell_type": "markdown",
   "id": "3e1ebc57",
   "metadata": {
    "slideshow": {
     "slide_type": "slide"
    }
   },
   "source": [
    "## Call `@benchmark` on an expression"
   ]
  },
  {
   "cell_type": "code",
   "execution_count": 27,
   "id": "64de1443",
   "metadata": {
    "slideshow": {
     "slide_type": "-"
    }
   },
   "outputs": [
    {
     "data": {
      "text/plain": [
       "BenchmarkTools.Trial: 10000 samples with 1000 evaluations.\n",
       " Range \u001b[90m(\u001b[39m\u001b[36m\u001b[1mmin\u001b[22m\u001b[39m … \u001b[35mmax\u001b[39m\u001b[90m):  \u001b[39m\u001b[36m\u001b[1m0.013 ns\u001b[22m\u001b[39m … \u001b[35m0.178 ns\u001b[39m  \u001b[90m┊\u001b[39m GC \u001b[90m(\u001b[39mmin … max\u001b[90m): \u001b[39m0.00% … 0.00%\n",
       " Time  \u001b[90m(\u001b[39m\u001b[34m\u001b[1mmedian\u001b[22m\u001b[39m\u001b[90m):     \u001b[39m\u001b[34m\u001b[1m0.015 ns             \u001b[22m\u001b[39m\u001b[90m┊\u001b[39m GC \u001b[90m(\u001b[39mmedian\u001b[90m):    \u001b[39m0.00%\n",
       " Time  \u001b[90m(\u001b[39m\u001b[32m\u001b[1mmean\u001b[22m\u001b[39m ± \u001b[32mσ\u001b[39m\u001b[90m):   \u001b[39m\u001b[32m\u001b[1m0.016 ns\u001b[22m\u001b[39m ± \u001b[32m0.003 ns\u001b[39m  \u001b[90m┊\u001b[39m GC \u001b[90m(\u001b[39mmean ± σ\u001b[90m):  \u001b[39m0.00% ± 0.00%\n",
       "\n",
       "  \u001b[39m \u001b[39m \u001b[39m \u001b[39m \u001b[39m \u001b[39m \u001b[39m \u001b[39m \u001b[39m \u001b[39m \u001b[39m \u001b[39m \u001b[39m█\u001b[34m \u001b[39m\u001b[39m \u001b[39m \u001b[39m \u001b[39m \u001b[32m▄\u001b[39m\u001b[39m \u001b[39m \u001b[39m \u001b[39m \u001b[39m \u001b[39m \u001b[39m \u001b[39m \u001b[39m \u001b[39m \u001b[39m \u001b[39m \u001b[39m \u001b[39m \u001b[39m \u001b[39m \u001b[39m \u001b[39m \u001b[39m \u001b[39m \u001b[39m \u001b[39m \u001b[39m \u001b[39m \u001b[39m \u001b[39m \u001b[39m \u001b[39m \u001b[39m \u001b[39m \u001b[39m \u001b[39m \u001b[39m \u001b[39m \u001b[39m \u001b[39m \u001b[39m \u001b[39m \u001b[39m \u001b[39m \n",
       "  \u001b[39m▂\u001b[39m▁\u001b[39m▁\u001b[39m▁\u001b[39m▁\u001b[39m▁\u001b[39m▅\u001b[39m▁\u001b[39m▁\u001b[39m▁\u001b[39m▁\u001b[39m▁\u001b[39m█\u001b[34m▁\u001b[39m\u001b[39m▁\u001b[39m▁\u001b[39m▁\u001b[39m▁\u001b[32m█\u001b[39m\u001b[39m▁\u001b[39m▁\u001b[39m▁\u001b[39m▁\u001b[39m▁\u001b[39m▁\u001b[39m▅\u001b[39m▁\u001b[39m▁\u001b[39m▁\u001b[39m▁\u001b[39m▁\u001b[39m▃\u001b[39m▁\u001b[39m▁\u001b[39m▁\u001b[39m▁\u001b[39m▁\u001b[39m▂\u001b[39m▁\u001b[39m▁\u001b[39m▁\u001b[39m▁\u001b[39m▁\u001b[39m▁\u001b[39m▃\u001b[39m▁\u001b[39m▁\u001b[39m▁\u001b[39m▁\u001b[39m▁\u001b[39m▃\u001b[39m▁\u001b[39m▁\u001b[39m▁\u001b[39m▁\u001b[39m▁\u001b[39m▂\u001b[39m \u001b[39m▂\n",
       "  013 ns\u001b[90m         Histogram: frequency by time\u001b[39m        022 ns \u001b[0m\u001b[1m<\u001b[22m\n",
       "\n",
       " Memory estimate\u001b[90m: \u001b[39m\u001b[33m0 bytes\u001b[39m, allocs estimate\u001b[90m: \u001b[39m\u001b[33m0\u001b[39m."
      ]
     },
     "execution_count": 27,
     "metadata": {},
     "output_type": "execute_result"
    }
   ],
   "source": [
    "@benchmark logistic(1.3)"
   ]
  },
  {
   "cell_type": "code",
   "execution_count": 28,
   "id": "c65c3723",
   "metadata": {},
   "outputs": [
    {
     "name": "stdout",
     "output_type": "stream",
     "text": [
      "Julia Version 1.6.2\n",
      "Commit 1b93d53fc4 (2021-07-14 15:36 UTC)\n",
      "Platform Info:\n",
      "  OS: Linux (x86_64-pc-linux-gnu)\n",
      "  CPU: 11th Gen Intel(R) Core(TM) i5-1135G7 @ 2.40GHz\n",
      "  WORD_SIZE: 64\n",
      "  LIBM: libopenlibm\n",
      "  LLVM: libLLVM-11.0.1 (ORCJIT, tigerlake)\n"
     ]
    }
   ],
   "source": [
    "versioninfo()  # some specs on the computer being used"
   ]
  },
  {
   "cell_type": "markdown",
   "id": "92abef3e",
   "metadata": {
    "slideshow": {
     "slide_type": "slide"
    }
   },
   "source": [
    "### In practice this is just benchmarking the exp function"
   ]
  },
  {
   "cell_type": "code",
   "execution_count": 29,
   "id": "e4286a60",
   "metadata": {
    "slideshow": {
     "slide_type": "-"
    }
   },
   "outputs": [
    {
     "data": {
      "text/plain": [
       "BenchmarkTools.Trial: 10000 samples with 1000 evaluations.\n",
       " Range \u001b[90m(\u001b[39m\u001b[36m\u001b[1mmin\u001b[22m\u001b[39m … \u001b[35mmax\u001b[39m\u001b[90m):  \u001b[39m\u001b[36m\u001b[1m0.015 ns\u001b[22m\u001b[39m … \u001b[35m0.440 ns\u001b[39m  \u001b[90m┊\u001b[39m GC \u001b[90m(\u001b[39mmin … max\u001b[90m): \u001b[39m0.00% … 0.00%\n",
       " Time  \u001b[90m(\u001b[39m\u001b[34m\u001b[1mmedian\u001b[22m\u001b[39m\u001b[90m):     \u001b[39m\u001b[34m\u001b[1m0.017 ns             \u001b[22m\u001b[39m\u001b[90m┊\u001b[39m GC \u001b[90m(\u001b[39mmedian\u001b[90m):    \u001b[39m0.00%\n",
       " Time  \u001b[90m(\u001b[39m\u001b[32m\u001b[1mmean\u001b[22m\u001b[39m ± \u001b[32mσ\u001b[39m\u001b[90m):   \u001b[39m\u001b[32m\u001b[1m0.017 ns\u001b[22m\u001b[39m ± \u001b[32m0.005 ns\u001b[39m  \u001b[90m┊\u001b[39m GC \u001b[90m(\u001b[39mmean ± σ\u001b[90m):  \u001b[39m0.00% ± 0.00%\n",
       "\n",
       "  \u001b[39m \u001b[39m \u001b[39m \u001b[39m \u001b[39m \u001b[39m \u001b[39m \u001b[39m \u001b[39m \u001b[39m \u001b[34m█\u001b[39m\u001b[32m \u001b[39m\u001b[39m \u001b[39m \u001b[39m \u001b[39m \u001b[39m \u001b[39m \u001b[39m \u001b[39m \u001b[39m \u001b[39m \u001b[39m \u001b[39m \u001b[39m \u001b[39m \u001b[39m \u001b[39m \u001b[39m \u001b[39m \u001b[39m \u001b[39m \u001b[39m \u001b[39m \u001b[39m \u001b[39m \u001b[39m \u001b[39m \u001b[39m \u001b[39m \u001b[39m \u001b[39m \u001b[39m \u001b[39m \u001b[39m \u001b[39m \u001b[39m \u001b[39m \u001b[39m \u001b[39m \u001b[39m \u001b[39m \u001b[39m \u001b[39m \u001b[39m \u001b[39m \u001b[39m \u001b[39m \u001b[39m \n",
       "  \u001b[39m▂\u001b[39m▁\u001b[39m▁\u001b[39m▁\u001b[39m▁\u001b[39m█\u001b[39m▁\u001b[39m▁\u001b[39m▁\u001b[39m▁\u001b[34m█\u001b[39m\u001b[32m▁\u001b[39m\u001b[39m▁\u001b[39m▁\u001b[39m▁\u001b[39m█\u001b[39m▁\u001b[39m▁\u001b[39m▁\u001b[39m▁\u001b[39m▃\u001b[39m▁\u001b[39m▁\u001b[39m▁\u001b[39m▁\u001b[39m▂\u001b[39m▁\u001b[39m▁\u001b[39m▁\u001b[39m▁\u001b[39m▁\u001b[39m▂\u001b[39m▁\u001b[39m▁\u001b[39m▁\u001b[39m▁\u001b[39m▁\u001b[39m▁\u001b[39m▁\u001b[39m▁\u001b[39m▁\u001b[39m▁\u001b[39m▁\u001b[39m▁\u001b[39m▁\u001b[39m▁\u001b[39m▁\u001b[39m▁\u001b[39m▁\u001b[39m▁\u001b[39m▁\u001b[39m▂\u001b[39m▁\u001b[39m▁\u001b[39m▁\u001b[39m▁\u001b[39m▂\u001b[39m \u001b[39m▂\n",
       "  015 ns\u001b[90m         Histogram: frequency by time\u001b[39m        026 ns \u001b[0m\u001b[1m<\u001b[22m\n",
       "\n",
       " Memory estimate\u001b[90m: \u001b[39m\u001b[33m0 bytes\u001b[39m, allocs estimate\u001b[90m: \u001b[39m\u001b[33m0\u001b[39m."
      ]
     },
     "execution_count": 29,
     "metadata": {},
     "output_type": "execute_result"
    }
   ],
   "source": [
    "@benchmark exp(-1.3)"
   ]
  },
  {
   "cell_type": "markdown",
   "id": "bf21a468",
   "metadata": {
    "slideshow": {
     "slide_type": "slide"
    }
   },
   "source": [
    "## Benchmark the vectorized form"
   ]
  },
  {
   "cell_type": "code",
   "execution_count": 30,
   "id": "56aa3cd5",
   "metadata": {},
   "outputs": [
    {
     "data": {
      "text/plain": [
       "501"
      ]
     },
     "execution_count": 30,
     "metadata": {},
     "output_type": "execute_result"
    }
   ],
   "source": [
    "length(xvals)"
   ]
  },
  {
   "cell_type": "code",
   "execution_count": 31,
   "id": "08b1327e",
   "metadata": {
    "slideshow": {
     "slide_type": "-"
    }
   },
   "outputs": [
    {
     "data": {
      "text/plain": [
       "BenchmarkTools.Trial: 10000 samples with 7 evaluations.\n",
       " Range \u001b[90m(\u001b[39m\u001b[36m\u001b[1mmin\u001b[22m\u001b[39m … \u001b[35mmax\u001b[39m\u001b[90m):  \u001b[39m\u001b[36m\u001b[1m4.146 μs\u001b[22m\u001b[39m … \u001b[35m884.092 μs\u001b[39m  \u001b[90m┊\u001b[39m GC \u001b[90m(\u001b[39mmin … max\u001b[90m): \u001b[39m0.00% … 98.53%\n",
       " Time  \u001b[90m(\u001b[39m\u001b[34m\u001b[1mmedian\u001b[22m\u001b[39m\u001b[90m):     \u001b[39m\u001b[34m\u001b[1m4.271 μs               \u001b[22m\u001b[39m\u001b[90m┊\u001b[39m GC \u001b[90m(\u001b[39mmedian\u001b[90m):    \u001b[39m0.00%\n",
       " Time  \u001b[90m(\u001b[39m\u001b[32m\u001b[1mmean\u001b[22m\u001b[39m ± \u001b[32mσ\u001b[39m\u001b[90m):   \u001b[39m\u001b[32m\u001b[1m4.969 μs\u001b[22m\u001b[39m ± \u001b[32m 15.672 μs\u001b[39m  \u001b[90m┊\u001b[39m GC \u001b[90m(\u001b[39mmean ± σ\u001b[90m):  \u001b[39m6.91% ±  2.20%\n",
       "\n",
       "  \u001b[39m▅\u001b[39m█\u001b[34m▆\u001b[39m\u001b[39m▃\u001b[39m▁\u001b[39m \u001b[39m \u001b[39m▃\u001b[39m▄\u001b[39m▂\u001b[39m \u001b[39m \u001b[39m \u001b[32m▁\u001b[39m\u001b[39m▃\u001b[39m▃\u001b[39m▃\u001b[39m▃\u001b[39m▂\u001b[39m▁\u001b[39m \u001b[39m \u001b[39m \u001b[39m \u001b[39m \u001b[39m \u001b[39m▁\u001b[39m \u001b[39m \u001b[39m \u001b[39m \u001b[39m \u001b[39m \u001b[39m \u001b[39m \u001b[39m \u001b[39m \u001b[39m \u001b[39m \u001b[39m \u001b[39m \u001b[39m \u001b[39m \u001b[39m \u001b[39m \u001b[39m \u001b[39m \u001b[39m \u001b[39m \u001b[39m \u001b[39m \u001b[39m \u001b[39m \u001b[39m \u001b[39m \u001b[39m \u001b[39m \u001b[39m \u001b[39m \u001b[39m \u001b[39m▁\n",
       "  \u001b[39m█\u001b[39m█\u001b[34m█\u001b[39m\u001b[39m█\u001b[39m█\u001b[39m▇\u001b[39m▆\u001b[39m█\u001b[39m█\u001b[39m█\u001b[39m█\u001b[39m▆\u001b[39m▆\u001b[32m█\u001b[39m\u001b[39m█\u001b[39m█\u001b[39m█\u001b[39m█\u001b[39m█\u001b[39m█\u001b[39m█\u001b[39m█\u001b[39m█\u001b[39m█\u001b[39m█\u001b[39m█\u001b[39m█\u001b[39m█\u001b[39m█\u001b[39m█\u001b[39m█\u001b[39m▇\u001b[39m▇\u001b[39m▆\u001b[39m▅\u001b[39m▆\u001b[39m▆\u001b[39m▆\u001b[39m▅\u001b[39m▆\u001b[39m▆\u001b[39m▆\u001b[39m▆\u001b[39m▆\u001b[39m▆\u001b[39m▅\u001b[39m▅\u001b[39m▅\u001b[39m▄\u001b[39m▃\u001b[39m▃\u001b[39m▃\u001b[39m▄\u001b[39m▅\u001b[39m▄\u001b[39m▄\u001b[39m▃\u001b[39m▅\u001b[39m▄\u001b[39m \u001b[39m█\n",
       "  4.15 μs\u001b[90m      \u001b[39m\u001b[90mHistogram: \u001b[39m\u001b[90m\u001b[1mlog(\u001b[22m\u001b[39m\u001b[90mfrequency\u001b[39m\u001b[90m\u001b[1m)\u001b[22m\u001b[39m\u001b[90m by time\u001b[39m      7.83 μs \u001b[0m\u001b[1m<\u001b[22m\n",
       "\n",
       " Memory estimate\u001b[90m: \u001b[39m\u001b[33m4.25 KiB\u001b[39m, allocs estimate\u001b[90m: \u001b[39m\u001b[33m4\u001b[39m."
      ]
     },
     "execution_count": 31,
     "metadata": {},
     "output_type": "execute_result"
    }
   ],
   "source": [
    "@benchmark logistic.(xvals)"
   ]
  },
  {
   "cell_type": "markdown",
   "id": "ff08808e",
   "metadata": {
    "slideshow": {
     "slide_type": "slide"
    }
   },
   "source": [
    "## Wow, that took several microseconds. Why so long?\n",
    "- The median time for evaluating `logistic` on an array of length 501 is tens of thousands of times greater than a single evaluation.\n",
    "- The timings for `logistic(1.3)` already had the value `1.3` in a register.\n",
    "- It would be more realistic to time on a single element of the array so the time for fetching from memory is included"
   ]
  },
  {
   "cell_type": "code",
   "execution_count": 32,
   "id": "cd99bb1d",
   "metadata": {
    "slideshow": {
     "slide_type": "slide"
    }
   },
   "outputs": [
    {
     "data": {
      "text/plain": [
       "BenchmarkTools.Trial: 10000 samples with 994 evaluations.\n",
       " Range \u001b[90m(\u001b[39m\u001b[36m\u001b[1mmin\u001b[22m\u001b[39m … \u001b[35mmax\u001b[39m\u001b[90m):  \u001b[39m\u001b[36m\u001b[1m32.170 ns\u001b[22m\u001b[39m … \u001b[35m  6.196 μs\u001b[39m  \u001b[90m┊\u001b[39m GC \u001b[90m(\u001b[39mmin … max\u001b[90m): \u001b[39m0.00% … 98.89%\n",
       " Time  \u001b[90m(\u001b[39m\u001b[34m\u001b[1mmedian\u001b[22m\u001b[39m\u001b[90m):     \u001b[39m\u001b[34m\u001b[1m33.037 ns               \u001b[22m\u001b[39m\u001b[90m┊\u001b[39m GC \u001b[90m(\u001b[39mmedian\u001b[90m):    \u001b[39m0.00%\n",
       " Time  \u001b[90m(\u001b[39m\u001b[32m\u001b[1mmean\u001b[22m\u001b[39m ± \u001b[32mσ\u001b[39m\u001b[90m):   \u001b[39m\u001b[32m\u001b[1m38.954 ns\u001b[22m\u001b[39m ± \u001b[32m116.137 ns\u001b[39m  \u001b[90m┊\u001b[39m GC \u001b[90m(\u001b[39mmean ± σ\u001b[90m):  \u001b[39m6.61% ±  2.22%\n",
       "\n",
       "  \u001b[39m▇\u001b[39m█\u001b[34m▅\u001b[39m\u001b[39m▂\u001b[39m \u001b[39m \u001b[39m \u001b[39m \u001b[39m▃\u001b[39m▅\u001b[39m▂\u001b[39m \u001b[39m \u001b[39m \u001b[39m▁\u001b[39m▂\u001b[32m▄\u001b[39m\u001b[39m▄\u001b[39m▄\u001b[39m▃\u001b[39m▂\u001b[39m▂\u001b[39m▁\u001b[39m▁\u001b[39m▁\u001b[39m▁\u001b[39m▁\u001b[39m▁\u001b[39m▁\u001b[39m▂\u001b[39m▁\u001b[39m▁\u001b[39m▁\u001b[39m \u001b[39m \u001b[39m \u001b[39m \u001b[39m \u001b[39m \u001b[39m \u001b[39m \u001b[39m \u001b[39m \u001b[39m \u001b[39m \u001b[39m \u001b[39m \u001b[39m \u001b[39m \u001b[39m \u001b[39m \u001b[39m \u001b[39m \u001b[39m \u001b[39m \u001b[39m \u001b[39m \u001b[39m \u001b[39m \u001b[39m \u001b[39m \u001b[39m▂\n",
       "  \u001b[39m█\u001b[39m█\u001b[34m█\u001b[39m\u001b[39m█\u001b[39m▇\u001b[39m▇\u001b[39m▅\u001b[39m▄\u001b[39m█\u001b[39m█\u001b[39m█\u001b[39m█\u001b[39m▇\u001b[39m▇\u001b[39m█\u001b[39m█\u001b[32m█\u001b[39m\u001b[39m█\u001b[39m█\u001b[39m█\u001b[39m█\u001b[39m█\u001b[39m█\u001b[39m█\u001b[39m█\u001b[39m█\u001b[39m█\u001b[39m█\u001b[39m█\u001b[39m█\u001b[39m█\u001b[39m█\u001b[39m█\u001b[39m█\u001b[39m█\u001b[39m█\u001b[39m▆\u001b[39m▆\u001b[39m▅\u001b[39m▇\u001b[39m▆\u001b[39m▆\u001b[39m▇\u001b[39m▇\u001b[39m▇\u001b[39m▆\u001b[39m▆\u001b[39m▇\u001b[39m▅\u001b[39m▅\u001b[39m▅\u001b[39m▄\u001b[39m▅\u001b[39m▅\u001b[39m▄\u001b[39m▅\u001b[39m▅\u001b[39m▄\u001b[39m▅\u001b[39m▇\u001b[39m \u001b[39m█\n",
       "  32.2 ns\u001b[90m       \u001b[39m\u001b[90mHistogram: \u001b[39m\u001b[90m\u001b[1mlog(\u001b[22m\u001b[39m\u001b[90mfrequency\u001b[39m\u001b[90m\u001b[1m)\u001b[22m\u001b[39m\u001b[90m by time\u001b[39m      57.4 ns \u001b[0m\u001b[1m<\u001b[22m\n",
       "\n",
       " Memory estimate\u001b[90m: \u001b[39m\u001b[33m32 bytes\u001b[39m, allocs estimate\u001b[90m: \u001b[39m\u001b[33m2\u001b[39m."
      ]
     },
     "execution_count": 32,
     "metadata": {},
     "output_type": "execute_result"
    }
   ],
   "source": [
    "@benchmark logistic(xvals[231])"
   ]
  },
  {
   "cell_type": "markdown",
   "id": "8d1d3d90",
   "metadata": {
    "slideshow": {
     "slide_type": "slide"
    }
   },
   "source": [
    "### Sometimes it can be cheaper to expand the iterator to an array"
   ]
  },
  {
   "cell_type": "code",
   "execution_count": 33,
   "id": "ecdacffe",
   "metadata": {},
   "outputs": [
    {
     "data": {
      "text/plain": [
       "Vector{Float64} (alias for Array{Float64, 1})"
      ]
     },
     "execution_count": 33,
     "metadata": {},
     "output_type": "execute_result"
    }
   ],
   "source": [
    "xvals = collect(xvals)   # collect all the values in a vector\n",
    "typeof(xvals)"
   ]
  },
  {
   "cell_type": "code",
   "execution_count": 34,
   "id": "95ced779",
   "metadata": {},
   "outputs": [
    {
     "data": {
      "text/plain": [
       "BenchmarkTools.Trial: 10000 samples with 9 evaluations.\n",
       " Range \u001b[90m(\u001b[39m\u001b[36m\u001b[1mmin\u001b[22m\u001b[39m … \u001b[35mmax\u001b[39m\u001b[90m):  \u001b[39m\u001b[36m\u001b[1m2.379 μs\u001b[22m\u001b[39m … \u001b[35m499.460 μs\u001b[39m  \u001b[90m┊\u001b[39m GC \u001b[90m(\u001b[39mmin … max\u001b[90m): \u001b[39m0.00% … 97.70%\n",
       " Time  \u001b[90m(\u001b[39m\u001b[34m\u001b[1mmedian\u001b[22m\u001b[39m\u001b[90m):     \u001b[39m\u001b[34m\u001b[1m2.614 μs               \u001b[22m\u001b[39m\u001b[90m┊\u001b[39m GC \u001b[90m(\u001b[39mmedian\u001b[90m):    \u001b[39m0.00%\n",
       " Time  \u001b[90m(\u001b[39m\u001b[32m\u001b[1mmean\u001b[22m\u001b[39m ± \u001b[32mσ\u001b[39m\u001b[90m):   \u001b[39m\u001b[32m\u001b[1m2.968 μs\u001b[22m\u001b[39m ± \u001b[32m  8.253 μs\u001b[39m  \u001b[90m┊\u001b[39m GC \u001b[90m(\u001b[39mmean ± σ\u001b[90m):  \u001b[39m4.74% ±  1.70%\n",
       "\n",
       "  \u001b[39m \u001b[39m \u001b[39m \u001b[39m▄\u001b[39m█\u001b[39m▇\u001b[34m▄\u001b[39m\u001b[39m \u001b[39m \u001b[39m \u001b[39m \u001b[39m \u001b[39m \u001b[39m \u001b[39m \u001b[39m \u001b[32m \u001b[39m\u001b[39m \u001b[39m \u001b[39m \u001b[39m \u001b[39m \u001b[39m \u001b[39m \u001b[39m \u001b[39m \u001b[39m \u001b[39m \u001b[39m \u001b[39m \u001b[39m \u001b[39m \u001b[39m \u001b[39m \u001b[39m \u001b[39m \u001b[39m \u001b[39m \u001b[39m \u001b[39m \u001b[39m \u001b[39m \u001b[39m \u001b[39m \u001b[39m \u001b[39m \u001b[39m \u001b[39m \u001b[39m \u001b[39m \u001b[39m \u001b[39m \u001b[39m \u001b[39m \u001b[39m \u001b[39m \u001b[39m \u001b[39m \u001b[39m \u001b[39m \u001b[39m \n",
       "  \u001b[39m▁\u001b[39m▂\u001b[39m▆\u001b[39m█\u001b[39m█\u001b[39m█\u001b[34m█\u001b[39m\u001b[39m█\u001b[39m▄\u001b[39m▃\u001b[39m▃\u001b[39m▃\u001b[39m▃\u001b[39m▂\u001b[39m▂\u001b[39m▁\u001b[32m▁\u001b[39m\u001b[39m▁\u001b[39m▁\u001b[39m▁\u001b[39m▁\u001b[39m▁\u001b[39m▁\u001b[39m▁\u001b[39m▁\u001b[39m▂\u001b[39m▂\u001b[39m▃\u001b[39m▃\u001b[39m▃\u001b[39m▃\u001b[39m▂\u001b[39m▂\u001b[39m▂\u001b[39m▁\u001b[39m▁\u001b[39m▁\u001b[39m▁\u001b[39m▁\u001b[39m▁\u001b[39m▁\u001b[39m▁\u001b[39m▁\u001b[39m▁\u001b[39m▁\u001b[39m▁\u001b[39m▁\u001b[39m▁\u001b[39m▁\u001b[39m▁\u001b[39m▁\u001b[39m▁\u001b[39m▁\u001b[39m▁\u001b[39m▁\u001b[39m▁\u001b[39m▁\u001b[39m▁\u001b[39m▁\u001b[39m \u001b[39m▂\n",
       "  2.38 μs\u001b[90m         Histogram: frequency by time\u001b[39m        4.61 μs \u001b[0m\u001b[1m<\u001b[22m\n",
       "\n",
       " Memory estimate\u001b[90m: \u001b[39m\u001b[33m4.09 KiB\u001b[39m, allocs estimate\u001b[90m: \u001b[39m\u001b[33m3\u001b[39m."
      ]
     },
     "execution_count": 34,
     "metadata": {},
     "output_type": "execute_result"
    }
   ],
   "source": [
    "@benchmark logistic.(xvals)"
   ]
  },
  {
   "cell_type": "markdown",
   "id": "f5ecdc46",
   "metadata": {
    "slideshow": {
     "slide_type": "slide"
    }
   },
   "source": [
    "### The time for evaluation of a single element has not changed much"
   ]
  },
  {
   "cell_type": "code",
   "execution_count": 35,
   "id": "67780994",
   "metadata": {
    "slideshow": {
     "slide_type": "-"
    }
   },
   "outputs": [
    {
     "data": {
      "text/plain": [
       "BenchmarkTools.Trial: 10000 samples with 995 evaluations.\n",
       " Range \u001b[90m(\u001b[39m\u001b[36m\u001b[1mmin\u001b[22m\u001b[39m … \u001b[35mmax\u001b[39m\u001b[90m):  \u001b[39m\u001b[36m\u001b[1m27.262 ns\u001b[22m\u001b[39m … \u001b[35m  5.006 μs\u001b[39m  \u001b[90m┊\u001b[39m GC \u001b[90m(\u001b[39mmin … max\u001b[90m): \u001b[39m0.00% … 99.26%\n",
       " Time  \u001b[90m(\u001b[39m\u001b[34m\u001b[1mmedian\u001b[22m\u001b[39m\u001b[90m):     \u001b[39m\u001b[34m\u001b[1m28.530 ns               \u001b[22m\u001b[39m\u001b[90m┊\u001b[39m GC \u001b[90m(\u001b[39mmedian\u001b[90m):    \u001b[39m0.00%\n",
       " Time  \u001b[90m(\u001b[39m\u001b[32m\u001b[1mmean\u001b[22m\u001b[39m ± \u001b[32mσ\u001b[39m\u001b[90m):   \u001b[39m\u001b[32m\u001b[1m33.417 ns\u001b[22m\u001b[39m ± \u001b[32m110.020 ns\u001b[39m  \u001b[90m┊\u001b[39m GC \u001b[90m(\u001b[39mmean ± σ\u001b[90m):  \u001b[39m7.35% ±  2.22%\n",
       "\n",
       "  \u001b[39m \u001b[39m▅\u001b[39m█\u001b[39m▇\u001b[34m▅\u001b[39m\u001b[39m▃\u001b[39m▁\u001b[39m \u001b[39m \u001b[39m \u001b[39m▁\u001b[39m▅\u001b[39m▅\u001b[39m▃\u001b[39m▁\u001b[39m \u001b[39m \u001b[39m \u001b[39m \u001b[39m \u001b[32m▁\u001b[39m\u001b[39m▂\u001b[39m▃\u001b[39m▄\u001b[39m▄\u001b[39m▄\u001b[39m▄\u001b[39m▃\u001b[39m▃\u001b[39m▂\u001b[39m▁\u001b[39m \u001b[39m \u001b[39m▁\u001b[39m \u001b[39m▁\u001b[39m \u001b[39m▁\u001b[39m \u001b[39m \u001b[39m \u001b[39m \u001b[39m \u001b[39m \u001b[39m \u001b[39m \u001b[39m \u001b[39m \u001b[39m \u001b[39m \u001b[39m \u001b[39m \u001b[39m \u001b[39m \u001b[39m \u001b[39m \u001b[39m \u001b[39m \u001b[39m \u001b[39m \u001b[39m \u001b[39m▂\n",
       "  \u001b[39m▇\u001b[39m█\u001b[39m█\u001b[39m█\u001b[34m█\u001b[39m\u001b[39m█\u001b[39m█\u001b[39m▇\u001b[39m▆\u001b[39m▆\u001b[39m█\u001b[39m█\u001b[39m█\u001b[39m█\u001b[39m█\u001b[39m▇\u001b[39m▅\u001b[39m▄\u001b[39m▅\u001b[39m█\u001b[32m█\u001b[39m\u001b[39m█\u001b[39m█\u001b[39m█\u001b[39m█\u001b[39m█\u001b[39m█\u001b[39m█\u001b[39m█\u001b[39m█\u001b[39m█\u001b[39m█\u001b[39m█\u001b[39m█\u001b[39m█\u001b[39m█\u001b[39m█\u001b[39m█\u001b[39m█\u001b[39m█\u001b[39m█\u001b[39m▇\u001b[39m▇\u001b[39m▇\u001b[39m▇\u001b[39m▆\u001b[39m▅\u001b[39m▆\u001b[39m▄\u001b[39m▅\u001b[39m▄\u001b[39m▃\u001b[39m▃\u001b[39m▃\u001b[39m▄\u001b[39m▅\u001b[39m▅\u001b[39m▄\u001b[39m▅\u001b[39m▆\u001b[39m \u001b[39m█\n",
       "  27.3 ns\u001b[90m       \u001b[39m\u001b[90mHistogram: \u001b[39m\u001b[90m\u001b[1mlog(\u001b[22m\u001b[39m\u001b[90mfrequency\u001b[39m\u001b[90m\u001b[1m)\u001b[22m\u001b[39m\u001b[90m by time\u001b[39m      45.8 ns \u001b[0m\u001b[1m<\u001b[22m\n",
       "\n",
       " Memory estimate\u001b[90m: \u001b[39m\u001b[33m32 bytes\u001b[39m, allocs estimate\u001b[90m: \u001b[39m\u001b[33m2\u001b[39m."
      ]
     },
     "execution_count": 35,
     "metadata": {},
     "output_type": "execute_result"
    }
   ],
   "source": [
    "@benchmark logistic(xvals[231])"
   ]
  },
  {
   "cell_type": "markdown",
   "id": "37c7aac9",
   "metadata": {
    "slideshow": {
     "slide_type": "slide"
    }
   },
   "source": [
    "## Mutating functions\n",
    "- One of the bottlenecks with dynamic languages can be excessive allocation/garbage collection of intermediate values.\n",
    "- `R` can be especially problematic in this regard.\n",
    "- A common Julia coding pattern is to provide one version of a function that overwrites an argument with the values calculated from the other argument(s).\n",
    "- By convention, the names of such *mutating* functions end in `!`, and the argument(s) being mutated are listed first."
   ]
  },
  {
   "cell_type": "code",
   "execution_count": 36,
   "id": "feaef35a",
   "metadata": {
    "slideshow": {
     "slide_type": "slide"
    }
   },
   "outputs": [],
   "source": [
    "function logistic!(y::AbstractArray{T}, x::AbstractArray{T}) where {T<:AbstractFloat}\n",
    "    @. y = inv(one(T) + exp(-x)) # @. adds dots to all operators & calls\n",
    "end\n",
    "yvals = similar(xvals);   # array of the same size and type\n",
    "logistic!(yvals, xvals);"
   ]
  },
  {
   "cell_type": "code",
   "execution_count": 37,
   "id": "cc216412",
   "metadata": {},
   "outputs": [
    {
     "data": {
      "text/plain": [
       "true"
      ]
     },
     "execution_count": 37,
     "metadata": {},
     "output_type": "execute_result"
    }
   ],
   "source": [
    "all(yvals ≈ logistic.(xvals))  # check that the values are approximately equal"
   ]
  },
  {
   "cell_type": "code",
   "execution_count": 38,
   "id": "bfbf1e9e",
   "metadata": {
    "slideshow": {
     "slide_type": "-"
    }
   },
   "outputs": [
    {
     "data": {
      "text/plain": [
       "8-element Vector{Float64}:\n",
       " 0.0066928509242848554\n",
       " 0.00682713242213816\n",
       " 0.006964089177762089\n",
       " 0.007103773724388775\n",
       " 0.007246239595831429\n",
       " 0.007391541344281971\n",
       " 0.007539734558373393\n",
       " 0.0076908758815083305"
      ]
     },
     "execution_count": 38,
     "metadata": {},
     "output_type": "execute_result"
    }
   ],
   "source": [
    "first(yvals, 8)   # like `head` in R"
   ]
  },
  {
   "cell_type": "markdown",
   "id": "d1ddc0d9",
   "metadata": {
    "slideshow": {
     "slide_type": "slide"
    }
   },
   "source": [
    "### Benchmark the mutating method"
   ]
  },
  {
   "cell_type": "code",
   "execution_count": 39,
   "id": "1b49e333",
   "metadata": {
    "slideshow": {
     "slide_type": "-"
    }
   },
   "outputs": [
    {
     "data": {
      "text/plain": [
       "BenchmarkTools.Trial: 10000 samples with 9 evaluations.\n",
       " Range \u001b[90m(\u001b[39m\u001b[36m\u001b[1mmin\u001b[22m\u001b[39m … \u001b[35mmax\u001b[39m\u001b[90m):  \u001b[39m\u001b[36m\u001b[1m2.078 μs\u001b[22m\u001b[39m … \u001b[35m  4.104 μs\u001b[39m  \u001b[90m┊\u001b[39m GC \u001b[90m(\u001b[39mmin … max\u001b[90m): \u001b[39m0.00% … 0.00%\n",
       " Time  \u001b[90m(\u001b[39m\u001b[34m\u001b[1mmedian\u001b[22m\u001b[39m\u001b[90m):     \u001b[39m\u001b[34m\u001b[1m2.176 μs               \u001b[22m\u001b[39m\u001b[90m┊\u001b[39m GC \u001b[90m(\u001b[39mmedian\u001b[90m):    \u001b[39m0.00%\n",
       " Time  \u001b[90m(\u001b[39m\u001b[32m\u001b[1mmean\u001b[22m\u001b[39m ± \u001b[32mσ\u001b[39m\u001b[90m):   \u001b[39m\u001b[32m\u001b[1m2.164 μs\u001b[22m\u001b[39m ± \u001b[32m110.231 ns\u001b[39m  \u001b[90m┊\u001b[39m GC \u001b[90m(\u001b[39mmean ± σ\u001b[90m):  \u001b[39m0.00% ± 0.00%\n",
       "\n",
       "  \u001b[39m█\u001b[39m \u001b[39m \u001b[39m \u001b[39m \u001b[39m \u001b[39m \u001b[39m \u001b[39m \u001b[39m \u001b[39m \u001b[32m \u001b[39m\u001b[34m▂\u001b[39m\u001b[39m \u001b[39m \u001b[39m \u001b[39m \u001b[39m \u001b[39m \u001b[39m \u001b[39m \u001b[39m \u001b[39m \u001b[39m \u001b[39m \u001b[39m \u001b[39m \u001b[39m \u001b[39m \u001b[39m \u001b[39m \u001b[39m \u001b[39m \u001b[39m \u001b[39m \u001b[39m \u001b[39m \u001b[39m \u001b[39m \u001b[39m \u001b[39m \u001b[39m \u001b[39m \u001b[39m \u001b[39m \u001b[39m \u001b[39m \u001b[39m \u001b[39m \u001b[39m \u001b[39m \u001b[39m \u001b[39m \u001b[39m \u001b[39m \u001b[39m \u001b[39m \u001b[39m \u001b[39m \u001b[39m \u001b[39m \n",
       "  \u001b[39m█\u001b[39m▆\u001b[39m▂\u001b[39m▂\u001b[39m▂\u001b[39m▂\u001b[39m▂\u001b[39m▂\u001b[39m▂\u001b[39m▂\u001b[39m▂\u001b[32m▂\u001b[39m\u001b[34m█\u001b[39m\u001b[39m▆\u001b[39m▂\u001b[39m▂\u001b[39m▂\u001b[39m▂\u001b[39m▂\u001b[39m▂\u001b[39m▂\u001b[39m▂\u001b[39m▂\u001b[39m▂\u001b[39m▂\u001b[39m▂\u001b[39m▂\u001b[39m▃\u001b[39m▅\u001b[39m▂\u001b[39m▂\u001b[39m▂\u001b[39m▂\u001b[39m▂\u001b[39m▂\u001b[39m▂\u001b[39m▂\u001b[39m▂\u001b[39m▂\u001b[39m▂\u001b[39m▂\u001b[39m▂\u001b[39m▃\u001b[39m▂\u001b[39m▂\u001b[39m▂\u001b[39m▂\u001b[39m▂\u001b[39m▂\u001b[39m▂\u001b[39m▂\u001b[39m▂\u001b[39m▂\u001b[39m▂\u001b[39m▁\u001b[39m▂\u001b[39m▂\u001b[39m▂\u001b[39m▂\u001b[39m \u001b[39m▂\n",
       "  280 μs\u001b[90m          Histogram: frequency by time\u001b[39m        2.54 μs \u001b[0m\u001b[1m<\u001b[22m\n",
       "\n",
       " Memory estimate\u001b[90m: \u001b[39m\u001b[33m0 bytes\u001b[39m, allocs estimate\u001b[90m: \u001b[39m\u001b[33m0\u001b[39m."
      ]
     },
     "execution_count": 39,
     "metadata": {},
     "output_type": "execute_result"
    }
   ],
   "source": [
    "@benchmark logistic!(yvals, xvals)"
   ]
  },
  {
   "cell_type": "markdown",
   "id": "ce0d58d4",
   "metadata": {},
   "source": [
    "- Notice that there are no allocations of memory and hence 0% of the time is spent in garbage collection (GC)"
   ]
  },
  {
   "cell_type": "markdown",
   "id": "93635a04",
   "metadata": {
    "slideshow": {
     "slide_type": "slide"
    }
   },
   "source": [
    "## But wait, there's more\n",
    "\n",
    "- Because the compilation is being performed within the Julia system, skilled users can experiment with it.\n",
    "- Modern processors provide for many forms of parallelism including what is known as \"single instruction, multiple data\" (SIMD) instructions.  (Called SSE, SSE2, AVX, for floating point.)\n",
    "- `LoopVectorization.jl` is the beginning of exploration of some of these optimizations"
   ]
  },
  {
   "cell_type": "code",
   "execution_count": 40,
   "id": "40cd6bf9",
   "metadata": {
    "slideshow": {
     "slide_type": "-"
    }
   },
   "outputs": [],
   "source": [
    "using LoopVectorization"
   ]
  },
  {
   "cell_type": "markdown",
   "id": "dd84b56a",
   "metadata": {
    "slideshow": {
     "slide_type": "slide"
    }
   },
   "source": [
    "### Massive changes to the code are required :-)"
   ]
  },
  {
   "cell_type": "code",
   "execution_count": 41,
   "id": "5952f9d4",
   "metadata": {
    "slideshow": {
     "slide_type": "-"
    }
   },
   "outputs": [
    {
     "data": {
      "text/plain": [
       "logistic! (generic function with 1 method)"
      ]
     },
     "execution_count": 41,
     "metadata": {},
     "output_type": "execute_result"
    }
   ],
   "source": [
    "function logistic!(y::AbstractArray{T}, x::AbstractArray{T}) where {T<:AbstractFloat}\n",
    "    @turbo @. y = inv(one(T) + exp(-x))\n",
    "end"
   ]
  },
  {
   "cell_type": "code",
   "execution_count": 42,
   "id": "50526ef8",
   "metadata": {
    "slideshow": {
     "slide_type": "-"
    }
   },
   "outputs": [
    {
     "data": {
      "text/plain": [
       "BenchmarkTools.Trial: 10000 samples with 227 evaluations.\n",
       " Range \u001b[90m(\u001b[39m\u001b[36m\u001b[1mmin\u001b[22m\u001b[39m … \u001b[35mmax\u001b[39m\u001b[90m):  \u001b[39m\u001b[36m\u001b[1m327.211 ns\u001b[22m\u001b[39m … \u001b[35m593.925 ns\u001b[39m  \u001b[90m┊\u001b[39m GC \u001b[90m(\u001b[39mmin … max\u001b[90m): \u001b[39m0.00% … 0.00%\n",
       " Time  \u001b[90m(\u001b[39m\u001b[34m\u001b[1mmedian\u001b[22m\u001b[39m\u001b[90m):     \u001b[39m\u001b[34m\u001b[1m327.634 ns               \u001b[22m\u001b[39m\u001b[90m┊\u001b[39m GC \u001b[90m(\u001b[39mmedian\u001b[90m):    \u001b[39m0.00%\n",
       " Time  \u001b[90m(\u001b[39m\u001b[32m\u001b[1mmean\u001b[22m\u001b[39m ± \u001b[32mσ\u001b[39m\u001b[90m):   \u001b[39m\u001b[32m\u001b[1m331.261 ns\u001b[22m\u001b[39m ± \u001b[32m  9.911 ns\u001b[39m  \u001b[90m┊\u001b[39m GC \u001b[90m(\u001b[39mmean ± σ\u001b[90m):  \u001b[39m0.00% ± 0.00%\n",
       "\n",
       "  \u001b[39m█\u001b[34m \u001b[39m\u001b[39m▅\u001b[39m▇\u001b[39m \u001b[39m \u001b[39m \u001b[39m \u001b[39m \u001b[32m \u001b[39m\u001b[39m \u001b[39m \u001b[39m \u001b[39m \u001b[39m \u001b[39m \u001b[39m \u001b[39m▃\u001b[39m▂\u001b[39m \u001b[39m▂\u001b[39m \u001b[39m \u001b[39m \u001b[39m \u001b[39m \u001b[39m \u001b[39m \u001b[39m \u001b[39m \u001b[39m \u001b[39m \u001b[39m \u001b[39m \u001b[39m \u001b[39m \u001b[39m \u001b[39m \u001b[39m \u001b[39m \u001b[39m \u001b[39m \u001b[39m \u001b[39m \u001b[39m \u001b[39m \u001b[39m \u001b[39m \u001b[39m \u001b[39m \u001b[39m \u001b[39m \u001b[39m \u001b[39m \u001b[39m \u001b[39m▄\u001b[39m \u001b[39m▁\u001b[39m▃\u001b[39m \u001b[39m \u001b[39m \u001b[39m▂\n",
       "  \u001b[39m█\u001b[34m▆\u001b[39m\u001b[39m█\u001b[39m█\u001b[39m▄\u001b[39m▁\u001b[39m▁\u001b[39m▁\u001b[39m▇\u001b[32m▆\u001b[39m\u001b[39m▆\u001b[39m▇\u001b[39m▅\u001b[39m▅\u001b[39m▆\u001b[39m▅\u001b[39m▅\u001b[39m█\u001b[39m█\u001b[39m▆\u001b[39m█\u001b[39m▆\u001b[39m▅\u001b[39m▆\u001b[39m▆\u001b[39m▆\u001b[39m▅\u001b[39m▆\u001b[39m▆\u001b[39m▆\u001b[39m▅\u001b[39m▆\u001b[39m▅\u001b[39m▆\u001b[39m▅\u001b[39m▅\u001b[39m▆\u001b[39m▅\u001b[39m▅\u001b[39m▅\u001b[39m▆\u001b[39m▅\u001b[39m▆\u001b[39m▄\u001b[39m▆\u001b[39m▅\u001b[39m▆\u001b[39m▄\u001b[39m▆\u001b[39m▆\u001b[39m▆\u001b[39m▆\u001b[39m▆\u001b[39m▇\u001b[39m▆\u001b[39m█\u001b[39m▆\u001b[39m█\u001b[39m█\u001b[39m▄\u001b[39m▅\u001b[39m \u001b[39m█\n",
       "  327 ns\u001b[90m        \u001b[39m\u001b[90mHistogram: \u001b[39m\u001b[90m\u001b[1mlog(\u001b[22m\u001b[39m\u001b[90mfrequency\u001b[39m\u001b[90m\u001b[1m)\u001b[22m\u001b[39m\u001b[90m by time\u001b[39m        356 ns \u001b[0m\u001b[1m<\u001b[22m\n",
       "\n",
       " Memory estimate\u001b[90m: \u001b[39m\u001b[33m0 bytes\u001b[39m, allocs estimate\u001b[90m: \u001b[39m\u001b[33m0\u001b[39m."
      ]
     },
     "execution_count": 42,
     "metadata": {},
     "output_type": "execute_result"
    }
   ],
   "source": [
    "@benchmark logistic!($yvals, $xvals)"
   ]
  },
  {
   "cell_type": "markdown",
   "id": "5c69e2ca",
   "metadata": {
    "slideshow": {
     "slide_type": "slide"
    }
   },
   "source": [
    "### Implementation methods and method instances"
   ]
  },
  {
   "cell_type": "code",
   "execution_count": 43,
   "id": "c1007b69",
   "metadata": {},
   "outputs": [
    {
     "data": {
      "text/html": [
       "# 1 method for generic function <b>logistic!</b>:<ul><li> logistic!(y::<b>AbstractArray{T, N} where N</b>, x::<b>AbstractArray{T, N} where N</b>)<i> where T<:AbstractFloat</i> in Main at In[41]:1</li> </ul>"
      ],
      "text/plain": [
       "# 1 method for generic function \"logistic!\":\n",
       "[1] logistic!(y::AbstractArray{T, N} where N, x::AbstractArray{T, N} where N) where T<:AbstractFloat in Main at In[41]:1"
      ]
     },
     "execution_count": 43,
     "metadata": {},
     "output_type": "execute_result"
    }
   ],
   "source": [
    "methods(logistic!)"
   ]
  },
  {
   "cell_type": "code",
   "execution_count": 44,
   "id": "2606a054",
   "metadata": {},
   "outputs": [
    {
     "data": {
      "text/plain": [
       "1-element Vector{Core.MethodInstance}:\n",
       " MethodInstance for logistic!(::\u001b[0mVector{Float64}, ::\u001b[0mVector{Float64})"
      ]
     },
     "execution_count": 44,
     "metadata": {},
     "output_type": "execute_result"
    }
   ],
   "source": [
    "methodinstances(logistic!)"
   ]
  },
  {
   "cell_type": "markdown",
   "id": "2a6ce57a",
   "metadata": {
    "slideshow": {
     "slide_type": "slide"
    }
   },
   "source": [
    "## How it's going"
   ]
  },
  {
   "cell_type": "code",
   "execution_count": 45,
   "id": "6e16e0c3",
   "metadata": {
    "slideshow": {
     "slide_type": "-"
    }
   },
   "outputs": [
    {
     "name": "stdout",
     "output_type": "stream",
     "text": [
      "\t\u001b[0m.text\n",
      "\u001b[90m; ┌ @ In[41]:1 within `logistic!'\u001b[39m\n",
      "\t\u001b[96m\u001b[1mpushq\u001b[22m\u001b[39m\t\u001b[0m%rax\n",
      "\t\u001b[96m\u001b[1mmovq\u001b[22m\u001b[39m\t\u001b[0m%rsi\u001b[0m, \u001b[33m(\u001b[39m\u001b[0m%rsp\u001b[33m)\u001b[39m\n",
      "\t\u001b[96m\u001b[1mmovb\u001b[22m\u001b[39m\t\u001b[33m$1\u001b[39m\u001b[0m, \u001b[0m%al\n",
      "\u001b[90m; │ @ In[41]:2 within `logistic!'\u001b[39m\n",
      "\u001b[90m; │┌ @ broadcast.jl:393 within `vmaterialize!'\u001b[39m\n",
      "\u001b[90m; ││┌ @ broadcast.jl:393 within `macro expansion'\u001b[39m\n",
      "\u001b[90m; │││┌ @ refvalue.jl:56 within `getindex'\u001b[39m\n",
      "\u001b[90m; ││││┌ @ Base.jl:33 within `getproperty'\u001b[39m\n",
      "\t\u001b[96m\u001b[1mtestb\u001b[22m\u001b[39m\t\u001b[0m%al\u001b[0m, \u001b[0m%al\n",
      "\t\u001b[96m\u001b[1mje\u001b[22m\u001b[39m\t\u001b[91mL1385\u001b[39m\n",
      "\u001b[90m; ││└└└\u001b[39m\n",
      "\u001b[90m; ││┌ @ Base.jl within `macro expansion'\u001b[39m\n",
      "\t\u001b[96m\u001b[1mmovq\u001b[22m\u001b[39m\t\u001b[33m(\u001b[39m\u001b[0m%rsi\u001b[33m)\u001b[39m\u001b[0m, \u001b[0m%rax\n",
      "\t\u001b[96m\u001b[1mmovq\u001b[22m\u001b[39m\t\u001b[33m8\u001b[39m\u001b[33m(\u001b[39m\u001b[0m%rsi\u001b[33m)\u001b[39m\u001b[0m, \u001b[0m%rcx\n",
      "\u001b[90m; ││└\u001b[39m\n",
      "\u001b[90m; ││┌ @ broadcast.jl:393 within `macro expansion'\u001b[39m\n",
      "\u001b[90m; │││┌ @ stridedpointers.jl:91 within `stridedpointer_preserve'\u001b[39m\n",
      "\u001b[90m; ││││┌ @ stridedpointers.jl:40 within `memory_reference' @ stridedpointers.jl:42\u001b[39m\n",
      "\u001b[90m; │││││┌ @ abstractarray.jl:1116 within `pointer'\u001b[39m\n",
      "\u001b[90m; ││││││┌ @ pointer.jl:65 within `unsafe_convert'\u001b[39m\n",
      "\t\u001b[96m\u001b[1mmovq\u001b[22m\u001b[39m\t\u001b[33m(\u001b[39m\u001b[0m%rax\u001b[33m)\u001b[39m\u001b[0m, \u001b[0m%rdx\n",
      "\u001b[90m; │││└└└└\u001b[39m\n",
      "\u001b[90m; │││┌ @ abstractarray.jl:89 within `axes'\u001b[39m\n",
      "\u001b[90m; ││││┌ @ array.jl:133 within `size'\u001b[39m\n",
      "\t\u001b[96m\u001b[1mmovq\u001b[22m\u001b[39m\t\u001b[33m24\u001b[39m\u001b[33m(\u001b[39m\u001b[0m%rax\u001b[33m)\u001b[39m\u001b[0m, \u001b[0m%r8\n",
      "\u001b[90m; │││└└\u001b[39m\n",
      "\u001b[90m; │││┌ @ stridedpointers.jl:91 within `stridedpointer_preserve'\u001b[39m\n",
      "\u001b[90m; ││││┌ @ broadcast.jl:99 within `memory_reference' @ stridedpointers.jl:40 @ stridedpointers.jl:42\u001b[39m\n",
      "\u001b[90m; │││││┌ @ abstractarray.jl:1116 within `pointer'\u001b[39m\n",
      "\u001b[90m; ││││││┌ @ pointer.jl:65 within `unsafe_convert'\u001b[39m\n",
      "\t\u001b[96m\u001b[1mmovq\u001b[22m\u001b[39m\t\u001b[33m(\u001b[39m\u001b[0m%rcx\u001b[33m)\u001b[39m\u001b[0m, \u001b[0m%rdi\n",
      "\t\u001b[96m\u001b[1mmovabsq\u001b[22m\u001b[39m\t\u001b[33m$9223372036854775792\u001b[39m\u001b[0m, \u001b[0m%r10      \u001b[90m# imm = 0x7FFFFFFFFFFFFFF0\u001b[39m\n",
      "\u001b[90m; │││└└└└\u001b[39m\n",
      "\u001b[90m; │││┌ @ reconstruct_loopset.jl:711 within `_turbo_!'\u001b[39m\n",
      "\u001b[90m; ││││┌ @ reconstruct_loopset.jl:711 within `macro expansion'\u001b[39m\n",
      "\u001b[90m; │││││┌ @ graphs.jl:206 within `vcmpendzs'\u001b[39m\n",
      "\u001b[90m; ││││││┌ @ operators.jl:204 within `!='\u001b[39m\n",
      "\u001b[90m; │││││││┌ @ promotion.jl:410 within `=='\u001b[39m\n",
      "\t\u001b[96m\u001b[1mandq\u001b[22m\u001b[39m\t\u001b[0m%r8\u001b[0m, \u001b[0m%r10\n",
      "\u001b[90m; │││││└└└\u001b[39m\n",
      "\t\u001b[96m\u001b[1mje\u001b[22m\u001b[39m\t\u001b[91mL571\u001b[39m\n",
      "\u001b[90m; ││││└\u001b[39m\n",
      "\u001b[90m; ││││┌ @ reconstruct_loopset.jl within `macro expansion'\u001b[39m\n",
      "\t\u001b[96m\u001b[1mxorl\u001b[22m\u001b[39m\t\u001b[0m%ecx\u001b[0m, \u001b[0m%ecx\n",
      "\t\u001b[96m\u001b[1mmovabsq\u001b[22m\u001b[39m\t\u001b[93m$.rodata.cst8\u001b[39m\u001b[0m, \u001b[0m%rsi\n",
      "\t\u001b[96m\u001b[1mvbroadcastsd\u001b[22m\u001b[39m\t\u001b[33m(\u001b[39m\u001b[0m%rsi\u001b[33m)\u001b[39m\u001b[0m, \u001b[0m%zmm0\n",
      "\t\u001b[96m\u001b[1mmovabsq\u001b[22m\u001b[39m\t\u001b[33m$140234080550224\u001b[39m\u001b[0m, \u001b[0m%rsi          \u001b[90m# imm = 0x7F8ACA8E7D50\u001b[39m\n",
      "\t\u001b[96m\u001b[1mvbroadcastsd\u001b[22m\u001b[39m\t\u001b[33m(\u001b[39m\u001b[0m%rsi\u001b[33m)\u001b[39m\u001b[0m, \u001b[0m%zmm1\n",
      "\t\u001b[96m\u001b[1mmovabsq\u001b[22m\u001b[39m\t\u001b[33m$140234080550232\u001b[39m\u001b[0m, \u001b[0m%rsi          \u001b[90m# imm = 0x7F8ACA8E7D58\u001b[39m\n",
      "\t\u001b[96m\u001b[1mvbroadcastsd\u001b[22m\u001b[39m\t\u001b[33m(\u001b[39m\u001b[0m%rsi\u001b[33m)\u001b[39m\u001b[0m, \u001b[0m%zmm2\n",
      "\t\u001b[96m\u001b[1mmovabsq\u001b[22m\u001b[39m\t\u001b[33m$140234080550240\u001b[39m\u001b[0m, \u001b[0m%rsi          \u001b[90m# imm = 0x7F8ACA8E7D60\u001b[39m\n",
      "\t\u001b[96m\u001b[1mvbroadcastsd\u001b[22m\u001b[39m\t\u001b[33m(\u001b[39m\u001b[0m%rsi\u001b[33m)\u001b[39m\u001b[0m, \u001b[0m%zmm3\n",
      "\t\u001b[96m\u001b[1mmovabsq\u001b[22m\u001b[39m\t\u001b[33m$140234080550248\u001b[39m\u001b[0m, \u001b[0m%rsi          \u001b[90m# imm = 0x7F8ACA8E7D68\u001b[39m\n",
      "\t\u001b[96m\u001b[1mvbroadcastsd\u001b[22m\u001b[39m\t\u001b[33m(\u001b[39m\u001b[0m%rsi\u001b[33m)\u001b[39m\u001b[0m, \u001b[0m%zmm4\n",
      "\t\u001b[96m\u001b[1mmovabsq\u001b[22m\u001b[39m\t\u001b[33m$140234080550256\u001b[39m\u001b[0m, \u001b[0m%rsi          \u001b[90m# imm = 0x7F8ACA8E7D70\u001b[39m\n",
      "\t\u001b[96m\u001b[1mvbroadcastsd\u001b[22m\u001b[39m\t\u001b[33m(\u001b[39m\u001b[0m%rsi\u001b[33m)\u001b[39m\u001b[0m, \u001b[0m%zmm5\n",
      "\t\u001b[96m\u001b[1mmovabsq\u001b[22m\u001b[39m\t\u001b[33m$140234080550264\u001b[39m\u001b[0m, \u001b[0m%rsi          \u001b[90m# imm = 0x7F8ACA8E7D78\u001b[39m\n",
      "\t\u001b[96m\u001b[1mvbroadcastsd\u001b[22m\u001b[39m\t\u001b[33m(\u001b[39m\u001b[0m%rsi\u001b[33m)\u001b[39m\u001b[0m, \u001b[0m%zmm6\n",
      "\t\u001b[96m\u001b[1mmovabsq\u001b[22m\u001b[39m\t\u001b[33m$140234080550272\u001b[39m\u001b[0m, \u001b[0m%rsi          \u001b[90m# imm = 0x7F8ACA8E7D80\u001b[39m\n",
      "\t\u001b[96m\u001b[1mvbroadcastsd\u001b[22m\u001b[39m\t\u001b[33m(\u001b[39m\u001b[0m%rsi\u001b[33m)\u001b[39m\u001b[0m, \u001b[0m%zmm7\n",
      "\t\u001b[96m\u001b[1mmovabsq\u001b[22m\u001b[39m\t\u001b[33m$140234080550280\u001b[39m\u001b[0m, \u001b[0m%rsi          \u001b[90m# imm = 0x7F8ACA8E7D88\u001b[39m\n",
      "\t\u001b[96m\u001b[1mvbroadcastsd\u001b[22m\u001b[39m\t\u001b[33m(\u001b[39m\u001b[0m%rsi\u001b[33m)\u001b[39m\u001b[0m, \u001b[0m%zmm8\n",
      "\t\u001b[96m\u001b[1mmovabsq\u001b[22m\u001b[39m\t\u001b[33m$140234080550288\u001b[39m\u001b[0m, \u001b[0m%rsi          \u001b[90m# imm = 0x7F8ACA8E7D90\u001b[39m\n",
      "\t\u001b[96m\u001b[1mvbroadcastsd\u001b[22m\u001b[39m\t\u001b[33m(\u001b[39m\u001b[0m%rsi\u001b[33m)\u001b[39m\u001b[0m, \u001b[0m%zmm9\n",
      "\t\u001b[96m\u001b[1mmovabsq\u001b[22m\u001b[39m\t\u001b[93m$.rodata\u001b[39m\u001b[0m, \u001b[0m%rsi\n",
      "\t\u001b[96m\u001b[1mvmovapd\u001b[22m\u001b[39m\t\u001b[33m(\u001b[39m\u001b[0m%rsi\u001b[33m)\u001b[39m\u001b[0m, \u001b[0m%zmm10\n",
      "\t\u001b[96m\u001b[1mmovabsq\u001b[22m\u001b[39m\t\u001b[33m$140234080550400\u001b[39m\u001b[0m, \u001b[0m%rsi          \u001b[90m# imm = 0x7F8ACA8E7E00\u001b[39m\n",
      "\t\u001b[96m\u001b[1mvmovapd\u001b[22m\u001b[39m\t\u001b[33m(\u001b[39m\u001b[0m%rsi\u001b[33m)\u001b[39m\u001b[0m, \u001b[0m%zmm11\n",
      "\t\u001b[96m\u001b[1mmovabsq\u001b[22m\u001b[39m\t\u001b[33m$140234080550296\u001b[39m\u001b[0m, \u001b[0m%rsi          \u001b[90m# imm = 0x7F8ACA8E7D98\u001b[39m\n",
      "\t\u001b[96m\u001b[1mvbroadcastsd\u001b[22m\u001b[39m\t\u001b[33m(\u001b[39m\u001b[0m%rsi\u001b[33m)\u001b[39m\u001b[0m, \u001b[0m%zmm12\n",
      "\t\u001b[96m\u001b[1mmovabsq\u001b[22m\u001b[39m\t\u001b[33m$140234080550304\u001b[39m\u001b[0m, \u001b[0m%rsi          \u001b[90m# imm = 0x7F8ACA8E7DA0\u001b[39m\n",
      "\t\u001b[96m\u001b[1mvbroadcastsd\u001b[22m\u001b[39m\t\u001b[33m(\u001b[39m\u001b[0m%rsi\u001b[33m)\u001b[39m\u001b[0m, \u001b[0m%zmm13\n",
      "\t\u001b[96m\u001b[1mnopw\u001b[22m\u001b[39m\t\u001b[0m%cs\u001b[0m:\u001b[33m(\u001b[39m\u001b[0m%rax\u001b[0m,\u001b[0m%rax\u001b[33m)\u001b[39m\n",
      "\u001b[90m; ││││└\u001b[39m\n",
      "\u001b[90m; ││││┌ @ reconstruct_loopset.jl:711 within `macro expansion'\u001b[39m\n",
      "\u001b[90m; │││││┌ @ memory.jl:415 within `_vload'\u001b[39m\n",
      "\u001b[90m; ││││││┌ @ memory.jl:324 within `_vload_unroll'\u001b[39m\n",
      "\u001b[90m; │││││││┌ @ memory.jl:44 within `macro expansion'\u001b[39m\n",
      "\u001b[90m; ││││││││┌ @ stridedpointers.jl:191 within `_vload'\u001b[39m\n",
      "\u001b[90m; │││││││││┌ @ memory_addr.jl:631 within `__vload'\u001b[39m\n",
      "\u001b[90m; ││││││││││┌ @ memory_addr.jl:631 within `macro expansion'\u001b[39m\n",
      "\u001b[91mL288:\u001b[39m\n",
      "\t\u001b[96m\u001b[1mvmovupd\u001b[22m\u001b[39m\t\u001b[33m(\u001b[39m\u001b[0m%rdi\u001b[0m,\u001b[0m%rcx\u001b[0m,\u001b[33m8\u001b[39m\u001b[33m)\u001b[39m\u001b[0m, \u001b[0m%zmm14\n",
      "\t\u001b[96m\u001b[1mvmovupd\u001b[22m\u001b[39m\t\u001b[33m64\u001b[39m\u001b[33m(\u001b[39m\u001b[0m%rdi\u001b[0m,\u001b[0m%rcx\u001b[0m,\u001b[33m8\u001b[39m\u001b[33m)\u001b[39m\u001b[0m, \u001b[0m%zmm15\n",
      "\u001b[90m; │││││└└└└└└\u001b[39m\n",
      "\u001b[90m; │││││┌ @ exp.jl:379 within `exp'\u001b[39m\n",
      "\u001b[90m; ││││││┌ @ exp.jl:383 within `vexp' @ exp.jl:372\u001b[39m\n",
      "\u001b[90m; │││││││┌ @ exp.jl:355 within `vexp_avx512'\u001b[39m\n",
      "\u001b[90m; ││││││││┌ @ base_defs.jl:90 within `*'\u001b[39m\n",
      "\u001b[90m; │││││││││┌ @ fmap.jl:62 within `vmul'\u001b[39m\n",
      "\u001b[90m; ││││││││││┌ @ fmap.jl:9 within `fmap'\u001b[39m\n",
      "\u001b[90m; │││││││││││┌ @ binary_ops.jl:93 within `vmul'\u001b[39m\n",
      "\u001b[90m; ││││││││││││┌ @ binary_ops.jl:93 within `macro expansion'\u001b[39m\n",
      "\t\u001b[96m\u001b[1mvmulpd\u001b[22m\u001b[39m\t\u001b[0m%zmm0\u001b[0m, \u001b[0m%zmm14\u001b[0m, \u001b[0m%zmm16\n",
      "\u001b[90m; │││││││││││└└\u001b[39m\n",
      "\u001b[90m; │││││││││││ @ fmap.jl:9 within `fmap' @ fmap.jl:6\u001b[39m\n",
      "\u001b[90m; │││││││││││┌ @ binary_ops.jl:93 within `vmul'\u001b[39m\n",
      "\u001b[90m; ││││││││││││┌ @ binary_ops.jl:93 within `macro expansion'\u001b[39m\n",
      "\t\u001b[96m\u001b[1mvmulpd\u001b[22m\u001b[39m\t\u001b[0m%zmm0\u001b[0m, \u001b[0m%zmm15\u001b[0m, \u001b[0m%zmm17\n",
      "\u001b[90m; ││││││││└└└└└\u001b[39m\n",
      "\u001b[90m; ││││││││┌ @ base_defs.jl:47 within `round'\u001b[39m\n",
      "\u001b[90m; │││││││││┌ @ fmap.jl:54 within `vround'\u001b[39m\n",
      "\u001b[90m; ││││││││││┌ @ fmap.jl:3 within `fmap'\u001b[39m\n",
      "\u001b[90m; │││││││││││┌ @ intrin_funcs.jl:101 within `vround'\u001b[39m\n",
      "\u001b[90m; ││││││││││││┌ @ intrin_funcs.jl:101 within `macro expansion'\u001b[39m\n",
      "\t\u001b[96m\u001b[1mvrndscalepd\u001b[22m\u001b[39m\t\u001b[33m$12\u001b[39m\u001b[0m, \u001b[0m%zmm16\u001b[0m, \u001b[0m%zmm16\n",
      "\u001b[90m; │││││││││││└└\u001b[39m\n",
      "\u001b[90m; │││││││││││ @ fmap.jl:3 within `fmap' @ fmap.jl:2\u001b[39m\n",
      "\u001b[90m; │││││││││││┌ @ intrin_funcs.jl:101 within `vround'\u001b[39m\n",
      "\u001b[90m; ││││││││││││┌ @ intrin_funcs.jl:101 within `macro expansion'\u001b[39m\n",
      "\t\u001b[96m\u001b[1mvrndscalepd\u001b[22m\u001b[39m\t\u001b[33m$12\u001b[39m\u001b[0m, \u001b[0m%zmm17\u001b[0m, \u001b[0m%zmm17\n",
      "\u001b[90m; │││││││└└└└└└\u001b[39m\n",
      "\u001b[90m; │││││││┌ @ exp.jl:356 within `vexp_avx512'\u001b[39m\n",
      "\u001b[90m; ││││││││┌ @ base_defs.jl:205 within `muladd'\u001b[39m\n",
      "\u001b[90m; │││││││││┌ @ fmap.jl:126 within `vmuladd'\u001b[39m\n",
      "\u001b[90m; ││││││││││┌ @ fmap.jl:18 within `fmap'\u001b[39m\n",
      "\u001b[90m; │││││││││││┌ @ fmap.jl:18 within `macro expansion'\u001b[39m\n",
      "\u001b[90m; ││││││││││││┌ @ intrin_funcs.jl:255 within `vmuladd'\u001b[39m\n",
      "\u001b[90m; │││││││││││││┌ @ intrin_funcs.jl:255 within `macro expansion'\u001b[39m\n",
      "\t\u001b[96m\u001b[1mvfnmadd231pd\u001b[22m\u001b[39m\t\u001b[0m%zmm1\u001b[0m, \u001b[0m%zmm16\u001b[0m, \u001b[0m%zmm14   \u001b[90m# zmm14 = -(zmm16 * zmm1) + zmm14\u001b[39m\n",
      "\t\u001b[96m\u001b[1mvfnmadd231pd\u001b[22m\u001b[39m\t\u001b[0m%zmm1\u001b[0m, \u001b[0m%zmm17\u001b[0m, \u001b[0m%zmm15   \u001b[90m# zmm15 = -(zmm17 * zmm1) + zmm15\u001b[39m\n",
      "\u001b[90m; │││││││└└└└└└└\u001b[39m\n",
      "\u001b[90m; │││││││┌ @ exp.jl:357 within `vexp_avx512'\u001b[39m\n",
      "\u001b[90m; ││││││││┌ @ base_defs.jl:205 within `muladd'\u001b[39m\n",
      "\u001b[90m; │││││││││┌ @ fmap.jl:126 within `vmuladd'\u001b[39m\n",
      "\u001b[90m; ││││││││││┌ @ fmap.jl:18 within `fmap'\u001b[39m\n",
      "\u001b[90m; │││││││││││┌ @ fmap.jl:18 within `macro expansion'\u001b[39m\n",
      "\u001b[90m; ││││││││││││┌ @ intrin_funcs.jl:255 within `vmuladd'\u001b[39m\n",
      "\u001b[90m; │││││││││││││┌ @ intrin_funcs.jl:255 within `macro expansion'\u001b[39m\n",
      "\t\u001b[96m\u001b[1mvfmsub231pd\u001b[22m\u001b[39m\t\u001b[0m%zmm2\u001b[0m, \u001b[0m%zmm16\u001b[0m, \u001b[0m%zmm14   \u001b[90m# zmm14 = (zmm16 * zmm2) - zmm14\u001b[39m\n",
      "\t\u001b[96m\u001b[1mvfmsub231pd\u001b[22m\u001b[39m\t\u001b[0m%zmm2\u001b[0m, \u001b[0m%zmm17\u001b[0m, \u001b[0m%zmm15   \u001b[90m# zmm15 = (zmm17 * zmm2) - zmm15\u001b[39m\n",
      "\u001b[90m; │││││││└└└└└└└\u001b[39m\n",
      "\u001b[90m; │││││││┌ @ exp.jl:358 within `vexp_avx512'\u001b[39m\n",
      "\u001b[90m; ││││││││┌ @ base_defs.jl:151 within `trunc'\u001b[39m\n",
      "\u001b[90m; │││││││││┌ @ intrin_funcs.jl:113 within `vtrunc'\u001b[39m\n",
      "\u001b[90m; ││││││││││┌ @ conversion.jl:98 within `vconvert' @ conversion.jl:74\u001b[39m\n",
      "\u001b[90m; │││││││││││┌ @ fmap.jl:11 within `fmap'\u001b[39m\n",
      "\u001b[90m; ││││││││││││┌ @ conversion.jl:33 within `vconvert'\u001b[39m\n",
      "\u001b[90m; │││││││││││││┌ @ conversion.jl:12 within `macro expansion'\u001b[39m\n",
      "\t\u001b[96m\u001b[1mvcvttpd2qq\u001b[22m\u001b[39m\t\u001b[0m%zmm16\u001b[0m, \u001b[0m%zmm18\n",
      "\u001b[90m; ││││││││││││└└\u001b[39m\n",
      "\u001b[90m; ││││││││││││ @ fmap.jl:11 within `fmap' @ fmap.jl:8\u001b[39m\n",
      "\u001b[90m; ││││││││││││┌ @ conversion.jl:33 within `vconvert'\u001b[39m\n",
      "\u001b[90m; │││││││││││││┌ @ conversion.jl:12 within `macro expansion'\u001b[39m\n",
      "\t\u001b[96m\u001b[1mvcvttpd2qq\u001b[22m\u001b[39m\t\u001b[0m%zmm17\u001b[0m, \u001b[0m%zmm19\n",
      "\u001b[90m; ││││││││└└└└└└\u001b[39m\n",
      "\u001b[90m; ││││││││┌ @ base_defs.jl:90 within `&'\u001b[39m\n",
      "\u001b[90m; │││││││││┌ @ fmap.jl:62 within `vand'\u001b[39m\n",
      "\u001b[90m; ││││││││││┌ @ fmap.jl:9 within `fmap'\u001b[39m\n",
      "\u001b[90m; │││││││││││┌ @ binary_ops.jl:83 within `vand'\u001b[39m\n",
      "\u001b[90m; ││││││││││││┌ @ binary_ops.jl:83 within `macro expansion'\u001b[39m\n",
      "\t\u001b[96m\u001b[1mvandpd\u001b[22m\u001b[39m\t\u001b[0m%zmm3\u001b[0m, \u001b[0m%zmm18\u001b[0m, \u001b[0m%zmm18\n",
      "\u001b[90m; │││││││││││└└\u001b[39m\n",
      "\u001b[90m; │││││││││││ @ fmap.jl:9 within `fmap' @ fmap.jl:6\u001b[39m\n",
      "\u001b[90m; │││││││││││┌ @ binary_ops.jl:83 within `vand'\u001b[39m\n",
      "\u001b[90m; ││││││││││││┌ @ binary_ops.jl:83 within `macro expansion'\u001b[39m\n",
      "\t\u001b[96m\u001b[1mvandpd\u001b[22m\u001b[39m\t\u001b[0m%zmm3\u001b[0m, \u001b[0m%zmm19\u001b[0m, \u001b[0m%zmm19\n",
      "\u001b[90m; │││││││└└└└└└\u001b[39m\n",
      "\u001b[90m; │││││││┌ @ exp.jl:359 within `vexp_avx512'\u001b[39m\n",
      "\u001b[90m; ││││││││┌ @ exp.jl:247 within `expm1b_kernel_16'\u001b[39m\n",
      "\u001b[90m; │││││││││┌ @ base_defs.jl:238 within `vmuladd_fast' @ fmap.jl:126\u001b[39m\n",
      "\u001b[90m; ││││││││││┌ @ fmap.jl:18 within `fmap'\u001b[39m\n",
      "\u001b[90m; │││││││││││┌ @ fmap.jl:18 within `macro expansion'\u001b[39m\n",
      "\u001b[90m; ││││││││││││┌ @ intrin_funcs.jl:255 within `vmuladd_fast'\u001b[39m\n",
      "\u001b[90m; │││││││││││││┌ @ intrin_funcs.jl:255 within `macro expansion'\u001b[39m\n",
      "\t\u001b[96m\u001b[1mvmovapd\u001b[22m\u001b[39m\t\u001b[0m%zmm5\u001b[0m, \u001b[0m%zmm20\n",
      "\t\u001b[96m\u001b[1mvfmadd213pd\u001b[22m\u001b[39m\t\u001b[0m%zmm4\u001b[0m, \u001b[0m%zmm14\u001b[0m, \u001b[0m%zmm20   \u001b[90m# zmm20 = (zmm14 * zmm20) + zmm4\u001b[39m\n",
      "\t\u001b[96m\u001b[1mvmovapd\u001b[22m\u001b[39m\t\u001b[0m%zmm5\u001b[0m, \u001b[0m%zmm21\n",
      "\t\u001b[96m\u001b[1mvfmadd213pd\u001b[22m\u001b[39m\t\u001b[0m%zmm4\u001b[0m, \u001b[0m%zmm15\u001b[0m, \u001b[0m%zmm21   \u001b[90m# zmm21 = (zmm15 * zmm21) + zmm4\u001b[39m\n",
      "\t\u001b[96m\u001b[1mvfmadd213pd\u001b[22m\u001b[39m\t\u001b[0m%zmm6\u001b[0m, \u001b[0m%zmm14\u001b[0m, \u001b[0m%zmm20   \u001b[90m# zmm20 = (zmm14 * zmm20) + zmm6\u001b[39m\n",
      "\t\u001b[96m\u001b[1mvfmadd213pd\u001b[22m\u001b[39m\t\u001b[0m%zmm6\u001b[0m, \u001b[0m%zmm15\u001b[0m, \u001b[0m%zmm21   \u001b[90m# zmm21 = (zmm15 * zmm21) + zmm6\u001b[39m\n",
      "\t\u001b[96m\u001b[1mvfmadd213pd\u001b[22m\u001b[39m\t\u001b[0m%zmm7\u001b[0m, \u001b[0m%zmm14\u001b[0m, \u001b[0m%zmm20   \u001b[90m# zmm20 = (zmm14 * zmm20) + zmm7\u001b[39m\n",
      "\t\u001b[96m\u001b[1mvfmadd213pd\u001b[22m\u001b[39m\t\u001b[0m%zmm7\u001b[0m, \u001b[0m%zmm15\u001b[0m, \u001b[0m%zmm21   \u001b[90m# zmm21 = (zmm15 * zmm21) + zmm7\u001b[39m\n",
      "\t\u001b[96m\u001b[1mvfmadd213pd\u001b[22m\u001b[39m\t\u001b[0m%zmm8\u001b[0m, \u001b[0m%zmm14\u001b[0m, \u001b[0m%zmm20   \u001b[90m# zmm20 = (zmm14 * zmm20) + zmm8\u001b[39m\n",
      "\t\u001b[96m\u001b[1mvfmadd213pd\u001b[22m\u001b[39m\t\u001b[0m%zmm8\u001b[0m, \u001b[0m%zmm15\u001b[0m, \u001b[0m%zmm21   \u001b[90m# zmm21 = (zmm15 * zmm21) + zmm8\u001b[39m\n",
      "\t\u001b[96m\u001b[1mvfmadd213pd\u001b[22m\u001b[39m\t\u001b[0m%zmm9\u001b[0m, \u001b[0m%zmm14\u001b[0m, \u001b[0m%zmm20   \u001b[90m# zmm20 = (zmm14 * zmm20) + zmm9\u001b[39m\n",
      "\t\u001b[96m\u001b[1mvfmadd213pd\u001b[22m\u001b[39m\t\u001b[0m%zmm9\u001b[0m, \u001b[0m%zmm15\u001b[0m, \u001b[0m%zmm21   \u001b[90m# zmm21 = (zmm15 * zmm21) + zmm9\u001b[39m\n",
      "\u001b[90m; │││││││││└└└└└\u001b[39m\n",
      "\u001b[90m; │││││││││┌ @ base_defs.jl:86 within `*'\u001b[39m\n",
      "\u001b[90m; ││││││││││┌ @ fmap.jl:62 within `vmul'\u001b[39m\n",
      "\u001b[90m; │││││││││││┌ @ fmap.jl:9 within `fmap'\u001b[39m\n",
      "\u001b[90m; ││││││││││││┌ @ binary_ops.jl:93 within `vmul'\u001b[39m\n",
      "\u001b[90m; │││││││││││││┌ @ binary_ops.jl:93 within `macro expansion'\u001b[39m\n",
      "\t\u001b[96m\u001b[1mvmulpd\u001b[22m\u001b[39m\t\u001b[0m%zmm20\u001b[0m, \u001b[0m%zmm14\u001b[0m, \u001b[0m%zmm14\n",
      "\u001b[90m; ││││││││││││└└\u001b[39m\n",
      "\u001b[90m; ││││││││││││ @ fmap.jl:9 within `fmap' @ fmap.jl:6\u001b[39m\n",
      "\u001b[90m; ││││││││││││┌ @ binary_ops.jl:93 within `vmul'\u001b[39m\n",
      "\u001b[90m; │││││││││││││┌ @ binary_ops.jl:93 within `macro expansion'\u001b[39m\n",
      "\t\u001b[96m\u001b[1mvmulpd\u001b[22m\u001b[39m\t\u001b[0m%zmm21\u001b[0m, \u001b[0m%zmm15\u001b[0m, \u001b[0m%zmm15\n",
      "\u001b[90m; │││││││└└└└└└└\u001b[39m\n",
      "\u001b[90m; │││││││┌ @ exp.jl:360 within `vexp_avx512'\u001b[39m\n",
      "\u001b[90m; ││││││││┌ @ exp.jl:105 within `vpermi2pd'\u001b[39m\n",
      "\u001b[90m; │││││││││┌ @ fmap.jl:18 within `fmap'\u001b[39m\n",
      "\u001b[90m; ││││││││││┌ @ fmap.jl:18 within `macro expansion'\u001b[39m\n",
      "\u001b[90m; │││││││││││┌ @ exp.jl:84 within `vpermi2pd'\u001b[39m\n",
      "\u001b[90m; ││││││││││││┌ @ exp.jl:84 within `macro expansion'\u001b[39m\n",
      "\t\u001b[96m\u001b[1mvpermi2pd\u001b[22m\u001b[39m\t\u001b[0m%zmm10\u001b[0m, \u001b[0m%zmm11\u001b[0m, \u001b[0m%zmm18\n",
      "\t\u001b[96m\u001b[1mvpermi2pd\u001b[22m\u001b[39m\t\u001b[0m%zmm10\u001b[0m, \u001b[0m%zmm11\u001b[0m, \u001b[0m%zmm19\n",
      "\u001b[90m; │││││││└└└└└└\u001b[39m\n",
      "\u001b[90m; │││││││┌ @ exp.jl:361 within `vexp_avx512'\u001b[39m\n",
      "\u001b[90m; ││││││││┌ @ intrin_funcs.jl:284 within `vfmadd'\u001b[39m\n",
      "\u001b[90m; │││││││││┌ @ intrin_funcs.jl:282 within `_vfmadd'\u001b[39m\n",
      "\u001b[90m; ││││││││││┌ @ fmap.jl:126 within `vfma'\u001b[39m\n",
      "\u001b[90m; │││││││││││┌ @ fmap.jl:18 within `fmap'\u001b[39m\n",
      "\u001b[90m; ││││││││││││┌ @ fmap.jl:18 within `macro expansion'\u001b[39m\n",
      "\u001b[90m; │││││││││││││┌ @ intrin_funcs.jl:255 within `vfma'\u001b[39m\n",
      "\u001b[90m; ││││││││││││││┌ @ intrin_funcs.jl:255 within `macro expansion'\u001b[39m\n",
      "\t\u001b[96m\u001b[1mvfmadd231pd\u001b[22m\u001b[39m\t\u001b[0m%zmm18\u001b[0m, \u001b[0m%zmm14\u001b[0m, \u001b[0m%zmm18  \u001b[90m# zmm18 = (zmm14 * zmm18) + zmm18\u001b[39m\n",
      "\t\u001b[96m\u001b[1mvfmadd231pd\u001b[22m\u001b[39m\t\u001b[0m%zmm19\u001b[0m, \u001b[0m%zmm15\u001b[0m, \u001b[0m%zmm19  \u001b[90m# zmm19 = (zmm15 * zmm19) + zmm19\u001b[39m\n",
      "\u001b[90m; │││││││└└└└└└└└\u001b[39m\n",
      "\u001b[90m; │││││││┌ @ exp.jl:362 within `vexp_avx512'\u001b[39m\n",
      "\u001b[90m; ││││││││┌ @ base_defs.jl:89 within `*'\u001b[39m\n",
      "\u001b[90m; │││││││││┌ @ fmap.jl:62 within `vmul'\u001b[39m\n",
      "\u001b[90m; ││││││││││┌ @ fmap.jl:9 within `fmap'\u001b[39m\n",
      "\u001b[90m; │││││││││││┌ @ binary_ops.jl:93 within `vmul'\u001b[39m\n",
      "\u001b[90m; ││││││││││││┌ @ binary_ops.jl:93 within `macro expansion'\u001b[39m\n",
      "\t\u001b[96m\u001b[1mvmulpd\u001b[22m\u001b[39m\t\u001b[0m%zmm12\u001b[0m, \u001b[0m%zmm16\u001b[0m, \u001b[0m%zmm14\n",
      "\u001b[90m; ││││││││└└└└└\u001b[39m\n",
      "\u001b[90m; ││││││││┌ @ exp.jl:101 within `vscalef'\u001b[39m\n",
      "\u001b[90m; │││││││││┌ @ fmap.jl:9 within `fmap'\u001b[39m\n",
      "\u001b[90m; ││││││││││┌ @ exp.jl:20 within `vscalef' @ exp.jl:25\u001b[39m\n",
      "\u001b[90m; │││││││││││┌ @ exp.jl:25 within `macro expansion'\u001b[39m\n",
      "\t\u001b[96m\u001b[1mvscalefpd\u001b[22m\u001b[39m\t\u001b[33m{\u001b[39m\u001b[95mrn-sae\u001b[39m\u001b[33m}\u001b[39m\u001b[0m, \u001b[0m%zmm14\u001b[0m, \u001b[0m%zmm18\u001b[0m, \u001b[0m%zmm14\n",
      "\u001b[90m; ││││││││└└└└\u001b[39m\n",
      "\u001b[90m; ││││││││┌ @ base_defs.jl:89 within `*'\u001b[39m\n",
      "\u001b[90m; │││││││││┌ @ fmap.jl:62 within `vmul'\u001b[39m\n",
      "\u001b[90m; ││││││││││┌ @ fmap.jl:9 within `fmap' @ fmap.jl:6\u001b[39m\n",
      "\u001b[90m; │││││││││││┌ @ binary_ops.jl:93 within `vmul'\u001b[39m\n",
      "\u001b[90m; ││││││││││││┌ @ binary_ops.jl:93 within `macro expansion'\u001b[39m\n",
      "\t\u001b[96m\u001b[1mvmulpd\u001b[22m\u001b[39m\t\u001b[0m%zmm12\u001b[0m, \u001b[0m%zmm17\u001b[0m, \u001b[0m%zmm15\n",
      "\u001b[90m; ││││││││└└└└└\u001b[39m\n",
      "\u001b[90m; ││││││││┌ @ exp.jl:101 within `vscalef'\u001b[39m\n",
      "\u001b[90m; │││││││││┌ @ fmap.jl:9 within `fmap' @ fmap.jl:6\u001b[39m\n",
      "\u001b[90m; ││││││││││┌ @ exp.jl:20 within `vscalef' @ exp.jl:25\u001b[39m\n",
      "\u001b[90m; │││││││││││┌ @ exp.jl:25 within `macro expansion'\u001b[39m\n",
      "\t\u001b[96m\u001b[1mvscalefpd\u001b[22m\u001b[39m\t\u001b[33m{\u001b[39m\u001b[95mrn-sae\u001b[39m\u001b[33m}\u001b[39m\u001b[0m, \u001b[0m%zmm15\u001b[0m, \u001b[0m%zmm19\u001b[0m, \u001b[0m%zmm15\n",
      "\u001b[90m; │││││└└└└└└└\u001b[39m\n",
      "\u001b[90m; │││││┌ @ base_defs.jl:89 within `add_fast'\u001b[39m\n",
      "\u001b[90m; ││││││┌ @ fmap.jl:62 within `vadd_fast'\u001b[39m\n",
      "\u001b[90m; │││││││┌ @ fmap.jl:9 within `fmap'\u001b[39m\n",
      "\u001b[90m; ││││││││┌ @ binary_ops.jl:94 within `vadd_fast'\u001b[39m\n",
      "\u001b[90m; │││││││││┌ @ binary_ops.jl:94 within `macro expansion'\u001b[39m\n",
      "\t\u001b[96m\u001b[1mvaddpd\u001b[22m\u001b[39m\t\u001b[0m%zmm13\u001b[0m, \u001b[0m%zmm14\u001b[0m, \u001b[0m%zmm14\n",
      "\u001b[90m; ││││││││└└\u001b[39m\n",
      "\u001b[90m; ││││││││ @ fmap.jl:9 within `fmap' @ fmap.jl:6\u001b[39m\n",
      "\u001b[90m; ││││││││┌ @ binary_ops.jl:94 within `vadd_fast'\u001b[39m\n",
      "\u001b[90m; │││││││││┌ @ binary_ops.jl:94 within `macro expansion'\u001b[39m\n",
      "\t\u001b[96m\u001b[1mvaddpd\u001b[22m\u001b[39m\t\u001b[0m%zmm13\u001b[0m, \u001b[0m%zmm15\u001b[0m, \u001b[0m%zmm15\n",
      "\u001b[90m; │││││└└└└└\u001b[39m\n",
      "\u001b[90m; │││││┌ @ unary_ops.jl:25 within `inv_fast'\u001b[39m\n",
      "\u001b[90m; ││││││┌ @ base_defs.jl:86 within `div_fast'\u001b[39m\n",
      "\u001b[90m; │││││││┌ @ intrin_funcs.jl:709 within `vfdiv_fast'\u001b[39m\n",
      "\u001b[90m; ││││││││┌ @ intrin_funcs.jl:678 within `vfdiv_afast'\u001b[39m\n",
      "\u001b[90m; │││││││││┌ @ fmap.jl:9 within `fmap'\u001b[39m\n",
      "\u001b[90m; ││││││││││┌ @ binary_ops.jl:94 within `vfdiv_fast'\u001b[39m\n",
      "\u001b[90m; │││││││││││┌ @ binary_ops.jl:94 within `macro expansion'\u001b[39m\n",
      "\t\u001b[96m\u001b[1mvdivpd\u001b[22m\u001b[39m\t\u001b[0m%zmm14\u001b[0m, \u001b[0m%zmm13\u001b[0m, \u001b[0m%zmm14\n",
      "\u001b[90m; ││││││││││└└\u001b[39m\n",
      "\u001b[90m; ││││││││││ @ fmap.jl:9 within `fmap' @ fmap.jl:6\u001b[39m\n",
      "\u001b[90m; ││││││││││┌ @ binary_ops.jl:94 within `vfdiv_fast'\u001b[39m\n",
      "\u001b[90m; │││││││││││┌ @ binary_ops.jl:94 within `macro expansion'\u001b[39m\n",
      "\t\u001b[96m\u001b[1mvdivpd\u001b[22m\u001b[39m\t\u001b[0m%zmm15\u001b[0m, \u001b[0m%zmm13\u001b[0m, \u001b[0m%zmm15\n",
      "\u001b[90m; │││││└└└└└└└\u001b[39m\n",
      "\u001b[90m; │││││┌ @ memory.jl:761 within `_vstore!'\u001b[39m\n",
      "\u001b[90m; ││││││┌ @ memory.jl:672 within `_vstore_unroll!'\u001b[39m\n",
      "\u001b[90m; │││││││┌ @ memory.jl:457 within `macro expansion'\u001b[39m\n",
      "\u001b[90m; ││││││││┌ @ stridedpointers.jl:229 within `_vstore!'\u001b[39m\n",
      "\u001b[90m; │││││││││┌ @ memory_addr.jl:810 within `__vstore!'\u001b[39m\n",
      "\u001b[90m; ││││││││││┌ @ memory_addr.jl:810 within `macro expansion'\u001b[39m\n",
      "\t\u001b[96m\u001b[1mvmovupd\u001b[22m\u001b[39m\t\u001b[0m%zmm14\u001b[0m, \u001b[33m(\u001b[39m\u001b[0m%rdx\u001b[0m,\u001b[0m%rcx\u001b[0m,\u001b[33m8\u001b[39m\u001b[33m)\u001b[39m\n",
      "\t\u001b[96m\u001b[1mvmovupd\u001b[22m\u001b[39m\t\u001b[0m%zmm15\u001b[0m, \u001b[33m64\u001b[39m\u001b[33m(\u001b[39m\u001b[0m%rdx\u001b[0m,\u001b[0m%rcx\u001b[0m,\u001b[33m8\u001b[39m\u001b[33m)\u001b[39m\n",
      "\u001b[90m; │││││└└└└└└\u001b[39m\n",
      "\u001b[90m; │││││┌ @ static.jl:40 within `vadd_nsw' @ binary_ops.jl:38\u001b[39m\n",
      "\u001b[90m; ││││││┌ @ binary_ops.jl:38 within `macro expansion'\u001b[39m\n",
      "\t\u001b[96m\u001b[1maddq\u001b[22m\u001b[39m\t\u001b[33m$16\u001b[39m\u001b[0m, \u001b[0m%rcx\n",
      "\u001b[90m; │││││└└\u001b[39m\n",
      "\u001b[90m; │││││┌ @ graphs.jl:206 within `vcmpendzs'\u001b[39m\n",
      "\u001b[90m; ││││││┌ @ operators.jl:204 within `!='\u001b[39m\n",
      "\u001b[90m; │││││││┌ @ promotion.jl:410 within `=='\u001b[39m\n",
      "\t\u001b[96m\u001b[1mcmpq\u001b[22m\u001b[39m\t\u001b[0m%rcx\u001b[0m, \u001b[0m%r10\n",
      "\u001b[90m; │││││└└└\u001b[39m\n",
      "\t\u001b[96m\u001b[1mjne\u001b[22m\u001b[39m\t\u001b[91mL288\u001b[39m\n",
      "\u001b[90m; │││││┌ @ graphs.jl:201 within `cmpend'\u001b[39m\n",
      "\u001b[90m; ││││││┌ @ int.jl:83 within `<'\u001b[39m\n",
      "\t\u001b[96m\u001b[1mcmpq\u001b[22m\u001b[39m\t\u001b[0m%r8\u001b[0m, \u001b[0m%r10\n",
      "\u001b[90m; │││││└└\u001b[39m\n",
      "\t\u001b[96m\u001b[1mjb\u001b[22m\u001b[39m\t\u001b[91mL579\u001b[39m\n",
      "\u001b[90m; │└└└└\u001b[39m\n",
      "\u001b[91mL566:\u001b[39m\n",
      "\t\u001b[96m\u001b[1mpopq\u001b[22m\u001b[39m\t\u001b[0m%rcx\n",
      "\t\u001b[96m\u001b[1mvzeroupper\u001b[22m\u001b[39m\n",
      "\t\u001b[96m\u001b[1mretq\u001b[22m\u001b[39m\n",
      "\u001b[90m; │ @ In[41] within `logistic!'\u001b[39m\n",
      "\u001b[91mL571:\u001b[39m\n",
      "\t\u001b[96m\u001b[1mxorl\u001b[22m\u001b[39m\t\u001b[0m%r10d\u001b[0m, \u001b[0m%r10d\n",
      "\u001b[90m; │ @ In[41]:2 within `logistic!'\u001b[39m\n",
      "\u001b[90m; │┌ @ broadcast.jl:393 within `vmaterialize!'\u001b[39m\n",
      "\u001b[90m; ││┌ @ broadcast.jl:393 within `macro expansion'\u001b[39m\n",
      "\u001b[90m; │││┌ @ reconstruct_loopset.jl:711 within `_turbo_!'\u001b[39m\n",
      "\u001b[90m; ││││┌ @ reconstruct_loopset.jl:711 within `macro expansion'\u001b[39m\n",
      "\u001b[90m; │││││┌ @ graphs.jl:201 within `cmpend'\u001b[39m\n",
      "\u001b[90m; ││││││┌ @ int.jl:83 within `<'\u001b[39m\n",
      "\t\u001b[96m\u001b[1mcmpq\u001b[22m\u001b[39m\t\u001b[0m%r8\u001b[0m, \u001b[0m%r10\n",
      "\u001b[90m; │││││└└\u001b[39m\n",
      "\t\u001b[96m\u001b[1mjae\u001b[22m\u001b[39m\t\u001b[91mL566\u001b[39m\n",
      "\u001b[90m; │││││┌ @ masks.jl:279 within `mask'\u001b[39m\n",
      "\u001b[90m; ││││││┌ @ masks.jl:247 within `_mask'\u001b[39m\n",
      "\u001b[90m; │││││││┌ @ masks.jl:253 within `macro expansion'\u001b[39m\n",
      "\u001b[90m; ││││││││┌ @ int.jl:466 within `>>>' @ int.jl:458\u001b[39m\n",
      "\u001b[91mL579:\u001b[39m\n",
      "\t\u001b[96m\u001b[1mmovl\u001b[22m\u001b[39m\t\u001b[0m%r8d\u001b[0m, \u001b[0m%ecx\n",
      "\t\u001b[96m\u001b[1mnegb\u001b[22m\u001b[39m\t\u001b[0m%cl\n",
      "\t\u001b[96m\u001b[1mandb\u001b[22m\u001b[39m\t\u001b[33m$7\u001b[39m\u001b[0m, \u001b[0m%cl\n",
      "\t\u001b[96m\u001b[1mmovb\u001b[22m\u001b[39m\t\u001b[33m$-1\u001b[39m\u001b[0m, \u001b[0m%r9b\n",
      "\t\u001b[96m\u001b[1mshrb\u001b[22m\u001b[39m\t\u001b[0m%cl\u001b[0m, \u001b[0m%r9b\n",
      "\u001b[90m; │││││└└└└\u001b[39m\n",
      "\u001b[90m; │││││┌ @ static.jl:41 within `vsub_nsw' @ binary_ops.jl:38\u001b[39m\n",
      "\u001b[90m; ││││││┌ @ binary_ops.jl:38 within `macro expansion'\u001b[39m\n",
      "\t\u001b[96m\u001b[1maddq\u001b[22m\u001b[39m\t\u001b[33m$-9\u001b[39m\u001b[0m, \u001b[0m%r8\n",
      "\u001b[90m; │││││└└\u001b[39m\n",
      "\u001b[90m; │││││┌ @ operators.jl:305 within `>'\u001b[39m\n",
      "\u001b[90m; ││││││┌ @ int.jl:83 within `<'\u001b[39m\n",
      "\t\u001b[96m\u001b[1mcmpq\u001b[22m\u001b[39m\t\u001b[0m%r10\u001b[0m, \u001b[0m%r8\n",
      "\u001b[90m; │││││└└\u001b[39m\n",
      "\t\u001b[96m\u001b[1mjge\u001b[22m\u001b[39m\t\u001b[91mL897\u001b[39m\n",
      "\u001b[90m; │││││┌ @ stridedpointers.jl:197 within `_vload'\u001b[39m\n",
      "\u001b[90m; ││││││┌ @ memory_addr.jl:638 within `__vload'\u001b[39m\n",
      "\u001b[90m; │││││││┌ @ memory_addr.jl:638 within `macro expansion'\u001b[39m\n",
      "\t\u001b[96m\u001b[1mkmovd\u001b[22m\u001b[39m\t\u001b[0m%r9d\u001b[0m, \u001b[0m%k1\n",
      "\t\u001b[96m\u001b[1mvmovupd\u001b[22m\u001b[39m\t\u001b[33m(\u001b[39m\u001b[0m%rdi\u001b[0m,\u001b[0m%r10\u001b[0m,\u001b[33m8\u001b[39m\u001b[33m)\u001b[39m\u001b[0m, \u001b[0m%zmm0 \u001b[33m{\u001b[39m\u001b[0m%k1\u001b[33m}\u001b[39m \u001b[33m{\u001b[39m\u001b[95mz\u001b[39m\u001b[33m}\u001b[39m\n",
      "\t\u001b[96m\u001b[1mmovabsq\u001b[22m\u001b[39m\t\u001b[93m$.rodata.cst8\u001b[39m\u001b[0m, \u001b[0m%rcx\n",
      "\u001b[90m; │││││└└└\u001b[39m\n",
      "\u001b[90m; │││││┌ @ exp.jl:379 within `exp'\u001b[39m\n",
      "\u001b[90m; ││││││┌ @ exp.jl:383 within `vexp' @ exp.jl:372\u001b[39m\n",
      "\u001b[90m; │││││││┌ @ exp.jl:355 within `vexp_avx512'\u001b[39m\n",
      "\u001b[90m; ││││││││┌ @ base_defs.jl:88 within `*'\u001b[39m\n",
      "\u001b[90m; │││││││││┌ @ binary_ops.jl:93 within `vmul'\u001b[39m\n",
      "\u001b[90m; ││││││││││┌ @ binary_ops.jl:93 within `macro expansion'\u001b[39m\n",
      "\t\u001b[96m\u001b[1mvmulpd\u001b[22m\u001b[39m\t\u001b[33m(\u001b[39m\u001b[0m%rcx\u001b[33m)\u001b[39m\u001b[33m{\u001b[39m\u001b[95m1to8\u001b[39m\u001b[33m}\u001b[39m\u001b[0m, \u001b[0m%zmm0\u001b[0m, \u001b[0m%zmm1\n",
      "\u001b[90m; ││││││││└└└\u001b[39m\n",
      "\u001b[90m; ││││││││┌ @ base_defs.jl:47 within `round'\u001b[39m\n",
      "\u001b[90m; │││││││││┌ @ intrin_funcs.jl:101 within `vround'\u001b[39m\n",
      "\u001b[90m; ││││││││││┌ @ intrin_funcs.jl:101 within `macro expansion'\u001b[39m\n",
      "\t\u001b[96m\u001b[1mvrndscalepd\u001b[22m\u001b[39m\t\u001b[33m$12\u001b[39m\u001b[0m, \u001b[0m%zmm1\u001b[0m, \u001b[0m%zmm1\n",
      "\t\u001b[96m\u001b[1mmovabsq\u001b[22m\u001b[39m\t\u001b[33m$140234080550224\u001b[39m\u001b[0m, \u001b[0m%rcx          \u001b[90m# imm = 0x7F8ACA8E7D50\u001b[39m\n",
      "\u001b[90m; │││││││└└└└\u001b[39m\n",
      "\u001b[90m; │││││││┌ @ exp.jl:356 within `vexp_avx512'\u001b[39m\n",
      "\u001b[90m; ││││││││┌ @ base_defs.jl:205 within `muladd'\u001b[39m\n",
      "\u001b[90m; │││││││││┌ @ intrin_funcs.jl:255 within `vmuladd'\u001b[39m\n",
      "\u001b[90m; ││││││││││┌ @ intrin_funcs.jl:255 within `macro expansion'\u001b[39m\n",
      "\t\u001b[96m\u001b[1mvfnmadd231pd\u001b[22m\u001b[39m\t\u001b[33m(\u001b[39m\u001b[0m%rcx\u001b[33m)\u001b[39m\u001b[33m{\u001b[39m\u001b[95m1to8\u001b[39m\u001b[33m}\u001b[39m\u001b[0m, \u001b[0m%zmm1\u001b[0m, \u001b[0m%zmm0 \u001b[90m# zmm0 = -(zmm1 * mem) + zmm0\u001b[39m\n",
      "\t\u001b[96m\u001b[1mmovabsq\u001b[22m\u001b[39m\t\u001b[33m$140234080550232\u001b[39m\u001b[0m, \u001b[0m%rcx          \u001b[90m# imm = 0x7F8ACA8E7D58\u001b[39m\n",
      "\u001b[90m; │││││││└└└└\u001b[39m\n",
      "\u001b[90m; │││││││┌ @ exp.jl:357 within `vexp_avx512'\u001b[39m\n",
      "\u001b[90m; ││││││││┌ @ base_defs.jl:205 within `muladd'\u001b[39m\n",
      "\u001b[90m; │││││││││┌ @ intrin_funcs.jl:255 within `vmuladd'\u001b[39m\n",
      "\u001b[90m; ││││││││││┌ @ intrin_funcs.jl:255 within `macro expansion'\u001b[39m\n",
      "\t\u001b[96m\u001b[1mvfmsub231pd\u001b[22m\u001b[39m\t\u001b[33m(\u001b[39m\u001b[0m%rcx\u001b[33m)\u001b[39m\u001b[33m{\u001b[39m\u001b[95m1to8\u001b[39m\u001b[33m}\u001b[39m\u001b[0m, \u001b[0m%zmm1\u001b[0m, \u001b[0m%zmm0 \u001b[90m# zmm0 = (zmm1 * mem) - zmm0\u001b[39m\n",
      "\u001b[90m; │││││││└└└└\u001b[39m\n",
      "\u001b[90m; │││││││┌ @ exp.jl:358 within `vexp_avx512'\u001b[39m\n",
      "\u001b[90m; ││││││││┌ @ base_defs.jl:151 within `trunc'\u001b[39m\n",
      "\u001b[90m; │││││││││┌ @ intrin_funcs.jl:113 within `vtrunc'\u001b[39m\n",
      "\u001b[90m; ││││││││││┌ @ conversion.jl:98 within `vconvert' @ conversion.jl:33\u001b[39m\n",
      "\u001b[90m; │││││││││││┌ @ conversion.jl:12 within `macro expansion'\u001b[39m\n",
      "\t\u001b[96m\u001b[1mvcvttpd2qq\u001b[22m\u001b[39m\t\u001b[0m%zmm1\u001b[0m, \u001b[0m%zmm2\n",
      "\t\u001b[96m\u001b[1mmovabsq\u001b[22m\u001b[39m\t\u001b[33m$140234080550240\u001b[39m\u001b[0m, \u001b[0m%rcx          \u001b[90m# imm = 0x7F8ACA8E7D60\u001b[39m\n",
      "\u001b[90m; ││││││││└└└└\u001b[39m\n",
      "\u001b[90m; ││││││││┌ @ base_defs.jl:88 within `&'\u001b[39m\n",
      "\u001b[90m; │││││││││┌ @ binary_ops.jl:83 within `vand'\u001b[39m\n",
      "\u001b[90m; ││││││││││┌ @ binary_ops.jl:83 within `macro expansion'\u001b[39m\n",
      "\t\u001b[96m\u001b[1mvandpd\u001b[22m\u001b[39m\t\u001b[33m(\u001b[39m\u001b[0m%rcx\u001b[33m)\u001b[39m\u001b[33m{\u001b[39m\u001b[95m1to8\u001b[39m\u001b[33m}\u001b[39m\u001b[0m, \u001b[0m%zmm2\u001b[0m, \u001b[0m%zmm2\n",
      "\t\u001b[96m\u001b[1mmovabsq\u001b[22m\u001b[39m\t\u001b[33m$140234080550256\u001b[39m\u001b[0m, \u001b[0m%rcx          \u001b[90m# imm = 0x7F8ACA8E7D70\u001b[39m\n",
      "\u001b[90m; │││││││└└└└\u001b[39m\n",
      "\u001b[90m; │││││││┌ @ exp.jl:359 within `vexp_avx512'\u001b[39m\n",
      "\u001b[90m; ││││││││┌ @ exp.jl:247 within `expm1b_kernel_16'\u001b[39m\n",
      "\u001b[90m; │││││││││┌ @ base_defs.jl:238 within `vmuladd_fast' @ intrin_funcs.jl:255\u001b[39m\n",
      "\u001b[90m; ││││││││││┌ @ intrin_funcs.jl:255 within `macro expansion'\u001b[39m\n",
      "\t\u001b[96m\u001b[1mvbroadcastsd\u001b[22m\u001b[39m\t\u001b[33m(\u001b[39m\u001b[0m%rcx\u001b[33m)\u001b[39m\u001b[0m, \u001b[0m%zmm3\n",
      "\t\u001b[96m\u001b[1mmovabsq\u001b[22m\u001b[39m\t\u001b[33m$140234080550248\u001b[39m\u001b[0m, \u001b[0m%rcx          \u001b[90m# imm = 0x7F8ACA8E7D68\u001b[39m\n",
      "\t\u001b[96m\u001b[1mvfmadd213pd\u001b[22m\u001b[39m\t\u001b[33m(\u001b[39m\u001b[0m%rcx\u001b[33m)\u001b[39m\u001b[33m{\u001b[39m\u001b[95m1to8\u001b[39m\u001b[33m}\u001b[39m\u001b[0m, \u001b[0m%zmm0\u001b[0m, \u001b[0m%zmm3 \u001b[90m# zmm3 = (zmm0 * zmm3) + mem\u001b[39m\n",
      "\t\u001b[96m\u001b[1mmovabsq\u001b[22m\u001b[39m\t\u001b[33m$140234080550264\u001b[39m\u001b[0m, \u001b[0m%rcx          \u001b[90m# imm = 0x7F8ACA8E7D78\u001b[39m\n",
      "\t\u001b[96m\u001b[1mvfmadd213pd\u001b[22m\u001b[39m\t\u001b[33m(\u001b[39m\u001b[0m%rcx\u001b[33m)\u001b[39m\u001b[33m{\u001b[39m\u001b[95m1to8\u001b[39m\u001b[33m}\u001b[39m\u001b[0m, \u001b[0m%zmm0\u001b[0m, \u001b[0m%zmm3 \u001b[90m# zmm3 = (zmm0 * zmm3) + mem\u001b[39m\n",
      "\t\u001b[96m\u001b[1mmovabsq\u001b[22m\u001b[39m\t\u001b[33m$140234080550272\u001b[39m\u001b[0m, \u001b[0m%rcx          \u001b[90m# imm = 0x7F8ACA8E7D80\u001b[39m\n",
      "\t\u001b[96m\u001b[1mvfmadd213pd\u001b[22m\u001b[39m\t\u001b[33m(\u001b[39m\u001b[0m%rcx\u001b[33m)\u001b[39m\u001b[33m{\u001b[39m\u001b[95m1to8\u001b[39m\u001b[33m}\u001b[39m\u001b[0m, \u001b[0m%zmm0\u001b[0m, \u001b[0m%zmm3 \u001b[90m# zmm3 = (zmm0 * zmm3) + mem\u001b[39m\n",
      "\t\u001b[96m\u001b[1mmovabsq\u001b[22m\u001b[39m\t\u001b[33m$140234080550280\u001b[39m\u001b[0m, \u001b[0m%rcx          \u001b[90m# imm = 0x7F8ACA8E7D88\u001b[39m\n",
      "\t\u001b[96m\u001b[1mvfmadd213pd\u001b[22m\u001b[39m\t\u001b[33m(\u001b[39m\u001b[0m%rcx\u001b[33m)\u001b[39m\u001b[33m{\u001b[39m\u001b[95m1to8\u001b[39m\u001b[33m}\u001b[39m\u001b[0m, \u001b[0m%zmm0\u001b[0m, \u001b[0m%zmm3 \u001b[90m# zmm3 = (zmm0 * zmm3) + mem\u001b[39m\n",
      "\t\u001b[96m\u001b[1mmovabsq\u001b[22m\u001b[39m\t\u001b[33m$140234080550288\u001b[39m\u001b[0m, \u001b[0m%rcx          \u001b[90m# imm = 0x7F8ACA8E7D90\u001b[39m\n",
      "\t\u001b[96m\u001b[1mvfmadd213pd\u001b[22m\u001b[39m\t\u001b[33m(\u001b[39m\u001b[0m%rcx\u001b[33m)\u001b[39m\u001b[33m{\u001b[39m\u001b[95m1to8\u001b[39m\u001b[33m}\u001b[39m\u001b[0m, \u001b[0m%zmm0\u001b[0m, \u001b[0m%zmm3 \u001b[90m# zmm3 = (zmm0 * zmm3) + mem\u001b[39m\n",
      "\t\u001b[96m\u001b[1mmovabsq\u001b[22m\u001b[39m\t\u001b[33m$140234080550400\u001b[39m\u001b[0m, \u001b[0m%rcx          \u001b[90m# imm = 0x7F8ACA8E7E00\u001b[39m\n",
      "\u001b[90m; │││││││└└└└\u001b[39m\n",
      "\u001b[90m; │││││││┌ @ exp.jl:360 within `vexp_avx512'\u001b[39m\n",
      "\u001b[90m; ││││││││┌ @ exp.jl:84 within `vpermi2pd'\u001b[39m\n",
      "\u001b[90m; │││││││││┌ @ exp.jl:84 within `macro expansion'\u001b[39m\n",
      "\t\u001b[96m\u001b[1mvmovapd\u001b[22m\u001b[39m\t\u001b[33m(\u001b[39m\u001b[0m%rcx\u001b[33m)\u001b[39m\u001b[0m, \u001b[0m%zmm4\n",
      "\u001b[90m; │││││││└└└\u001b[39m\n",
      "\u001b[90m; │││││││┌ @ exp.jl:359 within `vexp_avx512'\u001b[39m\n",
      "\u001b[90m; ││││││││┌ @ exp.jl:247 within `expm1b_kernel_16'\u001b[39m\n",
      "\u001b[90m; │││││││││┌ @ base_defs.jl:86 within `*'\u001b[39m\n",
      "\u001b[90m; ││││││││││┌ @ binary_ops.jl:93 within `vmul'\u001b[39m\n",
      "\u001b[90m; │││││││││││┌ @ binary_ops.jl:93 within `macro expansion'\u001b[39m\n",
      "\t\u001b[96m\u001b[1mvmulpd\u001b[22m\u001b[39m\t\u001b[0m%zmm3\u001b[0m, \u001b[0m%zmm0\u001b[0m, \u001b[0m%zmm0\n",
      "\t\u001b[96m\u001b[1mmovabsq\u001b[22m\u001b[39m\t\u001b[93m$.rodata\u001b[39m\u001b[0m, \u001b[0m%rcx\n",
      "\u001b[90m; │││││││└└└└└\u001b[39m\n",
      "\u001b[90m; │││││││┌ @ exp.jl:360 within `vexp_avx512'\u001b[39m\n",
      "\u001b[90m; ││││││││┌ @ exp.jl:84 within `vpermi2pd'\u001b[39m\n",
      "\u001b[90m; │││││││││┌ @ exp.jl:84 within `macro expansion'\u001b[39m\n",
      "\t\u001b[96m\u001b[1mvpermt2pd\u001b[22m\u001b[39m\t\u001b[33m(\u001b[39m\u001b[0m%rcx\u001b[33m)\u001b[39m\u001b[0m, \u001b[0m%zmm2\u001b[0m, \u001b[0m%zmm4\n",
      "\u001b[90m; │││││││└└└\u001b[39m\n",
      "\u001b[90m; │││││││┌ @ exp.jl:361 within `vexp_avx512'\u001b[39m\n",
      "\u001b[90m; ││││││││┌ @ intrin_funcs.jl:284 within `vfmadd'\u001b[39m\n",
      "\u001b[90m; │││││││││┌ @ intrin_funcs.jl:282 within `_vfmadd'\u001b[39m\n",
      "\u001b[90m; ││││││││││┌ @ intrin_funcs.jl:255 within `vfma'\u001b[39m\n",
      "\u001b[90m; │││││││││││┌ @ intrin_funcs.jl:255 within `macro expansion'\u001b[39m\n",
      "\t\u001b[96m\u001b[1mvfmadd231pd\u001b[22m\u001b[39m\t\u001b[0m%zmm4\u001b[0m, \u001b[0m%zmm0\u001b[0m, \u001b[0m%zmm4     \u001b[90m# zmm4 = (zmm0 * zmm4) + zmm4\u001b[39m\n",
      "\t\u001b[96m\u001b[1mmovabsq\u001b[22m\u001b[39m\t\u001b[33m$140234080550296\u001b[39m\u001b[0m, \u001b[0m%rcx          \u001b[90m# imm = 0x7F8ACA8E7D98\u001b[39m\n",
      "\u001b[90m; │││││││└└└└└\u001b[39m\n",
      "\u001b[90m; │││││││┌ @ exp.jl:362 within `vexp_avx512'\u001b[39m\n",
      "\u001b[90m; ││││││││┌ @ base_defs.jl:87 within `*'\u001b[39m\n",
      "\u001b[90m; │││││││││┌ @ binary_ops.jl:93 within `vmul'\u001b[39m\n",
      "\u001b[90m; ││││││││││┌ @ binary_ops.jl:93 within `macro expansion'\u001b[39m\n",
      "\t\u001b[96m\u001b[1mvmulpd\u001b[22m\u001b[39m\t\u001b[33m(\u001b[39m\u001b[0m%rcx\u001b[33m)\u001b[39m\u001b[33m{\u001b[39m\u001b[95m1to8\u001b[39m\u001b[33m}\u001b[39m\u001b[0m, \u001b[0m%zmm1\u001b[0m, \u001b[0m%zmm0\n",
      "\u001b[90m; ││││││││└└└\u001b[39m\n",
      "\u001b[90m; ││││││││┌ @ exp.jl:20 within `vscalef' @ exp.jl:25\u001b[39m\n",
      "\u001b[90m; │││││││││┌ @ exp.jl:25 within `macro expansion'\u001b[39m\n",
      "\t\u001b[96m\u001b[1mvscalefpd\u001b[22m\u001b[39m\t\u001b[33m{\u001b[39m\u001b[95mrn-sae\u001b[39m\u001b[33m}\u001b[39m\u001b[0m, \u001b[0m%zmm0\u001b[0m, \u001b[0m%zmm4\u001b[0m, \u001b[0m%zmm0\n",
      "\t\u001b[96m\u001b[1mmovabsq\u001b[22m\u001b[39m\t\u001b[33m$140234080550304\u001b[39m\u001b[0m, \u001b[0m%rcx          \u001b[90m# imm = 0x7F8ACA8E7DA0\u001b[39m\n",
      "\u001b[90m; │││││└└└└└\u001b[39m\n",
      "\u001b[90m; │││││┌ @ base_defs.jl:87 within `add_fast'\u001b[39m\n",
      "\u001b[90m; ││││││┌ @ binary_ops.jl:94 within `vadd_fast'\u001b[39m\n",
      "\u001b[90m; │││││││┌ @ binary_ops.jl:94 within `macro expansion'\u001b[39m\n",
      "\t\u001b[96m\u001b[1mvbroadcastsd\u001b[22m\u001b[39m\t\u001b[33m(\u001b[39m\u001b[0m%rcx\u001b[33m)\u001b[39m\u001b[0m, \u001b[0m%zmm1\n",
      "\t\u001b[96m\u001b[1mvaddpd\u001b[22m\u001b[39m\t\u001b[0m%zmm1\u001b[0m, \u001b[0m%zmm0\u001b[0m, \u001b[0m%zmm0\n",
      "\u001b[90m; │││││└└└\u001b[39m\n",
      "\u001b[90m; │││││┌ @ unary_ops.jl:25 within `inv_fast'\u001b[39m\n",
      "\u001b[90m; ││││││┌ @ base_defs.jl:86 within `div_fast'\u001b[39m\n",
      "\u001b[90m; │││││││┌ @ binary_ops.jl:94 within `vfdiv_fast'\u001b[39m\n",
      "\u001b[90m; ││││││││┌ @ binary_ops.jl:94 within `macro expansion'\u001b[39m\n",
      "\t\u001b[96m\u001b[1mvdivpd\u001b[22m\u001b[39m\t\u001b[0m%zmm0\u001b[0m, \u001b[0m%zmm1\u001b[0m, \u001b[0m%zmm0\n",
      "\u001b[90m; │││││└└└└\u001b[39m\n",
      "\u001b[90m; │││││┌ @ stridedpointers.jl:235 within `_vstore!'\u001b[39m\n",
      "\u001b[90m; ││││││┌ @ memory_addr.jl:849 within `__vstore!'\u001b[39m\n",
      "\u001b[90m; │││││││┌ @ memory_addr.jl:849 within `macro expansion'\u001b[39m\n",
      "\t\u001b[96m\u001b[1mvmovupd\u001b[22m\u001b[39m\t\u001b[0m%zmm0\u001b[0m, \u001b[33m(\u001b[39m\u001b[0m%rdx\u001b[0m,\u001b[0m%r10\u001b[0m,\u001b[33m8\u001b[39m\u001b[33m)\u001b[39m \u001b[33m{\u001b[39m\u001b[0m%k1\u001b[33m}\u001b[39m\n",
      "\u001b[90m; │└└└└└└└\u001b[39m\n",
      "\t\u001b[96m\u001b[1mpopq\u001b[22m\u001b[39m\t\u001b[0m%rcx\n",
      "\t\u001b[96m\u001b[1mvzeroupper\u001b[22m\u001b[39m\n",
      "\t\u001b[96m\u001b[1mretq\u001b[22m\u001b[39m\n",
      "\u001b[90m; │┌ @ broadcast.jl:393 within `vmaterialize!'\u001b[39m\n",
      "\u001b[90m; ││┌ @ broadcast.jl:393 within `macro expansion'\u001b[39m\n",
      "\u001b[90m; │││┌ @ reconstruct_loopset.jl:711 within `_turbo_!'\u001b[39m\n",
      "\u001b[90m; ││││┌ @ reconstruct_loopset.jl:711 within `macro expansion'\u001b[39m\n",
      "\u001b[90m; │││││┌ @ memory.jl:420 within `_vload'\u001b[39m\n",
      "\u001b[90m; ││││││┌ @ memory.jl:362 within `_vload_unroll'\u001b[39m\n",
      "\u001b[90m; │││││││┌ @ memory.jl:44 within `macro expansion'\u001b[39m\n",
      "\u001b[90m; ││││││││┌ @ stridedpointers.jl:191 within `_vload'\u001b[39m\n",
      "\u001b[90m; │││││││││┌ @ memory_addr.jl:631 within `__vload'\u001b[39m\n",
      "\u001b[90m; ││││││││││┌ @ memory_addr.jl:631 within `macro expansion'\u001b[39m\n",
      "\u001b[91mL897:\u001b[39m\n",
      "\t\u001b[96m\u001b[1mvmovupd\u001b[22m\u001b[39m\t\u001b[33m(\u001b[39m\u001b[0m%rdi\u001b[0m,\u001b[0m%r10\u001b[0m,\u001b[33m8\u001b[39m\u001b[33m)\u001b[39m\u001b[0m, \u001b[0m%zmm2\n",
      "\u001b[90m; ││││││││└└└\u001b[39m\n",
      "\u001b[90m; ││││││││┌ @ stridedpointers.jl:197 within `_vload'\u001b[39m\n",
      "\u001b[90m; │││││││││┌ @ memory_addr.jl:638 within `__vload'\u001b[39m\n",
      "\u001b[90m; ││││││││││┌ @ memory_addr.jl:638 within `macro expansion'\u001b[39m\n",
      "\t\u001b[96m\u001b[1mkmovd\u001b[22m\u001b[39m\t\u001b[0m%r9d\u001b[0m, \u001b[0m%k1\n",
      "\t\u001b[96m\u001b[1mvmovupd\u001b[22m\u001b[39m\t\u001b[33m64\u001b[39m\u001b[33m(\u001b[39m\u001b[0m%rdi\u001b[0m,\u001b[0m%r10\u001b[0m,\u001b[33m8\u001b[39m\u001b[33m)\u001b[39m\u001b[0m, \u001b[0m%zmm3 \u001b[33m{\u001b[39m\u001b[0m%k1\u001b[33m}\u001b[39m \u001b[33m{\u001b[39m\u001b[95mz\u001b[39m\u001b[33m}\u001b[39m\n",
      "\t\u001b[96m\u001b[1mmovabsq\u001b[22m\u001b[39m\t\u001b[93m$.rodata.cst8\u001b[39m\u001b[0m, \u001b[0m%rcx\n",
      "\u001b[90m; │││││└└└└└└\u001b[39m\n",
      "\u001b[90m; │││││┌ @ exp.jl:379 within `exp'\u001b[39m\n",
      "\u001b[90m; ││││││┌ @ exp.jl:383 within `vexp' @ exp.jl:372\u001b[39m\n",
      "\u001b[90m; │││││││┌ @ exp.jl:355 within `vexp_avx512'\u001b[39m\n",
      "\u001b[90m; ││││││││┌ @ base_defs.jl:90 within `*'\u001b[39m\n",
      "\u001b[90m; │││││││││┌ @ fmap.jl:62 within `vmul'\u001b[39m\n",
      "\u001b[90m; ││││││││││┌ @ fmap.jl:9 within `fmap'\u001b[39m\n",
      "\u001b[90m; │││││││││││┌ @ binary_ops.jl:93 within `vmul'\u001b[39m\n",
      "\u001b[90m; ││││││││││││┌ @ binary_ops.jl:93 within `macro expansion'\u001b[39m\n",
      "\t\u001b[96m\u001b[1mvbroadcastsd\u001b[22m\u001b[39m\t\u001b[33m(\u001b[39m\u001b[0m%rcx\u001b[33m)\u001b[39m\u001b[0m, \u001b[0m%zmm0\n",
      "\t\u001b[96m\u001b[1mvmulpd\u001b[22m\u001b[39m\t\u001b[0m%zmm0\u001b[0m, \u001b[0m%zmm2\u001b[0m, \u001b[0m%zmm1\n",
      "\u001b[90m; ││││││││└└└└└\u001b[39m\n",
      "\u001b[90m; ││││││││┌ @ base_defs.jl:47 within `round'\u001b[39m\n",
      "\u001b[90m; │││││││││┌ @ fmap.jl:54 within `vround'\u001b[39m\n",
      "\u001b[90m; ││││││││││┌ @ fmap.jl:3 within `fmap'\u001b[39m\n",
      "\u001b[90m; │││││││││││┌ @ intrin_funcs.jl:101 within `vround'\u001b[39m\n",
      "\u001b[90m; ││││││││││││┌ @ intrin_funcs.jl:101 within `macro expansion'\u001b[39m\n",
      "\t\u001b[96m\u001b[1mvrndscalepd\u001b[22m\u001b[39m\t\u001b[33m$12\u001b[39m\u001b[0m, \u001b[0m%zmm1\u001b[0m, \u001b[0m%zmm1\n",
      "\u001b[90m; ││││││││└└└└└\u001b[39m\n",
      "\u001b[90m; ││││││││┌ @ base_defs.jl:90 within `*'\u001b[39m\n",
      "\u001b[90m; │││││││││┌ @ fmap.jl:62 within `vmul'\u001b[39m\n",
      "\u001b[90m; ││││││││││┌ @ fmap.jl:9 within `fmap' @ fmap.jl:6\u001b[39m\n",
      "\u001b[90m; │││││││││││┌ @ binary_ops.jl:93 within `vmul'\u001b[39m\n",
      "\u001b[90m; ││││││││││││┌ @ binary_ops.jl:93 within `macro expansion'\u001b[39m\n",
      "\t\u001b[96m\u001b[1mvmulpd\u001b[22m\u001b[39m\t\u001b[0m%zmm0\u001b[0m, \u001b[0m%zmm3\u001b[0m, \u001b[0m%zmm0\n",
      "\u001b[90m; ││││││││└└└└└\u001b[39m\n",
      "\u001b[90m; ││││││││┌ @ base_defs.jl:47 within `round'\u001b[39m\n",
      "\u001b[90m; │││││││││┌ @ fmap.jl:54 within `vround'\u001b[39m\n",
      "\u001b[90m; ││││││││││┌ @ fmap.jl:3 within `fmap' @ fmap.jl:2\u001b[39m\n",
      "\u001b[90m; │││││││││││┌ @ intrin_funcs.jl:101 within `vround'\u001b[39m\n",
      "\u001b[90m; ││││││││││││┌ @ intrin_funcs.jl:101 within `macro expansion'\u001b[39m\n",
      "\t\u001b[96m\u001b[1mvrndscalepd\u001b[22m\u001b[39m\t\u001b[33m$12\u001b[39m\u001b[0m, \u001b[0m%zmm0\u001b[0m, \u001b[0m%zmm0\n",
      "\t\u001b[96m\u001b[1mmovabsq\u001b[22m\u001b[39m\t\u001b[33m$140234080550224\u001b[39m\u001b[0m, \u001b[0m%rcx          \u001b[90m# imm = 0x7F8ACA8E7D50\u001b[39m\n",
      "\u001b[90m; │││││││└└└└└└\u001b[39m\n",
      "\u001b[90m; │││││││┌ @ exp.jl:356 within `vexp_avx512'\u001b[39m\n",
      "\u001b[90m; ││││││││┌ @ base_defs.jl:205 within `muladd'\u001b[39m\n",
      "\u001b[90m; │││││││││┌ @ fmap.jl:126 within `vmuladd'\u001b[39m\n",
      "\u001b[90m; ││││││││││┌ @ fmap.jl:18 within `fmap'\u001b[39m\n",
      "\u001b[90m; │││││││││││┌ @ fmap.jl:18 within `macro expansion'\u001b[39m\n",
      "\u001b[90m; ││││││││││││┌ @ intrin_funcs.jl:255 within `vmuladd'\u001b[39m\n",
      "\u001b[90m; │││││││││││││┌ @ intrin_funcs.jl:255 within `macro expansion'\u001b[39m\n",
      "\t\u001b[96m\u001b[1mvbroadcastsd\u001b[22m\u001b[39m\t\u001b[33m(\u001b[39m\u001b[0m%rcx\u001b[33m)\u001b[39m\u001b[0m, \u001b[0m%zmm4\n",
      "\t\u001b[96m\u001b[1mvfnmadd231pd\u001b[22m\u001b[39m\t\u001b[0m%zmm4\u001b[0m, \u001b[0m%zmm1\u001b[0m, \u001b[0m%zmm2     \u001b[90m# zmm2 = -(zmm1 * zmm4) + zmm2\u001b[39m\n",
      "\t\u001b[96m\u001b[1mvfnmadd213pd\u001b[22m\u001b[39m\t\u001b[0m%zmm3\u001b[0m, \u001b[0m%zmm0\u001b[0m, \u001b[0m%zmm4     \u001b[90m# zmm4 = -(zmm0 * zmm4) + zmm3\u001b[39m\n",
      "\t\u001b[96m\u001b[1mmovabsq\u001b[22m\u001b[39m\t\u001b[33m$140234080550232\u001b[39m\u001b[0m, \u001b[0m%rcx          \u001b[90m# imm = 0x7F8ACA8E7D58\u001b[39m\n",
      "\u001b[90m; │││││││└└└└└└└\u001b[39m\n",
      "\u001b[90m; │││││││┌ @ exp.jl:357 within `vexp_avx512'\u001b[39m\n",
      "\u001b[90m; ││││││││┌ @ base_defs.jl:205 within `muladd'\u001b[39m\n",
      "\u001b[90m; │││││││││┌ @ fmap.jl:126 within `vmuladd'\u001b[39m\n",
      "\u001b[90m; ││││││││││┌ @ fmap.jl:18 within `fmap'\u001b[39m\n",
      "\u001b[90m; │││││││││││┌ @ fmap.jl:18 within `macro expansion'\u001b[39m\n",
      "\u001b[90m; ││││││││││││┌ @ intrin_funcs.jl:255 within `vmuladd'\u001b[39m\n",
      "\u001b[90m; │││││││││││││┌ @ intrin_funcs.jl:255 within `macro expansion'\u001b[39m\n",
      "\t\u001b[96m\u001b[1mvbroadcastsd\u001b[22m\u001b[39m\t\u001b[33m(\u001b[39m\u001b[0m%rcx\u001b[33m)\u001b[39m\u001b[0m, \u001b[0m%zmm3\n",
      "\t\u001b[96m\u001b[1mvfmsub231pd\u001b[22m\u001b[39m\t\u001b[0m%zmm3\u001b[0m, \u001b[0m%zmm1\u001b[0m, \u001b[0m%zmm2     \u001b[90m# zmm2 = (zmm1 * zmm3) - zmm2\u001b[39m\n",
      "\t\u001b[96m\u001b[1mvfmsub231pd\u001b[22m\u001b[39m\t\u001b[0m%zmm3\u001b[0m, \u001b[0m%zmm0\u001b[0m, \u001b[0m%zmm4     \u001b[90m# zmm4 = (zmm0 * zmm3) - zmm4\u001b[39m\n",
      "\u001b[90m; │││││││└└└└└└└\u001b[39m\n",
      "\u001b[90m; │││││││┌ @ exp.jl:358 within `vexp_avx512'\u001b[39m\n",
      "\u001b[90m; ││││││││┌ @ base_defs.jl:151 within `trunc'\u001b[39m\n",
      "\u001b[90m; │││││││││┌ @ intrin_funcs.jl:113 within `vtrunc'\u001b[39m\n",
      "\u001b[90m; ││││││││││┌ @ conversion.jl:98 within `vconvert' @ conversion.jl:74\u001b[39m\n",
      "\u001b[90m; │││││││││││┌ @ fmap.jl:11 within `fmap'\u001b[39m\n",
      "\u001b[90m; ││││││││││││┌ @ conversion.jl:33 within `vconvert'\u001b[39m\n",
      "\u001b[90m; │││││││││││││┌ @ conversion.jl:12 within `macro expansion'\u001b[39m\n",
      "\t\u001b[96m\u001b[1mvcvttpd2qq\u001b[22m\u001b[39m\t\u001b[0m%zmm1\u001b[0m, \u001b[0m%zmm3\n",
      "\u001b[90m; ││││││││││││└└\u001b[39m\n",
      "\u001b[90m; ││││││││││││ @ fmap.jl:11 within `fmap' @ fmap.jl:8\u001b[39m\n",
      "\u001b[90m; ││││││││││││┌ @ conversion.jl:33 within `vconvert'\u001b[39m\n",
      "\u001b[90m; │││││││││││││┌ @ conversion.jl:12 within `macro expansion'\u001b[39m\n",
      "\t\u001b[96m\u001b[1mvcvttpd2qq\u001b[22m\u001b[39m\t\u001b[0m%zmm0\u001b[0m, \u001b[0m%zmm5\n",
      "\t\u001b[96m\u001b[1mmovabsq\u001b[22m\u001b[39m\t\u001b[33m$140234080550240\u001b[39m\u001b[0m, \u001b[0m%rcx          \u001b[90m# imm = 0x7F8ACA8E7D60\u001b[39m\n",
      "\u001b[90m; ││││││││└└└└└└\u001b[39m\n",
      "\u001b[90m; ││││││││┌ @ base_defs.jl:90 within `&'\u001b[39m\n",
      "\u001b[90m; │││││││││┌ @ fmap.jl:62 within `vand'\u001b[39m\n",
      "\u001b[90m; ││││││││││┌ @ fmap.jl:9 within `fmap'\u001b[39m\n",
      "\u001b[90m; │││││││││││┌ @ binary_ops.jl:83 within `vand'\u001b[39m\n",
      "\u001b[90m; ││││││││││││┌ @ binary_ops.jl:83 within `macro expansion'\u001b[39m\n",
      "\t\u001b[96m\u001b[1mvbroadcastsd\u001b[22m\u001b[39m\t\u001b[33m(\u001b[39m\u001b[0m%rcx\u001b[33m)\u001b[39m\u001b[0m, \u001b[0m%zmm6\n",
      "\t\u001b[96m\u001b[1mvandpd\u001b[22m\u001b[39m\t\u001b[0m%zmm6\u001b[0m, \u001b[0m%zmm3\u001b[0m, \u001b[0m%zmm3\n",
      "\u001b[90m; │││││││││││└└\u001b[39m\n",
      "\u001b[90m; │││││││││││ @ fmap.jl:9 within `fmap' @ fmap.jl:6\u001b[39m\n",
      "\u001b[90m; │││││││││││┌ @ binary_ops.jl:83 within `vand'\u001b[39m\n",
      "\u001b[90m; ││││││││││││┌ @ binary_ops.jl:83 within `macro expansion'\u001b[39m\n",
      "\t\u001b[96m\u001b[1mvandpd\u001b[22m\u001b[39m\t\u001b[0m%zmm6\u001b[0m, \u001b[0m%zmm5\u001b[0m, \u001b[0m%zmm5\n",
      "\t\u001b[96m\u001b[1mmovabsq\u001b[22m\u001b[39m\t\u001b[33m$140234080550248\u001b[39m\u001b[0m, \u001b[0m%rcx          \u001b[90m# imm = 0x7F8ACA8E7D68\u001b[39m\n",
      "\u001b[90m; │││││││└└└└└└\u001b[39m\n",
      "\u001b[90m; │││││││┌ @ exp.jl:359 within `vexp_avx512'\u001b[39m\n",
      "\u001b[90m; ││││││││┌ @ exp.jl:247 within `expm1b_kernel_16'\u001b[39m\n",
      "\u001b[90m; │││││││││┌ @ base_defs.jl:238 within `vmuladd_fast' @ fmap.jl:126\u001b[39m\n",
      "\u001b[90m; ││││││││││┌ @ fmap.jl:18 within `fmap'\u001b[39m\n",
      "\u001b[90m; │││││││││││┌ @ fmap.jl:18 within `macro expansion'\u001b[39m\n",
      "\u001b[90m; ││││││││││││┌ @ intrin_funcs.jl:255 within `vmuladd_fast'\u001b[39m\n",
      "\u001b[90m; │││││││││││││┌ @ intrin_funcs.jl:255 within `macro expansion'\u001b[39m\n",
      "\t\u001b[96m\u001b[1mvbroadcastsd\u001b[22m\u001b[39m\t\u001b[33m(\u001b[39m\u001b[0m%rcx\u001b[33m)\u001b[39m\u001b[0m, \u001b[0m%zmm6\n",
      "\t\u001b[96m\u001b[1mmovabsq\u001b[22m\u001b[39m\t\u001b[33m$140234080550256\u001b[39m\u001b[0m, \u001b[0m%rcx          \u001b[90m# imm = 0x7F8ACA8E7D70\u001b[39m\n",
      "\t\u001b[96m\u001b[1mvbroadcastsd\u001b[22m\u001b[39m\t\u001b[33m(\u001b[39m\u001b[0m%rcx\u001b[33m)\u001b[39m\u001b[0m, \u001b[0m%zmm7\n",
      "\t\u001b[96m\u001b[1mvmovapd\u001b[22m\u001b[39m\t\u001b[0m%zmm7\u001b[0m, \u001b[0m%zmm8\n",
      "\t\u001b[96m\u001b[1mvfmadd213pd\u001b[22m\u001b[39m\t\u001b[0m%zmm6\u001b[0m, \u001b[0m%zmm2\u001b[0m, \u001b[0m%zmm8     \u001b[90m# zmm8 = (zmm2 * zmm8) + zmm6\u001b[39m\n",
      "\t\u001b[96m\u001b[1mmovabsq\u001b[22m\u001b[39m\t\u001b[33m$140234080550264\u001b[39m\u001b[0m, \u001b[0m%rcx          \u001b[90m# imm = 0x7F8ACA8E7D78\u001b[39m\n",
      "\t\u001b[96m\u001b[1mvbroadcastsd\u001b[22m\u001b[39m\t\u001b[33m(\u001b[39m\u001b[0m%rcx\u001b[33m)\u001b[39m\u001b[0m, \u001b[0m%zmm9\n",
      "\t\u001b[96m\u001b[1mvfmadd213pd\u001b[22m\u001b[39m\t\u001b[0m%zmm6\u001b[0m, \u001b[0m%zmm4\u001b[0m, \u001b[0m%zmm7     \u001b[90m# zmm7 = (zmm4 * zmm7) + zmm6\u001b[39m\n",
      "\t\u001b[96m\u001b[1mvfmadd213pd\u001b[22m\u001b[39m\t\u001b[0m%zmm9\u001b[0m, \u001b[0m%zmm2\u001b[0m, \u001b[0m%zmm8     \u001b[90m# zmm8 = (zmm2 * zmm8) + zmm9\u001b[39m\n",
      "\t\u001b[96m\u001b[1mvfmadd213pd\u001b[22m\u001b[39m\t\u001b[0m%zmm9\u001b[0m, \u001b[0m%zmm4\u001b[0m, \u001b[0m%zmm7     \u001b[90m# zmm7 = (zmm4 * zmm7) + zmm9\u001b[39m\n",
      "\t\u001b[96m\u001b[1mmovabsq\u001b[22m\u001b[39m\t\u001b[33m$140234080550272\u001b[39m\u001b[0m, \u001b[0m%rcx          \u001b[90m# imm = 0x7F8ACA8E7D80\u001b[39m\n",
      "\t\u001b[96m\u001b[1mvbroadcastsd\u001b[22m\u001b[39m\t\u001b[33m(\u001b[39m\u001b[0m%rcx\u001b[33m)\u001b[39m\u001b[0m, \u001b[0m%zmm6\n",
      "\t\u001b[96m\u001b[1mvfmadd213pd\u001b[22m\u001b[39m\t\u001b[0m%zmm6\u001b[0m, \u001b[0m%zmm2\u001b[0m, \u001b[0m%zmm8     \u001b[90m# zmm8 = (zmm2 * zmm8) + zmm6\u001b[39m\n",
      "\t\u001b[96m\u001b[1mvfmadd213pd\u001b[22m\u001b[39m\t\u001b[0m%zmm6\u001b[0m, \u001b[0m%zmm4\u001b[0m, \u001b[0m%zmm7     \u001b[90m# zmm7 = (zmm4 * zmm7) + zmm6\u001b[39m\n",
      "\t\u001b[96m\u001b[1mmovabsq\u001b[22m\u001b[39m\t\u001b[33m$140234080550280\u001b[39m\u001b[0m, \u001b[0m%rcx          \u001b[90m# imm = 0x7F8ACA8E7D88\u001b[39m\n",
      "\t\u001b[96m\u001b[1mvbroadcastsd\u001b[22m\u001b[39m\t\u001b[33m(\u001b[39m\u001b[0m%rcx\u001b[33m)\u001b[39m\u001b[0m, \u001b[0m%zmm6\n",
      "\t\u001b[96m\u001b[1mvfmadd213pd\u001b[22m\u001b[39m\t\u001b[0m%zmm6\u001b[0m, \u001b[0m%zmm2\u001b[0m, \u001b[0m%zmm8     \u001b[90m# zmm8 = (zmm2 * zmm8) + zmm6\u001b[39m\n",
      "\t\u001b[96m\u001b[1mvfmadd213pd\u001b[22m\u001b[39m\t\u001b[0m%zmm6\u001b[0m, \u001b[0m%zmm4\u001b[0m, \u001b[0m%zmm7     \u001b[90m# zmm7 = (zmm4 * zmm7) + zmm6\u001b[39m\n",
      "\t\u001b[96m\u001b[1mmovabsq\u001b[22m\u001b[39m\t\u001b[33m$140234080550288\u001b[39m\u001b[0m, \u001b[0m%rcx          \u001b[90m# imm = 0x7F8ACA8E7D90\u001b[39m\n",
      "\t\u001b[96m\u001b[1mvbroadcastsd\u001b[22m\u001b[39m\t\u001b[33m(\u001b[39m\u001b[0m%rcx\u001b[33m)\u001b[39m\u001b[0m, \u001b[0m%zmm6\n",
      "\t\u001b[96m\u001b[1mvfmadd213pd\u001b[22m\u001b[39m\t\u001b[0m%zmm6\u001b[0m, \u001b[0m%zmm2\u001b[0m, \u001b[0m%zmm8     \u001b[90m# zmm8 = (zmm2 * zmm8) + zmm6\u001b[39m\n",
      "\t\u001b[96m\u001b[1mvfmadd213pd\u001b[22m\u001b[39m\t\u001b[0m%zmm6\u001b[0m, \u001b[0m%zmm4\u001b[0m, \u001b[0m%zmm7     \u001b[90m# zmm7 = (zmm4 * zmm7) + zmm6\u001b[39m\n",
      "\u001b[90m; │││││││││└└└└└\u001b[39m\n",
      "\u001b[90m; │││││││││┌ @ base_defs.jl:86 within `*'\u001b[39m\n",
      "\u001b[90m; ││││││││││┌ @ fmap.jl:62 within `vmul'\u001b[39m\n",
      "\u001b[90m; │││││││││││┌ @ fmap.jl:9 within `fmap'\u001b[39m\n",
      "\u001b[90m; ││││││││││││┌ @ binary_ops.jl:93 within `vmul'\u001b[39m\n",
      "\u001b[90m; │││││││││││││┌ @ binary_ops.jl:93 within `macro expansion'\u001b[39m\n",
      "\t\u001b[96m\u001b[1mvmulpd\u001b[22m\u001b[39m\t\u001b[0m%zmm8\u001b[0m, \u001b[0m%zmm2\u001b[0m, \u001b[0m%zmm2\n",
      "\u001b[90m; ││││││││││││└└\u001b[39m\n",
      "\u001b[90m; ││││││││││││ @ fmap.jl:9 within `fmap' @ fmap.jl:6\u001b[39m\n",
      "\u001b[90m; ││││││││││││┌ @ binary_ops.jl:93 within `vmul'\u001b[39m\n",
      "\u001b[90m; │││││││││││││┌ @ binary_ops.jl:93 within `macro expansion'\u001b[39m\n",
      "\t\u001b[96m\u001b[1mvmulpd\u001b[22m\u001b[39m\t\u001b[0m%zmm7\u001b[0m, \u001b[0m%zmm4\u001b[0m, \u001b[0m%zmm4\n",
      "\t\u001b[96m\u001b[1mmovabsq\u001b[22m\u001b[39m\t\u001b[93m$.rodata\u001b[39m\u001b[0m, \u001b[0m%rcx\n",
      "\u001b[90m; │││││││└└└└└└└\u001b[39m\n",
      "\u001b[90m; │││││││┌ @ exp.jl:360 within `vexp_avx512'\u001b[39m\n",
      "\u001b[90m; ││││││││┌ @ exp.jl:105 within `vpermi2pd'\u001b[39m\n",
      "\u001b[90m; │││││││││┌ @ fmap.jl:18 within `fmap'\u001b[39m\n",
      "\u001b[90m; ││││││││││┌ @ fmap.jl:18 within `macro expansion'\u001b[39m\n",
      "\u001b[90m; │││││││││││┌ @ exp.jl:84 within `vpermi2pd'\u001b[39m\n",
      "\u001b[90m; ││││││││││││┌ @ exp.jl:84 within `macro expansion'\u001b[39m\n",
      "\t\u001b[96m\u001b[1mvmovapd\u001b[22m\u001b[39m\t\u001b[33m(\u001b[39m\u001b[0m%rcx\u001b[33m)\u001b[39m\u001b[0m, \u001b[0m%zmm6\n",
      "\t\u001b[96m\u001b[1mmovabsq\u001b[22m\u001b[39m\t\u001b[33m$140234080550400\u001b[39m\u001b[0m, \u001b[0m%rcx          \u001b[90m# imm = 0x7F8ACA8E7E00\u001b[39m\n",
      "\t\u001b[96m\u001b[1mvmovapd\u001b[22m\u001b[39m\t\u001b[33m(\u001b[39m\u001b[0m%rcx\u001b[33m)\u001b[39m\u001b[0m, \u001b[0m%zmm7\n",
      "\t\u001b[96m\u001b[1mvpermi2pd\u001b[22m\u001b[39m\t\u001b[0m%zmm6\u001b[0m, \u001b[0m%zmm7\u001b[0m, \u001b[0m%zmm3\n",
      "\t\u001b[96m\u001b[1mvpermi2pd\u001b[22m\u001b[39m\t\u001b[0m%zmm6\u001b[0m, \u001b[0m%zmm7\u001b[0m, \u001b[0m%zmm5\n",
      "\u001b[90m; │││││││└└└└└└\u001b[39m\n",
      "\u001b[90m; │││││││┌ @ exp.jl:361 within `vexp_avx512'\u001b[39m\n",
      "\u001b[90m; ││││││││┌ @ intrin_funcs.jl:284 within `vfmadd'\u001b[39m\n",
      "\u001b[90m; │││││││││┌ @ intrin_funcs.jl:282 within `_vfmadd'\u001b[39m\n",
      "\u001b[90m; ││││││││││┌ @ fmap.jl:126 within `vfma'\u001b[39m\n",
      "\u001b[90m; │││││││││││┌ @ fmap.jl:18 within `fmap'\u001b[39m\n",
      "\u001b[90m; ││││││││││││┌ @ fmap.jl:18 within `macro expansion'\u001b[39m\n",
      "\u001b[90m; │││││││││││││┌ @ intrin_funcs.jl:255 within `vfma'\u001b[39m\n",
      "\u001b[90m; ││││││││││││││┌ @ intrin_funcs.jl:255 within `macro expansion'\u001b[39m\n",
      "\t\u001b[96m\u001b[1mvfmadd231pd\u001b[22m\u001b[39m\t\u001b[0m%zmm3\u001b[0m, \u001b[0m%zmm2\u001b[0m, \u001b[0m%zmm3     \u001b[90m# zmm3 = (zmm2 * zmm3) + zmm3\u001b[39m\n",
      "\t\u001b[96m\u001b[1mvfmadd231pd\u001b[22m\u001b[39m\t\u001b[0m%zmm5\u001b[0m, \u001b[0m%zmm4\u001b[0m, \u001b[0m%zmm5     \u001b[90m# zmm5 = (zmm4 * zmm5) + zmm5\u001b[39m\n",
      "\t\u001b[96m\u001b[1mmovabsq\u001b[22m\u001b[39m\t\u001b[33m$140234080550296\u001b[39m\u001b[0m, \u001b[0m%rcx          \u001b[90m# imm = 0x7F8ACA8E7D98\u001b[39m\n",
      "\u001b[90m; │││││││└└└└└└└└\u001b[39m\n",
      "\u001b[90m; │││││││┌ @ exp.jl:362 within `vexp_avx512'\u001b[39m\n",
      "\u001b[90m; ││││││││┌ @ base_defs.jl:89 within `*'\u001b[39m\n",
      "\u001b[90m; │││││││││┌ @ fmap.jl:62 within `vmul'\u001b[39m\n",
      "\u001b[90m; ││││││││││┌ @ fmap.jl:9 within `fmap'\u001b[39m\n",
      "\u001b[90m; │││││││││││┌ @ binary_ops.jl:93 within `vmul'\u001b[39m\n",
      "\u001b[90m; ││││││││││││┌ @ binary_ops.jl:93 within `macro expansion'\u001b[39m\n",
      "\t\u001b[96m\u001b[1mvbroadcastsd\u001b[22m\u001b[39m\t\u001b[33m(\u001b[39m\u001b[0m%rcx\u001b[33m)\u001b[39m\u001b[0m, \u001b[0m%zmm2\n",
      "\t\u001b[96m\u001b[1mvmulpd\u001b[22m\u001b[39m\t\u001b[0m%zmm2\u001b[0m, \u001b[0m%zmm1\u001b[0m, \u001b[0m%zmm1\n",
      "\u001b[90m; ││││││││└└└└└\u001b[39m\n",
      "\u001b[90m; ││││││││┌ @ exp.jl:101 within `vscalef'\u001b[39m\n",
      "\u001b[90m; │││││││││┌ @ fmap.jl:9 within `fmap'\u001b[39m\n",
      "\u001b[90m; ││││││││││┌ @ exp.jl:20 within `vscalef' @ exp.jl:25\u001b[39m\n",
      "\u001b[90m; │││││││││││┌ @ exp.jl:25 within `macro expansion'\u001b[39m\n",
      "\t\u001b[96m\u001b[1mvscalefpd\u001b[22m\u001b[39m\t\u001b[33m{\u001b[39m\u001b[95mrn-sae\u001b[39m\u001b[33m}\u001b[39m\u001b[0m, \u001b[0m%zmm1\u001b[0m, \u001b[0m%zmm3\u001b[0m, \u001b[0m%zmm1\n",
      "\u001b[90m; ││││││││└└└└\u001b[39m\n",
      "\u001b[90m; ││││││││┌ @ base_defs.jl:89 within `*'\u001b[39m\n",
      "\u001b[90m; │││││││││┌ @ fmap.jl:62 within `vmul'\u001b[39m\n",
      "\u001b[90m; ││││││││││┌ @ fmap.jl:9 within `fmap' @ fmap.jl:6\u001b[39m\n",
      "\u001b[90m; │││││││││││┌ @ binary_ops.jl:93 within `vmul'\u001b[39m\n",
      "\u001b[90m; ││││││││││││┌ @ binary_ops.jl:93 within `macro expansion'\u001b[39m\n",
      "\t\u001b[96m\u001b[1mvmulpd\u001b[22m\u001b[39m\t\u001b[0m%zmm2\u001b[0m, \u001b[0m%zmm0\u001b[0m, \u001b[0m%zmm0\n",
      "\u001b[90m; ││││││││└└└└└\u001b[39m\n",
      "\u001b[90m; ││││││││┌ @ exp.jl:101 within `vscalef'\u001b[39m\n",
      "\u001b[90m; │││││││││┌ @ fmap.jl:9 within `fmap' @ fmap.jl:6\u001b[39m\n",
      "\u001b[90m; ││││││││││┌ @ exp.jl:20 within `vscalef' @ exp.jl:25\u001b[39m\n",
      "\u001b[90m; │││││││││││┌ @ exp.jl:25 within `macro expansion'\u001b[39m\n",
      "\t\u001b[96m\u001b[1mvscalefpd\u001b[22m\u001b[39m\t\u001b[33m{\u001b[39m\u001b[95mrn-sae\u001b[39m\u001b[33m}\u001b[39m\u001b[0m, \u001b[0m%zmm0\u001b[0m, \u001b[0m%zmm5\u001b[0m, \u001b[0m%zmm0\n",
      "\t\u001b[96m\u001b[1mmovabsq\u001b[22m\u001b[39m\t\u001b[33m$140234080550304\u001b[39m\u001b[0m, \u001b[0m%rcx          \u001b[90m# imm = 0x7F8ACA8E7DA0\u001b[39m\n",
      "\u001b[90m; │││││└└└└└└└\u001b[39m\n",
      "\u001b[90m; │││││┌ @ base_defs.jl:89 within `add_fast'\u001b[39m\n",
      "\u001b[90m; ││││││┌ @ fmap.jl:62 within `vadd_fast'\u001b[39m\n",
      "\u001b[90m; │││││││┌ @ fmap.jl:9 within `fmap'\u001b[39m\n",
      "\u001b[90m; ││││││││┌ @ binary_ops.jl:94 within `vadd_fast'\u001b[39m\n",
      "\u001b[90m; │││││││││┌ @ binary_ops.jl:94 within `macro expansion'\u001b[39m\n",
      "\t\u001b[96m\u001b[1mvbroadcastsd\u001b[22m\u001b[39m\t\u001b[33m(\u001b[39m\u001b[0m%rcx\u001b[33m)\u001b[39m\u001b[0m, \u001b[0m%zmm2\n",
      "\t\u001b[96m\u001b[1mvaddpd\u001b[22m\u001b[39m\t\u001b[0m%zmm2\u001b[0m, \u001b[0m%zmm1\u001b[0m, \u001b[0m%zmm1\n",
      "\u001b[90m; ││││││││└└\u001b[39m\n",
      "\u001b[90m; ││││││││ @ fmap.jl:9 within `fmap' @ fmap.jl:6\u001b[39m\n",
      "\u001b[90m; ││││││││┌ @ binary_ops.jl:94 within `vadd_fast'\u001b[39m\n",
      "\u001b[90m; │││││││││┌ @ binary_ops.jl:94 within `macro expansion'\u001b[39m\n",
      "\t\u001b[96m\u001b[1mvaddpd\u001b[22m\u001b[39m\t\u001b[0m%zmm2\u001b[0m, \u001b[0m%zmm0\u001b[0m, \u001b[0m%zmm0\n",
      "\u001b[90m; │││││└└└└└\u001b[39m\n",
      "\u001b[90m; │││││┌ @ unary_ops.jl:25 within `inv_fast'\u001b[39m\n",
      "\u001b[90m; ││││││┌ @ base_defs.jl:86 within `div_fast'\u001b[39m\n",
      "\u001b[90m; │││││││┌ @ intrin_funcs.jl:709 within `vfdiv_fast'\u001b[39m\n",
      "\u001b[90m; ││││││││┌ @ intrin_funcs.jl:678 within `vfdiv_afast'\u001b[39m\n",
      "\u001b[90m; │││││││││┌ @ fmap.jl:9 within `fmap'\u001b[39m\n",
      "\u001b[90m; ││││││││││┌ @ binary_ops.jl:94 within `vfdiv_fast'\u001b[39m\n",
      "\u001b[90m; │││││││││││┌ @ binary_ops.jl:94 within `macro expansion'\u001b[39m\n",
      "\t\u001b[96m\u001b[1mvdivpd\u001b[22m\u001b[39m\t\u001b[0m%zmm1\u001b[0m, \u001b[0m%zmm2\u001b[0m, \u001b[0m%zmm1\n",
      "\u001b[90m; ││││││││││└└\u001b[39m\n",
      "\u001b[90m; ││││││││││ @ fmap.jl:9 within `fmap' @ fmap.jl:6\u001b[39m\n",
      "\u001b[90m; ││││││││││┌ @ binary_ops.jl:94 within `vfdiv_fast'\u001b[39m\n",
      "\u001b[90m; │││││││││││┌ @ binary_ops.jl:94 within `macro expansion'\u001b[39m\n",
      "\t\u001b[96m\u001b[1mvdivpd\u001b[22m\u001b[39m\t\u001b[0m%zmm0\u001b[0m, \u001b[0m%zmm2\u001b[0m, \u001b[0m%zmm0\n",
      "\u001b[90m; │││││└└└└└└└\u001b[39m\n",
      "\u001b[90m; │││││┌ @ memory.jl:768 within `_vstore!'\u001b[39m\n",
      "\u001b[90m; ││││││┌ @ memory.jl:711 within `_vstore_unroll!'\u001b[39m\n",
      "\u001b[90m; │││││││┌ @ memory.jl:457 within `macro expansion'\u001b[39m\n",
      "\u001b[90m; ││││││││┌ @ stridedpointers.jl:229 within `_vstore!'\u001b[39m\n",
      "\u001b[90m; │││││││││┌ @ memory_addr.jl:810 within `__vstore!'\u001b[39m\n",
      "\u001b[90m; ││││││││││┌ @ memory_addr.jl:810 within `macro expansion'\u001b[39m\n",
      "\t\u001b[96m\u001b[1mvmovupd\u001b[22m\u001b[39m\t\u001b[0m%zmm1\u001b[0m, \u001b[33m(\u001b[39m\u001b[0m%rdx\u001b[0m,\u001b[0m%r10\u001b[0m,\u001b[33m8\u001b[39m\u001b[33m)\u001b[39m\n",
      "\u001b[90m; ││││││││└└└\u001b[39m\n",
      "\u001b[90m; ││││││││┌ @ stridedpointers.jl:235 within `_vstore!'\u001b[39m\n",
      "\u001b[90m; │││││││││┌ @ memory_addr.jl:849 within `__vstore!'\u001b[39m\n",
      "\u001b[90m; ││││││││││┌ @ memory_addr.jl:849 within `macro expansion'\u001b[39m\n",
      "\t\u001b[96m\u001b[1mvmovupd\u001b[22m\u001b[39m\t\u001b[0m%zmm0\u001b[0m, \u001b[33m64\u001b[39m\u001b[33m(\u001b[39m\u001b[0m%rdx\u001b[0m,\u001b[0m%r10\u001b[0m,\u001b[33m8\u001b[39m\u001b[33m)\u001b[39m \u001b[33m{\u001b[39m\u001b[0m%k1\u001b[33m}\u001b[39m\n",
      "\u001b[90m; │└└└└└└└└└└\u001b[39m\n",
      "\t\u001b[96m\u001b[1mpopq\u001b[22m\u001b[39m\t\u001b[0m%rcx\n",
      "\t\u001b[96m\u001b[1mvzeroupper\u001b[22m\u001b[39m\n",
      "\t\u001b[96m\u001b[1mretq\u001b[22m\u001b[39m\n",
      "\u001b[90m; │┌ @ broadcast.jl:393 within `vmaterialize!'\u001b[39m\n",
      "\u001b[90m; ││┌ @ broadcast.jl:393 within `macro expansion'\u001b[39m\n",
      "\u001b[90m; │││┌ @ refvalue.jl:56 within `getindex'\u001b[39m\n",
      "\u001b[90m; ││││┌ @ Base.jl:33 within `getproperty'\u001b[39m\n",
      "\u001b[91mL1385:\u001b[39m\n",
      "\t\u001b[96m\u001b[1mmovabsq\u001b[22m\u001b[39m\t\u001b[93m$jl_throw\u001b[39m\u001b[0m, \u001b[0m%rax\n",
      "\t\u001b[96m\u001b[1mmovabsq\u001b[22m\u001b[39m\t\u001b[93m$jl_system_image_data\u001b[39m\u001b[0m, \u001b[0m%rdi\n",
      "\t\u001b[96m\u001b[1mcallq\u001b[22m\u001b[39m\t\u001b[0m*\u001b[0m%rax\n",
      "\u001b[90m; └└└└└\u001b[39m\n"
     ]
    }
   ],
   "source": [
    "@code_native logistic!(yvals, xvals)"
   ]
  },
  {
   "cell_type": "markdown",
   "id": "f25872a2",
   "metadata": {
    "slideshow": {
     "slide_type": "slide"
    }
   },
   "source": [
    "# Summary\n",
    "- All functions in Julia are *generic* and use *multiple dispatch*\n",
    "- A generic has one or more implementation methods, as returned by `methods()`.\n",
    "- Just-In-Time (JIT) compilation is performed on *method instances*, which are specific to the argument *signature* as concrete types\n",
    "- There are many steps from a method implementation to a compiled method instance.  Many of these steps are in Julia code, not llvm.\n",
    "- Some incredible tools for enhancing Julia code are being written in Julia."
   ]
  },
  {
   "cell_type": "markdown",
   "id": "2ccbe745",
   "metadata": {
    "slideshow": {
     "slide_type": "slide"
    }
   },
   "source": [
    "![One does not](assets/5hs27j.jpg)"
   ]
  }
 ],
 "metadata": {
  "celltoolbar": "Slideshow",
  "kernelspec": {
   "display_name": "Julia 1.6.2",
   "language": "julia",
   "name": "julia-1.6"
  },
  "language_info": {
   "file_extension": ".jl",
   "mimetype": "application/julia",
   "name": "julia",
   "version": "1.6.2"
  }
 },
 "nbformat": 4,
 "nbformat_minor": 5
}
