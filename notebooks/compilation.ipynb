{
 "cells": [
  {
   "cell_type": "markdown",
   "id": "d3c1ef85",
   "metadata": {
    "slideshow": {
     "slide_type": "slide"
    }
   },
   "source": [
    "# A deep dive into a simple function evaluation\n",
    "\n",
    "- To illustrate how the *Julia* language allows for functions or methods defined at a high level to be compiled, we consider, in great detail, a simple example.\n",
    "- The *logistic* function, $g^{-1}(x) = \\frac{1}{1 + \\exp(-x)}$, will be called on a *linear predictor* vector many times when fitting a logistic regression model (i.e. a GLM with the logit link).\n",
    "- On the [Beautiful Algorithms repository](https://github.com/mossr/BeautifulAlgorithms.jl) the function is coded in Julia as"
   ]
  },
  {
   "cell_type": "code",
   "execution_count": 1,
   "id": "04250ce0",
   "metadata": {
    "slideshow": {
     "slide_type": "fragment"
    }
   },
   "outputs": [
    {
     "data": {
      "text/plain": [
       "logistic (generic function with 1 method)"
      ]
     },
     "execution_count": 1,
     "metadata": {},
     "output_type": "execute_result"
    }
   ],
   "source": [
    "logistic(x) = 1 / (1 + exp(-x))"
   ]
  },
  {
   "cell_type": "markdown",
   "id": "498a0f54",
   "metadata": {
    "slideshow": {
     "slide_type": "slide"
    }
   },
   "source": [
    "### If we were making a meme, `1/(1+exp(-x))` would be *how it started*\n",
    "- Notice that `logistic` is a *generic* function with 1 method."
   ]
  },
  {
   "cell_type": "code",
   "execution_count": 2,
   "id": "9bcf5b2b",
   "metadata": {
    "slideshow": {
     "slide_type": "-"
    }
   },
   "outputs": [
    {
     "data": {
      "text/html": [
       "# 1 method for generic function <b>logistic</b>:<ul><li> logistic(x) in Main at In[1]:1</li> </ul>"
      ],
      "text/plain": [
       "# 1 method for generic function \"logistic\":\n",
       "[1] logistic(x) in Main at In[1]:1"
      ]
     },
     "execution_count": 2,
     "metadata": {},
     "output_type": "execute_result"
    }
   ],
   "source": [
    "methods(logistic)  # prints the implementation methods"
   ]
  },
  {
   "cell_type": "markdown",
   "id": "86c4cf8a",
   "metadata": {},
   "source": [
    "- all functions in Julia are generic"
   ]
  },
  {
   "cell_type": "markdown",
   "id": "4a03b688",
   "metadata": {
    "slideshow": {
     "slide_type": "slide"
    }
   },
   "source": [
    "## Implementation methods\n",
    "- We refer to this method as an *implementation method*. It defines how the generic function, `logistic`, is to be implemented for a particular *signature* of arguments and their types.\n",
    "- In this case there is only one argument, `x`, and it has not been given an explicit type. It receives the default type, `Any`."
   ]
  },
  {
   "cell_type": "markdown",
   "id": "c0ce1005",
   "metadata": {
    "slideshow": {
     "slide_type": "slide"
    }
   },
   "source": [
    "## Applying the method"
   ]
  },
  {
   "cell_type": "code",
   "execution_count": 3,
   "id": "a4db2079",
   "metadata": {
    "slideshow": {
     "slide_type": "fragment"
    }
   },
   "outputs": [
    {
     "data": {
      "text/plain": [
       "0.7858349830425586"
      ]
     },
     "execution_count": 3,
     "metadata": {},
     "output_type": "execute_result"
    }
   ],
   "source": [
    "logistic(1.3)   # double precision floating point (Float64) number"
   ]
  },
  {
   "cell_type": "code",
   "execution_count": 4,
   "id": "adf7f749",
   "metadata": {
    "slideshow": {
     "slide_type": "fragment"
    }
   },
   "outputs": [
    {
     "data": {
      "text/plain": [
       "0.785835f0"
      ]
     },
     "execution_count": 4,
     "metadata": {},
     "output_type": "execute_result"
    }
   ],
   "source": [
    "logistic(1.3f0) # single precision floating point (Float32) number"
   ]
  },
  {
   "cell_type": "code",
   "execution_count": 5,
   "id": "d95f65b1",
   "metadata": {
    "slideshow": {
     "slide_type": "fragment"
    }
   },
   "outputs": [
    {
     "data": {
      "text/plain": [
       "0.7858349830425586126020884722584271689742135868545025097196545829561991203103529"
      ]
     },
     "execution_count": 5,
     "metadata": {},
     "output_type": "execute_result"
    }
   ],
   "source": [
    "logistic(big\"1.3\") # BigFloat"
   ]
  },
  {
   "cell_type": "markdown",
   "id": "d971123b",
   "metadata": {
    "slideshow": {
     "slide_type": "slide"
    }
   },
   "source": [
    "## Method Instances\n",
    "\n",
    "- The Julia compiler acts on methods, but at a much more specific level of signature specification, where it can infer types of intermediate results.\n",
    "- These are called *method instances* where the method signature is all *concrete* types.\n",
    "- There are several functions and macros that allow for inspection of the steps from a specific function call to the actual assembler code produced by the compiler.\n",
    "- We will use the macro versions, `@code_lowered`, `@code_warntype`, ..."
   ]
  },
  {
   "cell_type": "markdown",
   "id": "d54db643",
   "metadata": {
    "slideshow": {
     "slide_type": "slide"
    }
   },
   "source": [
    "### First the code is *lowered*\n",
    "- Parts of the syntax are re-written in a simpler [static single-assignment](https://en.wikipedia.org/wiki/Static_single_assignment_form) form."
   ]
  },
  {
   "cell_type": "code",
   "execution_count": 6,
   "id": "7d000a13",
   "metadata": {
    "slideshow": {
     "slide_type": "-"
    }
   },
   "outputs": [
    {
     "data": {
      "text/plain": [
       "CodeInfo(\n",
       "\u001b[90m1 ─\u001b[39m %1 = -x\n",
       "\u001b[90m│  \u001b[39m %2 = Main.exp(%1)\n",
       "\u001b[90m│  \u001b[39m %3 = 1 + %2\n",
       "\u001b[90m│  \u001b[39m %4 = 1 / %3\n",
       "\u001b[90m└──\u001b[39m      return %4\n",
       ")"
      ]
     },
     "execution_count": 6,
     "metadata": {},
     "output_type": "execute_result"
    }
   ],
   "source": [
    "@code_lowered logistic(1.3)"
   ]
  },
  {
   "cell_type": "markdown",
   "id": "e483543b",
   "metadata": {},
   "source": [
    "- Side note: `@code_lowered` is a call to a macro which takes an expression and re-arranges it to another, more complicated expression, which is then evaluated.  "
   ]
  },
  {
   "cell_type": "code",
   "execution_count": 7,
   "id": "0809031c",
   "metadata": {
    "slideshow": {
     "slide_type": "skip"
    }
   },
   "outputs": [
    {
     "data": {
      "text/plain": [
       "1-element Vector{Core.CodeInfo}:\n",
       " CodeInfo(\n",
       "\u001b[90m1 ─\u001b[39m %1 = -x\n",
       "\u001b[90m│  \u001b[39m %2 = Main.exp(%1)\n",
       "\u001b[90m│  \u001b[39m %3 = 1 + %2\n",
       "\u001b[90m│  \u001b[39m %4 = 1 / %3\n",
       "\u001b[90m└──\u001b[39m      return %4\n",
       ")"
      ]
     },
     "execution_count": 7,
     "metadata": {},
     "output_type": "execute_result"
    }
   ],
   "source": [
    "code_lowered(logistic, (Float64,))"
   ]
  },
  {
   "cell_type": "markdown",
   "id": "f98a5f43",
   "metadata": {
    "slideshow": {
     "slide_type": "slide"
    }
   },
   "source": [
    "### Then *type inference* is performed"
   ]
  },
  {
   "cell_type": "code",
   "execution_count": 8,
   "id": "69c066c1",
   "metadata": {
    "slideshow": {
     "slide_type": "-"
    }
   },
   "outputs": [
    {
     "name": "stdout",
     "output_type": "stream",
     "text": [
      "Variables\n",
      "  #self#\u001b[36m::Core.Const(logistic)\u001b[39m\n",
      "  x\u001b[36m::Float64\u001b[39m\n",
      "\n",
      "Body\u001b[36m::Float64\u001b[39m\n",
      "\u001b[90m1 ─\u001b[39m %1 = -x\u001b[36m::Float64\u001b[39m\n",
      "\u001b[90m│  \u001b[39m %2 = Main.exp(%1)\u001b[36m::Float64\u001b[39m\n",
      "\u001b[90m│  \u001b[39m %3 = (1 + %2)\u001b[36m::Float64\u001b[39m\n",
      "\u001b[90m│  \u001b[39m %4 = (1 / %3)\u001b[36m::Float64\u001b[39m\n",
      "\u001b[90m└──\u001b[39m      return %4\n"
     ]
    }
   ],
   "source": [
    "@code_warntype logistic(1.3)   # after type inference"
   ]
  },
  {
   "cell_type": "markdown",
   "id": "897fb74d",
   "metadata": {
    "slideshow": {
     "slide_type": "slide"
    }
   },
   "source": [
    "### Then the llvm code is generated"
   ]
  },
  {
   "cell_type": "code",
   "execution_count": 9,
   "id": "1e524792",
   "metadata": {
    "slideshow": {
     "slide_type": "-"
    }
   },
   "outputs": [
    {
     "name": "stdout",
     "output_type": "stream",
     "text": [
      "\u001b[90m;  @ In[1]:1 within `logistic'\u001b[39m\n",
      "\u001b[95mdefine\u001b[39m \u001b[36mdouble\u001b[39m \u001b[93m@julia_logistic_2164\u001b[39m\u001b[33m(\u001b[39m\u001b[36mdouble\u001b[39m \u001b[0m%0\u001b[33m)\u001b[39m \u001b[33m{\u001b[39m\n",
      "\u001b[91mtop:\u001b[39m\n",
      "\u001b[90m; ┌ @ float.jl:320 within `-'\u001b[39m\n",
      "   \u001b[0m%1 \u001b[0m= \u001b[96m\u001b[1mfneg\u001b[22m\u001b[39m \u001b[36mdouble\u001b[39m \u001b[0m%0\n",
      "\u001b[90m; └\u001b[39m\n",
      "  \u001b[0m%2 \u001b[0m= \u001b[96m\u001b[1mcall\u001b[22m\u001b[39m \u001b[36mdouble\u001b[39m \u001b[93m@j_exp_2166\u001b[39m\u001b[33m(\u001b[39m\u001b[36mdouble\u001b[39m \u001b[0m%1\u001b[33m)\u001b[39m\n",
      "\u001b[90m; ┌ @ promotion.jl:321 within `+' @ float.jl:326\u001b[39m\n",
      "   \u001b[0m%3 \u001b[0m= \u001b[96m\u001b[1mfadd\u001b[22m\u001b[39m \u001b[36mdouble\u001b[39m \u001b[0m%2\u001b[0m, \u001b[33m1.000000e+00\u001b[39m\n",
      "\u001b[90m; └\u001b[39m\n",
      "\u001b[90m; ┌ @ promotion.jl:324 within `/' @ float.jl:335\u001b[39m\n",
      "   \u001b[0m%4 \u001b[0m= \u001b[96m\u001b[1mfdiv\u001b[22m\u001b[39m \u001b[36mdouble\u001b[39m \u001b[33m1.000000e+00\u001b[39m\u001b[0m, \u001b[0m%3\n",
      "\u001b[90m; └\u001b[39m\n",
      "  \u001b[96m\u001b[1mret\u001b[22m\u001b[39m \u001b[36mdouble\u001b[39m \u001b[0m%4\n",
      "\u001b[33m}\u001b[39m\n"
     ]
    }
   ],
   "source": [
    "@code_llvm logistic(1.3)"
   ]
  },
  {
   "cell_type": "markdown",
   "id": "4fed5de9",
   "metadata": {
    "slideshow": {
     "slide_type": "slide"
    }
   },
   "source": [
    "### And, finally, the native code is generated and cached"
   ]
  },
  {
   "cell_type": "code",
   "execution_count": 10,
   "id": "0589394f",
   "metadata": {
    "slideshow": {
     "slide_type": "fragment"
    }
   },
   "outputs": [
    {
     "name": "stdout",
     "output_type": "stream",
     "text": [
      "\t\u001b[0m.text\n",
      "\u001b[90m; ┌ @ In[1]:1 within `logistic'\u001b[39m\n",
      "\t\u001b[96m\u001b[1mpushq\u001b[22m\u001b[39m\t\u001b[0m%rax\n",
      "\t\u001b[96m\u001b[1mmovabsq\u001b[22m\u001b[39m\t\u001b[93m$.rodata.cst16\u001b[39m\u001b[0m, \u001b[0m%rax\n",
      "\u001b[90m; │┌ @ float.jl:320 within `-'\u001b[39m\n",
      "\t\u001b[96m\u001b[1mvxorpd\u001b[22m\u001b[39m\t\u001b[33m(\u001b[39m\u001b[0m%rax\u001b[33m)\u001b[39m\u001b[0m, \u001b[0m%xmm0\u001b[0m, \u001b[0m%xmm0\n",
      "\u001b[90m; │└\u001b[39m\n",
      "\t\u001b[96m\u001b[1mmovabsq\u001b[22m\u001b[39m\t\u001b[93m$exp\u001b[39m\u001b[0m, \u001b[0m%rax\n",
      "\t\u001b[96m\u001b[1mcallq\u001b[22m\u001b[39m\t\u001b[0m*\u001b[0m%rax\n",
      "\t\u001b[96m\u001b[1mmovabsq\u001b[22m\u001b[39m\t\u001b[93m$.rodata.cst8\u001b[39m\u001b[0m, \u001b[0m%rax\n",
      "\t\u001b[96m\u001b[1mvmovsd\u001b[22m\u001b[39m\t\u001b[33m(\u001b[39m\u001b[0m%rax\u001b[33m)\u001b[39m\u001b[0m, \u001b[0m%xmm1                   \u001b[90m# xmm1 = mem[0],zero\u001b[39m\n",
      "\u001b[90m; │┌ @ promotion.jl:321 within `+' @ float.jl:326\u001b[39m\n",
      "\t\u001b[96m\u001b[1mvaddsd\u001b[22m\u001b[39m\t\u001b[0m%xmm1\u001b[0m, \u001b[0m%xmm0\u001b[0m, \u001b[0m%xmm0\n",
      "\u001b[90m; │└\u001b[39m\n",
      "\u001b[90m; │┌ @ promotion.jl:324 within `/' @ float.jl:335\u001b[39m\n",
      "\t\u001b[96m\u001b[1mvdivsd\u001b[22m\u001b[39m\t\u001b[0m%xmm0\u001b[0m, \u001b[0m%xmm1\u001b[0m, \u001b[0m%xmm0\n",
      "\u001b[90m; │└\u001b[39m\n",
      "\t\u001b[96m\u001b[1mpopq\u001b[22m\u001b[39m\t\u001b[0m%rax\n",
      "\t\u001b[96m\u001b[1mretq\u001b[22m\u001b[39m\n",
      "\t\u001b[96m\u001b[1mnopw\u001b[22m\u001b[39m\t\u001b[0m%cs\u001b[0m:\u001b[33m(\u001b[39m\u001b[0m%rax\u001b[0m,\u001b[0m%rax\u001b[33m)\u001b[39m\n",
      "\u001b[90m; └\u001b[39m\n"
     ]
    }
   ],
   "source": [
    "@code_native logistic(1.3)  # the assembler code for my processor"
   ]
  },
  {
   "cell_type": "markdown",
   "id": "ce7e8da5",
   "metadata": {
    "slideshow": {
     "slide_type": "slide"
    }
   },
   "source": [
    "## An aside:\n",
    "- the 'and cached' is key to making the system performant\n",
    "- the code that dispatches from method calls to compiled method instances is what makes the system possible "
   ]
  },
  {
   "cell_type": "markdown",
   "id": "701989d1",
   "metadata": {
    "slideshow": {
     "slide_type": "slide"
    }
   },
   "source": [
    "## Possibly many method instances from a single implementation\n",
    "\n",
    "- Another (concrete) argument type will result in another method instance."
   ]
  },
  {
   "cell_type": "code",
   "execution_count": 11,
   "id": "4c56fd1c",
   "metadata": {
    "slideshow": {
     "slide_type": "fragment"
    }
   },
   "outputs": [],
   "source": [
    "using MethodAnalysis"
   ]
  },
  {
   "cell_type": "code",
   "execution_count": 12,
   "id": "f46db81d",
   "metadata": {
    "slideshow": {
     "slide_type": "fragment"
    }
   },
   "outputs": [
    {
     "data": {
      "text/plain": [
       "3-element Vector{Core.MethodInstance}:\n",
       " MethodInstance for logistic(::\u001b[0mFloat64)\n",
       " MethodInstance for logistic(::\u001b[0mFloat32)\n",
       " MethodInstance for logistic(::\u001b[0mBigFloat)"
      ]
     },
     "execution_count": 12,
     "metadata": {},
     "output_type": "execute_result"
    }
   ],
   "source": [
    "methodinstances(logistic)"
   ]
  },
  {
   "cell_type": "markdown",
   "id": "153c49ab",
   "metadata": {
    "slideshow": {
     "slide_type": "slide"
    }
   },
   "source": [
    "### Implementation methods should be general, if possible\n",
    "\n",
    "- Often we leave the signature vague in an implementation.\n",
    "- We can even apply a slight generalization of this method implementation to matrices (because `exp(A)` can apply to matrices as the matrix exponential.)"
   ]
  },
  {
   "cell_type": "code",
   "execution_count": 13,
   "id": "96e5449f",
   "metadata": {
    "slideshow": {
     "slide_type": "fragment"
    }
   },
   "outputs": [
    {
     "data": {
      "text/plain": [
       "logistic (generic function with 1 method)"
      ]
     },
     "execution_count": 13,
     "metadata": {},
     "output_type": "execute_result"
    }
   ],
   "source": [
    "logistic(x) = inv(one(x) + exp(-x))"
   ]
  },
  {
   "cell_type": "markdown",
   "id": "1b5a4205",
   "metadata": {
    "slideshow": {
     "slide_type": "fragment"
    }
   },
   "source": [
    "- methods for `one` and `inv` encapsulate 'the idea of'\n",
    "    + `one(x)` returns the multiplicative identity for `typeof(x)`\n",
    "    + `inv(x)` returns the multiplicative inverse of `x`\n",
    "- often these methods are so simple they can be inlined by the compiler, but they allow for generality"
   ]
  },
  {
   "cell_type": "code",
   "execution_count": 14,
   "id": "2be8dc3e",
   "metadata": {
    "slideshow": {
     "slide_type": "slide"
    }
   },
   "outputs": [
    {
     "name": "stdout",
     "output_type": "stream",
     "text": [
      "Variables\n",
      "  #self#\u001b[36m::Core.Const(logistic)\u001b[39m\n",
      "  x\u001b[36m::Float64\u001b[39m\n",
      "\n",
      "Body\u001b[36m::Float64\u001b[39m\n",
      "\u001b[90m1 ─\u001b[39m %1 = Main.one(x)\u001b[36m::Core.Const(1.0)\u001b[39m\n",
      "\u001b[90m│  \u001b[39m %2 = -x\u001b[36m::Float64\u001b[39m\n",
      "\u001b[90m│  \u001b[39m %3 = Main.exp(%2)\u001b[36m::Float64\u001b[39m\n",
      "\u001b[90m│  \u001b[39m %4 = (%1 + %3)\u001b[36m::Float64\u001b[39m\n",
      "\u001b[90m│  \u001b[39m %5 = Main.inv(%4)\u001b[36m::Float64\u001b[39m\n",
      "\u001b[90m└──\u001b[39m      return %5\n"
     ]
    }
   ],
   "source": [
    "@code_warntype logistic(1.3)"
   ]
  },
  {
   "cell_type": "code",
   "execution_count": 15,
   "id": "fdce3c49",
   "metadata": {
    "slideshow": {
     "slide_type": "-"
    }
   },
   "outputs": [
    {
     "name": "stdout",
     "output_type": "stream",
     "text": [
      "\u001b[90m;  @ In[13]:1 within `logistic'\u001b[39m\n",
      "\u001b[95mdefine\u001b[39m \u001b[36mdouble\u001b[39m \u001b[93m@julia_logistic_2376\u001b[39m\u001b[33m(\u001b[39m\u001b[36mdouble\u001b[39m \u001b[0m%0\u001b[33m)\u001b[39m \u001b[33m{\u001b[39m\n",
      "\u001b[91mtop:\u001b[39m\n",
      "\u001b[90m; ┌ @ float.jl:320 within `-'\u001b[39m\n",
      "   \u001b[0m%1 \u001b[0m= \u001b[96m\u001b[1mfneg\u001b[22m\u001b[39m \u001b[36mdouble\u001b[39m \u001b[0m%0\n",
      "\u001b[90m; └\u001b[39m\n",
      "  \u001b[0m%2 \u001b[0m= \u001b[96m\u001b[1mcall\u001b[22m\u001b[39m \u001b[36mdouble\u001b[39m \u001b[93m@j_exp_2378\u001b[39m\u001b[33m(\u001b[39m\u001b[36mdouble\u001b[39m \u001b[0m%1\u001b[33m)\u001b[39m\n",
      "\u001b[90m; ┌ @ float.jl:326 within `+'\u001b[39m\n",
      "   \u001b[0m%3 \u001b[0m= \u001b[96m\u001b[1mfadd\u001b[22m\u001b[39m \u001b[36mdouble\u001b[39m \u001b[0m%2\u001b[0m, \u001b[33m1.000000e+00\u001b[39m\n",
      "\u001b[90m; └\u001b[39m\n",
      "\u001b[90m; ┌ @ number.jl:217 within `inv'\u001b[39m\n",
      "\u001b[90m; │┌ @ float.jl:335 within `/'\u001b[39m\n",
      "    \u001b[0m%4 \u001b[0m= \u001b[96m\u001b[1mfdiv\u001b[22m\u001b[39m \u001b[36mdouble\u001b[39m \u001b[33m1.000000e+00\u001b[39m\u001b[0m, \u001b[0m%3\n",
      "\u001b[90m; └└\u001b[39m\n",
      "  \u001b[96m\u001b[1mret\u001b[22m\u001b[39m \u001b[36mdouble\u001b[39m \u001b[0m%4\n",
      "\u001b[33m}\u001b[39m\n"
     ]
    }
   ],
   "source": [
    "@code_llvm logistic(1.3)"
   ]
  },
  {
   "cell_type": "code",
   "execution_count": 16,
   "id": "578b770e",
   "metadata": {
    "slideshow": {
     "slide_type": "slide"
    }
   },
   "outputs": [
    {
     "data": {
      "text/html": [
       "# 19 methods for generic function <b>one</b>:<ul><li> one(::<b>Union{Type{T}, T}</b>)<i> where T<:AbstractString</i> in Base at <a href=\"https://github.com/JuliaLang/julia/tree/1b93d53fc4bb59350ada898038ed4de2994cce33/base/strings/basic.jl#L262\" target=\"_blank\">strings/basic.jl:262</a></li> <li> one(::<b>Union{Type{P}, P}</b>)<i> where P<:Dates.Period</i> in Dates at <a href=\"file:///buildworker/worker/package_linux64/build/usr/share/julia/stdlib/v1.6/Dates/src/periods.jl\" target=\"_blank\">/home/bates/src/julia-1.6.2/share/julia/stdlib/v1.6/Dates/src/periods.jl:54</a></li> <li> one(A::<b>LinearAlgebra.Tridiagonal{T, V} where V<:AbstractVector{T}</b>)<i> where T</i> in LinearAlgebra at <a href=\"file:///buildworker/worker/package_linux64/build/usr/share/julia/stdlib/v1.6/LinearAlgebra/src/special.jl\" target=\"_blank\">/home/bates/src/julia-1.6.2/share/julia/stdlib/v1.6/LinearAlgebra/src/special.jl:307</a></li> <li> one(A::<b>LinearAlgebra.SymTridiagonal{T, V} where V<:AbstractVector{T}</b>)<i> where T</i> in LinearAlgebra at <a href=\"file:///buildworker/worker/package_linux64/build/usr/share/julia/stdlib/v1.6/LinearAlgebra/src/special.jl\" target=\"_blank\">/home/bates/src/julia-1.6.2/share/julia/stdlib/v1.6/LinearAlgebra/src/special.jl:308</a></li> <li> one(A::<b>LinearAlgebra.Diagonal{T, V} where V<:AbstractVector{T}</b>)<i> where T</i> in LinearAlgebra at <a href=\"file:///buildworker/worker/package_linux64/build/usr/share/julia/stdlib/v1.6/LinearAlgebra/src/special.jl\" target=\"_blank\">/home/bates/src/julia-1.6.2/share/julia/stdlib/v1.6/LinearAlgebra/src/special.jl:305</a></li> <li> one(A::<b>LinearAlgebra.Bidiagonal{T, V} where V<:AbstractVector{T}</b>)<i> where T</i> in LinearAlgebra at <a href=\"file:///buildworker/worker/package_linux64/build/usr/share/julia/stdlib/v1.6/LinearAlgebra/src/special.jl\" target=\"_blank\">/home/bates/src/julia-1.6.2/share/julia/stdlib/v1.6/LinearAlgebra/src/special.jl:306</a></li> <li> one(J::<b>LinearAlgebra.UniformScaling{T}</b>)<i> where T</i> in LinearAlgebra at <a href=\"file:///buildworker/worker/package_linux64/build/usr/share/julia/stdlib/v1.6/LinearAlgebra/src/uniformscaling.jl\" target=\"_blank\">/home/bates/src/julia-1.6.2/share/julia/stdlib/v1.6/LinearAlgebra/src/uniformscaling.jl:132</a></li> <li> one(i::<b>CartesianIndex</b>) in Base at <a href=\"https://github.com/JuliaLang/julia/tree/1b93d53fc4bb59350ada898038ed4de2994cce33/base/deprecated.jl#L70\" target=\"_blank\">deprecated.jl:70</a></li> <li> one(::<b>AbstractIrrational</b>) in Base at <a href=\"https://github.com/JuliaLang/julia/tree/1b93d53fc4bb59350ada898038ed4de2994cce33/base/irrationals.jl#L151\" target=\"_blank\">irrationals.jl:151</a></li> <li> one(x::<b>T</b>)<i> where T<:Number</i> in Base at <a href=\"https://github.com/JuliaLang/julia/tree/1b93d53fc4bb59350ada898038ed4de2994cce33/base/number.jl#L296\" target=\"_blank\">number.jl:296</a></li> <li> one(I::<b>Type{CartesianIndex{N}}</b>)<i> where N</i> in Base at <a href=\"https://github.com/JuliaLang/julia/tree/1b93d53fc4bb59350ada898038ed4de2994cce33/base/deprecated.jl#L70\" target=\"_blank\">deprecated.jl:70</a></li> <li> one(::<b>Type{var\"#s832\"} where var\"#s832\"<:AbstractIrrational</b>) in Base at <a href=\"https://github.com/JuliaLang/julia/tree/1b93d53fc4bb59350ada898038ed4de2994cce33/base/irrationals.jl#L152\" target=\"_blank\">irrationals.jl:152</a></li> <li> one(::<b>Type{T}</b>)<i> where T<:Number</i> in Base at <a href=\"https://github.com/JuliaLang/julia/tree/1b93d53fc4bb59350ada898038ed4de2994cce33/base/number.jl#L295\" target=\"_blank\">number.jl:295</a></li> <li> one(::<b>Type{LinearAlgebra.UniformScaling{T}}</b>)<i> where T</i> in LinearAlgebra at <a href=\"file:///buildworker/worker/package_linux64/build/usr/share/julia/stdlib/v1.6/LinearAlgebra/src/uniformscaling.jl\" target=\"_blank\">/home/bates/src/julia-1.6.2/share/julia/stdlib/v1.6/LinearAlgebra/src/uniformscaling.jl:131</a></li> <li> one(::<b>Missing</b>) in Base at <a href=\"https://github.com/JuliaLang/julia/tree/1b93d53fc4bb59350ada898038ed4de2994cce33/base/missing.jl#L101\" target=\"_blank\">missing.jl:101</a></li> <li> one(x::<b>BitMatrix</b>) in Base at <a href=\"https://github.com/JuliaLang/julia/tree/1b93d53fc4bb59350ada898038ed4de2994cce33/base/bitarray.jl#L426\" target=\"_blank\">bitarray.jl:426</a></li> <li> one(x::<b>AbstractMatrix{T}</b>)<i> where T</i> in Base at <a href=\"https://github.com/JuliaLang/julia/tree/1b93d53fc4bb59350ada898038ed4de2994cce33/base/array.jl#L527\" target=\"_blank\">array.jl:527</a></li> <li> one(::<b>Type{Missing}</b>) in Base at <a href=\"https://github.com/JuliaLang/julia/tree/1b93d53fc4bb59350ada898038ed4de2994cce33/base/missing.jl#L104\" target=\"_blank\">missing.jl:104</a></li> <li> one(::<b>Type{Union{Missing, T}}</b>)<i> where T</i> in Base at <a href=\"https://github.com/JuliaLang/julia/tree/1b93d53fc4bb59350ada898038ed4de2994cce33/base/missing.jl#L105\" target=\"_blank\">missing.jl:105</a></li> </ul>"
      ],
      "text/plain": [
       "# 19 methods for generic function \"one\":\n",
       "[1] one(::Union{Type{T}, T}) where T<:AbstractString in Base at strings/basic.jl:262\n",
       "[2] one(::Union{Type{P}, P}) where P<:Dates.Period in Dates at /home/bates/src/julia-1.6.2/share/julia/stdlib/v1.6/Dates/src/periods.jl:54\n",
       "[3] one(A::LinearAlgebra.Tridiagonal{T, V} where V<:AbstractVector{T}) where T in LinearAlgebra at /home/bates/src/julia-1.6.2/share/julia/stdlib/v1.6/LinearAlgebra/src/special.jl:307\n",
       "[4] one(A::LinearAlgebra.SymTridiagonal{T, V} where V<:AbstractVector{T}) where T in LinearAlgebra at /home/bates/src/julia-1.6.2/share/julia/stdlib/v1.6/LinearAlgebra/src/special.jl:308\n",
       "[5] one(A::LinearAlgebra.Diagonal{T, V} where V<:AbstractVector{T}) where T in LinearAlgebra at /home/bates/src/julia-1.6.2/share/julia/stdlib/v1.6/LinearAlgebra/src/special.jl:305\n",
       "[6] one(A::LinearAlgebra.Bidiagonal{T, V} where V<:AbstractVector{T}) where T in LinearAlgebra at /home/bates/src/julia-1.6.2/share/julia/stdlib/v1.6/LinearAlgebra/src/special.jl:306\n",
       "[7] one(J::LinearAlgebra.UniformScaling{T}) where T in LinearAlgebra at /home/bates/src/julia-1.6.2/share/julia/stdlib/v1.6/LinearAlgebra/src/uniformscaling.jl:132\n",
       "[8] one(i::CartesianIndex) in Base at deprecated.jl:70\n",
       "[9] one(::AbstractIrrational) in Base at irrationals.jl:151\n",
       "[10] one(x::T) where T<:Number in Base at number.jl:296\n",
       "[11] one(I::Type{CartesianIndex{N}}) where N in Base at deprecated.jl:70\n",
       "[12] one(::Type{var\"#s832\"} where var\"#s832\"<:AbstractIrrational) in Base at irrationals.jl:152\n",
       "[13] one(::Type{T}) where T<:Number in Base at number.jl:295\n",
       "[14] one(::Type{LinearAlgebra.UniformScaling{T}}) where T in LinearAlgebra at /home/bates/src/julia-1.6.2/share/julia/stdlib/v1.6/LinearAlgebra/src/uniformscaling.jl:131\n",
       "[15] one(::Missing) in Base at missing.jl:101\n",
       "[16] one(x::BitMatrix) in Base at bitarray.jl:426\n",
       "[17] one(x::AbstractMatrix{T}) where T in Base at array.jl:527\n",
       "[18] one(::Type{Missing}) in Base at missing.jl:104\n",
       "[19] one(::Type{Union{Missing, T}}) where T in Base at missing.jl:105"
      ]
     },
     "execution_count": 16,
     "metadata": {},
     "output_type": "execute_result"
    }
   ],
   "source": [
    "methods(one)"
   ]
  },
  {
   "cell_type": "code",
   "execution_count": 17,
   "id": "b67fe7e8",
   "metadata": {
    "slideshow": {
     "slide_type": "slide"
    }
   },
   "outputs": [
    {
     "data": {
      "text/html": [
       "# 32 methods for generic function <b>inv</b>:<ul><li> inv(A::<b>StridedMatrix{T}</b>)<i> where T</i> in LinearAlgebra at <a href=\"file:///buildworker/worker/package_linux64/build/usr/share/julia/stdlib/v1.6/LinearAlgebra/src/dense.jl\" target=\"_blank\">/home/bates/src/julia-1.6.2/share/julia/stdlib/v1.6/LinearAlgebra/src/dense.jl:806</a></li> <li> inv(J::<b>LinearAlgebra.UniformScaling</b>) in LinearAlgebra at <a href=\"file:///buildworker/worker/package_linux64/build/usr/share/julia/stdlib/v1.6/LinearAlgebra/src/uniformscaling.jl\" target=\"_blank\">/home/bates/src/julia-1.6.2/share/julia/stdlib/v1.6/LinearAlgebra/src/uniformscaling.jl:233</a></li> <li> inv(B::<b>LinearAlgebra.BunchKaufman{var\"#s832\", S} where {var\"#s832\"<:Union{Float32, Float64}, S<:(AbstractMatrix{T} where T)}</b>) in LinearAlgebra at <a href=\"file:///buildworker/worker/package_linux64/build/usr/share/julia/stdlib/v1.6/LinearAlgebra/src/bunchkaufman.jl\" target=\"_blank\">/home/bates/src/julia-1.6.2/share/julia/stdlib/v1.6/LinearAlgebra/src/bunchkaufman.jl:342</a></li> <li> inv(B::<b>LinearAlgebra.BunchKaufman{var\"#s832\", S} where {var\"#s832\"<:Union{ComplexF32, ComplexF64}, S<:(AbstractMatrix{T} where T)}</b>) in LinearAlgebra at <a href=\"file:///buildworker/worker/package_linux64/build/usr/share/julia/stdlib/v1.6/LinearAlgebra/src/bunchkaufman.jl\" target=\"_blank\">/home/bates/src/julia-1.6.2/share/julia/stdlib/v1.6/LinearAlgebra/src/bunchkaufman.jl:350</a></li> <li> inv(A::<b>LinearAlgebra.Hermitian{var\"#s832\", var\"#s831\"} where {var\"#s832\", var\"#s831\"<:(StridedMatrix{T} where T)}</b>) in LinearAlgebra at <a href=\"file:///buildworker/worker/package_linux64/build/usr/share/julia/stdlib/v1.6/LinearAlgebra/src/symmetric.jl\" target=\"_blank\">/home/bates/src/julia-1.6.2/share/julia/stdlib/v1.6/LinearAlgebra/src/symmetric.jl:672</a></li> <li> inv(A::<b>LinearAlgebra.UnitLowerTriangular{T, S} where S<:AbstractMatrix{T}</b>)<i> where T</i> in LinearAlgebra at <a href=\"file:///buildworker/worker/package_linux64/build/usr/share/julia/stdlib/v1.6/LinearAlgebra/src/triangular.jl\" target=\"_blank\">/home/bates/src/julia-1.6.2/share/julia/stdlib/v1.6/LinearAlgebra/src/triangular.jl:824</a></li> <li> inv(x::<b>Rational{T}</b>)<i> where T</i> in Base at <a href=\"https://github.com/JuliaLang/julia/tree/1b93d53fc4bb59350ada898038ed4de2994cce33/base/rational.jl#L324\" target=\"_blank\">rational.jl:324</a></li> <li> inv(A::<b>LinearAlgebra.Adjoint</b>) in LinearAlgebra at <a href=\"file:///buildworker/worker/package_linux64/build/usr/share/julia/stdlib/v1.6/LinearAlgebra/src/generic.jl\" target=\"_blank\">/home/bates/src/julia-1.6.2/share/julia/stdlib/v1.6/LinearAlgebra/src/generic.jl:1069</a></li> <li> inv(A::<b>LinearAlgebra.Symmetric{var\"#s832\", var\"#s831\"} where {var\"#s832\", var\"#s831\"<:(StridedMatrix{T} where T)}</b>) in LinearAlgebra at <a href=\"file:///buildworker/worker/package_linux64/build/usr/share/julia/stdlib/v1.6/LinearAlgebra/src/symmetric.jl\" target=\"_blank\">/home/bates/src/julia-1.6.2/share/julia/stdlib/v1.6/LinearAlgebra/src/symmetric.jl:673</a></li> <li> inv(F::<b>LinearAlgebra.SVD{T, Tr, M} where {Tr, M<:(AbstractArray{T, N} where N)}</b>)<i> where T</i> in LinearAlgebra at <a href=\"file:///buildworker/worker/package_linux64/build/usr/share/julia/stdlib/v1.6/LinearAlgebra/src/svd.jl\" target=\"_blank\">/home/bates/src/julia-1.6.2/share/julia/stdlib/v1.6/LinearAlgebra/src/svd.jl:227</a></li> <li> inv(Q::<b>LinearAlgebra.AbstractQ</b>) in LinearAlgebra at <a href=\"file:///buildworker/worker/package_linux64/build/usr/share/julia/stdlib/v1.6/LinearAlgebra/src/qr.jl\" target=\"_blank\">/home/bates/src/julia-1.6.2/share/julia/stdlib/v1.6/LinearAlgebra/src/qr.jl:504</a></li> <li> inv(A::<b>LinearAlgebra.Transpose</b>) in LinearAlgebra at <a href=\"file:///buildworker/worker/package_linux64/build/usr/share/julia/stdlib/v1.6/LinearAlgebra/src/generic.jl\" target=\"_blank\">/home/bates/src/julia-1.6.2/share/julia/stdlib/v1.6/LinearAlgebra/src/generic.jl:1070</a></li> <li> inv(x::<b>AbstractIrrational</b>) in Base at <a href=\"https://github.com/JuliaLang/julia/tree/1b93d53fc4bb59350ada898038ed4de2994cce33/base/irrationals.jl#L208\" target=\"_blank\">irrationals.jl:208</a></li> <li> inv(A::<b>SparseArrays.AbstractSparseMatrixCSC</b>) in SparseArrays at <a href=\"file:///buildworker/worker/package_linux64/build/usr/share/julia/stdlib/v1.6/SparseArrays/src/linalg.jl\" target=\"_blank\">/home/bates/src/julia-1.6.2/share/julia/stdlib/v1.6/SparseArrays/src/linalg.jl:1456</a></li> <li> inv(A::<b>LinearAlgebra.LU{var\"#s832\", var\"#s831\"} where {var\"#s832\"<:Union{Float32, Float64, ComplexF32, ComplexF64}, var\"#s831\"<:(StridedMatrix{T} where T)}</b>) in LinearAlgebra at <a href=\"file:///buildworker/worker/package_linux64/build/usr/share/julia/stdlib/v1.6/LinearAlgebra/src/lu.jl\" target=\"_blank\">/home/bates/src/julia-1.6.2/share/julia/stdlib/v1.6/LinearAlgebra/src/lu.jl:479</a></li> <li> inv(A::<b>LinearAlgebra.UpperTriangular{T, S} where S<:AbstractMatrix{T}</b>)<i> where T</i> in LinearAlgebra at <a href=\"file:///buildworker/worker/package_linux64/build/usr/share/julia/stdlib/v1.6/LinearAlgebra/src/triangular.jl\" target=\"_blank\">/home/bates/src/julia-1.6.2/share/julia/stdlib/v1.6/LinearAlgebra/src/triangular.jl:819</a></li> <li> inv(D::<b>LinearAlgebra.Diagonal{T, V} where V<:AbstractVector{T}</b>)<i> where T</i> in LinearAlgebra at <a href=\"file:///buildworker/worker/package_linux64/build/usr/share/julia/stdlib/v1.6/LinearAlgebra/src/diagonal.jl\" target=\"_blank\">/home/bates/src/julia-1.6.2/share/julia/stdlib/v1.6/LinearAlgebra/src/diagonal.jl:630</a></li> <li> inv(C::<b>LinearAlgebra.CholeskyPivoted</b>) in LinearAlgebra at <a href=\"file:///buildworker/worker/package_linux64/build/usr/share/julia/stdlib/v1.6/LinearAlgebra/src/cholesky.jl\" target=\"_blank\">/home/bates/src/julia-1.6.2/share/julia/stdlib/v1.6/LinearAlgebra/src/cholesky.jl:632</a></li> <li> inv(A::<b>LinearAlgebra.UnitUpperTriangular{T, S} where S<:AbstractMatrix{T}</b>)<i> where T</i> in LinearAlgebra at <a href=\"file:///buildworker/worker/package_linux64/build/usr/share/julia/stdlib/v1.6/LinearAlgebra/src/triangular.jl\" target=\"_blank\">/home/bates/src/julia-1.6.2/share/julia/stdlib/v1.6/LinearAlgebra/src/triangular.jl:823</a></li> <li> inv(A::<b>LinearAlgebra.LowerTriangular{T, S} where S<:AbstractMatrix{T}</b>)<i> where T</i> in LinearAlgebra at <a href=\"file:///buildworker/worker/package_linux64/build/usr/share/julia/stdlib/v1.6/LinearAlgebra/src/triangular.jl\" target=\"_blank\">/home/bates/src/julia-1.6.2/share/julia/stdlib/v1.6/LinearAlgebra/src/triangular.jl:815</a></li> <li> inv(A::<b>AbstractMatrix{T}</b>)<i> where T</i> in LinearAlgebra at <a href=\"file:///buildworker/worker/package_linux64/build/usr/share/julia/stdlib/v1.6/LinearAlgebra/src/generic.jl\" target=\"_blank\">/home/bates/src/julia-1.6.2/share/julia/stdlib/v1.6/LinearAlgebra/src/generic.jl:1062</a></li> <li> inv(z::<b>Complex{var\"#s79\"} where var\"#s79\"<:Integer</b>) in Base at <a href=\"https://github.com/JuliaLang/julia/tree/1b93d53fc4bb59350ada898038ed4de2994cce33/base/complex.jl#L271\" target=\"_blank\">complex.jl:271</a></li> <li> inv(x::<b>Integer</b>) in Base at <a href=\"https://github.com/JuliaLang/julia/tree/1b93d53fc4bb59350ada898038ed4de2994cce33/base/int.jl#L90\" target=\"_blank\">int.jl:90</a></li> <li> inv(A::<b>LinearAlgebra.Eigen</b>) in LinearAlgebra at <a href=\"file:///buildworker/worker/package_linux64/build/usr/share/julia/stdlib/v1.6/LinearAlgebra/src/eigen.jl\" target=\"_blank\">/home/bates/src/julia-1.6.2/share/julia/stdlib/v1.6/LinearAlgebra/src/eigen.jl:423</a></li> <li> inv(C::<b>LinearAlgebra.Cholesky{var\"#s832\", var\"#s831\"} where {var\"#s832\"<:Union{Float32, Float64, ComplexF32, ComplexF64}, var\"#s831\"<:(StridedMatrix{T} where T)}</b>) in LinearAlgebra at <a href=\"file:///buildworker/worker/package_linux64/build/usr/share/julia/stdlib/v1.6/LinearAlgebra/src/cholesky.jl\" target=\"_blank\">/home/bates/src/julia-1.6.2/share/julia/stdlib/v1.6/LinearAlgebra/src/cholesky.jl:630</a></li> <li> inv(F::<b>LinearAlgebra.Factorization{T}</b>)<i> where T</i> in LinearAlgebra at <a href=\"file:///buildworker/worker/package_linux64/build/usr/share/julia/stdlib/v1.6/LinearAlgebra/src/factorization.jl\" target=\"_blank\">/home/bates/src/julia-1.6.2/share/julia/stdlib/v1.6/LinearAlgebra/src/factorization.jl:62</a></li> <li> inv(w::<b>ComplexF64</b>) in Base at <a href=\"https://github.com/JuliaLang/julia/tree/1b93d53fc4bb59350ada898038ed4de2994cce33/base/complex.jl#L439\" target=\"_blank\">complex.jl:439</a></li> <li> inv(z::<b>Complex{var\"#s79\"} where var\"#s79\"<:Union{Float16, Float32}</b>) in Base at <a href=\"https://github.com/JuliaLang/julia/tree/1b93d53fc4bb59350ada898038ed4de2994cce33/base/complex.jl#L356\" target=\"_blank\">complex.jl:356</a></li> <li> inv(z::<b>Complex</b>) in Base at <a href=\"https://github.com/JuliaLang/julia/tree/1b93d53fc4bb59350ada898038ed4de2994cce33/base/complex.jl#L266\" target=\"_blank\">complex.jl:266</a></li> <li> inv(x::<b>BigFloat</b>) in Base.MPFR at <a href=\"https://github.com/JuliaLang/julia/tree/1b93d53fc4bb59350ada898038ed4de2994cce33/base/mpfr.jl#L465\" target=\"_blank\">mpfr.jl:465</a></li> <li> inv(x::<b>Number</b>) in Base at <a href=\"https://github.com/JuliaLang/julia/tree/1b93d53fc4bb59350ada898038ed4de2994cce33/base/number.jl#L217\" target=\"_blank\">number.jl:217</a></li> <li> inv(::<b>Missing</b>) in Base at <a href=\"https://github.com/JuliaLang/julia/tree/1b93d53fc4bb59350ada898038ed4de2994cce33/base/missing.jl#L101\" target=\"_blank\">missing.jl:101</a></li> </ul>"
      ],
      "text/plain": [
       "# 32 methods for generic function \"inv\":\n",
       "[1] inv(A::StridedMatrix{T}) where T in LinearAlgebra at /home/bates/src/julia-1.6.2/share/julia/stdlib/v1.6/LinearAlgebra/src/dense.jl:806\n",
       "[2] inv(J::LinearAlgebra.UniformScaling) in LinearAlgebra at /home/bates/src/julia-1.6.2/share/julia/stdlib/v1.6/LinearAlgebra/src/uniformscaling.jl:233\n",
       "[3] inv(B::LinearAlgebra.BunchKaufman{var\"#s832\", S} where {var\"#s832\"<:Union{Float32, Float64}, S<:(AbstractMatrix{T} where T)}) in LinearAlgebra at /home/bates/src/julia-1.6.2/share/julia/stdlib/v1.6/LinearAlgebra/src/bunchkaufman.jl:342\n",
       "[4] inv(B::LinearAlgebra.BunchKaufman{var\"#s832\", S} where {var\"#s832\"<:Union{ComplexF32, ComplexF64}, S<:(AbstractMatrix{T} where T)}) in LinearAlgebra at /home/bates/src/julia-1.6.2/share/julia/stdlib/v1.6/LinearAlgebra/src/bunchkaufman.jl:350\n",
       "[5] inv(A::LinearAlgebra.Hermitian{var\"#s832\", var\"#s831\"} where {var\"#s832\", var\"#s831\"<:(StridedMatrix{T} where T)}) in LinearAlgebra at /home/bates/src/julia-1.6.2/share/julia/stdlib/v1.6/LinearAlgebra/src/symmetric.jl:672\n",
       "[6] inv(A::LinearAlgebra.UnitLowerTriangular{T, S} where S<:AbstractMatrix{T}) where T in LinearAlgebra at /home/bates/src/julia-1.6.2/share/julia/stdlib/v1.6/LinearAlgebra/src/triangular.jl:824\n",
       "[7] inv(x::Rational{T}) where T in Base at rational.jl:324\n",
       "[8] inv(A::LinearAlgebra.Adjoint) in LinearAlgebra at /home/bates/src/julia-1.6.2/share/julia/stdlib/v1.6/LinearAlgebra/src/generic.jl:1069\n",
       "[9] inv(A::LinearAlgebra.Symmetric{var\"#s832\", var\"#s831\"} where {var\"#s832\", var\"#s831\"<:(StridedMatrix{T} where T)}) in LinearAlgebra at /home/bates/src/julia-1.6.2/share/julia/stdlib/v1.6/LinearAlgebra/src/symmetric.jl:673\n",
       "[10] inv(F::LinearAlgebra.SVD{T, Tr, M} where {Tr, M<:(AbstractArray{T, N} where N)}) where T in LinearAlgebra at /home/bates/src/julia-1.6.2/share/julia/stdlib/v1.6/LinearAlgebra/src/svd.jl:227\n",
       "[11] inv(Q::LinearAlgebra.AbstractQ) in LinearAlgebra at /home/bates/src/julia-1.6.2/share/julia/stdlib/v1.6/LinearAlgebra/src/qr.jl:504\n",
       "[12] inv(A::LinearAlgebra.Transpose) in LinearAlgebra at /home/bates/src/julia-1.6.2/share/julia/stdlib/v1.6/LinearAlgebra/src/generic.jl:1070\n",
       "[13] inv(x::AbstractIrrational) in Base at irrationals.jl:208\n",
       "[14] inv(A::SparseArrays.AbstractSparseMatrixCSC) in SparseArrays at /home/bates/src/julia-1.6.2/share/julia/stdlib/v1.6/SparseArrays/src/linalg.jl:1456\n",
       "[15] inv(A::LinearAlgebra.LU{var\"#s832\", var\"#s831\"} where {var\"#s832\"<:Union{Float32, Float64, ComplexF32, ComplexF64}, var\"#s831\"<:(StridedMatrix{T} where T)}) in LinearAlgebra at /home/bates/src/julia-1.6.2/share/julia/stdlib/v1.6/LinearAlgebra/src/lu.jl:479\n",
       "[16] inv(A::LinearAlgebra.UpperTriangular{T, S} where S<:AbstractMatrix{T}) where T in LinearAlgebra at /home/bates/src/julia-1.6.2/share/julia/stdlib/v1.6/LinearAlgebra/src/triangular.jl:819\n",
       "[17] inv(D::LinearAlgebra.Diagonal{T, V} where V<:AbstractVector{T}) where T in LinearAlgebra at /home/bates/src/julia-1.6.2/share/julia/stdlib/v1.6/LinearAlgebra/src/diagonal.jl:630\n",
       "[18] inv(C::LinearAlgebra.CholeskyPivoted) in LinearAlgebra at /home/bates/src/julia-1.6.2/share/julia/stdlib/v1.6/LinearAlgebra/src/cholesky.jl:632\n",
       "[19] inv(A::LinearAlgebra.UnitUpperTriangular{T, S} where S<:AbstractMatrix{T}) where T in LinearAlgebra at /home/bates/src/julia-1.6.2/share/julia/stdlib/v1.6/LinearAlgebra/src/triangular.jl:823\n",
       "[20] inv(A::LinearAlgebra.LowerTriangular{T, S} where S<:AbstractMatrix{T}) where T in LinearAlgebra at /home/bates/src/julia-1.6.2/share/julia/stdlib/v1.6/LinearAlgebra/src/triangular.jl:815\n",
       "[21] inv(A::AbstractMatrix{T}) where T in LinearAlgebra at /home/bates/src/julia-1.6.2/share/julia/stdlib/v1.6/LinearAlgebra/src/generic.jl:1062\n",
       "[22] inv(z::Complex{var\"#s79\"} where var\"#s79\"<:Integer) in Base at complex.jl:271\n",
       "[23] inv(x::Integer) in Base at int.jl:90\n",
       "[24] inv(A::LinearAlgebra.Eigen) in LinearAlgebra at /home/bates/src/julia-1.6.2/share/julia/stdlib/v1.6/LinearAlgebra/src/eigen.jl:423\n",
       "[25] inv(C::LinearAlgebra.Cholesky{var\"#s832\", var\"#s831\"} where {var\"#s832\"<:Union{Float32, Float64, ComplexF32, ComplexF64}, var\"#s831\"<:(StridedMatrix{T} where T)}) in LinearAlgebra at /home/bates/src/julia-1.6.2/share/julia/stdlib/v1.6/LinearAlgebra/src/cholesky.jl:630\n",
       "[26] inv(F::LinearAlgebra.Factorization{T}) where T in LinearAlgebra at /home/bates/src/julia-1.6.2/share/julia/stdlib/v1.6/LinearAlgebra/src/factorization.jl:62\n",
       "[27] inv(w::ComplexF64) in Base at complex.jl:439\n",
       "[28] inv(z::Complex{var\"#s79\"} where var\"#s79\"<:Union{Float16, Float32}) in Base at complex.jl:356\n",
       "[29] inv(z::Complex) in Base at complex.jl:266\n",
       "[30] inv(x::BigFloat) in Base.MPFR at mpfr.jl:465\n",
       "[31] inv(x::Number) in Base at number.jl:217\n",
       "[32] inv(::Missing) in Base at missing.jl:101"
      ]
     },
     "execution_count": 17,
     "metadata": {},
     "output_type": "execute_result"
    }
   ],
   "source": [
    "methods(inv)"
   ]
  },
  {
   "cell_type": "markdown",
   "id": "c167964e",
   "metadata": {
    "slideshow": {
     "slide_type": "slide"
    }
   },
   "source": [
    "## Now we can evaluate `logistic` of a Matrix"
   ]
  },
  {
   "cell_type": "code",
   "execution_count": 18,
   "id": "72684fe8",
   "metadata": {
    "slideshow": {
     "slide_type": "-"
    }
   },
   "outputs": [
    {
     "data": {
      "text/plain": [
       "3×3 Matrix{Float64}:\n",
       "  0.407495    0.632999   0.74566\n",
       " -0.458825    0.500641   1.9121\n",
       " -0.0910817  -0.435955  -0.973346"
      ]
     },
     "execution_count": 18,
     "metadata": {},
     "output_type": "execute_result"
    }
   ],
   "source": [
    "A = randn(3, 3)"
   ]
  },
  {
   "cell_type": "code",
   "execution_count": 19,
   "id": "82195af0",
   "metadata": {
    "slideshow": {
     "slide_type": "-"
    }
   },
   "outputs": [
    {
     "data": {
      "text/plain": [
       "3×3 Matrix{Float64}:\n",
       "  0.607705    0.165707  0.195866\n",
       " -0.120665    0.63112   0.497852\n",
       " -0.0234554  -0.113692  0.247284"
      ]
     },
     "execution_count": 19,
     "metadata": {},
     "output_type": "execute_result"
    }
   ],
   "source": [
    "logistic(A)"
   ]
  },
  {
   "cell_type": "markdown",
   "id": "09bfc4e6",
   "metadata": {},
   "source": [
    "- this is different from applying `logistic` element-wise to `A` (notice the negative values in the result)\n",
    "- I'm not sure if this is of any use but somebody probably wanted to evaluate $\\left(\\mathbf{I}+\\exp(-\\mathbf{A})\\right)^{-1}$ at some time."
   ]
  },
  {
   "cell_type": "markdown",
   "id": "f756ffe6",
   "metadata": {
    "slideshow": {
     "slide_type": "slide"
    }
   },
   "source": [
    "### Dual numbers\n",
    "- Another example would be using [dual numbers](https://en.wikipedia.org/wiki/Dual_number) for forward-mode automatic differentiation."
   ]
  },
  {
   "cell_type": "code",
   "execution_count": 20,
   "id": "e14a4474",
   "metadata": {},
   "outputs": [
    {
     "name": "stderr",
     "output_type": "stream",
     "text": [
      "┌ Info: Precompiling DualNumbers [fa6b7ba4-c1ee-5f82-b5fc-ecf0adba8f74]\n",
      "└ @ Base loading.jl:1342\n"
     ]
    },
    {
     "data": {
      "text/plain": [
       "0.7858349830425586 + 0.16829836246906024ɛ"
      ]
     },
     "execution_count": 20,
     "metadata": {},
     "output_type": "execute_result"
    }
   ],
   "source": [
    "using DualNumbers\n",
    "logistic(Dual(1.3, 1))"
   ]
  },
  {
   "cell_type": "markdown",
   "id": "2da9647b",
   "metadata": {},
   "source": [
    "- the second component of that `Dual` number is the derivative of the logistic at `x=1.3`"
   ]
  },
  {
   "cell_type": "markdown",
   "id": "7d2f6acf",
   "metadata": {
    "slideshow": {
     "slide_type": "slide"
    }
   },
   "source": [
    "## Our previous values can be reproduced but will cause recompilation"
   ]
  },
  {
   "cell_type": "code",
   "execution_count": 21,
   "id": "740abaeb",
   "metadata": {
    "slideshow": {
     "slide_type": "-"
    }
   },
   "outputs": [
    {
     "data": {
      "text/plain": [
       "0.7858349830425586"
      ]
     },
     "execution_count": 21,
     "metadata": {},
     "output_type": "execute_result"
    }
   ],
   "source": [
    "logistic(1.3)"
   ]
  },
  {
   "cell_type": "code",
   "execution_count": 22,
   "id": "8038417a",
   "metadata": {
    "slideshow": {
     "slide_type": "-"
    }
   },
   "outputs": [
    {
     "data": {
      "text/plain": [
       "3-element Vector{Core.MethodInstance}:\n",
       " MethodInstance for logistic(::\u001b[0mFloat64)\n",
       " MethodInstance for logistic(::\u001b[0mMatrix{Float64})\n",
       " MethodInstance for logistic(::\u001b[0mDual128)"
      ]
     },
     "execution_count": 22,
     "metadata": {},
     "output_type": "execute_result"
    }
   ],
   "source": [
    "methodinstances(logistic)"
   ]
  },
  {
   "cell_type": "markdown",
   "id": "38070e85",
   "metadata": {
    "slideshow": {
     "slide_type": "fragment"
    }
   },
   "source": [
    "- Notice that the previous MethodInstances for `x::Float32` and `x::BigFloat` have been invalidated because the implementation was redefined."
   ]
  },
  {
   "cell_type": "markdown",
   "id": "0d02344a",
   "metadata": {
    "slideshow": {
     "slide_type": "slide"
    }
   },
   "source": [
    "# Vectorization by *dot-broadcasting*\n",
    "\n",
    "- Suppose we wish to plot the logistic function over some range.\n",
    "- The operation of applying a function over the values of a vector (or some other iterator) is sufficiently common that is has a \"short-cut\" syntax called [\"dot-broadcasting\"](https://docs.julialang.org/en/v1/manual/arrays/#Broadcasting)."
   ]
  },
  {
   "cell_type": "code",
   "execution_count": 23,
   "id": "e093658d",
   "metadata": {
    "slideshow": {
     "slide_type": "-"
    }
   },
   "outputs": [],
   "source": [
    "using CairoMakie   # graphics package"
   ]
  },
  {
   "cell_type": "code",
   "execution_count": 24,
   "id": "57e0c95d-5de9-4a50-80cd-ce0a4640f85c",
   "metadata": {},
   "outputs": [],
   "source": [
    "CairoMakie.activate!(type=\"svg\")"
   ]
  },
  {
   "cell_type": "code",
   "execution_count": 25,
   "id": "484fa63c",
   "metadata": {
    "slideshow": {
     "slide_type": "-"
    }
   },
   "outputs": [
    {
     "data": {
      "text/plain": [
       "-5.0:0.02:5.0"
      ]
     },
     "execution_count": 25,
     "metadata": {},
     "output_type": "execute_result"
    }
   ],
   "source": [
    "xvals = -5.0:0.02:5.0 # sequence from -5 to +5 in steps of 0.02"
   ]
  },
  {
   "cell_type": "code",
   "execution_count": 26,
   "id": "78b71016",
   "metadata": {
    "slideshow": {
     "slide_type": "slide"
    }
   },
   "outputs": [
    {
     "data": {
      "image/svg+xml": [
       "<?xml version=\"1.0\" encoding=\"UTF-8\"?>\n",
       "<svg xmlns=\"http://www.w3.org/2000/svg\" xmlns:xlink=\"http://www.w3.org/1999/xlink\" width=\"600pt\" height=\"450pt\" viewBox=\"0 0 600 450\" version=\"1.1\">\n",
       "<defs>\n",
       "<g>\n",
       "<symbol overflow=\"visible\" id=\"QE4UCGs30-0\">\n",
       "<path style=\"stroke:none;\" d=\"M 0.59375 2.125 L 0.59375 -8.46875 L 6.59375 -8.46875 L 6.59375 2.125 Z M 1.265625 1.453125 L 5.9375 1.453125 L 5.9375 -7.78125 L 1.265625 -7.78125 Z M 1.265625 1.453125 \"/>\n",
       "</symbol>\n",
       "<symbol overflow=\"visible\" id=\"QE4UCGs30-1\">\n",
       "<path style=\"stroke:none;\" d=\"M 6.59375 -6.5625 L 4.21875 -3.375 L 6.703125 0 L 5.4375 0 L 3.53125 -2.578125 L 1.625 0 L 0.34375 0 L 2.890625 -3.4375 L 0.5625 -6.5625 L 1.828125 -6.5625 L 3.578125 -4.21875 L 5.3125 -6.5625 Z M 6.59375 -6.5625 \"/>\n",
       "</symbol>\n",
       "<symbol overflow=\"visible\" id=\"QE4UCGs30-2\">\n",
       "<path style=\"stroke:none;\" d=\"M 4.875 -4.71875 C 5.4375 -4.59375 5.875 -4.335938 6.1875 -3.953125 C 6.507812 -3.578125 6.671875 -3.109375 6.671875 -2.546875 C 6.671875 -1.679688 6.375 -1.007812 5.78125 -0.53125 C 5.1875 -0.0625 4.34375 0.171875 3.25 0.171875 C 2.882812 0.171875 2.503906 0.132812 2.109375 0.0625 C 1.722656 -0.0078125 1.328125 -0.117188 0.921875 -0.265625 L 0.921875 -1.40625 C 1.242188 -1.21875 1.597656 -1.070312 1.984375 -0.96875 C 2.378906 -0.875 2.789062 -0.828125 3.21875 -0.828125 C 3.957031 -0.828125 4.519531 -0.972656 4.90625 -1.265625 C 5.300781 -1.554688 5.5 -1.984375 5.5 -2.546875 C 5.5 -3.054688 5.316406 -3.457031 4.953125 -3.75 C 4.585938 -4.039062 4.085938 -4.1875 3.453125 -4.1875 L 2.421875 -4.1875 L 2.421875 -5.15625 L 3.5 -5.15625 C 4.070312 -5.15625 4.515625 -5.269531 4.828125 -5.5 C 5.140625 -5.738281 5.296875 -6.078125 5.296875 -6.515625 C 5.296875 -6.960938 5.132812 -7.304688 4.8125 -7.546875 C 4.5 -7.785156 4.046875 -7.90625 3.453125 -7.90625 C 3.117188 -7.90625 2.765625 -7.867188 2.390625 -7.796875 C 2.023438 -7.734375 1.617188 -7.628906 1.171875 -7.484375 L 1.171875 -8.53125 C 1.628906 -8.65625 2.050781 -8.75 2.4375 -8.8125 C 2.832031 -8.875 3.203125 -8.90625 3.546875 -8.90625 C 4.453125 -8.90625 5.164062 -8.703125 5.6875 -8.296875 C 6.207031 -7.890625 6.46875 -7.335938 6.46875 -6.640625 C 6.46875 -6.148438 6.328125 -5.738281 6.046875 -5.40625 C 5.773438 -5.070312 5.382812 -4.84375 4.875 -4.71875 Z M 4.875 -4.71875 \"/>\n",
       "</symbol>\n",
       "<symbol overflow=\"visible\" id=\"QE4UCGs31-0\">\n",
       "<path style=\"stroke:none;\" d=\"M 0.59375 2.125 L 0.59375 -8.46875 L 6.59375 -8.46875 L 6.59375 2.125 Z M 1.265625 1.453125 L 5.9375 1.453125 L 5.9375 -7.78125 L 1.265625 -7.78125 Z M 1.265625 1.453125 \"/>\n",
       "</symbol>\n",
       "<symbol overflow=\"visible\" id=\"QE4UCGs31-1\">\n",
       "<path style=\"stroke:none;\" d=\"M 0.59375 -3.765625 L 3.75 -3.765625 L 3.75 -2.8125 L 0.59375 -2.8125 Z M 0.59375 -3.765625 \"/>\n",
       "</symbol>\n",
       "<symbol overflow=\"visible\" id=\"QE4UCGs32-0\">\n",
       "<path style=\"stroke:none;\" d=\"M 0.59375 2.125 L 0.59375 -8.46875 L 6.59375 -8.46875 L 6.59375 2.125 Z M 1.265625 1.453125 L 5.9375 1.453125 L 5.9375 -7.78125 L 1.265625 -7.78125 Z M 1.265625 1.453125 \"/>\n",
       "</symbol>\n",
       "<symbol overflow=\"visible\" id=\"QE4UCGs32-1\">\n",
       "<path style=\"stroke:none;\" d=\"M 4.875 -4.71875 C 5.4375 -4.59375 5.875 -4.335938 6.1875 -3.953125 C 6.507812 -3.578125 6.671875 -3.109375 6.671875 -2.546875 C 6.671875 -1.679688 6.375 -1.007812 5.78125 -0.53125 C 5.1875 -0.0625 4.34375 0.171875 3.25 0.171875 C 2.882812 0.171875 2.503906 0.132812 2.109375 0.0625 C 1.722656 -0.0078125 1.328125 -0.117188 0.921875 -0.265625 L 0.921875 -1.40625 C 1.242188 -1.21875 1.597656 -1.070312 1.984375 -0.96875 C 2.378906 -0.875 2.789062 -0.828125 3.21875 -0.828125 C 3.957031 -0.828125 4.519531 -0.972656 4.90625 -1.265625 C 5.300781 -1.554688 5.5 -1.984375 5.5 -2.546875 C 5.5 -3.054688 5.316406 -3.457031 4.953125 -3.75 C 4.585938 -4.039062 4.085938 -4.1875 3.453125 -4.1875 L 2.421875 -4.1875 L 2.421875 -5.15625 L 3.5 -5.15625 C 4.070312 -5.15625 4.515625 -5.269531 4.828125 -5.5 C 5.140625 -5.738281 5.296875 -6.078125 5.296875 -6.515625 C 5.296875 -6.960938 5.132812 -7.304688 4.8125 -7.546875 C 4.5 -7.785156 4.046875 -7.90625 3.453125 -7.90625 C 3.117188 -7.90625 2.765625 -7.867188 2.390625 -7.796875 C 2.023438 -7.734375 1.617188 -7.628906 1.171875 -7.484375 L 1.171875 -8.53125 C 1.628906 -8.65625 2.050781 -8.75 2.4375 -8.8125 C 2.832031 -8.875 3.203125 -8.90625 3.546875 -8.90625 C 4.453125 -8.90625 5.164062 -8.703125 5.6875 -8.296875 C 6.207031 -7.890625 6.46875 -7.335938 6.46875 -6.640625 C 6.46875 -6.148438 6.328125 -5.738281 6.046875 -5.40625 C 5.773438 -5.070312 5.382812 -4.84375 4.875 -4.71875 Z M 4.875 -4.71875 \"/>\n",
       "</symbol>\n",
       "<symbol overflow=\"visible\" id=\"QE4UCGs32-2\">\n",
       "<path style=\"stroke:none;\" d=\"M 3.8125 -7.96875 C 3.207031 -7.96875 2.75 -7.664062 2.4375 -7.0625 C 2.132812 -6.46875 1.984375 -5.566406 1.984375 -4.359375 C 1.984375 -3.160156 2.132812 -2.257812 2.4375 -1.65625 C 2.75 -1.0625 3.207031 -0.765625 3.8125 -0.765625 C 4.425781 -0.765625 4.882812 -1.0625 5.1875 -1.65625 C 5.5 -2.257812 5.65625 -3.160156 5.65625 -4.359375 C 5.65625 -5.566406 5.5 -6.46875 5.1875 -7.0625 C 4.882812 -7.664062 4.425781 -7.96875 3.8125 -7.96875 Z M 3.8125 -8.90625 C 4.789062 -8.90625 5.539062 -8.515625 6.0625 -7.734375 C 6.582031 -6.960938 6.84375 -5.835938 6.84375 -4.359375 C 6.84375 -2.890625 6.582031 -1.765625 6.0625 -0.984375 C 5.539062 -0.210938 4.789062 0.171875 3.8125 0.171875 C 2.832031 0.171875 2.082031 -0.210938 1.5625 -0.984375 C 1.050781 -1.765625 0.796875 -2.890625 0.796875 -4.359375 C 0.796875 -5.835938 1.050781 -6.960938 1.5625 -7.734375 C 2.082031 -8.515625 2.832031 -8.90625 3.8125 -8.90625 Z M 3.8125 -8.90625 \"/>\n",
       "</symbol>\n",
       "<symbol overflow=\"visible\" id=\"QE4UCGs32-3\">\n",
       "<path style=\"stroke:none;\" d=\"M 1.28125 -1.484375 L 2.515625 -1.484375 L 2.515625 0 L 1.28125 0 Z M 1.28125 -1.484375 \"/>\n",
       "</symbol>\n",
       "<symbol overflow=\"visible\" id=\"QE4UCGs32-4\">\n",
       "<path style=\"stroke:none;\" d=\"M 1.296875 -8.75 L 5.9375 -8.75 L 5.9375 -7.75 L 2.375 -7.75 L 2.375 -5.609375 C 2.550781 -5.671875 2.722656 -5.710938 2.890625 -5.734375 C 3.066406 -5.765625 3.238281 -5.78125 3.40625 -5.78125 C 4.382812 -5.78125 5.160156 -5.507812 5.734375 -4.96875 C 6.304688 -4.4375 6.59375 -3.71875 6.59375 -2.8125 C 6.59375 -1.863281 6.296875 -1.128906 5.703125 -0.609375 C 5.117188 -0.0859375 4.296875 0.171875 3.234375 0.171875 C 2.859375 0.171875 2.476562 0.140625 2.09375 0.078125 C 1.71875 0.015625 1.328125 -0.078125 0.921875 -0.203125 L 0.921875 -1.390625 C 1.273438 -1.203125 1.640625 -1.0625 2.015625 -0.96875 C 2.390625 -0.875 2.785156 -0.828125 3.203125 -0.828125 C 3.878906 -0.828125 4.414062 -1.003906 4.8125 -1.359375 C 5.207031 -1.710938 5.40625 -2.195312 5.40625 -2.8125 C 5.40625 -3.414062 5.207031 -3.894531 4.8125 -4.25 C 4.414062 -4.601562 3.878906 -4.78125 3.203125 -4.78125 C 2.890625 -4.78125 2.570312 -4.742188 2.25 -4.671875 C 1.9375 -4.609375 1.617188 -4.503906 1.296875 -4.359375 Z M 1.296875 -8.75 \"/>\n",
       "</symbol>\n",
       "<symbol overflow=\"visible\" id=\"QE4UCGs33-0\">\n",
       "<path style=\"stroke:none;\" d=\"M 0.59375 2.125 L 0.59375 -8.46875 L 6.59375 -8.46875 L 6.59375 2.125 Z M 1.265625 1.453125 L 5.9375 1.453125 L 5.9375 -7.78125 L 1.265625 -7.78125 Z M 1.265625 1.453125 \"/>\n",
       "</symbol>\n",
       "<symbol overflow=\"visible\" id=\"QE4UCGs33-1\">\n",
       "<path style=\"stroke:none;\" d=\"M 3.8125 -7.96875 C 3.207031 -7.96875 2.75 -7.664062 2.4375 -7.0625 C 2.132812 -6.46875 1.984375 -5.566406 1.984375 -4.359375 C 1.984375 -3.160156 2.132812 -2.257812 2.4375 -1.65625 C 2.75 -1.0625 3.207031 -0.765625 3.8125 -0.765625 C 4.425781 -0.765625 4.882812 -1.0625 5.1875 -1.65625 C 5.5 -2.257812 5.65625 -3.160156 5.65625 -4.359375 C 5.65625 -5.566406 5.5 -6.46875 5.1875 -7.0625 C 4.882812 -7.664062 4.425781 -7.96875 3.8125 -7.96875 Z M 3.8125 -8.90625 C 4.789062 -8.90625 5.539062 -8.515625 6.0625 -7.734375 C 6.582031 -6.960938 6.84375 -5.835938 6.84375 -4.359375 C 6.84375 -2.890625 6.582031 -1.765625 6.0625 -0.984375 C 5.539062 -0.210938 4.789062 0.171875 3.8125 0.171875 C 2.832031 0.171875 2.082031 -0.210938 1.5625 -0.984375 C 1.050781 -1.765625 0.796875 -2.890625 0.796875 -4.359375 C 0.796875 -5.835938 1.050781 -6.960938 1.5625 -7.734375 C 2.082031 -8.515625 2.832031 -8.90625 3.8125 -8.90625 Z M 3.8125 -8.90625 \"/>\n",
       "</symbol>\n",
       "<symbol overflow=\"visible\" id=\"QE4UCGs34-0\">\n",
       "<path style=\"stroke:none;\" d=\"M 2.125 -0.59375 L -8.46875 -0.59375 L -8.46875 -6.59375 L 2.125 -6.59375 Z M 1.453125 -1.265625 L 1.453125 -5.9375 L -7.78125 -5.9375 L -7.78125 -1.265625 Z M 1.453125 -1.265625 \"/>\n",
       "</symbol>\n",
       "<symbol overflow=\"visible\" id=\"QE4UCGs34-1\">\n",
       "<path style=\"stroke:none;\" d=\"M -9.125 -1.125 L -9.125 -2.203125 L 0 -2.203125 L 0 -1.125 Z M -9.125 -1.125 \"/>\n",
       "</symbol>\n",
       "<symbol overflow=\"visible\" id=\"QE4UCGs34-2\">\n",
       "<path style=\"stroke:none;\" d=\"M -5.8125 -3.671875 C -5.8125 -3.097656 -5.582031 -2.640625 -5.125 -2.296875 C -4.675781 -1.960938 -4.0625 -1.796875 -3.28125 -1.796875 C -2.488281 -1.796875 -1.867188 -1.960938 -1.421875 -2.296875 C -0.972656 -2.628906 -0.75 -3.085938 -0.75 -3.671875 C -0.75 -4.242188 -0.972656 -4.695312 -1.421875 -5.03125 C -1.878906 -5.375 -2.5 -5.546875 -3.28125 -5.546875 C -4.050781 -5.546875 -4.664062 -5.375 -5.125 -5.03125 C -5.582031 -4.695312 -5.8125 -4.242188 -5.8125 -3.671875 Z M -6.71875 -3.671875 C -6.71875 -4.609375 -6.410156 -5.34375 -5.796875 -5.875 C -5.191406 -6.414062 -4.351562 -6.6875 -3.28125 -6.6875 C -2.207031 -6.6875 -1.363281 -6.414062 -0.75 -5.875 C -0.132812 -5.34375 0.171875 -4.609375 0.171875 -3.671875 C 0.171875 -2.734375 -0.132812 -1.992188 -0.75 -1.453125 C -1.363281 -0.921875 -2.207031 -0.65625 -3.28125 -0.65625 C -4.351562 -0.65625 -5.191406 -0.921875 -5.796875 -1.453125 C -6.410156 -1.992188 -6.71875 -2.734375 -6.71875 -3.671875 Z M -6.71875 -3.671875 \"/>\n",
       "</symbol>\n",
       "<symbol overflow=\"visible\" id=\"QE4UCGs34-3\">\n",
       "<path style=\"stroke:none;\" d=\"M -3.359375 -5.453125 C -4.140625 -5.453125 -4.742188 -5.289062 -5.171875 -4.96875 C -5.597656 -4.644531 -5.8125 -4.191406 -5.8125 -3.609375 C -5.8125 -3.035156 -5.597656 -2.585938 -5.171875 -2.265625 C -4.742188 -1.941406 -4.140625 -1.78125 -3.359375 -1.78125 C -2.578125 -1.78125 -1.972656 -1.941406 -1.546875 -2.265625 C -1.117188 -2.585938 -0.90625 -3.035156 -0.90625 -3.609375 C -0.90625 -4.191406 -1.117188 -4.644531 -1.546875 -4.96875 C -1.972656 -5.289062 -2.578125 -5.453125 -3.359375 -5.453125 Z M -0.8125 -6.53125 C 0.300781 -6.53125 1.128906 -6.28125 1.671875 -5.78125 C 2.222656 -5.289062 2.5 -4.53125 2.5 -3.5 C 2.5 -3.125 2.46875 -2.765625 2.40625 -2.421875 C 2.351562 -2.085938 2.269531 -1.765625 2.15625 -1.453125 L 1.109375 -1.453125 C 1.273438 -1.765625 1.398438 -2.078125 1.484375 -2.390625 C 1.566406 -2.703125 1.609375 -3.015625 1.609375 -3.328125 C 1.609375 -4.035156 1.421875 -4.566406 1.046875 -4.921875 C 0.679688 -5.273438 0.125 -5.453125 -0.625 -5.453125 L -1.15625 -5.453125 C -0.769531 -5.222656 -0.476562 -4.9375 -0.28125 -4.59375 C -0.09375 -4.25 0 -3.832031 0 -3.34375 C 0 -2.539062 -0.304688 -1.890625 -0.921875 -1.390625 C -1.535156 -0.898438 -2.347656 -0.65625 -3.359375 -0.65625 C -4.367188 -0.65625 -5.179688 -0.898438 -5.796875 -1.390625 C -6.410156 -1.890625 -6.71875 -2.539062 -6.71875 -3.34375 C -6.71875 -3.832031 -6.617188 -4.25 -6.421875 -4.59375 C -6.234375 -4.9375 -5.945312 -5.222656 -5.5625 -5.453125 L -6.5625 -5.453125 L -6.5625 -6.53125 Z M -0.8125 -6.53125 \"/>\n",
       "</symbol>\n",
       "<symbol overflow=\"visible\" id=\"QE4UCGs34-4\">\n",
       "<path style=\"stroke:none;\" d=\"M -8.421875 -2.203125 L -6.5625 -2.203125 L -6.5625 -4.421875 L -5.71875 -4.421875 L -5.71875 -2.203125 L -2.15625 -2.203125 C -1.625 -2.203125 -1.28125 -2.273438 -1.125 -2.421875 C -0.976562 -2.566406 -0.90625 -2.863281 -0.90625 -3.3125 L -0.90625 -4.421875 L 0 -4.421875 L 0 -3.3125 C 0 -2.476562 -0.15625 -1.898438 -0.46875 -1.578125 C -0.78125 -1.265625 -1.34375 -1.109375 -2.15625 -1.109375 L -5.71875 -1.109375 L -5.71875 -0.328125 L -6.5625 -0.328125 L -6.5625 -1.109375 L -8.421875 -1.109375 Z M -8.421875 -2.203125 \"/>\n",
       "</symbol>\n",
       "<symbol overflow=\"visible\" id=\"QE4UCGs35-0\">\n",
       "<path style=\"stroke:none;\" d=\"M 2.125 -0.59375 L -8.46875 -0.59375 L -8.46875 -6.59375 L 2.125 -6.59375 Z M 1.453125 -1.265625 L 1.453125 -5.9375 L -7.78125 -5.9375 L -7.78125 -1.265625 Z M 1.453125 -1.265625 \"/>\n",
       "</symbol>\n",
       "<symbol overflow=\"visible\" id=\"QE4UCGs35-1\">\n",
       "<path style=\"stroke:none;\" d=\"M -6.5625 -1.125 L -6.5625 -2.203125 L 0 -2.203125 L 0 -1.125 Z M -9.125 -1.125 L -9.125 -2.203125 L -7.75 -2.203125 L -7.75 -1.125 Z M -9.125 -1.125 \"/>\n",
       "</symbol>\n",
       "<symbol overflow=\"visible\" id=\"QE4UCGs35-2\">\n",
       "<path style=\"stroke:none;\" d=\"M -6.375 -5.3125 L -5.34375 -5.3125 C -5.5 -5.007812 -5.613281 -4.691406 -5.6875 -4.359375 C -5.769531 -4.035156 -5.8125 -3.695312 -5.8125 -3.34375 C -5.8125 -2.8125 -5.726562 -2.410156 -5.5625 -2.140625 C -5.40625 -1.867188 -5.160156 -1.734375 -4.828125 -1.734375 C -4.578125 -1.734375 -4.378906 -1.828125 -4.234375 -2.015625 C -4.097656 -2.210938 -3.96875 -2.601562 -3.84375 -3.1875 L -3.75 -3.546875 C -3.59375 -4.316406 -3.363281 -4.863281 -3.0625 -5.1875 C -2.757812 -5.507812 -2.34375 -5.671875 -1.8125 -5.671875 C -1.195312 -5.671875 -0.710938 -5.425781 -0.359375 -4.9375 C -0.00390625 -4.457031 0.171875 -3.796875 0.171875 -2.953125 C 0.171875 -2.597656 0.132812 -2.226562 0.0625 -1.84375 C 0 -1.46875 -0.0976562 -1.070312 -0.234375 -0.65625 L -1.359375 -0.65625 C -1.148438 -1.050781 -0.992188 -1.441406 -0.890625 -1.828125 C -0.785156 -2.210938 -0.734375 -2.597656 -0.734375 -2.984375 C -0.734375 -3.484375 -0.816406 -3.867188 -0.984375 -4.140625 C -1.160156 -4.421875 -1.410156 -4.5625 -1.734375 -4.5625 C -2.023438 -4.5625 -2.25 -4.460938 -2.40625 -4.265625 C -2.5625 -4.066406 -2.710938 -3.632812 -2.859375 -2.96875 L -2.9375 -2.59375 C -3.082031 -1.925781 -3.300781 -1.441406 -3.59375 -1.140625 C -3.882812 -0.847656 -4.28125 -0.703125 -4.78125 -0.703125 C -5.40625 -0.703125 -5.882812 -0.921875 -6.21875 -1.359375 C -6.550781 -1.796875 -6.71875 -2.414062 -6.71875 -3.21875 C -6.71875 -3.613281 -6.6875 -3.988281 -6.625 -4.34375 C -6.570312 -4.695312 -6.488281 -5.019531 -6.375 -5.3125 Z M -6.375 -5.3125 \"/>\n",
       "</symbol>\n",
       "<symbol overflow=\"visible\" id=\"QE4UCGs35-3\">\n",
       "<path style=\"stroke:none;\" d=\"M -9.109375 -3.71875 C -8.210938 -3.195312 -7.320312 -2.804688 -6.4375 -2.546875 C -5.5625 -2.296875 -4.671875 -2.171875 -3.765625 -2.171875 C -2.867188 -2.171875 -1.976562 -2.296875 -1.09375 -2.546875 C -0.207031 -2.804688 0.679688 -3.195312 1.578125 -3.71875 L 1.578125 -2.78125 C 0.660156 -2.195312 -0.238281 -1.757812 -1.125 -1.46875 C -2.007812 -1.175781 -2.890625 -1.03125 -3.765625 -1.03125 C -4.640625 -1.03125 -5.515625 -1.175781 -6.390625 -1.46875 C -7.273438 -1.757812 -8.179688 -2.195312 -9.109375 -2.78125 Z M -9.109375 -3.71875 \"/>\n",
       "</symbol>\n",
       "<symbol overflow=\"visible\" id=\"QE4UCGs36-0\">\n",
       "<path style=\"stroke:none;\" d=\"M 2.125 -0.59375 L -8.46875 -0.59375 L -8.46875 -6.59375 L 2.125 -6.59375 Z M 1.453125 -1.265625 L 1.453125 -5.9375 L -7.78125 -5.9375 L -7.78125 -1.265625 Z M 1.453125 -1.265625 \"/>\n",
       "</symbol>\n",
       "<symbol overflow=\"visible\" id=\"QE4UCGs36-1\">\n",
       "<path style=\"stroke:none;\" d=\"M -6.5625 -1.125 L -6.5625 -2.203125 L 0 -2.203125 L 0 -1.125 Z M -9.125 -1.125 L -9.125 -2.203125 L -7.75 -2.203125 L -7.75 -1.125 Z M -9.125 -1.125 \"/>\n",
       "</symbol>\n",
       "<symbol overflow=\"visible\" id=\"QE4UCGs36-2\">\n",
       "<path style=\"stroke:none;\" d=\"M -9.109375 -0.96875 L -9.109375 -1.90625 C -8.179688 -2.488281 -7.273438 -2.925781 -6.390625 -3.21875 C -5.515625 -3.507812 -4.640625 -3.65625 -3.765625 -3.65625 C -2.890625 -3.65625 -2.007812 -3.507812 -1.125 -3.21875 C -0.238281 -2.925781 0.660156 -2.488281 1.578125 -1.90625 L 1.578125 -0.96875 C 0.679688 -1.476562 -0.207031 -1.863281 -1.09375 -2.125 C -1.976562 -2.382812 -2.867188 -2.515625 -3.765625 -2.515625 C -4.671875 -2.515625 -5.5625 -2.382812 -6.4375 -2.125 C -7.320312 -1.863281 -8.210938 -1.476562 -9.109375 -0.96875 Z M -9.109375 -0.96875 \"/>\n",
       "</symbol>\n",
       "<symbol overflow=\"visible\" id=\"QE4UCGs37-0\">\n",
       "<path style=\"stroke:none;\" d=\"M 2.125 -0.59375 L -8.46875 -0.59375 L -8.46875 -6.59375 L 2.125 -6.59375 Z M 1.453125 -1.265625 L 1.453125 -5.9375 L -7.78125 -5.9375 L -7.78125 -1.265625 Z M 1.453125 -1.265625 \"/>\n",
       "</symbol>\n",
       "<symbol overflow=\"visible\" id=\"QE4UCGs37-1\">\n",
       "<path style=\"stroke:none;\" d=\"M -6.3125 -5.859375 L -5.296875 -5.859375 C -5.472656 -5.546875 -5.601562 -5.238281 -5.6875 -4.9375 C -5.769531 -4.632812 -5.8125 -4.328125 -5.8125 -4.015625 C -5.8125 -3.304688 -5.585938 -2.757812 -5.140625 -2.375 C -4.703125 -1.988281 -4.082031 -1.796875 -3.28125 -1.796875 C -2.476562 -1.796875 -1.851562 -1.988281 -1.40625 -2.375 C -0.96875 -2.757812 -0.75 -3.304688 -0.75 -4.015625 C -0.75 -4.328125 -0.789062 -4.632812 -0.875 -4.9375 C -0.957031 -5.238281 -1.082031 -5.546875 -1.25 -5.859375 L -0.25 -5.859375 C -0.113281 -5.554688 -0.0078125 -5.242188 0.0625 -4.921875 C 0.132812 -4.597656 0.171875 -4.253906 0.171875 -3.890625 C 0.171875 -2.898438 -0.132812 -2.113281 -0.75 -1.53125 C -1.375 -0.945312 -2.21875 -0.65625 -3.28125 -0.65625 C -4.34375 -0.65625 -5.179688 -0.945312 -5.796875 -1.53125 C -6.410156 -2.125 -6.71875 -2.9375 -6.71875 -3.96875 C -6.71875 -4.289062 -6.679688 -4.609375 -6.609375 -4.921875 C -6.546875 -5.242188 -6.445312 -5.554688 -6.3125 -5.859375 Z M -6.3125 -5.859375 \"/>\n",
       "</symbol>\n",
       "<symbol overflow=\"visible\" id=\"QE4UCGs38-0\">\n",
       "<path style=\"stroke:none;\" d=\"M 2.125 -0.59375 L -8.46875 -0.59375 L -8.46875 -6.59375 L 2.125 -6.59375 Z M 1.453125 -1.265625 L 1.453125 -5.9375 L -7.78125 -5.9375 L -7.78125 -1.265625 Z M 1.453125 -1.265625 \"/>\n",
       "</symbol>\n",
       "<symbol overflow=\"visible\" id=\"QE4UCGs38-1\">\n",
       "<path style=\"stroke:none;\" d=\"M -6.5625 -6.59375 L -3.375 -4.21875 L 0 -6.703125 L 0 -5.4375 L -2.578125 -3.53125 L 0 -1.625 L 0 -0.34375 L -3.4375 -2.890625 L -6.5625 -0.5625 L -6.5625 -1.828125 L -4.21875 -3.578125 L -6.5625 -5.3125 Z M -6.5625 -6.59375 \"/>\n",
       "</symbol>\n",
       "<symbol overflow=\"visible\" id=\"QE4UCGs39-0\">\n",
       "<path style=\"stroke:none;\" d=\"M 0.59375 2.125 L 0.59375 -8.46875 L 6.59375 -8.46875 L 6.59375 2.125 Z M 1.265625 1.453125 L 5.9375 1.453125 L 5.9375 -7.78125 L 1.265625 -7.78125 Z M 1.265625 1.453125 \"/>\n",
       "</symbol>\n",
       "<symbol overflow=\"visible\" id=\"QE4UCGs39-1\">\n",
       "<path style=\"stroke:none;\" d=\"M 1.28125 -1.484375 L 2.515625 -1.484375 L 2.515625 0 L 1.28125 0 Z M 1.28125 -1.484375 \"/>\n",
       "</symbol>\n",
       "<symbol overflow=\"visible\" id=\"QE4UCGs39-2\">\n",
       "<path style=\"stroke:none;\" d=\"M 3.8125 -7.96875 C 3.207031 -7.96875 2.75 -7.664062 2.4375 -7.0625 C 2.132812 -6.46875 1.984375 -5.566406 1.984375 -4.359375 C 1.984375 -3.160156 2.132812 -2.257812 2.4375 -1.65625 C 2.75 -1.0625 3.207031 -0.765625 3.8125 -0.765625 C 4.425781 -0.765625 4.882812 -1.0625 5.1875 -1.65625 C 5.5 -2.257812 5.65625 -3.160156 5.65625 -4.359375 C 5.65625 -5.566406 5.5 -6.46875 5.1875 -7.0625 C 4.882812 -7.664062 4.425781 -7.96875 3.8125 -7.96875 Z M 3.8125 -8.90625 C 4.789062 -8.90625 5.539062 -8.515625 6.0625 -7.734375 C 6.582031 -6.960938 6.84375 -5.835938 6.84375 -4.359375 C 6.84375 -2.890625 6.582031 -1.765625 6.0625 -0.984375 C 5.539062 -0.210938 4.789062 0.171875 3.8125 0.171875 C 2.832031 0.171875 2.082031 -0.210938 1.5625 -0.984375 C 1.050781 -1.765625 0.796875 -2.890625 0.796875 -4.359375 C 0.796875 -5.835938 1.050781 -6.960938 1.5625 -7.734375 C 2.082031 -8.515625 2.832031 -8.90625 3.8125 -8.90625 Z M 3.8125 -8.90625 \"/>\n",
       "</symbol>\n",
       "<symbol overflow=\"visible\" id=\"QE4UCGs310-0\">\n",
       "<path style=\"stroke:none;\" d=\"M 0.59375 2.125 L 0.59375 -8.46875 L 6.59375 -8.46875 L 6.59375 2.125 Z M 1.265625 1.453125 L 5.9375 1.453125 L 5.9375 -7.78125 L 1.265625 -7.78125 Z M 1.265625 1.453125 \"/>\n",
       "</symbol>\n",
       "<symbol overflow=\"visible\" id=\"QE4UCGs310-1\">\n",
       "<path style=\"stroke:none;\" d=\"M 1.484375 -1 L 3.421875 -1 L 3.421875 -7.671875 L 1.3125 -7.25 L 1.3125 -8.328125 L 3.40625 -8.75 L 4.59375 -8.75 L 4.59375 -1 L 6.53125 -1 L 6.53125 0 L 1.484375 0 Z M 1.484375 -1 \"/>\n",
       "</symbol>\n",
       "<symbol overflow=\"visible\" id=\"QE4UCGs310-2\">\n",
       "<path style=\"stroke:none;\" d=\"M 3.8125 -7.96875 C 3.207031 -7.96875 2.75 -7.664062 2.4375 -7.0625 C 2.132812 -6.46875 1.984375 -5.566406 1.984375 -4.359375 C 1.984375 -3.160156 2.132812 -2.257812 2.4375 -1.65625 C 2.75 -1.0625 3.207031 -0.765625 3.8125 -0.765625 C 4.425781 -0.765625 4.882812 -1.0625 5.1875 -1.65625 C 5.5 -2.257812 5.65625 -3.160156 5.65625 -4.359375 C 5.65625 -5.566406 5.5 -6.46875 5.1875 -7.0625 C 4.882812 -7.664062 4.425781 -7.96875 3.8125 -7.96875 Z M 3.8125 -8.90625 C 4.789062 -8.90625 5.539062 -8.515625 6.0625 -7.734375 C 6.582031 -6.960938 6.84375 -5.835938 6.84375 -4.359375 C 6.84375 -2.890625 6.582031 -1.765625 6.0625 -0.984375 C 5.539062 -0.210938 4.789062 0.171875 3.8125 0.171875 C 2.832031 0.171875 2.082031 -0.210938 1.5625 -0.984375 C 1.050781 -1.765625 0.796875 -2.890625 0.796875 -4.359375 C 0.796875 -5.835938 1.050781 -6.960938 1.5625 -7.734375 C 2.082031 -8.515625 2.832031 -8.90625 3.8125 -8.90625 Z M 3.8125 -8.90625 \"/>\n",
       "</symbol>\n",
       "<symbol overflow=\"visible\" id=\"QE4UCGs311-0\">\n",
       "<path style=\"stroke:none;\" d=\"M 0.59375 2.125 L 0.59375 -8.46875 L 6.59375 -8.46875 L 6.59375 2.125 Z M 1.265625 1.453125 L 5.9375 1.453125 L 5.9375 -7.78125 L 1.265625 -7.78125 Z M 1.265625 1.453125 \"/>\n",
       "</symbol>\n",
       "<symbol overflow=\"visible\" id=\"QE4UCGs311-1\">\n",
       "<path style=\"stroke:none;\" d=\"M 1.28125 -1.484375 L 2.515625 -1.484375 L 2.515625 0 L 1.28125 0 Z M 1.28125 -1.484375 \"/>\n",
       "</symbol>\n",
       "</g>\n",
       "</defs>\n",
       "<g id=\"surface1\">\n",
       "<rect x=\"0\" y=\"0\" width=\"600\" height=\"450\" style=\"fill:rgb(100%,100%,100%);fill-opacity:1;stroke:none;\"/>\n",
       "<path style=\" stroke:none;fill-rule:nonzero;fill:rgb(100%,100%,100%);fill-opacity:1;\" d=\"M 54.75 402 L 588 402 L 588 12 L 54.75 12 Z M 54.75 402 \"/>\n",
       "<path style=\"fill:none;stroke-width:1;stroke-linecap:butt;stroke-linejoin:miter;stroke:rgb(0%,0%,0%);stroke-opacity:0.12;stroke-miterlimit:10;\" d=\"M 234.588542 536 L 234.588542 16 \" transform=\"matrix(0.75,0,0,0.75,0,0)\"/>\n",
       "<path style=\"fill:none;stroke-width:1;stroke-linecap:butt;stroke-linejoin:miter;stroke:rgb(0%,0%,0%);stroke-opacity:0.12;stroke-miterlimit:10;\" d=\"M 428.5 536 L 428.5 16 \" transform=\"matrix(0.75,0,0,0.75,0,0)\"/>\n",
       "<path style=\"fill:none;stroke-width:1;stroke-linecap:butt;stroke-linejoin:miter;stroke:rgb(0%,0%,0%);stroke-opacity:0.12;stroke-miterlimit:10;\" d=\"M 622.411458 536 L 622.411458 16 \" transform=\"matrix(0.75,0,0,0.75,0,0)\"/>\n",
       "<path style=\"fill:none;stroke-width:1;stroke-linecap:butt;stroke-linejoin:miter;stroke:rgb(0%,0%,0%);stroke-opacity:0.12;stroke-miterlimit:10;\" d=\"M 73 515.572917 L 784 515.572917 \" transform=\"matrix(0.75,0,0,0.75,0,0)\"/>\n",
       "<path style=\"fill:none;stroke-width:1;stroke-linecap:butt;stroke-linejoin:miter;stroke:rgb(0%,0%,0%);stroke-opacity:0.12;stroke-miterlimit:10;\" d=\"M 73 276 L 784 276 \" transform=\"matrix(0.75,0,0,0.75,0,0)\"/>\n",
       "<path style=\"fill:none;stroke-width:1;stroke-linecap:butt;stroke-linejoin:miter;stroke:rgb(0%,0%,0%);stroke-opacity:0.12;stroke-miterlimit:10;\" d=\"M 73 36.427083 L 784 36.427083 \" transform=\"matrix(0.75,0,0,0.75,0,0)\"/>\n",
       "<g style=\"fill:rgb(0%,0%,0%);fill-opacity:1;\">\n",
       "  <use xlink:href=\"#QE4UCGs30-1\" x=\"318.019531\" y=\"436.109375\"/>\n",
       "</g>\n",
       "<g style=\"fill:rgb(0%,0%,0%);fill-opacity:1;\">\n",
       "  <use xlink:href=\"#QE4UCGs31-1\" x=\"170.605469\" y=\"419.890625\"/>\n",
       "</g>\n",
       "<g style=\"fill:rgb(0%,0%,0%);fill-opacity:1;\">\n",
       "  <use xlink:href=\"#QE4UCGs32-1\" x=\"174.933594\" y=\"419.890625\"/>\n",
       "</g>\n",
       "<g style=\"fill:rgb(0%,0%,0%);fill-opacity:1;\">\n",
       "  <use xlink:href=\"#QE4UCGs33-1\" x=\"317.957031\" y=\"419.890625\"/>\n",
       "</g>\n",
       "<g style=\"fill:rgb(0%,0%,0%);fill-opacity:1;\">\n",
       "  <use xlink:href=\"#QE4UCGs30-2\" x=\"463.46875\" y=\"419.890625\"/>\n",
       "</g>\n",
       "<g style=\"fill:rgb(0%,0%,0%);fill-opacity:1;\">\n",
       "  <use xlink:href=\"#QE4UCGs34-1\" x=\"22.289062\" y=\"236.058594\"/>\n",
       "</g>\n",
       "<g style=\"fill:rgb(0%,0%,0%);fill-opacity:1;\">\n",
       "  <use xlink:href=\"#QE4UCGs34-2\" x=\"22.289062\" y=\"232.726562\"/>\n",
       "</g>\n",
       "<g style=\"fill:rgb(0%,0%,0%);fill-opacity:1;\">\n",
       "  <use xlink:href=\"#QE4UCGs34-3\" x=\"22.289062\" y=\"225.382812\"/>\n",
       "</g>\n",
       "<g style=\"fill:rgb(0%,0%,0%);fill-opacity:1;\">\n",
       "  <use xlink:href=\"#QE4UCGs35-1\" x=\"22.289062\" y=\"217.765625\"/>\n",
       "</g>\n",
       "<g style=\"fill:rgb(0%,0%,0%);fill-opacity:1;\">\n",
       "  <use xlink:href=\"#QE4UCGs35-2\" x=\"22.289062\" y=\"214.433594\"/>\n",
       "</g>\n",
       "<g style=\"fill:rgb(0%,0%,0%);fill-opacity:1;\">\n",
       "  <use xlink:href=\"#QE4UCGs34-4\" x=\"22.289062\" y=\"208.179687\"/>\n",
       "</g>\n",
       "<g style=\"fill:rgb(0%,0%,0%);fill-opacity:1;\">\n",
       "  <use xlink:href=\"#QE4UCGs36-1\" x=\"22.289062\" y=\"203.476562\"/>\n",
       "</g>\n",
       "<g style=\"fill:rgb(0%,0%,0%);fill-opacity:1;\">\n",
       "  <use xlink:href=\"#QE4UCGs37-1\" x=\"22.289062\" y=\"200.140625\"/>\n",
       "</g>\n",
       "<g style=\"fill:rgb(0%,0%,0%);fill-opacity:1;\">\n",
       "  <use xlink:href=\"#QE4UCGs35-3\" x=\"22.289062\" y=\"193.542969\"/>\n",
       "</g>\n",
       "<g style=\"fill:rgb(0%,0%,0%);fill-opacity:1;\">\n",
       "  <use xlink:href=\"#QE4UCGs38-1\" x=\"22.289062\" y=\"188.863281\"/>\n",
       "</g>\n",
       "<g style=\"fill:rgb(0%,0%,0%);fill-opacity:1;\">\n",
       "  <use xlink:href=\"#QE4UCGs36-2\" x=\"22.289062\" y=\"181.761719\"/>\n",
       "</g>\n",
       "<g style=\"fill:rgb(0%,0%,0%);fill-opacity:1;\">\n",
       "  <use xlink:href=\"#QE4UCGs32-2\" x=\"29.003906\" y=\"390.832031\"/>\n",
       "</g>\n",
       "<g style=\"fill:rgb(0%,0%,0%);fill-opacity:1;\">\n",
       "  <use xlink:href=\"#QE4UCGs39-1\" x=\"36.640625\" y=\"390.832031\"/>\n",
       "</g>\n",
       "<g style=\"fill:rgb(0%,0%,0%);fill-opacity:1;\">\n",
       "  <use xlink:href=\"#QE4UCGs32-2\" x=\"40.453125\" y=\"390.832031\"/>\n",
       "</g>\n",
       "<g style=\"fill:rgb(0%,0%,0%);fill-opacity:1;\">\n",
       "  <use xlink:href=\"#QE4UCGs39-2\" x=\"29.390625\" y=\"211.15625\"/>\n",
       "</g>\n",
       "<g style=\"fill:rgb(0%,0%,0%);fill-opacity:1;\">\n",
       "  <use xlink:href=\"#QE4UCGs32-3\" x=\"37.023438\" y=\"211.15625\"/>\n",
       "</g>\n",
       "<g style=\"fill:rgb(0%,0%,0%);fill-opacity:1;\">\n",
       "  <use xlink:href=\"#QE4UCGs32-4\" x=\"40.839844\" y=\"211.15625\"/>\n",
       "</g>\n",
       "<g style=\"fill:rgb(0%,0%,0%);fill-opacity:1;\">\n",
       "  <use xlink:href=\"#QE4UCGs310-1\" x=\"29.003906\" y=\"31.476562\"/>\n",
       "</g>\n",
       "<g style=\"fill:rgb(0%,0%,0%);fill-opacity:1;\">\n",
       "  <use xlink:href=\"#QE4UCGs311-1\" x=\"36.640625\" y=\"31.476562\"/>\n",
       "</g>\n",
       "<g style=\"fill:rgb(0%,0%,0%);fill-opacity:1;\">\n",
       "  <use xlink:href=\"#QE4UCGs310-2\" x=\"40.453125\" y=\"31.476562\"/>\n",
       "</g>\n",
       "<path style=\"fill:none;stroke-width:1.5;stroke-linecap:butt;stroke-linejoin:miter;stroke:rgb(0%,44.705883%,69.803923%);stroke-opacity:1;stroke-miterlimit:10;\" d=\"M 105.317708 512.364583 L 106.609375 512.296875 L 107.901042 512.234375 L 109.197917 512.166667 L 111.78125 512.03125 L 113.072917 511.958333 L 114.369792 511.885417 L 115.661458 511.8125 L 116.953125 511.734375 L 118.244792 511.661458 L 119.536458 511.583333 L 120.833333 511.5 L 122.125 511.421875 L 123.416667 511.338542 L 124.708333 511.25 L 126 511.166667 L 127.296875 511.078125 L 128.588542 510.989583 L 132.463542 510.708333 L 133.760417 510.609375 L 136.34375 510.411458 L 138.927083 510.203125 L 140.223958 510.09375 L 142.807292 509.875 L 145.390625 509.645833 L 146.6875 509.526042 L 147.979167 509.40625 L 150.5625 509.15625 L 151.854167 509.026042 L 153.151042 508.895833 L 154.442708 508.765625 L 155.734375 508.630208 L 158.317708 508.348958 L 159.614583 508.208333 L 160.90625 508.0625 L 163.489583 507.760417 L 164.78125 507.604167 L 166.078125 507.447917 L 167.369792 507.286458 L 169.953125 506.953125 L 171.244792 506.78125 L 172.541667 506.609375 L 173.833333 506.432292 L 175.125 506.25 L 177.708333 505.875 L 179.005208 505.682292 L 180.296875 505.489583 L 181.588542 505.291667 L 182.880208 505.088542 L 184.177083 504.880208 L 186.760417 504.453125 L 188.052083 504.234375 L 189.34375 504.010417 L 190.640625 503.78125 L 191.932292 503.552083 L 194.515625 503.072917 L 195.807292 502.828125 L 197.104167 502.578125 L 198.395833 502.322917 L 199.6875 502.0625 L 200.979167 501.796875 L 202.270833 501.526042 L 203.567708 501.25 L 204.859375 500.96875 L 206.151042 500.682292 L 208.734375 500.098958 L 210.03125 499.791667 L 211.322917 499.484375 L 212.614583 499.171875 L 213.90625 498.854167 L 215.197917 498.526042 L 216.494792 498.192708 L 217.786458 497.859375 L 220.369792 497.161458 L 221.661458 496.802083 L 222.958333 496.442708 L 225.541667 495.692708 L 226.833333 495.307292 L 228.125 494.916667 L 229.421875 494.515625 L 230.713542 494.109375 L 232.005208 493.697917 L 233.296875 493.276042 L 234.588542 492.848958 L 235.885417 492.411458 L 237.177083 491.963542 L 238.46875 491.510417 L 239.760417 491.052083 L 241.052083 490.583333 L 242.348958 490.104167 L 243.640625 489.614583 L 244.932292 489.119792 L 246.223958 488.619792 L 247.515625 488.104167 L 248.8125 487.583333 L 250.104167 487.052083 L 251.395833 486.510417 L 252.6875 485.958333 L 253.984375 485.395833 L 255.276042 484.828125 L 256.567708 484.244792 L 257.859375 483.65625 L 259.151042 483.057292 L 260.447917 482.442708 L 261.739583 481.822917 L 263.03125 481.1875 L 264.322917 480.546875 L 265.614583 479.890625 L 266.911458 479.223958 L 268.203125 478.546875 L 269.494792 477.859375 L 270.786458 477.15625 L 272.078125 476.442708 L 273.375 475.71875 L 274.666667 474.984375 L 275.958333 474.234375 L 277.25 473.46875 L 278.541667 472.697917 L 279.838542 471.911458 L 281.130208 471.109375 L 282.421875 470.296875 L 283.713542 469.46875 L 285.005208 468.630208 L 286.302083 467.776042 L 287.59375 466.90625 L 288.885417 466.026042 L 290.177083 465.130208 L 291.46875 464.223958 L 292.765625 463.296875 L 294.057292 462.359375 L 295.348958 461.40625 L 296.640625 460.4375 L 297.932292 459.453125 L 299.229167 458.453125 L 300.520833 457.442708 L 301.8125 456.411458 L 303.104167 455.369792 L 304.395833 454.307292 L 305.692708 453.229167 L 306.984375 452.135417 L 308.276042 451.03125 L 309.567708 449.901042 L 310.859375 448.760417 L 312.15625 447.604167 L 313.447917 446.427083 L 314.739583 445.239583 L 316.03125 444.026042 L 317.322917 442.802083 L 318.619792 441.557292 L 319.911458 440.302083 L 321.203125 439.020833 L 322.494792 437.729167 L 323.791667 436.416667 L 325.083333 435.083333 L 326.375 433.734375 L 327.666667 432.369792 L 328.958333 430.984375 L 330.255208 429.583333 L 331.546875 428.161458 L 332.838542 426.723958 L 334.130208 425.265625 L 335.421875 423.791667 L 336.71875 422.302083 L 338.010417 420.786458 L 339.302083 419.260417 L 340.59375 417.708333 L 341.885417 416.145833 L 343.182292 414.557292 L 344.473958 412.953125 L 345.765625 411.333333 L 347.057292 409.692708 L 348.348958 408.036458 L 349.645833 406.359375 L 350.9375 404.661458 L 352.229167 402.947917 L 353.520833 401.213542 L 354.8125 399.463542 L 356.109375 397.697917 L 357.401042 395.911458 L 358.692708 394.104167 L 359.984375 392.28125 L 361.276042 390.442708 L 362.572917 388.583333 L 363.864583 386.708333 L 365.15625 384.817708 L 366.447917 382.90625 L 367.739583 380.979167 L 369.036458 379.036458 L 370.328125 377.072917 L 371.619792 375.098958 L 372.911458 373.104167 L 374.203125 371.09375 L 375.5 369.067708 L 376.791667 367.026042 L 378.083333 364.96875 L 379.375 362.895833 L 380.666667 360.807292 L 381.963542 358.703125 L 383.255208 356.583333 L 384.546875 354.453125 L 385.838542 352.307292 L 387.130208 350.151042 L 388.427083 347.973958 L 389.71875 345.791667 L 391.010417 343.59375 L 392.302083 341.380208 L 393.59375 339.15625 L 394.890625 336.921875 L 396.182292 334.677083 L 397.473958 332.416667 L 398.765625 330.151042 L 400.0625 327.869792 L 401.354167 325.583333 L 402.645833 323.286458 L 403.9375 320.979167 L 405.229167 318.661458 L 406.526042 316.338542 L 407.817708 314.005208 L 409.109375 311.666667 L 410.401042 309.322917 L 411.692708 306.96875 L 412.989583 304.609375 L 414.28125 302.244792 L 416.864583 297.505208 L 418.15625 295.125 L 419.453125 292.744792 L 420.744792 290.359375 L 424.619792 283.1875 L 425.916667 280.791667 L 431.083333 271.208333 L 432.380208 268.8125 L 436.255208 261.640625 L 437.546875 259.255208 L 438.84375 256.875 L 440.135417 254.494792 L 442.71875 249.755208 L 444.010417 247.390625 L 445.307292 245.03125 L 446.598958 242.677083 L 447.890625 240.333333 L 449.182292 237.994792 L 450.473958 235.661458 L 451.770833 233.338542 L 453.0625 231.020833 L 454.354167 228.713542 L 455.645833 226.416667 L 456.9375 224.130208 L 458.234375 221.848958 L 459.526042 219.583333 L 460.817708 217.322917 L 462.109375 215.078125 L 463.40625 212.84375 L 464.697917 210.619792 L 465.989583 208.411458 L 467.28125 206.208333 L 468.572917 204.026042 L 469.869792 201.848958 L 471.161458 199.692708 L 472.453125 197.546875 L 473.744792 195.416667 L 475.036458 193.296875 L 476.333333 191.192708 L 477.625 189.104167 L 478.916667 187.03125 L 480.208333 184.973958 L 481.5 182.932292 L 482.796875 180.90625 L 484.088542 178.895833 L 485.380208 176.901042 L 486.671875 174.927083 L 487.963542 172.963542 L 489.260417 171.020833 L 490.552083 169.09375 L 491.84375 167.182292 L 493.135417 165.291667 L 494.427083 163.416667 L 495.723958 161.557292 L 497.015625 159.71875 L 498.307292 157.895833 L 499.598958 156.088542 L 500.890625 154.302083 L 502.1875 152.536458 L 503.479167 150.786458 L 504.770833 149.052083 L 506.0625 147.338542 L 507.354167 145.645833 L 508.651042 143.963542 L 509.942708 142.307292 L 511.234375 140.666667 L 512.526042 139.046875 L 513.817708 137.442708 L 515.114583 135.854167 L 516.40625 134.291667 L 517.697917 132.739583 L 518.989583 131.213542 L 520.28125 129.697917 L 521.578125 128.208333 L 522.869792 126.734375 L 524.161458 125.276042 L 525.453125 123.838542 L 526.744792 122.416667 L 528.041667 121.015625 L 529.333333 119.630208 L 530.625 118.265625 L 531.916667 116.916667 L 533.208333 115.588542 L 534.505208 114.270833 L 535.796875 112.979167 L 537.088542 111.697917 L 538.380208 110.442708 L 539.677083 109.197917 L 540.96875 107.973958 L 542.260417 106.760417 L 543.552083 105.572917 L 544.84375 104.395833 L 546.140625 103.239583 L 547.432292 102.098958 L 548.723958 100.96875 L 550.015625 99.864583 L 551.307292 98.770833 L 552.604167 97.692708 L 553.895833 96.630208 L 555.1875 95.588542 L 556.479167 94.557292 L 557.770833 93.546875 L 559.067708 92.546875 L 560.359375 91.5625 L 561.651042 90.59375 L 562.942708 89.640625 L 564.234375 88.703125 L 565.53125 87.776042 L 566.822917 86.869792 L 568.114583 85.973958 L 569.40625 85.09375 L 570.697917 84.223958 L 571.994792 83.369792 L 573.286458 82.53125 L 574.578125 81.703125 L 575.869792 80.890625 L 577.161458 80.088542 L 578.458333 79.302083 L 579.75 78.53125 L 581.041667 77.765625 L 582.333333 77.015625 L 583.625 76.28125 L 584.921875 75.557292 L 586.213542 74.84375 L 587.505208 74.140625 L 588.796875 73.453125 L 590.088542 72.776042 L 591.385417 72.109375 L 592.677083 71.453125 L 593.96875 70.8125 L 595.260417 70.177083 L 596.552083 69.557292 L 597.848958 68.942708 L 599.140625 68.34375 L 600.432292 67.755208 L 601.723958 67.171875 L 603.015625 66.604167 L 604.3125 66.041667 L 605.604167 65.489583 L 606.895833 64.947917 L 608.1875 64.416667 L 609.484375 63.895833 L 610.776042 63.380208 L 612.067708 62.880208 L 613.359375 62.385417 L 614.651042 61.895833 L 615.947917 61.416667 L 617.239583 60.947917 L 618.53125 60.489583 L 619.822917 60.036458 L 621.114583 59.588542 L 622.411458 59.151042 L 623.703125 58.723958 L 624.994792 58.302083 L 626.286458 57.890625 L 627.578125 57.484375 L 628.875 57.083333 L 630.166667 56.692708 L 631.458333 56.307292 L 634.041667 55.557292 L 635.338542 55.197917 L 636.630208 54.838542 L 639.213542 54.140625 L 640.505208 53.807292 L 641.802083 53.473958 L 643.09375 53.145833 L 644.385417 52.828125 L 645.677083 52.515625 L 646.96875 52.208333 L 648.265625 51.90625 L 649.557292 51.609375 L 650.848958 51.317708 L 652.140625 51.03125 L 653.432292 50.75 L 654.729167 50.473958 L 656.020833 50.203125 L 657.3125 49.9375 L 658.604167 49.677083 L 659.895833 49.421875 L 661.192708 49.171875 L 662.484375 48.927083 L 665.067708 48.447917 L 666.359375 48.21875 L 667.65625 47.989583 L 668.947917 47.765625 L 670.239583 47.546875 L 672.822917 47.119792 L 674.119792 46.911458 L 675.411458 46.708333 L 676.703125 46.510417 L 677.994792 46.317708 L 679.291667 46.125 L 681.875 45.75 L 683.166667 45.567708 L 684.458333 45.390625 L 685.755208 45.21875 L 687.046875 45.046875 L 689.630208 44.713542 L 690.921875 44.552083 L 692.21875 44.395833 L 693.510417 44.239583 L 696.09375 43.9375 L 697.385417 43.791667 L 698.682292 43.651042 L 701.265625 43.369792 L 702.557292 43.234375 L 703.848958 43.104167 L 705.145833 42.973958 L 706.4375 42.84375 L 709.020833 42.59375 L 710.3125 42.473958 L 711.609375 42.354167 L 714.192708 42.125 L 716.776042 41.90625 L 718.072917 41.796875 L 720.65625 41.588542 L 723.239583 41.390625 L 724.536458 41.291667 L 728.411458 41.010417 L 729.703125 40.921875 L 731 40.833333 L 732.291667 40.75 L 733.583333 40.661458 L 734.875 40.578125 L 736.166667 40.5 L 737.463542 40.416667 L 738.755208 40.338542 L 740.046875 40.265625 L 741.338542 40.1875 L 742.630208 40.114583 L 743.927083 40.041667 L 745.21875 39.96875 L 747.802083 39.833333 L 749.098958 39.765625 L 750.390625 39.703125 L 751.682292 39.635417 \" transform=\"matrix(0.75,0,0,0.75,0,0)\"/>\n",
       "<path style=\"fill:none;stroke-width:1;stroke-linecap:butt;stroke-linejoin:miter;stroke:rgb(0%,0%,0%);stroke-opacity:1;stroke-miterlimit:10;\" d=\"M 234.588542 536.5 L 234.588542 542.5 \" transform=\"matrix(0.75,0,0,0.75,0,0)\"/>\n",
       "<path style=\"fill:none;stroke-width:1;stroke-linecap:butt;stroke-linejoin:miter;stroke:rgb(0%,0%,0%);stroke-opacity:1;stroke-miterlimit:10;\" d=\"M 428.5 536.5 L 428.5 542.5 \" transform=\"matrix(0.75,0,0,0.75,0,0)\"/>\n",
       "<path style=\"fill:none;stroke-width:1;stroke-linecap:butt;stroke-linejoin:miter;stroke:rgb(0%,0%,0%);stroke-opacity:1;stroke-miterlimit:10;\" d=\"M 622.411458 536.5 L 622.411458 542.5 \" transform=\"matrix(0.75,0,0,0.75,0,0)\"/>\n",
       "<path style=\"fill:none;stroke-width:1;stroke-linecap:butt;stroke-linejoin:miter;stroke:rgb(0%,0%,0%);stroke-opacity:1;stroke-miterlimit:10;\" d=\"M 72.5 515.572917 L 66.5 515.572917 \" transform=\"matrix(0.75,0,0,0.75,0,0)\"/>\n",
       "<path style=\"fill:none;stroke-width:1;stroke-linecap:butt;stroke-linejoin:miter;stroke:rgb(0%,0%,0%);stroke-opacity:1;stroke-miterlimit:10;\" d=\"M 72.5 276 L 66.5 276 \" transform=\"matrix(0.75,0,0,0.75,0,0)\"/>\n",
       "<path style=\"fill:none;stroke-width:1;stroke-linecap:butt;stroke-linejoin:miter;stroke:rgb(0%,0%,0%);stroke-opacity:1;stroke-miterlimit:10;\" d=\"M 72.5 36.427083 L 66.5 36.427083 \" transform=\"matrix(0.75,0,0,0.75,0,0)\"/>\n",
       "<path style=\"fill:none;stroke-width:1;stroke-linecap:butt;stroke-linejoin:miter;stroke:rgb(0%,0%,0%);stroke-opacity:1;stroke-miterlimit:10;\" d=\"M 72.5 536 L 784.5 536 \" transform=\"matrix(0.75,0,0,0.75,0,0)\"/>\n",
       "<path style=\"fill:none;stroke-width:1;stroke-linecap:butt;stroke-linejoin:miter;stroke:rgb(0%,0%,0%);stroke-opacity:1;stroke-miterlimit:10;\" d=\"M 73 536.5 L 73 15.5 \" transform=\"matrix(0.75,0,0,0.75,0,0)\"/>\n",
       "<path style=\"fill:none;stroke-width:1;stroke-linecap:butt;stroke-linejoin:miter;stroke:rgb(0%,0%,0%);stroke-opacity:1;stroke-miterlimit:10;\" d=\"M 72.5 16 L 784.5 16 \" transform=\"matrix(0.75,0,0,0.75,0,0)\"/>\n",
       "<path style=\"fill:none;stroke-width:1;stroke-linecap:butt;stroke-linejoin:miter;stroke:rgb(0%,0%,0%);stroke-opacity:1;stroke-miterlimit:10;\" d=\"M 784 536.5 L 784 15.5 \" transform=\"matrix(0.75,0,0,0.75,0,0)\"/>\n",
       "</g>\n",
       "</svg>\n"
      ],
      "text/plain": [
       "FigureAxisPlot()"
      ]
     },
     "execution_count": 26,
     "metadata": {},
     "output_type": "execute_result"
    }
   ],
   "source": [
    "lines(xvals, logistic.(xvals), axis=(xlabel=\"x\", ylabel=\"logistic(x)\"))"
   ]
  },
  {
   "cell_type": "markdown",
   "id": "cd1a5dac",
   "metadata": {},
   "source": [
    "- Notice the '.' after `logistic` and before `(xvals)`, which vectorizes the call"
   ]
  },
  {
   "cell_type": "markdown",
   "id": "7a1bb12a",
   "metadata": {
    "slideshow": {
     "slide_type": "slide"
    }
   },
   "source": [
    "## Timings\n",
    "- The `BenchmarkTools` package provides macros to help with benchmarking evaluation of an expression."
   ]
  },
  {
   "cell_type": "code",
   "execution_count": 27,
   "id": "934c8f50",
   "metadata": {
    "slideshow": {
     "slide_type": "-"
    }
   },
   "outputs": [],
   "source": [
    "using BenchmarkTools"
   ]
  },
  {
   "cell_type": "markdown",
   "id": "3e1ebc57",
   "metadata": {
    "slideshow": {
     "slide_type": "slide"
    }
   },
   "source": [
    "## Call `@benchmark` on an expression"
   ]
  },
  {
   "cell_type": "code",
   "execution_count": 28,
   "id": "64de1443",
   "metadata": {
    "slideshow": {
     "slide_type": "-"
    }
   },
   "outputs": [
    {
     "data": {
      "text/plain": [
       "BenchmarkTools.Trial: 10000 samples with 1000 evaluations.\n",
       " Range \u001b[90m(\u001b[39m\u001b[36m\u001b[1mmin\u001b[22m\u001b[39m … \u001b[35mmax\u001b[39m\u001b[90m):  \u001b[39m\u001b[36m\u001b[1m0.013 ns\u001b[22m\u001b[39m … \u001b[35m0.032 ns\u001b[39m  \u001b[90m┊\u001b[39m GC \u001b[90m(\u001b[39mmin … max\u001b[90m): \u001b[39m0.00% … 0.00%\n",
       " Time  \u001b[90m(\u001b[39m\u001b[34m\u001b[1mmedian\u001b[22m\u001b[39m\u001b[90m):     \u001b[39m\u001b[34m\u001b[1m0.015 ns             \u001b[22m\u001b[39m\u001b[90m┊\u001b[39m GC \u001b[90m(\u001b[39mmedian\u001b[90m):    \u001b[39m0.00%\n",
       " Time  \u001b[90m(\u001b[39m\u001b[32m\u001b[1mmean\u001b[22m\u001b[39m ± \u001b[32mσ\u001b[39m\u001b[90m):   \u001b[39m\u001b[32m\u001b[1m0.015 ns\u001b[22m\u001b[39m ± \u001b[32m0.001 ns\u001b[39m  \u001b[90m┊\u001b[39m GC \u001b[90m(\u001b[39mmean ± σ\u001b[90m):  \u001b[39m0.00% ± 0.00%\n",
       "\n",
       "  \u001b[39m \u001b[39m \u001b[39m \u001b[39m \u001b[39m \u001b[39m \u001b[39m \u001b[39m \u001b[39m \u001b[39m \u001b[39m \u001b[39m \u001b[39m \u001b[39m \u001b[39m \u001b[39m \u001b[39m \u001b[39m \u001b[39m \u001b[39m \u001b[39m \u001b[39m \u001b[39m█\u001b[34m \u001b[39m\u001b[39m \u001b[39m \u001b[39m \u001b[39m \u001b[32m \u001b[39m\u001b[39m \u001b[39m \u001b[39m \u001b[39m \u001b[39m \u001b[39m▂\u001b[39m \u001b[39m \u001b[39m \u001b[39m \u001b[39m \u001b[39m \u001b[39m \u001b[39m \u001b[39m \u001b[39m \u001b[39m \u001b[39m \u001b[39m \u001b[39m \u001b[39m \u001b[39m \u001b[39m \u001b[39m \u001b[39m \u001b[39m \u001b[39m \u001b[39m \u001b[39m \u001b[39m \n",
       "  \u001b[39m▂\u001b[39m▁\u001b[39m▁\u001b[39m▁\u001b[39m▁\u001b[39m▁\u001b[39m▁\u001b[39m▁\u001b[39m▁\u001b[39m▁\u001b[39m▁\u001b[39m▆\u001b[39m▁\u001b[39m▁\u001b[39m▁\u001b[39m▁\u001b[39m▁\u001b[39m▁\u001b[39m▁\u001b[39m▁\u001b[39m▁\u001b[39m▁\u001b[39m█\u001b[34m▁\u001b[39m\u001b[39m▁\u001b[39m▁\u001b[39m▁\u001b[39m▁\u001b[32m▁\u001b[39m\u001b[39m▁\u001b[39m▁\u001b[39m▁\u001b[39m▁\u001b[39m▁\u001b[39m█\u001b[39m▁\u001b[39m▁\u001b[39m▁\u001b[39m▁\u001b[39m▁\u001b[39m▁\u001b[39m▁\u001b[39m▁\u001b[39m▁\u001b[39m▁\u001b[39m▄\u001b[39m▁\u001b[39m▁\u001b[39m▁\u001b[39m▁\u001b[39m▁\u001b[39m▁\u001b[39m▁\u001b[39m▁\u001b[39m▁\u001b[39m▁\u001b[39m▂\u001b[39m \u001b[39m▂\n",
       "  013 ns\u001b[90m         Histogram: frequency by time\u001b[39m        018 ns \u001b[0m\u001b[1m<\u001b[22m\n",
       "\n",
       " Memory estimate\u001b[90m: \u001b[39m\u001b[33m0 bytes\u001b[39m, allocs estimate\u001b[90m: \u001b[39m\u001b[33m0\u001b[39m."
      ]
     },
     "execution_count": 28,
     "metadata": {},
     "output_type": "execute_result"
    }
   ],
   "source": [
    "@benchmark logistic(1.3)"
   ]
  },
  {
   "cell_type": "code",
   "execution_count": 29,
   "id": "c65c3723",
   "metadata": {},
   "outputs": [
    {
     "name": "stdout",
     "output_type": "stream",
     "text": [
      "Julia Version 1.6.2\n",
      "Commit 1b93d53fc4 (2021-07-14 15:36 UTC)\n",
      "Platform Info:\n",
      "  OS: Linux (x86_64-pc-linux-gnu)\n",
      "  CPU: 11th Gen Intel(R) Core(TM) i5-1135G7 @ 2.40GHz\n",
      "  WORD_SIZE: 64\n",
      "  LIBM: libopenlibm\n",
      "  LLVM: libLLVM-11.0.1 (ORCJIT, tigerlake)\n"
     ]
    }
   ],
   "source": [
    "versioninfo()  # some specs on the computer being used"
   ]
  },
  {
   "cell_type": "markdown",
   "id": "92abef3e",
   "metadata": {
    "slideshow": {
     "slide_type": "slide"
    }
   },
   "source": [
    "### In practice this is just benchmarking the exp function"
   ]
  },
  {
   "cell_type": "code",
   "execution_count": 30,
   "id": "e4286a60",
   "metadata": {
    "slideshow": {
     "slide_type": "-"
    }
   },
   "outputs": [
    {
     "data": {
      "text/plain": [
       "BenchmarkTools.Trial: 10000 samples with 1000 evaluations.\n",
       " Range \u001b[90m(\u001b[39m\u001b[36m\u001b[1mmin\u001b[22m\u001b[39m … \u001b[35mmax\u001b[39m\u001b[90m):  \u001b[39m\u001b[36m\u001b[1m0.013 ns\u001b[22m\u001b[39m … \u001b[35m2.082 ns\u001b[39m  \u001b[90m┊\u001b[39m GC \u001b[90m(\u001b[39mmin … max\u001b[90m): \u001b[39m0.00% … 0.00%\n",
       " Time  \u001b[90m(\u001b[39m\u001b[34m\u001b[1mmedian\u001b[22m\u001b[39m\u001b[90m):     \u001b[39m\u001b[34m\u001b[1m0.016 ns             \u001b[22m\u001b[39m\u001b[90m┊\u001b[39m GC \u001b[90m(\u001b[39mmedian\u001b[90m):    \u001b[39m0.00%\n",
       " Time  \u001b[90m(\u001b[39m\u001b[32m\u001b[1mmean\u001b[22m\u001b[39m ± \u001b[32mσ\u001b[39m\u001b[90m):   \u001b[39m\u001b[32m\u001b[1m0.017 ns\u001b[22m\u001b[39m ± \u001b[32m0.029 ns\u001b[39m  \u001b[90m┊\u001b[39m GC \u001b[90m(\u001b[39mmean ± σ\u001b[90m):  \u001b[39m0.00% ± 0.00%\n",
       "\n",
       "  \u001b[39m \u001b[39m \u001b[39m \u001b[39m▆\u001b[39m \u001b[39m \u001b[39m \u001b[39m█\u001b[39m \u001b[39m \u001b[39m█\u001b[34m \u001b[39m\u001b[39m \u001b[39m \u001b[32m▇\u001b[39m\u001b[39m \u001b[39m \u001b[39m▅\u001b[39m \u001b[39m \u001b[39m \u001b[39m▂\u001b[39m \u001b[39m \u001b[39m \u001b[39m \u001b[39m \u001b[39m \u001b[39m▁\u001b[39m \u001b[39m \u001b[39m \u001b[39m \u001b[39m \u001b[39m \u001b[39m \u001b[39m \u001b[39m \u001b[39m \u001b[39m \u001b[39m \u001b[39m \u001b[39m \u001b[39m \u001b[39m \u001b[39m \u001b[39m \u001b[39m \u001b[39m \u001b[39m \u001b[39m \u001b[39m \u001b[39m \u001b[39m \u001b[39m \u001b[39m \u001b[39m \u001b[39m \u001b[39m▂\n",
       "  \u001b[39m▅\u001b[39m▁\u001b[39m▁\u001b[39m█\u001b[39m▁\u001b[39m▁\u001b[39m▁\u001b[39m█\u001b[39m▁\u001b[39m▁\u001b[39m█\u001b[34m▁\u001b[39m\u001b[39m▁\u001b[39m▁\u001b[32m█\u001b[39m\u001b[39m▁\u001b[39m▁\u001b[39m█\u001b[39m▁\u001b[39m▁\u001b[39m▁\u001b[39m█\u001b[39m▁\u001b[39m▁\u001b[39m▇\u001b[39m▁\u001b[39m▁\u001b[39m▁\u001b[39m█\u001b[39m▁\u001b[39m▁\u001b[39m▁\u001b[39m▇\u001b[39m▁\u001b[39m▁\u001b[39m█\u001b[39m▁\u001b[39m▁\u001b[39m▁\u001b[39m█\u001b[39m▁\u001b[39m▁\u001b[39m▆\u001b[39m▁\u001b[39m▁\u001b[39m▁\u001b[39m▇\u001b[39m▁\u001b[39m▁\u001b[39m▆\u001b[39m▁\u001b[39m▁\u001b[39m▁\u001b[39m▇\u001b[39m▁\u001b[39m▁\u001b[39m▁\u001b[39m \u001b[39m█\n",
       "  013 ns\u001b[90m      \u001b[39m\u001b[90mHistogram: \u001b[39m\u001b[90m\u001b[1mlog(\u001b[22m\u001b[39m\u001b[90mfrequency\u001b[39m\u001b[90m\u001b[1m)\u001b[22m\u001b[39m\u001b[90m by time\u001b[39m      029 ns \u001b[0m\u001b[1m<\u001b[22m\n",
       "\n",
       " Memory estimate\u001b[90m: \u001b[39m\u001b[33m0 bytes\u001b[39m, allocs estimate\u001b[90m: \u001b[39m\u001b[33m0\u001b[39m."
      ]
     },
     "execution_count": 30,
     "metadata": {},
     "output_type": "execute_result"
    }
   ],
   "source": [
    "@benchmark exp(-1.3)"
   ]
  },
  {
   "cell_type": "markdown",
   "id": "bf21a468",
   "metadata": {
    "slideshow": {
     "slide_type": "slide"
    }
   },
   "source": [
    "## Benchmark the vectorized form"
   ]
  },
  {
   "cell_type": "code",
   "execution_count": 31,
   "id": "56aa3cd5",
   "metadata": {},
   "outputs": [
    {
     "data": {
      "text/plain": [
       "501"
      ]
     },
     "execution_count": 31,
     "metadata": {},
     "output_type": "execute_result"
    }
   ],
   "source": [
    "length(xvals)"
   ]
  },
  {
   "cell_type": "code",
   "execution_count": 32,
   "id": "08b1327e",
   "metadata": {
    "slideshow": {
     "slide_type": "-"
    }
   },
   "outputs": [
    {
     "data": {
      "text/plain": [
       "BenchmarkTools.Trial: 10000 samples with 7 evaluations.\n",
       " Range \u001b[90m(\u001b[39m\u001b[36m\u001b[1mmin\u001b[22m\u001b[39m … \u001b[35mmax\u001b[39m\u001b[90m):  \u001b[39m\u001b[36m\u001b[1m4.164 μs\u001b[22m\u001b[39m … \u001b[35m639.347 μs\u001b[39m  \u001b[90m┊\u001b[39m GC \u001b[90m(\u001b[39mmin … max\u001b[90m): \u001b[39m0.00% … 98.06%\n",
       " Time  \u001b[90m(\u001b[39m\u001b[34m\u001b[1mmedian\u001b[22m\u001b[39m\u001b[90m):     \u001b[39m\u001b[34m\u001b[1m4.284 μs               \u001b[22m\u001b[39m\u001b[90m┊\u001b[39m GC \u001b[90m(\u001b[39mmedian\u001b[90m):    \u001b[39m0.00%\n",
       " Time  \u001b[90m(\u001b[39m\u001b[32m\u001b[1mmean\u001b[22m\u001b[39m ± \u001b[32mσ\u001b[39m\u001b[90m):   \u001b[39m\u001b[32m\u001b[1m4.820 μs\u001b[22m\u001b[39m ± \u001b[32m 12.355 μs\u001b[39m  \u001b[90m┊\u001b[39m GC \u001b[90m(\u001b[39mmean ± σ\u001b[90m):  \u001b[39m5.06% ±  1.96%\n",
       "\n",
       "  \u001b[39m▆\u001b[39m█\u001b[34m▇\u001b[39m\u001b[39m▄\u001b[39m▁\u001b[39m \u001b[39m \u001b[39m \u001b[39m▁\u001b[39m▂\u001b[39m▁\u001b[32m \u001b[39m\u001b[39m \u001b[39m \u001b[39m▂\u001b[39m▃\u001b[39m▄\u001b[39m▃\u001b[39m▃\u001b[39m▃\u001b[39m▂\u001b[39m▁\u001b[39m \u001b[39m \u001b[39m \u001b[39m \u001b[39m \u001b[39m \u001b[39m \u001b[39m \u001b[39m \u001b[39m \u001b[39m \u001b[39m \u001b[39m \u001b[39m \u001b[39m \u001b[39m \u001b[39m \u001b[39m \u001b[39m \u001b[39m \u001b[39m \u001b[39m \u001b[39m \u001b[39m \u001b[39m \u001b[39m \u001b[39m \u001b[39m \u001b[39m \u001b[39m \u001b[39m \u001b[39m \u001b[39m \u001b[39m \u001b[39m \u001b[39m \u001b[39m \u001b[39m \u001b[39m▁\n",
       "  \u001b[39m█\u001b[39m█\u001b[34m█\u001b[39m\u001b[39m█\u001b[39m█\u001b[39m▇\u001b[39m▆\u001b[39m▇\u001b[39m█\u001b[39m█\u001b[39m█\u001b[32m▆\u001b[39m\u001b[39m▄\u001b[39m█\u001b[39m█\u001b[39m█\u001b[39m█\u001b[39m█\u001b[39m█\u001b[39m█\u001b[39m█\u001b[39m█\u001b[39m▇\u001b[39m█\u001b[39m█\u001b[39m█\u001b[39m█\u001b[39m█\u001b[39m█\u001b[39m█\u001b[39m▆\u001b[39m▆\u001b[39m▅\u001b[39m▅\u001b[39m▄\u001b[39m▄\u001b[39m▃\u001b[39m▄\u001b[39m▄\u001b[39m▄\u001b[39m▆\u001b[39m▅\u001b[39m▆\u001b[39m▆\u001b[39m▅\u001b[39m▄\u001b[39m▅\u001b[39m▃\u001b[39m▄\u001b[39m▅\u001b[39m▄\u001b[39m▅\u001b[39m▄\u001b[39m▅\u001b[39m▄\u001b[39m▃\u001b[39m▄\u001b[39m▄\u001b[39m▅\u001b[39m \u001b[39m█\n",
       "  4.16 μs\u001b[90m      \u001b[39m\u001b[90mHistogram: \u001b[39m\u001b[90m\u001b[1mlog(\u001b[22m\u001b[39m\u001b[90mfrequency\u001b[39m\u001b[90m\u001b[1m)\u001b[22m\u001b[39m\u001b[90m by time\u001b[39m      7.68 μs \u001b[0m\u001b[1m<\u001b[22m\n",
       "\n",
       " Memory estimate\u001b[90m: \u001b[39m\u001b[33m4.25 KiB\u001b[39m, allocs estimate\u001b[90m: \u001b[39m\u001b[33m4\u001b[39m."
      ]
     },
     "execution_count": 32,
     "metadata": {},
     "output_type": "execute_result"
    }
   ],
   "source": [
    "@benchmark logistic.(xvals)"
   ]
  },
  {
   "cell_type": "markdown",
   "id": "ff08808e",
   "metadata": {
    "slideshow": {
     "slide_type": "slide"
    }
   },
   "source": [
    "## Wow, that took several microseconds. Why so long?\n",
    "- The median time for evaluating `logistic` on an array of length 501 is tens of thousands of times greater than a single evaluation.\n",
    "- The timings for `logistic(1.3)` already had the value `1.3` in a register.\n",
    "- It would be more realistic to time on a single element of the array so the time for fetching from memory is included"
   ]
  },
  {
   "cell_type": "code",
   "execution_count": 33,
   "id": "cd99bb1d",
   "metadata": {
    "slideshow": {
     "slide_type": "slide"
    }
   },
   "outputs": [
    {
     "data": {
      "text/plain": [
       "BenchmarkTools.Trial: 10000 samples with 994 evaluations.\n",
       " Range \u001b[90m(\u001b[39m\u001b[36m\u001b[1mmin\u001b[22m\u001b[39m … \u001b[35mmax\u001b[39m\u001b[90m):  \u001b[39m\u001b[36m\u001b[1m31.617 ns\u001b[22m\u001b[39m … \u001b[35m 4.967 μs\u001b[39m  \u001b[90m┊\u001b[39m GC \u001b[90m(\u001b[39mmin … max\u001b[90m): \u001b[39m0.00% … 99.13%\n",
       " Time  \u001b[90m(\u001b[39m\u001b[34m\u001b[1mmedian\u001b[22m\u001b[39m\u001b[90m):     \u001b[39m\u001b[34m\u001b[1m32.805 ns              \u001b[22m\u001b[39m\u001b[90m┊\u001b[39m GC \u001b[90m(\u001b[39mmedian\u001b[90m):    \u001b[39m0.00%\n",
       " Time  \u001b[90m(\u001b[39m\u001b[32m\u001b[1mmean\u001b[22m\u001b[39m ± \u001b[32mσ\u001b[39m\u001b[90m):   \u001b[39m\u001b[32m\u001b[1m38.528 ns\u001b[22m\u001b[39m ± \u001b[32m98.205 ns\u001b[39m  \u001b[90m┊\u001b[39m GC \u001b[90m(\u001b[39mmean ± σ\u001b[90m):  \u001b[39m5.08% ±  1.98%\n",
       "\n",
       "  \u001b[39m▅\u001b[39m█\u001b[34m▅\u001b[39m\u001b[39m▂\u001b[39m \u001b[39m \u001b[39m \u001b[39m▃\u001b[39m▂\u001b[39m \u001b[39m \u001b[39m▂\u001b[39m▃\u001b[32m▄\u001b[39m\u001b[39m▄\u001b[39m▄\u001b[39m▃\u001b[39m▂\u001b[39m▂\u001b[39m▁\u001b[39m▂\u001b[39m▂\u001b[39m▁\u001b[39m▁\u001b[39m▁\u001b[39m \u001b[39m \u001b[39m \u001b[39m \u001b[39m \u001b[39m \u001b[39m \u001b[39m \u001b[39m \u001b[39m \u001b[39m \u001b[39m \u001b[39m \u001b[39m \u001b[39m \u001b[39m \u001b[39m \u001b[39m \u001b[39m \u001b[39m \u001b[39m \u001b[39m \u001b[39m \u001b[39m \u001b[39m \u001b[39m \u001b[39m \u001b[39m \u001b[39m \u001b[39m \u001b[39m \u001b[39m \u001b[39m \u001b[39m \u001b[39m \u001b[39m▁\n",
       "  \u001b[39m█\u001b[39m█\u001b[34m█\u001b[39m\u001b[39m█\u001b[39m█\u001b[39m█\u001b[39m█\u001b[39m█\u001b[39m█\u001b[39m█\u001b[39m█\u001b[39m█\u001b[39m█\u001b[32m█\u001b[39m\u001b[39m█\u001b[39m█\u001b[39m█\u001b[39m█\u001b[39m█\u001b[39m█\u001b[39m█\u001b[39m█\u001b[39m█\u001b[39m█\u001b[39m█\u001b[39m▇\u001b[39m█\u001b[39m▇\u001b[39m▇\u001b[39m█\u001b[39m▇\u001b[39m▇\u001b[39m█\u001b[39m█\u001b[39m▇\u001b[39m▇\u001b[39m▇\u001b[39m▆\u001b[39m▇\u001b[39m▆\u001b[39m▅\u001b[39m▅\u001b[39m▅\u001b[39m▆\u001b[39m▆\u001b[39m▆\u001b[39m▆\u001b[39m▅\u001b[39m▆\u001b[39m▆\u001b[39m▆\u001b[39m▄\u001b[39m▄\u001b[39m▅\u001b[39m▅\u001b[39m▄\u001b[39m▄\u001b[39m▄\u001b[39m▅\u001b[39m \u001b[39m█\n",
       "  31.6 ns\u001b[90m      \u001b[39m\u001b[90mHistogram: \u001b[39m\u001b[90m\u001b[1mlog(\u001b[22m\u001b[39m\u001b[90mfrequency\u001b[39m\u001b[90m\u001b[1m)\u001b[22m\u001b[39m\u001b[90m by time\u001b[39m      64.1 ns \u001b[0m\u001b[1m<\u001b[22m\n",
       "\n",
       " Memory estimate\u001b[90m: \u001b[39m\u001b[33m32 bytes\u001b[39m, allocs estimate\u001b[90m: \u001b[39m\u001b[33m2\u001b[39m."
      ]
     },
     "execution_count": 33,
     "metadata": {},
     "output_type": "execute_result"
    }
   ],
   "source": [
    "@benchmark logistic(xvals[231])"
   ]
  },
  {
   "cell_type": "markdown",
   "id": "8d1d3d90",
   "metadata": {
    "slideshow": {
     "slide_type": "slide"
    }
   },
   "source": [
    "### Sometimes it can be cheaper to expand the iterator to an array"
   ]
  },
  {
   "cell_type": "code",
   "execution_count": 34,
   "id": "ecdacffe",
   "metadata": {},
   "outputs": [
    {
     "data": {
      "text/plain": [
       "Vector{Float64} (alias for Array{Float64, 1})"
      ]
     },
     "execution_count": 34,
     "metadata": {},
     "output_type": "execute_result"
    }
   ],
   "source": [
    "xvals = collect(xvals)   # collect all the values in a vector\n",
    "typeof(xvals)"
   ]
  },
  {
   "cell_type": "code",
   "execution_count": 35,
   "id": "95ced779",
   "metadata": {},
   "outputs": [
    {
     "data": {
      "text/plain": [
       "BenchmarkTools.Trial: 10000 samples with 9 evaluations.\n",
       " Range \u001b[90m(\u001b[39m\u001b[36m\u001b[1mmin\u001b[22m\u001b[39m … \u001b[35mmax\u001b[39m\u001b[90m):  \u001b[39m\u001b[36m\u001b[1m2.390 μs\u001b[22m\u001b[39m … \u001b[35m466.510 μs\u001b[39m  \u001b[90m┊\u001b[39m GC \u001b[90m(\u001b[39mmin … max\u001b[90m): \u001b[39m0.00% … 98.23%\n",
       " Time  \u001b[90m(\u001b[39m\u001b[34m\u001b[1mmedian\u001b[22m\u001b[39m\u001b[90m):     \u001b[39m\u001b[34m\u001b[1m2.562 μs               \u001b[22m\u001b[39m\u001b[90m┊\u001b[39m GC \u001b[90m(\u001b[39mmedian\u001b[90m):    \u001b[39m0.00%\n",
       " Time  \u001b[90m(\u001b[39m\u001b[32m\u001b[1mmean\u001b[22m\u001b[39m ± \u001b[32mσ\u001b[39m\u001b[90m):   \u001b[39m\u001b[32m\u001b[1m2.823 μs\u001b[22m\u001b[39m ± \u001b[32m  8.889 μs\u001b[39m  \u001b[90m┊\u001b[39m GC \u001b[90m(\u001b[39mmean ± σ\u001b[90m):  \u001b[39m6.22% ±  1.96%\n",
       "\n",
       "  \u001b[39m \u001b[39m \u001b[39m▃\u001b[39m█\u001b[39m▆\u001b[34m▃\u001b[39m\u001b[39m▂\u001b[39m \u001b[39m \u001b[39m \u001b[39m \u001b[39m \u001b[32m \u001b[39m\u001b[39m \u001b[39m \u001b[39m \u001b[39m \u001b[39m \u001b[39m \u001b[39m \u001b[39m \u001b[39m \u001b[39m \u001b[39m \u001b[39m \u001b[39m \u001b[39m \u001b[39m \u001b[39m \u001b[39m \u001b[39m \u001b[39m \u001b[39m \u001b[39m \u001b[39m \u001b[39m \u001b[39m \u001b[39m \u001b[39m \u001b[39m \u001b[39m \u001b[39m \u001b[39m \u001b[39m \u001b[39m \u001b[39m \u001b[39m \u001b[39m \u001b[39m \u001b[39m \u001b[39m \u001b[39m \u001b[39m \u001b[39m \u001b[39m \u001b[39m \u001b[39m \u001b[39m \u001b[39m \u001b[39m \u001b[39m \n",
       "  \u001b[39m▂\u001b[39m▄\u001b[39m█\u001b[39m█\u001b[39m█\u001b[34m█\u001b[39m\u001b[39m█\u001b[39m▇\u001b[39m▄\u001b[39m▃\u001b[39m▃\u001b[39m▃\u001b[32m▃\u001b[39m\u001b[39m▃\u001b[39m▃\u001b[39m▂\u001b[39m▂\u001b[39m▂\u001b[39m▂\u001b[39m▂\u001b[39m▂\u001b[39m▂\u001b[39m▂\u001b[39m▂\u001b[39m▂\u001b[39m▂\u001b[39m▂\u001b[39m▂\u001b[39m▂\u001b[39m▂\u001b[39m▂\u001b[39m▂\u001b[39m▂\u001b[39m▂\u001b[39m▂\u001b[39m▂\u001b[39m▂\u001b[39m▂\u001b[39m▂\u001b[39m▂\u001b[39m▂\u001b[39m▂\u001b[39m▂\u001b[39m▂\u001b[39m▂\u001b[39m▂\u001b[39m▂\u001b[39m▁\u001b[39m▂\u001b[39m▂\u001b[39m▂\u001b[39m▁\u001b[39m▂\u001b[39m▁\u001b[39m▂\u001b[39m▂\u001b[39m▂\u001b[39m▂\u001b[39m▂\u001b[39m \u001b[39m▃\n",
       "  2.39 μs\u001b[90m         Histogram: frequency by time\u001b[39m        4.45 μs \u001b[0m\u001b[1m<\u001b[22m\n",
       "\n",
       " Memory estimate\u001b[90m: \u001b[39m\u001b[33m4.09 KiB\u001b[39m, allocs estimate\u001b[90m: \u001b[39m\u001b[33m3\u001b[39m."
      ]
     },
     "execution_count": 35,
     "metadata": {},
     "output_type": "execute_result"
    }
   ],
   "source": [
    "@benchmark logistic.(xvals)"
   ]
  },
  {
   "cell_type": "markdown",
   "id": "f5ecdc46",
   "metadata": {
    "slideshow": {
     "slide_type": "slide"
    }
   },
   "source": [
    "### The time for evaluation of a single element has not changed much"
   ]
  },
  {
   "cell_type": "code",
   "execution_count": 36,
   "id": "67780994",
   "metadata": {
    "slideshow": {
     "slide_type": "-"
    }
   },
   "outputs": [
    {
     "data": {
      "text/plain": [
       "BenchmarkTools.Trial: 10000 samples with 995 evaluations.\n",
       " Range \u001b[90m(\u001b[39m\u001b[36m\u001b[1mmin\u001b[22m\u001b[39m … \u001b[35mmax\u001b[39m\u001b[90m):  \u001b[39m\u001b[36m\u001b[1m26.870 ns\u001b[22m\u001b[39m … \u001b[35m 10.121 μs\u001b[39m  \u001b[90m┊\u001b[39m GC \u001b[90m(\u001b[39mmin … max\u001b[90m): \u001b[39m0.00% … 99.56%\n",
       " Time  \u001b[90m(\u001b[39m\u001b[34m\u001b[1mmedian\u001b[22m\u001b[39m\u001b[90m):     \u001b[39m\u001b[34m\u001b[1m28.041 ns               \u001b[22m\u001b[39m\u001b[90m┊\u001b[39m GC \u001b[90m(\u001b[39mmedian\u001b[90m):    \u001b[39m0.00%\n",
       " Time  \u001b[90m(\u001b[39m\u001b[32m\u001b[1mmean\u001b[22m\u001b[39m ± \u001b[32mσ\u001b[39m\u001b[90m):   \u001b[39m\u001b[32m\u001b[1m33.363 ns\u001b[22m\u001b[39m ± \u001b[32m124.235 ns\u001b[39m  \u001b[90m┊\u001b[39m GC \u001b[90m(\u001b[39mmean ± σ\u001b[90m):  \u001b[39m6.08% ±  1.72%\n",
       "\n",
       "  \u001b[39m▅\u001b[39m█\u001b[39m▆\u001b[34m▃\u001b[39m\u001b[39m▁\u001b[39m▁\u001b[39m \u001b[39m▄\u001b[39m▃\u001b[39m▁\u001b[39m \u001b[39m \u001b[39m▂\u001b[39m▃\u001b[32m▄\u001b[39m\u001b[39m▅\u001b[39m▅\u001b[39m▄\u001b[39m▃\u001b[39m▂\u001b[39m▂\u001b[39m▁\u001b[39m▁\u001b[39m▁\u001b[39m \u001b[39m \u001b[39m \u001b[39m \u001b[39m \u001b[39m \u001b[39m \u001b[39m \u001b[39m \u001b[39m \u001b[39m \u001b[39m \u001b[39m \u001b[39m \u001b[39m \u001b[39m \u001b[39m \u001b[39m \u001b[39m \u001b[39m \u001b[39m \u001b[39m \u001b[39m \u001b[39m \u001b[39m \u001b[39m \u001b[39m \u001b[39m \u001b[39m \u001b[39m \u001b[39m \u001b[39m \u001b[39m \u001b[39m \u001b[39m \u001b[39m \u001b[39m \u001b[39m▂\n",
       "  \u001b[39m█\u001b[39m█\u001b[39m█\u001b[34m█\u001b[39m\u001b[39m█\u001b[39m█\u001b[39m█\u001b[39m█\u001b[39m█\u001b[39m█\u001b[39m█\u001b[39m█\u001b[39m█\u001b[39m█\u001b[32m█\u001b[39m\u001b[39m█\u001b[39m█\u001b[39m█\u001b[39m█\u001b[39m█\u001b[39m█\u001b[39m█\u001b[39m█\u001b[39m█\u001b[39m█\u001b[39m▇\u001b[39m█\u001b[39m▇\u001b[39m▇\u001b[39m▇\u001b[39m▇\u001b[39m▇\u001b[39m▇\u001b[39m▇\u001b[39m▇\u001b[39m▆\u001b[39m▇\u001b[39m▇\u001b[39m▇\u001b[39m▇\u001b[39m▇\u001b[39m▇\u001b[39m▇\u001b[39m▇\u001b[39m▇\u001b[39m▆\u001b[39m▆\u001b[39m▇\u001b[39m▆\u001b[39m▆\u001b[39m▆\u001b[39m▆\u001b[39m▆\u001b[39m▅\u001b[39m▆\u001b[39m▆\u001b[39m▆\u001b[39m▇\u001b[39m▆\u001b[39m▅\u001b[39m \u001b[39m█\n",
       "  26.9 ns\u001b[90m       \u001b[39m\u001b[90mHistogram: \u001b[39m\u001b[90m\u001b[1mlog(\u001b[22m\u001b[39m\u001b[90mfrequency\u001b[39m\u001b[90m\u001b[1m)\u001b[22m\u001b[39m\u001b[90m by time\u001b[39m      53.8 ns \u001b[0m\u001b[1m<\u001b[22m\n",
       "\n",
       " Memory estimate\u001b[90m: \u001b[39m\u001b[33m32 bytes\u001b[39m, allocs estimate\u001b[90m: \u001b[39m\u001b[33m2\u001b[39m."
      ]
     },
     "execution_count": 36,
     "metadata": {},
     "output_type": "execute_result"
    }
   ],
   "source": [
    "@benchmark logistic(xvals[231])"
   ]
  },
  {
   "cell_type": "markdown",
   "id": "37c7aac9",
   "metadata": {
    "slideshow": {
     "slide_type": "slide"
    }
   },
   "source": [
    "## Mutating functions\n",
    "- One of the bottlenecks with dynamic languages can be excessive allocation/garbage collection of intermediate values.\n",
    "- `R` can be especially problematic in this regard.\n",
    "- A common Julia coding pattern is to provide one version of a function that overwrites an argument with the values calculated from the other argument(s).\n",
    "- By convention, the names of such *mutating* functions end in `!`, and the argument(s) being mutated are listed first."
   ]
  },
  {
   "cell_type": "code",
   "execution_count": 37,
   "id": "feaef35a",
   "metadata": {
    "slideshow": {
     "slide_type": "slide"
    }
   },
   "outputs": [],
   "source": [
    "function logistic!(y::AbstractArray{T}, x::AbstractArray{T}) where {T<:AbstractFloat}\n",
    "    @. y = inv(one(T) + exp(-x)) # @. adds dots to all operators & calls\n",
    "end\n",
    "yvals = similar(xvals);   # array of the same size and type\n",
    "logistic!(yvals, xvals);"
   ]
  },
  {
   "cell_type": "code",
   "execution_count": 38,
   "id": "cc216412",
   "metadata": {},
   "outputs": [
    {
     "data": {
      "text/plain": [
       "true"
      ]
     },
     "execution_count": 38,
     "metadata": {},
     "output_type": "execute_result"
    }
   ],
   "source": [
    "all(yvals ≈ logistic.(xvals))  # check that the values are approximately equal"
   ]
  },
  {
   "cell_type": "code",
   "execution_count": 39,
   "id": "bfbf1e9e",
   "metadata": {
    "slideshow": {
     "slide_type": "-"
    }
   },
   "outputs": [
    {
     "data": {
      "text/plain": [
       "8-element Vector{Float64}:\n",
       " 0.0066928509242848554\n",
       " 0.00682713242213816\n",
       " 0.006964089177762089\n",
       " 0.007103773724388775\n",
       " 0.007246239595831429\n",
       " 0.007391541344281971\n",
       " 0.007539734558373393\n",
       " 0.0076908758815083305"
      ]
     },
     "execution_count": 39,
     "metadata": {},
     "output_type": "execute_result"
    }
   ],
   "source": [
    "first(yvals, 8)   # like `head` in R"
   ]
  },
  {
   "cell_type": "markdown",
   "id": "d1ddc0d9",
   "metadata": {
    "slideshow": {
     "slide_type": "slide"
    }
   },
   "source": [
    "### Benchmark the mutating method"
   ]
  },
  {
   "cell_type": "code",
   "execution_count": 40,
   "id": "1b49e333",
   "metadata": {
    "slideshow": {
     "slide_type": "-"
    }
   },
   "outputs": [
    {
     "data": {
      "text/plain": [
       "BenchmarkTools.Trial: 10000 samples with 9 evaluations.\n",
       " Range \u001b[90m(\u001b[39m\u001b[36m\u001b[1mmin\u001b[22m\u001b[39m … \u001b[35mmax\u001b[39m\u001b[90m):  \u001b[39m\u001b[36m\u001b[1m2.067 μs\u001b[22m\u001b[39m … \u001b[35m  5.404 μs\u001b[39m  \u001b[90m┊\u001b[39m GC \u001b[90m(\u001b[39mmin … max\u001b[90m): \u001b[39m0.00% … 0.00%\n",
       " Time  \u001b[90m(\u001b[39m\u001b[34m\u001b[1mmedian\u001b[22m\u001b[39m\u001b[90m):     \u001b[39m\u001b[34m\u001b[1m2.114 μs               \u001b[22m\u001b[39m\u001b[90m┊\u001b[39m GC \u001b[90m(\u001b[39mmedian\u001b[90m):    \u001b[39m0.00%\n",
       " Time  \u001b[90m(\u001b[39m\u001b[32m\u001b[1mmean\u001b[22m\u001b[39m ± \u001b[32mσ\u001b[39m\u001b[90m):   \u001b[39m\u001b[32m\u001b[1m2.176 μs\u001b[22m\u001b[39m ± \u001b[32m126.786 ns\u001b[39m  \u001b[90m┊\u001b[39m GC \u001b[90m(\u001b[39mmean ± σ\u001b[90m):  \u001b[39m0.00% ± 0.00%\n",
       "\n",
       "  \u001b[39m \u001b[39m \u001b[39m▂\u001b[39m█\u001b[39m█\u001b[39m \u001b[34m \u001b[39m\u001b[39m \u001b[39m \u001b[39m \u001b[39m \u001b[39m \u001b[39m \u001b[39m \u001b[32m \u001b[39m\u001b[39m \u001b[39m \u001b[39m \u001b[39m▁\u001b[39m▃\u001b[39m▁\u001b[39m \u001b[39m \u001b[39m \u001b[39m \u001b[39m \u001b[39m \u001b[39m \u001b[39m \u001b[39m \u001b[39m \u001b[39m \u001b[39m \u001b[39m \u001b[39m \u001b[39m \u001b[39m \u001b[39m \u001b[39m \u001b[39m \u001b[39m \u001b[39m \u001b[39m \u001b[39m \u001b[39m \u001b[39m \u001b[39m \u001b[39m \u001b[39m \u001b[39m \u001b[39m \u001b[39m \u001b[39m \u001b[39m \u001b[39m \u001b[39m \u001b[39m \u001b[39m \u001b[39m \u001b[39m \u001b[39m \n",
       "  \u001b[39m▁\u001b[39m▃\u001b[39m█\u001b[39m█\u001b[39m█\u001b[39m█\u001b[34m▃\u001b[39m\u001b[39m▁\u001b[39m▁\u001b[39m▁\u001b[39m▁\u001b[39m▁\u001b[39m▁\u001b[39m▁\u001b[32m▁\u001b[39m\u001b[39m▁\u001b[39m▂\u001b[39m▅\u001b[39m█\u001b[39m█\u001b[39m█\u001b[39m▅\u001b[39m▂\u001b[39m▁\u001b[39m▁\u001b[39m▁\u001b[39m▁\u001b[39m▁\u001b[39m▁\u001b[39m▁\u001b[39m▂\u001b[39m▂\u001b[39m▂\u001b[39m▂\u001b[39m▁\u001b[39m▁\u001b[39m▁\u001b[39m▁\u001b[39m▁\u001b[39m▁\u001b[39m▁\u001b[39m▁\u001b[39m▁\u001b[39m▁\u001b[39m▁\u001b[39m▁\u001b[39m▁\u001b[39m▁\u001b[39m▁\u001b[39m▁\u001b[39m▁\u001b[39m▁\u001b[39m▁\u001b[39m▁\u001b[39m▁\u001b[39m▁\u001b[39m▁\u001b[39m▁\u001b[39m▁\u001b[39m \u001b[39m▂\n",
       "  270 μs\u001b[90m          Histogram: frequency by time\u001b[39m        2.54 μs \u001b[0m\u001b[1m<\u001b[22m\n",
       "\n",
       " Memory estimate\u001b[90m: \u001b[39m\u001b[33m0 bytes\u001b[39m, allocs estimate\u001b[90m: \u001b[39m\u001b[33m0\u001b[39m."
      ]
     },
     "execution_count": 40,
     "metadata": {},
     "output_type": "execute_result"
    }
   ],
   "source": [
    "@benchmark logistic!(yvals, xvals)"
   ]
  },
  {
   "cell_type": "markdown",
   "id": "ce0d58d4",
   "metadata": {},
   "source": [
    "- Notice that there are no allocations of memory and hence 0% of the time is spent in garbage collection (GC)"
   ]
  },
  {
   "cell_type": "markdown",
   "id": "93635a04",
   "metadata": {
    "slideshow": {
     "slide_type": "slide"
    }
   },
   "source": [
    "## But wait, there's more\n",
    "\n",
    "- Because the compilation is being performed within the Julia system, skilled users can experiment with it.\n",
    "- Modern processors provide for many forms of parallelism including what is known as \"single instruction, multiple data\" (SIMD) instructions.  (Called SSE, SSE2, AVX, for floating point.)\n",
    "- `LoopVectorization.jl` is the beginning of exploration of some of these optimizations"
   ]
  },
  {
   "cell_type": "code",
   "execution_count": 41,
   "id": "40cd6bf9",
   "metadata": {
    "slideshow": {
     "slide_type": "-"
    }
   },
   "outputs": [],
   "source": [
    "using LoopVectorization"
   ]
  },
  {
   "cell_type": "markdown",
   "id": "dd84b56a",
   "metadata": {
    "slideshow": {
     "slide_type": "slide"
    }
   },
   "source": [
    "### Massive changes to the code are required :-)"
   ]
  },
  {
   "cell_type": "code",
   "execution_count": 42,
   "id": "5952f9d4",
   "metadata": {
    "slideshow": {
     "slide_type": "-"
    }
   },
   "outputs": [
    {
     "data": {
      "text/plain": [
       "logistic! (generic function with 1 method)"
      ]
     },
     "execution_count": 42,
     "metadata": {},
     "output_type": "execute_result"
    }
   ],
   "source": [
    "function logistic!(y::AbstractArray{T}, x::AbstractArray{T}) where {T<:AbstractFloat}\n",
    "    @turbo @. y = inv(one(T) + exp(-x))\n",
    "end"
   ]
  },
  {
   "cell_type": "code",
   "execution_count": 43,
   "id": "50526ef8",
   "metadata": {
    "slideshow": {
     "slide_type": "-"
    }
   },
   "outputs": [
    {
     "data": {
      "text/plain": [
       "BenchmarkTools.Trial: 10000 samples with 227 evaluations.\n",
       " Range \u001b[90m(\u001b[39m\u001b[36m\u001b[1mmin\u001b[22m\u001b[39m … \u001b[35mmax\u001b[39m\u001b[90m):  \u001b[39m\u001b[36m\u001b[1m327.269 ns\u001b[22m\u001b[39m … \u001b[35m436.392 ns\u001b[39m  \u001b[90m┊\u001b[39m GC \u001b[90m(\u001b[39mmin … max\u001b[90m): \u001b[39m0.00% … 0.00%\n",
       " Time  \u001b[90m(\u001b[39m\u001b[34m\u001b[1mmedian\u001b[22m\u001b[39m\u001b[90m):     \u001b[39m\u001b[34m\u001b[1m336.930 ns               \u001b[22m\u001b[39m\u001b[90m┊\u001b[39m GC \u001b[90m(\u001b[39mmedian\u001b[90m):    \u001b[39m0.00%\n",
       " Time  \u001b[90m(\u001b[39m\u001b[32m\u001b[1mmean\u001b[22m\u001b[39m ± \u001b[32mσ\u001b[39m\u001b[90m):   \u001b[39m\u001b[32m\u001b[1m338.491 ns\u001b[22m\u001b[39m ± \u001b[32m  7.729 ns\u001b[39m  \u001b[90m┊\u001b[39m GC \u001b[90m(\u001b[39mmean ± σ\u001b[90m):  \u001b[39m0.00% ± 0.00%\n",
       "\n",
       "  \u001b[39m▂\u001b[39m▂\u001b[39m▅\u001b[39m \u001b[39m \u001b[39m \u001b[39m \u001b[39m \u001b[39m \u001b[39m \u001b[39m \u001b[39m \u001b[39m \u001b[39m▅\u001b[39m \u001b[39m█\u001b[34m \u001b[39m\u001b[39m \u001b[32m \u001b[39m\u001b[39m \u001b[39m \u001b[39m \u001b[39m▁\u001b[39m \u001b[39m \u001b[39m \u001b[39m \u001b[39m \u001b[39m \u001b[39m▃\u001b[39m \u001b[39m \u001b[39m \u001b[39m \u001b[39m \u001b[39m \u001b[39m \u001b[39m \u001b[39m \u001b[39m \u001b[39m \u001b[39m \u001b[39m▁\u001b[39m \u001b[39m▄\u001b[39m \u001b[39m \u001b[39m \u001b[39m \u001b[39m \u001b[39m \u001b[39m \u001b[39m \u001b[39m \u001b[39m \u001b[39m \u001b[39m \u001b[39m \u001b[39m \u001b[39m \u001b[39m \u001b[39m \u001b[39m▁\n",
       "  \u001b[39m█\u001b[39m█\u001b[39m█\u001b[39m▁\u001b[39m▃\u001b[39m▁\u001b[39m▁\u001b[39m▁\u001b[39m▄\u001b[39m▅\u001b[39m▃\u001b[39m▅\u001b[39m▅\u001b[39m█\u001b[39m█\u001b[39m█\u001b[34m▆\u001b[39m\u001b[39m▆\u001b[32m▆\u001b[39m\u001b[39m▆\u001b[39m▅\u001b[39m▇\u001b[39m█\u001b[39m▇\u001b[39m▆\u001b[39m▆\u001b[39m▆\u001b[39m▇\u001b[39m▆\u001b[39m█\u001b[39m▆\u001b[39m▆\u001b[39m▆\u001b[39m▆\u001b[39m▇\u001b[39m▅\u001b[39m▆\u001b[39m▆\u001b[39m▆\u001b[39m▆\u001b[39m▆\u001b[39m▆\u001b[39m█\u001b[39m█\u001b[39m█\u001b[39m▆\u001b[39m▅\u001b[39m▇\u001b[39m▇\u001b[39m▆\u001b[39m▅\u001b[39m▆\u001b[39m▆\u001b[39m▆\u001b[39m▆\u001b[39m▇\u001b[39m▇\u001b[39m▆\u001b[39m▇\u001b[39m▇\u001b[39m▇\u001b[39m \u001b[39m█\n",
       "  327 ns\u001b[90m        \u001b[39m\u001b[90mHistogram: \u001b[39m\u001b[90m\u001b[1mlog(\u001b[22m\u001b[39m\u001b[90mfrequency\u001b[39m\u001b[90m\u001b[1m)\u001b[22m\u001b[39m\u001b[90m by time\u001b[39m        365 ns \u001b[0m\u001b[1m<\u001b[22m\n",
       "\n",
       " Memory estimate\u001b[90m: \u001b[39m\u001b[33m0 bytes\u001b[39m, allocs estimate\u001b[90m: \u001b[39m\u001b[33m0\u001b[39m."
      ]
     },
     "execution_count": 43,
     "metadata": {},
     "output_type": "execute_result"
    }
   ],
   "source": [
    "@benchmark logistic!($yvals, $xvals)"
   ]
  },
  {
   "cell_type": "markdown",
   "id": "5c69e2ca",
   "metadata": {
    "slideshow": {
     "slide_type": "slide"
    }
   },
   "source": [
    "### Implementation methods and method instances"
   ]
  },
  {
   "cell_type": "code",
   "execution_count": 44,
   "id": "c1007b69",
   "metadata": {},
   "outputs": [
    {
     "data": {
      "text/html": [
       "# 1 method for generic function <b>logistic!</b>:<ul><li> logistic!(y::<b>AbstractArray{T, N} where N</b>, x::<b>AbstractArray{T, N} where N</b>)<i> where T<:AbstractFloat</i> in Main at In[42]:1</li> </ul>"
      ],
      "text/plain": [
       "# 1 method for generic function \"logistic!\":\n",
       "[1] logistic!(y::AbstractArray{T, N} where N, x::AbstractArray{T, N} where N) where T<:AbstractFloat in Main at In[42]:1"
      ]
     },
     "execution_count": 44,
     "metadata": {},
     "output_type": "execute_result"
    }
   ],
   "source": [
    "methods(logistic!)"
   ]
  },
  {
   "cell_type": "code",
   "execution_count": 45,
   "id": "2606a054",
   "metadata": {},
   "outputs": [
    {
     "data": {
      "text/plain": [
       "1-element Vector{Core.MethodInstance}:\n",
       " MethodInstance for logistic!(::\u001b[0mVector{Float64}, ::\u001b[0mVector{Float64})"
      ]
     },
     "execution_count": 45,
     "metadata": {},
     "output_type": "execute_result"
    }
   ],
   "source": [
    "methodinstances(logistic!)"
   ]
  },
  {
   "cell_type": "markdown",
   "id": "2a6ce57a",
   "metadata": {
    "slideshow": {
     "slide_type": "slide"
    }
   },
   "source": [
    "## How it's going"
   ]
  },
  {
   "cell_type": "code",
   "execution_count": 46,
   "id": "6e16e0c3",
   "metadata": {
    "slideshow": {
     "slide_type": "-"
    }
   },
   "outputs": [
    {
     "name": "stdout",
     "output_type": "stream",
     "text": [
      "\t\u001b[0m.text\n",
      "\u001b[90m; ┌ @ In[42]:1 within `logistic!'\u001b[39m\n",
      "\t\u001b[96m\u001b[1mpushq\u001b[22m\u001b[39m\t\u001b[0m%rax\n",
      "\t\u001b[96m\u001b[1mmovq\u001b[22m\u001b[39m\t\u001b[0m%rsi\u001b[0m, \u001b[33m(\u001b[39m\u001b[0m%rsp\u001b[33m)\u001b[39m\n",
      "\t\u001b[96m\u001b[1mmovb\u001b[22m\u001b[39m\t\u001b[33m$1\u001b[39m\u001b[0m, \u001b[0m%al\n",
      "\u001b[90m; │ @ In[42]:2 within `logistic!'\u001b[39m\n",
      "\u001b[90m; │┌ @ broadcast.jl:393 within `vmaterialize!'\u001b[39m\n",
      "\u001b[90m; ││┌ @ broadcast.jl:393 within `macro expansion'\u001b[39m\n",
      "\u001b[90m; │││┌ @ refvalue.jl:56 within `getindex'\u001b[39m\n",
      "\u001b[90m; ││││┌ @ Base.jl:33 within `getproperty'\u001b[39m\n",
      "\t\u001b[96m\u001b[1mtestb\u001b[22m\u001b[39m\t\u001b[0m%al\u001b[0m, \u001b[0m%al\n",
      "\t\u001b[96m\u001b[1mje\u001b[22m\u001b[39m\t\u001b[91mL1385\u001b[39m\n",
      "\u001b[90m; ││└└└\u001b[39m\n",
      "\u001b[90m; ││┌ @ Base.jl within `macro expansion'\u001b[39m\n",
      "\t\u001b[96m\u001b[1mmovq\u001b[22m\u001b[39m\t\u001b[33m(\u001b[39m\u001b[0m%rsi\u001b[33m)\u001b[39m\u001b[0m, \u001b[0m%rax\n",
      "\t\u001b[96m\u001b[1mmovq\u001b[22m\u001b[39m\t\u001b[33m8\u001b[39m\u001b[33m(\u001b[39m\u001b[0m%rsi\u001b[33m)\u001b[39m\u001b[0m, \u001b[0m%rcx\n",
      "\u001b[90m; ││└\u001b[39m\n",
      "\u001b[90m; ││┌ @ broadcast.jl:393 within `macro expansion'\u001b[39m\n",
      "\u001b[90m; │││┌ @ stridedpointers.jl:91 within `stridedpointer_preserve'\u001b[39m\n",
      "\u001b[90m; ││││┌ @ stridedpointers.jl:40 within `memory_reference' @ stridedpointers.jl:42\u001b[39m\n",
      "\u001b[90m; │││││┌ @ abstractarray.jl:1116 within `pointer'\u001b[39m\n",
      "\u001b[90m; ││││││┌ @ pointer.jl:65 within `unsafe_convert'\u001b[39m\n",
      "\t\u001b[96m\u001b[1mmovq\u001b[22m\u001b[39m\t\u001b[33m(\u001b[39m\u001b[0m%rax\u001b[33m)\u001b[39m\u001b[0m, \u001b[0m%rdx\n",
      "\u001b[90m; │││└└└└\u001b[39m\n",
      "\u001b[90m; │││┌ @ abstractarray.jl:89 within `axes'\u001b[39m\n",
      "\u001b[90m; ││││┌ @ array.jl:133 within `size'\u001b[39m\n",
      "\t\u001b[96m\u001b[1mmovq\u001b[22m\u001b[39m\t\u001b[33m24\u001b[39m\u001b[33m(\u001b[39m\u001b[0m%rax\u001b[33m)\u001b[39m\u001b[0m, \u001b[0m%r8\n",
      "\u001b[90m; │││└└\u001b[39m\n",
      "\u001b[90m; │││┌ @ stridedpointers.jl:91 within `stridedpointer_preserve'\u001b[39m\n",
      "\u001b[90m; ││││┌ @ broadcast.jl:99 within `memory_reference' @ stridedpointers.jl:40 @ stridedpointers.jl:42\u001b[39m\n",
      "\u001b[90m; │││││┌ @ abstractarray.jl:1116 within `pointer'\u001b[39m\n",
      "\u001b[90m; ││││││┌ @ pointer.jl:65 within `unsafe_convert'\u001b[39m\n",
      "\t\u001b[96m\u001b[1mmovq\u001b[22m\u001b[39m\t\u001b[33m(\u001b[39m\u001b[0m%rcx\u001b[33m)\u001b[39m\u001b[0m, \u001b[0m%rdi\n",
      "\t\u001b[96m\u001b[1mmovabsq\u001b[22m\u001b[39m\t\u001b[33m$9223372036854775792\u001b[39m\u001b[0m, \u001b[0m%r10      \u001b[90m# imm = 0x7FFFFFFFFFFFFFF0\u001b[39m\n",
      "\u001b[90m; │││└└└└\u001b[39m\n",
      "\u001b[90m; │││┌ @ reconstruct_loopset.jl:711 within `_turbo_!'\u001b[39m\n",
      "\u001b[90m; ││││┌ @ reconstruct_loopset.jl:711 within `macro expansion'\u001b[39m\n",
      "\u001b[90m; │││││┌ @ graphs.jl:208 within `vcmpendzs'\u001b[39m\n",
      "\u001b[90m; ││││││┌ @ operators.jl:204 within `!='\u001b[39m\n",
      "\u001b[90m; │││││││┌ @ promotion.jl:410 within `=='\u001b[39m\n",
      "\t\u001b[96m\u001b[1mandq\u001b[22m\u001b[39m\t\u001b[0m%r8\u001b[0m, \u001b[0m%r10\n",
      "\u001b[90m; │││││└└└\u001b[39m\n",
      "\t\u001b[96m\u001b[1mje\u001b[22m\u001b[39m\t\u001b[91mL571\u001b[39m\n",
      "\u001b[90m; ││││└\u001b[39m\n",
      "\u001b[90m; ││││┌ @ reconstruct_loopset.jl within `macro expansion'\u001b[39m\n",
      "\t\u001b[96m\u001b[1mxorl\u001b[22m\u001b[39m\t\u001b[0m%ecx\u001b[0m, \u001b[0m%ecx\n",
      "\t\u001b[96m\u001b[1mmovabsq\u001b[22m\u001b[39m\t\u001b[93m$.rodata.cst8\u001b[39m\u001b[0m, \u001b[0m%rsi\n",
      "\t\u001b[96m\u001b[1mvbroadcastsd\u001b[22m\u001b[39m\t\u001b[33m(\u001b[39m\u001b[0m%rsi\u001b[33m)\u001b[39m\u001b[0m, \u001b[0m%zmm0\n",
      "\t\u001b[96m\u001b[1mmovabsq\u001b[22m\u001b[39m\t\u001b[33m$140380235047352\u001b[39m\u001b[0m, \u001b[0m%rsi          \u001b[90m# imm = 0x7FACD20B21B8\u001b[39m\n",
      "\t\u001b[96m\u001b[1mvbroadcastsd\u001b[22m\u001b[39m\t\u001b[33m(\u001b[39m\u001b[0m%rsi\u001b[33m)\u001b[39m\u001b[0m, \u001b[0m%zmm1\n",
      "\t\u001b[96m\u001b[1mmovabsq\u001b[22m\u001b[39m\t\u001b[33m$140380235047360\u001b[39m\u001b[0m, \u001b[0m%rsi          \u001b[90m# imm = 0x7FACD20B21C0\u001b[39m\n",
      "\t\u001b[96m\u001b[1mvbroadcastsd\u001b[22m\u001b[39m\t\u001b[33m(\u001b[39m\u001b[0m%rsi\u001b[33m)\u001b[39m\u001b[0m, \u001b[0m%zmm2\n",
      "\t\u001b[96m\u001b[1mmovabsq\u001b[22m\u001b[39m\t\u001b[33m$140380235047368\u001b[39m\u001b[0m, \u001b[0m%rsi          \u001b[90m# imm = 0x7FACD20B21C8\u001b[39m\n",
      "\t\u001b[96m\u001b[1mvbroadcastsd\u001b[22m\u001b[39m\t\u001b[33m(\u001b[39m\u001b[0m%rsi\u001b[33m)\u001b[39m\u001b[0m, \u001b[0m%zmm3\n",
      "\t\u001b[96m\u001b[1mmovabsq\u001b[22m\u001b[39m\t\u001b[33m$140380235047376\u001b[39m\u001b[0m, \u001b[0m%rsi          \u001b[90m# imm = 0x7FACD20B21D0\u001b[39m\n",
      "\t\u001b[96m\u001b[1mvbroadcastsd\u001b[22m\u001b[39m\t\u001b[33m(\u001b[39m\u001b[0m%rsi\u001b[33m)\u001b[39m\u001b[0m, \u001b[0m%zmm4\n",
      "\t\u001b[96m\u001b[1mmovabsq\u001b[22m\u001b[39m\t\u001b[33m$140380235047384\u001b[39m\u001b[0m, \u001b[0m%rsi          \u001b[90m# imm = 0x7FACD20B21D8\u001b[39m\n",
      "\t\u001b[96m\u001b[1mvbroadcastsd\u001b[22m\u001b[39m\t\u001b[33m(\u001b[39m\u001b[0m%rsi\u001b[33m)\u001b[39m\u001b[0m, \u001b[0m%zmm5\n",
      "\t\u001b[96m\u001b[1mmovabsq\u001b[22m\u001b[39m\t\u001b[33m$140380235047392\u001b[39m\u001b[0m, \u001b[0m%rsi          \u001b[90m# imm = 0x7FACD20B21E0\u001b[39m\n",
      "\t\u001b[96m\u001b[1mvbroadcastsd\u001b[22m\u001b[39m\t\u001b[33m(\u001b[39m\u001b[0m%rsi\u001b[33m)\u001b[39m\u001b[0m, \u001b[0m%zmm6\n",
      "\t\u001b[96m\u001b[1mmovabsq\u001b[22m\u001b[39m\t\u001b[33m$140380235047400\u001b[39m\u001b[0m, \u001b[0m%rsi          \u001b[90m# imm = 0x7FACD20B21E8\u001b[39m\n",
      "\t\u001b[96m\u001b[1mvbroadcastsd\u001b[22m\u001b[39m\t\u001b[33m(\u001b[39m\u001b[0m%rsi\u001b[33m)\u001b[39m\u001b[0m, \u001b[0m%zmm7\n",
      "\t\u001b[96m\u001b[1mmovabsq\u001b[22m\u001b[39m\t\u001b[33m$140380235047408\u001b[39m\u001b[0m, \u001b[0m%rsi          \u001b[90m# imm = 0x7FACD20B21F0\u001b[39m\n",
      "\t\u001b[96m\u001b[1mvbroadcastsd\u001b[22m\u001b[39m\t\u001b[33m(\u001b[39m\u001b[0m%rsi\u001b[33m)\u001b[39m\u001b[0m, \u001b[0m%zmm8\n",
      "\t\u001b[96m\u001b[1mmovabsq\u001b[22m\u001b[39m\t\u001b[33m$140380235047416\u001b[39m\u001b[0m, \u001b[0m%rsi          \u001b[90m# imm = 0x7FACD20B21F8\u001b[39m\n",
      "\t\u001b[96m\u001b[1mvbroadcastsd\u001b[22m\u001b[39m\t\u001b[33m(\u001b[39m\u001b[0m%rsi\u001b[33m)\u001b[39m\u001b[0m, \u001b[0m%zmm9\n",
      "\t\u001b[96m\u001b[1mmovabsq\u001b[22m\u001b[39m\t\u001b[93m$.rodata\u001b[39m\u001b[0m, \u001b[0m%rsi\n",
      "\t\u001b[96m\u001b[1mvmovapd\u001b[22m\u001b[39m\t\u001b[33m(\u001b[39m\u001b[0m%rsi\u001b[33m)\u001b[39m\u001b[0m, \u001b[0m%zmm10\n",
      "\t\u001b[96m\u001b[1mmovabsq\u001b[22m\u001b[39m\t\u001b[33m$140380235047552\u001b[39m\u001b[0m, \u001b[0m%rsi          \u001b[90m# imm = 0x7FACD20B2280\u001b[39m\n",
      "\t\u001b[96m\u001b[1mvmovapd\u001b[22m\u001b[39m\t\u001b[33m(\u001b[39m\u001b[0m%rsi\u001b[33m)\u001b[39m\u001b[0m, \u001b[0m%zmm11\n",
      "\t\u001b[96m\u001b[1mmovabsq\u001b[22m\u001b[39m\t\u001b[33m$140380235047424\u001b[39m\u001b[0m, \u001b[0m%rsi          \u001b[90m# imm = 0x7FACD20B2200\u001b[39m\n",
      "\t\u001b[96m\u001b[1mvbroadcastsd\u001b[22m\u001b[39m\t\u001b[33m(\u001b[39m\u001b[0m%rsi\u001b[33m)\u001b[39m\u001b[0m, \u001b[0m%zmm12\n",
      "\t\u001b[96m\u001b[1mmovabsq\u001b[22m\u001b[39m\t\u001b[33m$140380235047432\u001b[39m\u001b[0m, \u001b[0m%rsi          \u001b[90m# imm = 0x7FACD20B2208\u001b[39m\n",
      "\t\u001b[96m\u001b[1mvbroadcastsd\u001b[22m\u001b[39m\t\u001b[33m(\u001b[39m\u001b[0m%rsi\u001b[33m)\u001b[39m\u001b[0m, \u001b[0m%zmm13\n",
      "\t\u001b[96m\u001b[1mnopw\u001b[22m\u001b[39m\t\u001b[0m%cs\u001b[0m:\u001b[33m(\u001b[39m\u001b[0m%rax\u001b[0m,\u001b[0m%rax\u001b[33m)\u001b[39m\n",
      "\u001b[90m; ││││└\u001b[39m\n",
      "\u001b[90m; ││││┌ @ reconstruct_loopset.jl:711 within `macro expansion'\u001b[39m\n",
      "\u001b[90m; │││││┌ @ memory.jl:415 within `_vload'\u001b[39m\n",
      "\u001b[90m; ││││││┌ @ memory.jl:324 within `_vload_unroll'\u001b[39m\n",
      "\u001b[90m; │││││││┌ @ memory.jl:44 within `macro expansion'\u001b[39m\n",
      "\u001b[90m; ││││││││┌ @ stridedpointers.jl:191 within `_vload'\u001b[39m\n",
      "\u001b[90m; │││││││││┌ @ memory_addr.jl:631 within `__vload'\u001b[39m\n",
      "\u001b[90m; ││││││││││┌ @ memory_addr.jl:631 within `macro expansion'\u001b[39m\n",
      "\u001b[91mL288:\u001b[39m\n",
      "\t\u001b[96m\u001b[1mvmovupd\u001b[22m\u001b[39m\t\u001b[33m(\u001b[39m\u001b[0m%rdi\u001b[0m,\u001b[0m%rcx\u001b[0m,\u001b[33m8\u001b[39m\u001b[33m)\u001b[39m\u001b[0m, \u001b[0m%zmm14\n",
      "\t\u001b[96m\u001b[1mvmovupd\u001b[22m\u001b[39m\t\u001b[33m64\u001b[39m\u001b[33m(\u001b[39m\u001b[0m%rdi\u001b[0m,\u001b[0m%rcx\u001b[0m,\u001b[33m8\u001b[39m\u001b[33m)\u001b[39m\u001b[0m, \u001b[0m%zmm15\n",
      "\u001b[90m; │││││└└└└└└\u001b[39m\n",
      "\u001b[90m; │││││┌ @ exp.jl:379 within `exp'\u001b[39m\n",
      "\u001b[90m; ││││││┌ @ exp.jl:383 within `vexp' @ exp.jl:372\u001b[39m\n",
      "\u001b[90m; │││││││┌ @ exp.jl:355 within `vexp_avx512'\u001b[39m\n",
      "\u001b[90m; ││││││││┌ @ base_defs.jl:93 within `*'\u001b[39m\n",
      "\u001b[90m; │││││││││┌ @ fmap.jl:62 within `vmul'\u001b[39m\n",
      "\u001b[90m; ││││││││││┌ @ fmap.jl:9 within `fmap'\u001b[39m\n",
      "\u001b[90m; │││││││││││┌ @ binary_ops.jl:93 within `vmul'\u001b[39m\n",
      "\u001b[90m; ││││││││││││┌ @ binary_ops.jl:93 within `macro expansion'\u001b[39m\n",
      "\t\u001b[96m\u001b[1mvmulpd\u001b[22m\u001b[39m\t\u001b[0m%zmm0\u001b[0m, \u001b[0m%zmm14\u001b[0m, \u001b[0m%zmm16\n",
      "\u001b[90m; │││││││││││└└\u001b[39m\n",
      "\u001b[90m; │││││││││││ @ fmap.jl:9 within `fmap' @ fmap.jl:6\u001b[39m\n",
      "\u001b[90m; │││││││││││┌ @ binary_ops.jl:93 within `vmul'\u001b[39m\n",
      "\u001b[90m; ││││││││││││┌ @ binary_ops.jl:93 within `macro expansion'\u001b[39m\n",
      "\t\u001b[96m\u001b[1mvmulpd\u001b[22m\u001b[39m\t\u001b[0m%zmm0\u001b[0m, \u001b[0m%zmm15\u001b[0m, \u001b[0m%zmm17\n",
      "\u001b[90m; ││││││││└└└└└\u001b[39m\n",
      "\u001b[90m; ││││││││┌ @ base_defs.jl:47 within `round'\u001b[39m\n",
      "\u001b[90m; │││││││││┌ @ fmap.jl:54 within `vround'\u001b[39m\n",
      "\u001b[90m; ││││││││││┌ @ fmap.jl:3 within `fmap'\u001b[39m\n",
      "\u001b[90m; │││││││││││┌ @ intrin_funcs.jl:101 within `vround'\u001b[39m\n",
      "\u001b[90m; ││││││││││││┌ @ intrin_funcs.jl:101 within `macro expansion'\u001b[39m\n",
      "\t\u001b[96m\u001b[1mvrndscalepd\u001b[22m\u001b[39m\t\u001b[33m$12\u001b[39m\u001b[0m, \u001b[0m%zmm16\u001b[0m, \u001b[0m%zmm16\n",
      "\u001b[90m; │││││││││││└└\u001b[39m\n",
      "\u001b[90m; │││││││││││ @ fmap.jl:3 within `fmap' @ fmap.jl:2\u001b[39m\n",
      "\u001b[90m; │││││││││││┌ @ intrin_funcs.jl:101 within `vround'\u001b[39m\n",
      "\u001b[90m; ││││││││││││┌ @ intrin_funcs.jl:101 within `macro expansion'\u001b[39m\n",
      "\t\u001b[96m\u001b[1mvrndscalepd\u001b[22m\u001b[39m\t\u001b[33m$12\u001b[39m\u001b[0m, \u001b[0m%zmm17\u001b[0m, \u001b[0m%zmm17\n",
      "\u001b[90m; │││││││└└└└└└\u001b[39m\n",
      "\u001b[90m; │││││││┌ @ exp.jl:356 within `vexp_avx512'\u001b[39m\n",
      "\u001b[90m; ││││││││┌ @ base_defs.jl:208 within `muladd'\u001b[39m\n",
      "\u001b[90m; │││││││││┌ @ fmap.jl:126 within `vmuladd'\u001b[39m\n",
      "\u001b[90m; ││││││││││┌ @ fmap.jl:18 within `fmap'\u001b[39m\n",
      "\u001b[90m; │││││││││││┌ @ fmap.jl:18 within `macro expansion'\u001b[39m\n",
      "\u001b[90m; ││││││││││││┌ @ intrin_funcs.jl:255 within `vmuladd'\u001b[39m\n",
      "\u001b[90m; │││││││││││││┌ @ intrin_funcs.jl:255 within `macro expansion'\u001b[39m\n",
      "\t\u001b[96m\u001b[1mvfnmadd231pd\u001b[22m\u001b[39m\t\u001b[0m%zmm1\u001b[0m, \u001b[0m%zmm16\u001b[0m, \u001b[0m%zmm14   \u001b[90m# zmm14 = -(zmm16 * zmm1) + zmm14\u001b[39m\n",
      "\t\u001b[96m\u001b[1mvfnmadd231pd\u001b[22m\u001b[39m\t\u001b[0m%zmm1\u001b[0m, \u001b[0m%zmm17\u001b[0m, \u001b[0m%zmm15   \u001b[90m# zmm15 = -(zmm17 * zmm1) + zmm15\u001b[39m\n",
      "\u001b[90m; │││││││└└└└└└└\u001b[39m\n",
      "\u001b[90m; │││││││┌ @ exp.jl:357 within `vexp_avx512'\u001b[39m\n",
      "\u001b[90m; ││││││││┌ @ base_defs.jl:208 within `muladd'\u001b[39m\n",
      "\u001b[90m; │││││││││┌ @ fmap.jl:126 within `vmuladd'\u001b[39m\n",
      "\u001b[90m; ││││││││││┌ @ fmap.jl:18 within `fmap'\u001b[39m\n",
      "\u001b[90m; │││││││││││┌ @ fmap.jl:18 within `macro expansion'\u001b[39m\n",
      "\u001b[90m; ││││││││││││┌ @ intrin_funcs.jl:255 within `vmuladd'\u001b[39m\n",
      "\u001b[90m; │││││││││││││┌ @ intrin_funcs.jl:255 within `macro expansion'\u001b[39m\n",
      "\t\u001b[96m\u001b[1mvfmsub231pd\u001b[22m\u001b[39m\t\u001b[0m%zmm2\u001b[0m, \u001b[0m%zmm16\u001b[0m, \u001b[0m%zmm14   \u001b[90m# zmm14 = (zmm16 * zmm2) - zmm14\u001b[39m\n",
      "\t\u001b[96m\u001b[1mvfmsub231pd\u001b[22m\u001b[39m\t\u001b[0m%zmm2\u001b[0m, \u001b[0m%zmm17\u001b[0m, \u001b[0m%zmm15   \u001b[90m# zmm15 = (zmm17 * zmm2) - zmm15\u001b[39m\n",
      "\u001b[90m; │││││││└└└└└└└\u001b[39m\n",
      "\u001b[90m; │││││││┌ @ exp.jl:358 within `vexp_avx512'\u001b[39m\n",
      "\u001b[90m; ││││││││┌ @ base_defs.jl:154 within `trunc'\u001b[39m\n",
      "\u001b[90m; │││││││││┌ @ intrin_funcs.jl:113 within `vtrunc'\u001b[39m\n",
      "\u001b[90m; ││││││││││┌ @ conversion.jl:130 within `vconvert' @ conversion.jl:106\u001b[39m\n",
      "\u001b[90m; │││││││││││┌ @ fmap.jl:11 within `fmap'\u001b[39m\n",
      "\u001b[90m; ││││││││││││┌ @ conversion.jl:63 within `vconvert'\u001b[39m\n",
      "\u001b[90m; │││││││││││││┌ @ conversion.jl:12 within `macro expansion'\u001b[39m\n",
      "\t\u001b[96m\u001b[1mvcvttpd2qq\u001b[22m\u001b[39m\t\u001b[0m%zmm16\u001b[0m, \u001b[0m%zmm18\n",
      "\u001b[90m; ││││││││││││└└\u001b[39m\n",
      "\u001b[90m; ││││││││││││ @ fmap.jl:11 within `fmap' @ fmap.jl:8\u001b[39m\n",
      "\u001b[90m; ││││││││││││┌ @ conversion.jl:63 within `vconvert'\u001b[39m\n",
      "\u001b[90m; │││││││││││││┌ @ conversion.jl:12 within `macro expansion'\u001b[39m\n",
      "\t\u001b[96m\u001b[1mvcvttpd2qq\u001b[22m\u001b[39m\t\u001b[0m%zmm17\u001b[0m, \u001b[0m%zmm19\n",
      "\u001b[90m; ││││││││└└└└└└\u001b[39m\n",
      "\u001b[90m; ││││││││┌ @ base_defs.jl:93 within `&'\u001b[39m\n",
      "\u001b[90m; │││││││││┌ @ fmap.jl:62 within `vand'\u001b[39m\n",
      "\u001b[90m; ││││││││││┌ @ fmap.jl:9 within `fmap'\u001b[39m\n",
      "\u001b[90m; │││││││││││┌ @ binary_ops.jl:83 within `vand'\u001b[39m\n",
      "\u001b[90m; ││││││││││││┌ @ binary_ops.jl:83 within `macro expansion'\u001b[39m\n",
      "\t\u001b[96m\u001b[1mvandpd\u001b[22m\u001b[39m\t\u001b[0m%zmm3\u001b[0m, \u001b[0m%zmm18\u001b[0m, \u001b[0m%zmm18\n",
      "\u001b[90m; │││││││││││└└\u001b[39m\n",
      "\u001b[90m; │││││││││││ @ fmap.jl:9 within `fmap' @ fmap.jl:6\u001b[39m\n",
      "\u001b[90m; │││││││││││┌ @ binary_ops.jl:83 within `vand'\u001b[39m\n",
      "\u001b[90m; ││││││││││││┌ @ binary_ops.jl:83 within `macro expansion'\u001b[39m\n",
      "\t\u001b[96m\u001b[1mvandpd\u001b[22m\u001b[39m\t\u001b[0m%zmm3\u001b[0m, \u001b[0m%zmm19\u001b[0m, \u001b[0m%zmm19\n",
      "\u001b[90m; │││││││└└└└└└\u001b[39m\n",
      "\u001b[90m; │││││││┌ @ exp.jl:359 within `vexp_avx512'\u001b[39m\n",
      "\u001b[90m; ││││││││┌ @ exp.jl:247 within `expm1b_kernel_16'\u001b[39m\n",
      "\u001b[90m; │││││││││┌ @ base_defs.jl:241 within `vmuladd_fast' @ fmap.jl:126\u001b[39m\n",
      "\u001b[90m; ││││││││││┌ @ fmap.jl:18 within `fmap'\u001b[39m\n",
      "\u001b[90m; │││││││││││┌ @ fmap.jl:18 within `macro expansion'\u001b[39m\n",
      "\u001b[90m; ││││││││││││┌ @ intrin_funcs.jl:255 within `vmuladd_fast'\u001b[39m\n",
      "\u001b[90m; │││││││││││││┌ @ intrin_funcs.jl:255 within `macro expansion'\u001b[39m\n",
      "\t\u001b[96m\u001b[1mvmovapd\u001b[22m\u001b[39m\t\u001b[0m%zmm5\u001b[0m, \u001b[0m%zmm20\n",
      "\t\u001b[96m\u001b[1mvfmadd213pd\u001b[22m\u001b[39m\t\u001b[0m%zmm4\u001b[0m, \u001b[0m%zmm14\u001b[0m, \u001b[0m%zmm20   \u001b[90m# zmm20 = (zmm14 * zmm20) + zmm4\u001b[39m\n",
      "\t\u001b[96m\u001b[1mvmovapd\u001b[22m\u001b[39m\t\u001b[0m%zmm5\u001b[0m, \u001b[0m%zmm21\n",
      "\t\u001b[96m\u001b[1mvfmadd213pd\u001b[22m\u001b[39m\t\u001b[0m%zmm4\u001b[0m, \u001b[0m%zmm15\u001b[0m, \u001b[0m%zmm21   \u001b[90m# zmm21 = (zmm15 * zmm21) + zmm4\u001b[39m\n",
      "\t\u001b[96m\u001b[1mvfmadd213pd\u001b[22m\u001b[39m\t\u001b[0m%zmm6\u001b[0m, \u001b[0m%zmm14\u001b[0m, \u001b[0m%zmm20   \u001b[90m# zmm20 = (zmm14 * zmm20) + zmm6\u001b[39m\n",
      "\t\u001b[96m\u001b[1mvfmadd213pd\u001b[22m\u001b[39m\t\u001b[0m%zmm6\u001b[0m, \u001b[0m%zmm15\u001b[0m, \u001b[0m%zmm21   \u001b[90m# zmm21 = (zmm15 * zmm21) + zmm6\u001b[39m\n",
      "\t\u001b[96m\u001b[1mvfmadd213pd\u001b[22m\u001b[39m\t\u001b[0m%zmm7\u001b[0m, \u001b[0m%zmm14\u001b[0m, \u001b[0m%zmm20   \u001b[90m# zmm20 = (zmm14 * zmm20) + zmm7\u001b[39m\n",
      "\t\u001b[96m\u001b[1mvfmadd213pd\u001b[22m\u001b[39m\t\u001b[0m%zmm7\u001b[0m, \u001b[0m%zmm15\u001b[0m, \u001b[0m%zmm21   \u001b[90m# zmm21 = (zmm15 * zmm21) + zmm7\u001b[39m\n",
      "\t\u001b[96m\u001b[1mvfmadd213pd\u001b[22m\u001b[39m\t\u001b[0m%zmm8\u001b[0m, \u001b[0m%zmm14\u001b[0m, \u001b[0m%zmm20   \u001b[90m# zmm20 = (zmm14 * zmm20) + zmm8\u001b[39m\n",
      "\t\u001b[96m\u001b[1mvfmadd213pd\u001b[22m\u001b[39m\t\u001b[0m%zmm8\u001b[0m, \u001b[0m%zmm15\u001b[0m, \u001b[0m%zmm21   \u001b[90m# zmm21 = (zmm15 * zmm21) + zmm8\u001b[39m\n",
      "\t\u001b[96m\u001b[1mvfmadd213pd\u001b[22m\u001b[39m\t\u001b[0m%zmm9\u001b[0m, \u001b[0m%zmm14\u001b[0m, \u001b[0m%zmm20   \u001b[90m# zmm20 = (zmm14 * zmm20) + zmm9\u001b[39m\n",
      "\t\u001b[96m\u001b[1mvfmadd213pd\u001b[22m\u001b[39m\t\u001b[0m%zmm9\u001b[0m, \u001b[0m%zmm15\u001b[0m, \u001b[0m%zmm21   \u001b[90m# zmm21 = (zmm15 * zmm21) + zmm9\u001b[39m\n",
      "\u001b[90m; │││││││││└└└└└\u001b[39m\n",
      "\u001b[90m; │││││││││┌ @ base_defs.jl:89 within `*'\u001b[39m\n",
      "\u001b[90m; ││││││││││┌ @ fmap.jl:62 within `vmul'\u001b[39m\n",
      "\u001b[90m; │││││││││││┌ @ fmap.jl:9 within `fmap'\u001b[39m\n",
      "\u001b[90m; ││││││││││││┌ @ binary_ops.jl:93 within `vmul'\u001b[39m\n",
      "\u001b[90m; │││││││││││││┌ @ binary_ops.jl:93 within `macro expansion'\u001b[39m\n",
      "\t\u001b[96m\u001b[1mvmulpd\u001b[22m\u001b[39m\t\u001b[0m%zmm20\u001b[0m, \u001b[0m%zmm14\u001b[0m, \u001b[0m%zmm14\n",
      "\u001b[90m; ││││││││││││└└\u001b[39m\n",
      "\u001b[90m; ││││││││││││ @ fmap.jl:9 within `fmap' @ fmap.jl:6\u001b[39m\n",
      "\u001b[90m; ││││││││││││┌ @ binary_ops.jl:93 within `vmul'\u001b[39m\n",
      "\u001b[90m; │││││││││││││┌ @ binary_ops.jl:93 within `macro expansion'\u001b[39m\n",
      "\t\u001b[96m\u001b[1mvmulpd\u001b[22m\u001b[39m\t\u001b[0m%zmm21\u001b[0m, \u001b[0m%zmm15\u001b[0m, \u001b[0m%zmm15\n",
      "\u001b[90m; │││││││└└└└└└└\u001b[39m\n",
      "\u001b[90m; │││││││┌ @ exp.jl:360 within `vexp_avx512'\u001b[39m\n",
      "\u001b[90m; ││││││││┌ @ exp.jl:105 within `vpermi2pd'\u001b[39m\n",
      "\u001b[90m; │││││││││┌ @ fmap.jl:18 within `fmap'\u001b[39m\n",
      "\u001b[90m; ││││││││││┌ @ fmap.jl:18 within `macro expansion'\u001b[39m\n",
      "\u001b[90m; │││││││││││┌ @ exp.jl:84 within `vpermi2pd'\u001b[39m\n",
      "\u001b[90m; ││││││││││││┌ @ exp.jl:84 within `macro expansion'\u001b[39m\n",
      "\t\u001b[96m\u001b[1mvpermi2pd\u001b[22m\u001b[39m\t\u001b[0m%zmm10\u001b[0m, \u001b[0m%zmm11\u001b[0m, \u001b[0m%zmm18\n",
      "\t\u001b[96m\u001b[1mvpermi2pd\u001b[22m\u001b[39m\t\u001b[0m%zmm10\u001b[0m, \u001b[0m%zmm11\u001b[0m, \u001b[0m%zmm19\n",
      "\u001b[90m; │││││││└└└└└└\u001b[39m\n",
      "\u001b[90m; │││││││┌ @ exp.jl:361 within `vexp_avx512'\u001b[39m\n",
      "\u001b[90m; ││││││││┌ @ intrin_funcs.jl:283 within `vfmadd'\u001b[39m\n",
      "\u001b[90m; │││││││││┌ @ intrin_funcs.jl:281 within `_vfmadd'\u001b[39m\n",
      "\u001b[90m; ││││││││││┌ @ fmap.jl:126 within `vfma'\u001b[39m\n",
      "\u001b[90m; │││││││││││┌ @ fmap.jl:18 within `fmap'\u001b[39m\n",
      "\u001b[90m; ││││││││││││┌ @ fmap.jl:18 within `macro expansion'\u001b[39m\n",
      "\u001b[90m; │││││││││││││┌ @ intrin_funcs.jl:255 within `vfma'\u001b[39m\n",
      "\u001b[90m; ││││││││││││││┌ @ intrin_funcs.jl:255 within `macro expansion'\u001b[39m\n",
      "\t\u001b[96m\u001b[1mvfmadd231pd\u001b[22m\u001b[39m\t\u001b[0m%zmm18\u001b[0m, \u001b[0m%zmm14\u001b[0m, \u001b[0m%zmm18  \u001b[90m# zmm18 = (zmm14 * zmm18) + zmm18\u001b[39m\n",
      "\t\u001b[96m\u001b[1mvfmadd231pd\u001b[22m\u001b[39m\t\u001b[0m%zmm19\u001b[0m, \u001b[0m%zmm15\u001b[0m, \u001b[0m%zmm19  \u001b[90m# zmm19 = (zmm15 * zmm19) + zmm19\u001b[39m\n",
      "\u001b[90m; │││││││└└└└└└└└\u001b[39m\n",
      "\u001b[90m; │││││││┌ @ exp.jl:362 within `vexp_avx512'\u001b[39m\n",
      "\u001b[90m; ││││││││┌ @ base_defs.jl:92 within `*'\u001b[39m\n",
      "\u001b[90m; │││││││││┌ @ fmap.jl:62 within `vmul'\u001b[39m\n",
      "\u001b[90m; ││││││││││┌ @ fmap.jl:9 within `fmap'\u001b[39m\n",
      "\u001b[90m; │││││││││││┌ @ binary_ops.jl:93 within `vmul'\u001b[39m\n",
      "\u001b[90m; ││││││││││││┌ @ binary_ops.jl:93 within `macro expansion'\u001b[39m\n",
      "\t\u001b[96m\u001b[1mvmulpd\u001b[22m\u001b[39m\t\u001b[0m%zmm12\u001b[0m, \u001b[0m%zmm16\u001b[0m, \u001b[0m%zmm14\n",
      "\u001b[90m; ││││││││└└└└└\u001b[39m\n",
      "\u001b[90m; ││││││││┌ @ exp.jl:101 within `vscalef'\u001b[39m\n",
      "\u001b[90m; │││││││││┌ @ fmap.jl:9 within `fmap'\u001b[39m\n",
      "\u001b[90m; ││││││││││┌ @ exp.jl:20 within `vscalef' @ exp.jl:25\u001b[39m\n",
      "\u001b[90m; │││││││││││┌ @ exp.jl:25 within `macro expansion'\u001b[39m\n",
      "\t\u001b[96m\u001b[1mvscalefpd\u001b[22m\u001b[39m\t\u001b[33m{\u001b[39m\u001b[95mrn-sae\u001b[39m\u001b[33m}\u001b[39m\u001b[0m, \u001b[0m%zmm14\u001b[0m, \u001b[0m%zmm18\u001b[0m, \u001b[0m%zmm14\n",
      "\u001b[90m; ││││││││└└└└\u001b[39m\n",
      "\u001b[90m; ││││││││┌ @ base_defs.jl:92 within `*'\u001b[39m\n",
      "\u001b[90m; │││││││││┌ @ fmap.jl:62 within `vmul'\u001b[39m\n",
      "\u001b[90m; ││││││││││┌ @ fmap.jl:9 within `fmap' @ fmap.jl:6\u001b[39m\n",
      "\u001b[90m; │││││││││││┌ @ binary_ops.jl:93 within `vmul'\u001b[39m\n",
      "\u001b[90m; ││││││││││││┌ @ binary_ops.jl:93 within `macro expansion'\u001b[39m\n",
      "\t\u001b[96m\u001b[1mvmulpd\u001b[22m\u001b[39m\t\u001b[0m%zmm12\u001b[0m, \u001b[0m%zmm17\u001b[0m, \u001b[0m%zmm15\n",
      "\u001b[90m; ││││││││└└└└└\u001b[39m\n",
      "\u001b[90m; ││││││││┌ @ exp.jl:101 within `vscalef'\u001b[39m\n",
      "\u001b[90m; │││││││││┌ @ fmap.jl:9 within `fmap' @ fmap.jl:6\u001b[39m\n",
      "\u001b[90m; ││││││││││┌ @ exp.jl:20 within `vscalef' @ exp.jl:25\u001b[39m\n",
      "\u001b[90m; │││││││││││┌ @ exp.jl:25 within `macro expansion'\u001b[39m\n",
      "\t\u001b[96m\u001b[1mvscalefpd\u001b[22m\u001b[39m\t\u001b[33m{\u001b[39m\u001b[95mrn-sae\u001b[39m\u001b[33m}\u001b[39m\u001b[0m, \u001b[0m%zmm15\u001b[0m, \u001b[0m%zmm19\u001b[0m, \u001b[0m%zmm15\n",
      "\u001b[90m; │││││└└└└└└└\u001b[39m\n",
      "\u001b[90m; │││││┌ @ base_defs.jl:92 within `add_fast'\u001b[39m\n",
      "\u001b[90m; ││││││┌ @ fmap.jl:62 within `vadd_fast'\u001b[39m\n",
      "\u001b[90m; │││││││┌ @ fmap.jl:9 within `fmap'\u001b[39m\n",
      "\u001b[90m; ││││││││┌ @ binary_ops.jl:94 within `vadd_fast'\u001b[39m\n",
      "\u001b[90m; │││││││││┌ @ binary_ops.jl:94 within `macro expansion'\u001b[39m\n",
      "\t\u001b[96m\u001b[1mvaddpd\u001b[22m\u001b[39m\t\u001b[0m%zmm13\u001b[0m, \u001b[0m%zmm14\u001b[0m, \u001b[0m%zmm14\n",
      "\u001b[90m; ││││││││└└\u001b[39m\n",
      "\u001b[90m; ││││││││ @ fmap.jl:9 within `fmap' @ fmap.jl:6\u001b[39m\n",
      "\u001b[90m; ││││││││┌ @ binary_ops.jl:94 within `vadd_fast'\u001b[39m\n",
      "\u001b[90m; │││││││││┌ @ binary_ops.jl:94 within `macro expansion'\u001b[39m\n",
      "\t\u001b[96m\u001b[1mvaddpd\u001b[22m\u001b[39m\t\u001b[0m%zmm13\u001b[0m, \u001b[0m%zmm15\u001b[0m, \u001b[0m%zmm15\n",
      "\u001b[90m; │││││└└└└└\u001b[39m\n",
      "\u001b[90m; │││││┌ @ unary_ops.jl:25 within `inv_fast'\u001b[39m\n",
      "\u001b[90m; ││││││┌ @ base_defs.jl:89 within `div_fast'\u001b[39m\n",
      "\u001b[90m; │││││││┌ @ intrin_funcs.jl:722 within `vfdiv_fast'\u001b[39m\n",
      "\u001b[90m; ││││││││┌ @ intrin_funcs.jl:691 within `vfdiv_afast'\u001b[39m\n",
      "\u001b[90m; │││││││││┌ @ fmap.jl:9 within `fmap'\u001b[39m\n",
      "\u001b[90m; ││││││││││┌ @ binary_ops.jl:94 within `vfdiv_fast'\u001b[39m\n",
      "\u001b[90m; │││││││││││┌ @ binary_ops.jl:94 within `macro expansion'\u001b[39m\n",
      "\t\u001b[96m\u001b[1mvdivpd\u001b[22m\u001b[39m\t\u001b[0m%zmm14\u001b[0m, \u001b[0m%zmm13\u001b[0m, \u001b[0m%zmm14\n",
      "\u001b[90m; ││││││││││└└\u001b[39m\n",
      "\u001b[90m; ││││││││││ @ fmap.jl:9 within `fmap' @ fmap.jl:6\u001b[39m\n",
      "\u001b[90m; ││││││││││┌ @ binary_ops.jl:94 within `vfdiv_fast'\u001b[39m\n",
      "\u001b[90m; │││││││││││┌ @ binary_ops.jl:94 within `macro expansion'\u001b[39m\n",
      "\t\u001b[96m\u001b[1mvdivpd\u001b[22m\u001b[39m\t\u001b[0m%zmm15\u001b[0m, \u001b[0m%zmm13\u001b[0m, \u001b[0m%zmm15\n",
      "\u001b[90m; │││││└└└└└└└\u001b[39m\n",
      "\u001b[90m; │││││┌ @ memory.jl:832 within `_vstore!'\u001b[39m\n",
      "\u001b[90m; ││││││┌ @ memory.jl:672 within `_vstore_unroll!'\u001b[39m\n",
      "\u001b[90m; │││││││┌ @ memory.jl:457 within `macro expansion'\u001b[39m\n",
      "\u001b[90m; ││││││││┌ @ stridedpointers.jl:230 within `_vstore!'\u001b[39m\n",
      "\u001b[90m; │││││││││┌ @ memory_addr.jl:822 within `__vstore!'\u001b[39m\n",
      "\u001b[90m; ││││││││││┌ @ memory_addr.jl:822 within `macro expansion'\u001b[39m\n",
      "\t\u001b[96m\u001b[1mvmovupd\u001b[22m\u001b[39m\t\u001b[0m%zmm14\u001b[0m, \u001b[33m(\u001b[39m\u001b[0m%rdx\u001b[0m,\u001b[0m%rcx\u001b[0m,\u001b[33m8\u001b[39m\u001b[33m)\u001b[39m\n",
      "\t\u001b[96m\u001b[1mvmovupd\u001b[22m\u001b[39m\t\u001b[0m%zmm15\u001b[0m, \u001b[33m64\u001b[39m\u001b[33m(\u001b[39m\u001b[0m%rdx\u001b[0m,\u001b[0m%rcx\u001b[0m,\u001b[33m8\u001b[39m\u001b[33m)\u001b[39m\n",
      "\u001b[90m; │││││└└└└└└\u001b[39m\n",
      "\u001b[90m; │││││┌ @ static.jl:40 within `vadd_nsw' @ binary_ops.jl:38\u001b[39m\n",
      "\u001b[90m; ││││││┌ @ binary_ops.jl:38 within `macro expansion'\u001b[39m\n",
      "\t\u001b[96m\u001b[1maddq\u001b[22m\u001b[39m\t\u001b[33m$16\u001b[39m\u001b[0m, \u001b[0m%rcx\n",
      "\u001b[90m; │││││└└\u001b[39m\n",
      "\u001b[90m; │││││┌ @ graphs.jl:208 within `vcmpendzs'\u001b[39m\n",
      "\u001b[90m; ││││││┌ @ operators.jl:204 within `!='\u001b[39m\n",
      "\u001b[90m; │││││││┌ @ promotion.jl:410 within `=='\u001b[39m\n",
      "\t\u001b[96m\u001b[1mcmpq\u001b[22m\u001b[39m\t\u001b[0m%rcx\u001b[0m, \u001b[0m%r10\n",
      "\u001b[90m; │││││└└└\u001b[39m\n",
      "\t\u001b[96m\u001b[1mjne\u001b[22m\u001b[39m\t\u001b[91mL288\u001b[39m\n",
      "\u001b[90m; │││││┌ @ graphs.jl:203 within `cmpend'\u001b[39m\n",
      "\u001b[90m; ││││││┌ @ int.jl:83 within `<'\u001b[39m\n",
      "\t\u001b[96m\u001b[1mcmpq\u001b[22m\u001b[39m\t\u001b[0m%r8\u001b[0m, \u001b[0m%r10\n",
      "\u001b[90m; │││││└└\u001b[39m\n",
      "\t\u001b[96m\u001b[1mjb\u001b[22m\u001b[39m\t\u001b[91mL579\u001b[39m\n",
      "\u001b[90m; │└└└└\u001b[39m\n",
      "\u001b[91mL566:\u001b[39m\n",
      "\t\u001b[96m\u001b[1mpopq\u001b[22m\u001b[39m\t\u001b[0m%rcx\n",
      "\t\u001b[96m\u001b[1mvzeroupper\u001b[22m\u001b[39m\n",
      "\t\u001b[96m\u001b[1mretq\u001b[22m\u001b[39m\n",
      "\u001b[90m; │ @ In[42] within `logistic!'\u001b[39m\n",
      "\u001b[91mL571:\u001b[39m\n",
      "\t\u001b[96m\u001b[1mxorl\u001b[22m\u001b[39m\t\u001b[0m%r10d\u001b[0m, \u001b[0m%r10d\n",
      "\u001b[90m; │ @ In[42]:2 within `logistic!'\u001b[39m\n",
      "\u001b[90m; │┌ @ broadcast.jl:393 within `vmaterialize!'\u001b[39m\n",
      "\u001b[90m; ││┌ @ broadcast.jl:393 within `macro expansion'\u001b[39m\n",
      "\u001b[90m; │││┌ @ reconstruct_loopset.jl:711 within `_turbo_!'\u001b[39m\n",
      "\u001b[90m; ││││┌ @ reconstruct_loopset.jl:711 within `macro expansion'\u001b[39m\n",
      "\u001b[90m; │││││┌ @ graphs.jl:203 within `cmpend'\u001b[39m\n",
      "\u001b[90m; ││││││┌ @ int.jl:83 within `<'\u001b[39m\n",
      "\t\u001b[96m\u001b[1mcmpq\u001b[22m\u001b[39m\t\u001b[0m%r8\u001b[0m, \u001b[0m%r10\n",
      "\u001b[90m; │││││└└\u001b[39m\n",
      "\t\u001b[96m\u001b[1mjae\u001b[22m\u001b[39m\t\u001b[91mL566\u001b[39m\n",
      "\u001b[90m; │││││┌ @ masks.jl:279 within `mask'\u001b[39m\n",
      "\u001b[90m; ││││││┌ @ masks.jl:247 within `_mask'\u001b[39m\n",
      "\u001b[90m; │││││││┌ @ masks.jl:253 within `macro expansion'\u001b[39m\n",
      "\u001b[90m; ││││││││┌ @ int.jl:466 within `>>>' @ int.jl:458\u001b[39m\n",
      "\u001b[91mL579:\u001b[39m\n",
      "\t\u001b[96m\u001b[1mmovl\u001b[22m\u001b[39m\t\u001b[0m%r8d\u001b[0m, \u001b[0m%ecx\n",
      "\t\u001b[96m\u001b[1mnegb\u001b[22m\u001b[39m\t\u001b[0m%cl\n",
      "\t\u001b[96m\u001b[1mandb\u001b[22m\u001b[39m\t\u001b[33m$7\u001b[39m\u001b[0m, \u001b[0m%cl\n",
      "\t\u001b[96m\u001b[1mmovb\u001b[22m\u001b[39m\t\u001b[33m$-1\u001b[39m\u001b[0m, \u001b[0m%r9b\n",
      "\t\u001b[96m\u001b[1mshrb\u001b[22m\u001b[39m\t\u001b[0m%cl\u001b[0m, \u001b[0m%r9b\n",
      "\u001b[90m; │││││└└└└\u001b[39m\n",
      "\u001b[90m; │││││┌ @ static.jl:41 within `vsub_nsw' @ binary_ops.jl:38\u001b[39m\n",
      "\u001b[90m; ││││││┌ @ binary_ops.jl:38 within `macro expansion'\u001b[39m\n",
      "\t\u001b[96m\u001b[1maddq\u001b[22m\u001b[39m\t\u001b[33m$-9\u001b[39m\u001b[0m, \u001b[0m%r8\n",
      "\u001b[90m; │││││└└\u001b[39m\n",
      "\u001b[90m; │││││┌ @ operators.jl:305 within `>'\u001b[39m\n",
      "\u001b[90m; ││││││┌ @ int.jl:83 within `<'\u001b[39m\n",
      "\t\u001b[96m\u001b[1mcmpq\u001b[22m\u001b[39m\t\u001b[0m%r10\u001b[0m, \u001b[0m%r8\n",
      "\u001b[90m; │││││└└\u001b[39m\n",
      "\t\u001b[96m\u001b[1mjge\u001b[22m\u001b[39m\t\u001b[91mL897\u001b[39m\n",
      "\u001b[90m; │││││┌ @ stridedpointers.jl:197 within `_vload'\u001b[39m\n",
      "\u001b[90m; ││││││┌ @ memory_addr.jl:638 within `__vload'\u001b[39m\n",
      "\u001b[90m; │││││││┌ @ memory_addr.jl:638 within `macro expansion'\u001b[39m\n",
      "\t\u001b[96m\u001b[1mkmovd\u001b[22m\u001b[39m\t\u001b[0m%r9d\u001b[0m, \u001b[0m%k1\n",
      "\t\u001b[96m\u001b[1mvmovupd\u001b[22m\u001b[39m\t\u001b[33m(\u001b[39m\u001b[0m%rdi\u001b[0m,\u001b[0m%r10\u001b[0m,\u001b[33m8\u001b[39m\u001b[33m)\u001b[39m\u001b[0m, \u001b[0m%zmm0 \u001b[33m{\u001b[39m\u001b[0m%k1\u001b[33m}\u001b[39m \u001b[33m{\u001b[39m\u001b[95mz\u001b[39m\u001b[33m}\u001b[39m\n",
      "\t\u001b[96m\u001b[1mmovabsq\u001b[22m\u001b[39m\t\u001b[93m$.rodata.cst8\u001b[39m\u001b[0m, \u001b[0m%rcx\n",
      "\u001b[90m; │││││└└└\u001b[39m\n",
      "\u001b[90m; │││││┌ @ exp.jl:379 within `exp'\u001b[39m\n",
      "\u001b[90m; ││││││┌ @ exp.jl:383 within `vexp' @ exp.jl:372\u001b[39m\n",
      "\u001b[90m; │││││││┌ @ exp.jl:355 within `vexp_avx512'\u001b[39m\n",
      "\u001b[90m; ││││││││┌ @ base_defs.jl:91 within `*'\u001b[39m\n",
      "\u001b[90m; │││││││││┌ @ binary_ops.jl:93 within `vmul'\u001b[39m\n",
      "\u001b[90m; ││││││││││┌ @ binary_ops.jl:93 within `macro expansion'\u001b[39m\n",
      "\t\u001b[96m\u001b[1mvmulpd\u001b[22m\u001b[39m\t\u001b[33m(\u001b[39m\u001b[0m%rcx\u001b[33m)\u001b[39m\u001b[33m{\u001b[39m\u001b[95m1to8\u001b[39m\u001b[33m}\u001b[39m\u001b[0m, \u001b[0m%zmm0\u001b[0m, \u001b[0m%zmm1\n",
      "\u001b[90m; ││││││││└└└\u001b[39m\n",
      "\u001b[90m; ││││││││┌ @ base_defs.jl:47 within `round'\u001b[39m\n",
      "\u001b[90m; │││││││││┌ @ intrin_funcs.jl:101 within `vround'\u001b[39m\n",
      "\u001b[90m; ││││││││││┌ @ intrin_funcs.jl:101 within `macro expansion'\u001b[39m\n",
      "\t\u001b[96m\u001b[1mvrndscalepd\u001b[22m\u001b[39m\t\u001b[33m$12\u001b[39m\u001b[0m, \u001b[0m%zmm1\u001b[0m, \u001b[0m%zmm1\n",
      "\t\u001b[96m\u001b[1mmovabsq\u001b[22m\u001b[39m\t\u001b[33m$140380235047352\u001b[39m\u001b[0m, \u001b[0m%rcx          \u001b[90m# imm = 0x7FACD20B21B8\u001b[39m\n",
      "\u001b[90m; │││││││└└└└\u001b[39m\n",
      "\u001b[90m; │││││││┌ @ exp.jl:356 within `vexp_avx512'\u001b[39m\n",
      "\u001b[90m; ││││││││┌ @ base_defs.jl:208 within `muladd'\u001b[39m\n",
      "\u001b[90m; │││││││││┌ @ intrin_funcs.jl:255 within `vmuladd'\u001b[39m\n",
      "\u001b[90m; ││││││││││┌ @ intrin_funcs.jl:255 within `macro expansion'\u001b[39m\n",
      "\t\u001b[96m\u001b[1mvfnmadd231pd\u001b[22m\u001b[39m\t\u001b[33m(\u001b[39m\u001b[0m%rcx\u001b[33m)\u001b[39m\u001b[33m{\u001b[39m\u001b[95m1to8\u001b[39m\u001b[33m}\u001b[39m\u001b[0m, \u001b[0m%zmm1\u001b[0m, \u001b[0m%zmm0 \u001b[90m# zmm0 = -(zmm1 * mem) + zmm0\u001b[39m\n",
      "\t\u001b[96m\u001b[1mmovabsq\u001b[22m\u001b[39m\t\u001b[33m$140380235047360\u001b[39m\u001b[0m, \u001b[0m%rcx          \u001b[90m# imm = 0x7FACD20B21C0\u001b[39m\n",
      "\u001b[90m; │││││││└└└└\u001b[39m\n",
      "\u001b[90m; │││││││┌ @ exp.jl:357 within `vexp_avx512'\u001b[39m\n",
      "\u001b[90m; ││││││││┌ @ base_defs.jl:208 within `muladd'\u001b[39m\n",
      "\u001b[90m; │││││││││┌ @ intrin_funcs.jl:255 within `vmuladd'\u001b[39m\n",
      "\u001b[90m; ││││││││││┌ @ intrin_funcs.jl:255 within `macro expansion'\u001b[39m\n",
      "\t\u001b[96m\u001b[1mvfmsub231pd\u001b[22m\u001b[39m\t\u001b[33m(\u001b[39m\u001b[0m%rcx\u001b[33m)\u001b[39m\u001b[33m{\u001b[39m\u001b[95m1to8\u001b[39m\u001b[33m}\u001b[39m\u001b[0m, \u001b[0m%zmm1\u001b[0m, \u001b[0m%zmm0 \u001b[90m# zmm0 = (zmm1 * mem) - zmm0\u001b[39m\n",
      "\u001b[90m; │││││││└└└└\u001b[39m\n",
      "\u001b[90m; │││││││┌ @ exp.jl:358 within `vexp_avx512'\u001b[39m\n",
      "\u001b[90m; ││││││││┌ @ base_defs.jl:154 within `trunc'\u001b[39m\n",
      "\u001b[90m; │││││││││┌ @ intrin_funcs.jl:113 within `vtrunc'\u001b[39m\n",
      "\u001b[90m; ││││││││││┌ @ conversion.jl:130 within `vconvert' @ conversion.jl:63\u001b[39m\n",
      "\u001b[90m; │││││││││││┌ @ conversion.jl:12 within `macro expansion'\u001b[39m\n",
      "\t\u001b[96m\u001b[1mvcvttpd2qq\u001b[22m\u001b[39m\t\u001b[0m%zmm1\u001b[0m, \u001b[0m%zmm2\n",
      "\t\u001b[96m\u001b[1mmovabsq\u001b[22m\u001b[39m\t\u001b[33m$140380235047368\u001b[39m\u001b[0m, \u001b[0m%rcx          \u001b[90m# imm = 0x7FACD20B21C8\u001b[39m\n",
      "\u001b[90m; ││││││││└└└└\u001b[39m\n",
      "\u001b[90m; ││││││││┌ @ base_defs.jl:91 within `&'\u001b[39m\n",
      "\u001b[90m; │││││││││┌ @ binary_ops.jl:83 within `vand'\u001b[39m\n",
      "\u001b[90m; ││││││││││┌ @ binary_ops.jl:83 within `macro expansion'\u001b[39m\n",
      "\t\u001b[96m\u001b[1mvandpd\u001b[22m\u001b[39m\t\u001b[33m(\u001b[39m\u001b[0m%rcx\u001b[33m)\u001b[39m\u001b[33m{\u001b[39m\u001b[95m1to8\u001b[39m\u001b[33m}\u001b[39m\u001b[0m, \u001b[0m%zmm2\u001b[0m, \u001b[0m%zmm2\n",
      "\t\u001b[96m\u001b[1mmovabsq\u001b[22m\u001b[39m\t\u001b[33m$140380235047384\u001b[39m\u001b[0m, \u001b[0m%rcx          \u001b[90m# imm = 0x7FACD20B21D8\u001b[39m\n",
      "\u001b[90m; │││││││└└└└\u001b[39m\n",
      "\u001b[90m; │││││││┌ @ exp.jl:359 within `vexp_avx512'\u001b[39m\n",
      "\u001b[90m; ││││││││┌ @ exp.jl:247 within `expm1b_kernel_16'\u001b[39m\n",
      "\u001b[90m; │││││││││┌ @ base_defs.jl:241 within `vmuladd_fast' @ intrin_funcs.jl:255\u001b[39m\n",
      "\u001b[90m; ││││││││││┌ @ intrin_funcs.jl:255 within `macro expansion'\u001b[39m\n",
      "\t\u001b[96m\u001b[1mvbroadcastsd\u001b[22m\u001b[39m\t\u001b[33m(\u001b[39m\u001b[0m%rcx\u001b[33m)\u001b[39m\u001b[0m, \u001b[0m%zmm3\n",
      "\t\u001b[96m\u001b[1mmovabsq\u001b[22m\u001b[39m\t\u001b[33m$140380235047376\u001b[39m\u001b[0m, \u001b[0m%rcx          \u001b[90m# imm = 0x7FACD20B21D0\u001b[39m\n",
      "\t\u001b[96m\u001b[1mvfmadd213pd\u001b[22m\u001b[39m\t\u001b[33m(\u001b[39m\u001b[0m%rcx\u001b[33m)\u001b[39m\u001b[33m{\u001b[39m\u001b[95m1to8\u001b[39m\u001b[33m}\u001b[39m\u001b[0m, \u001b[0m%zmm0\u001b[0m, \u001b[0m%zmm3 \u001b[90m# zmm3 = (zmm0 * zmm3) + mem\u001b[39m\n",
      "\t\u001b[96m\u001b[1mmovabsq\u001b[22m\u001b[39m\t\u001b[33m$140380235047392\u001b[39m\u001b[0m, \u001b[0m%rcx          \u001b[90m# imm = 0x7FACD20B21E0\u001b[39m\n",
      "\t\u001b[96m\u001b[1mvfmadd213pd\u001b[22m\u001b[39m\t\u001b[33m(\u001b[39m\u001b[0m%rcx\u001b[33m)\u001b[39m\u001b[33m{\u001b[39m\u001b[95m1to8\u001b[39m\u001b[33m}\u001b[39m\u001b[0m, \u001b[0m%zmm0\u001b[0m, \u001b[0m%zmm3 \u001b[90m# zmm3 = (zmm0 * zmm3) + mem\u001b[39m\n",
      "\t\u001b[96m\u001b[1mmovabsq\u001b[22m\u001b[39m\t\u001b[33m$140380235047400\u001b[39m\u001b[0m, \u001b[0m%rcx          \u001b[90m# imm = 0x7FACD20B21E8\u001b[39m\n",
      "\t\u001b[96m\u001b[1mvfmadd213pd\u001b[22m\u001b[39m\t\u001b[33m(\u001b[39m\u001b[0m%rcx\u001b[33m)\u001b[39m\u001b[33m{\u001b[39m\u001b[95m1to8\u001b[39m\u001b[33m}\u001b[39m\u001b[0m, \u001b[0m%zmm0\u001b[0m, \u001b[0m%zmm3 \u001b[90m# zmm3 = (zmm0 * zmm3) + mem\u001b[39m\n",
      "\t\u001b[96m\u001b[1mmovabsq\u001b[22m\u001b[39m\t\u001b[33m$140380235047408\u001b[39m\u001b[0m, \u001b[0m%rcx          \u001b[90m# imm = 0x7FACD20B21F0\u001b[39m\n",
      "\t\u001b[96m\u001b[1mvfmadd213pd\u001b[22m\u001b[39m\t\u001b[33m(\u001b[39m\u001b[0m%rcx\u001b[33m)\u001b[39m\u001b[33m{\u001b[39m\u001b[95m1to8\u001b[39m\u001b[33m}\u001b[39m\u001b[0m, \u001b[0m%zmm0\u001b[0m, \u001b[0m%zmm3 \u001b[90m# zmm3 = (zmm0 * zmm3) + mem\u001b[39m\n",
      "\t\u001b[96m\u001b[1mmovabsq\u001b[22m\u001b[39m\t\u001b[33m$140380235047416\u001b[39m\u001b[0m, \u001b[0m%rcx          \u001b[90m# imm = 0x7FACD20B21F8\u001b[39m\n",
      "\t\u001b[96m\u001b[1mvfmadd213pd\u001b[22m\u001b[39m\t\u001b[33m(\u001b[39m\u001b[0m%rcx\u001b[33m)\u001b[39m\u001b[33m{\u001b[39m\u001b[95m1to8\u001b[39m\u001b[33m}\u001b[39m\u001b[0m, \u001b[0m%zmm0\u001b[0m, \u001b[0m%zmm3 \u001b[90m# zmm3 = (zmm0 * zmm3) + mem\u001b[39m\n",
      "\t\u001b[96m\u001b[1mmovabsq\u001b[22m\u001b[39m\t\u001b[33m$140380235047552\u001b[39m\u001b[0m, \u001b[0m%rcx          \u001b[90m# imm = 0x7FACD20B2280\u001b[39m\n",
      "\u001b[90m; │││││││└└└└\u001b[39m\n",
      "\u001b[90m; │││││││┌ @ exp.jl:360 within `vexp_avx512'\u001b[39m\n",
      "\u001b[90m; ││││││││┌ @ exp.jl:84 within `vpermi2pd'\u001b[39m\n",
      "\u001b[90m; │││││││││┌ @ exp.jl:84 within `macro expansion'\u001b[39m\n",
      "\t\u001b[96m\u001b[1mvmovapd\u001b[22m\u001b[39m\t\u001b[33m(\u001b[39m\u001b[0m%rcx\u001b[33m)\u001b[39m\u001b[0m, \u001b[0m%zmm4\n",
      "\u001b[90m; │││││││└└└\u001b[39m\n",
      "\u001b[90m; │││││││┌ @ exp.jl:359 within `vexp_avx512'\u001b[39m\n",
      "\u001b[90m; ││││││││┌ @ exp.jl:247 within `expm1b_kernel_16'\u001b[39m\n",
      "\u001b[90m; │││││││││┌ @ base_defs.jl:89 within `*'\u001b[39m\n",
      "\u001b[90m; ││││││││││┌ @ binary_ops.jl:93 within `vmul'\u001b[39m\n",
      "\u001b[90m; │││││││││││┌ @ binary_ops.jl:93 within `macro expansion'\u001b[39m\n",
      "\t\u001b[96m\u001b[1mvmulpd\u001b[22m\u001b[39m\t\u001b[0m%zmm3\u001b[0m, \u001b[0m%zmm0\u001b[0m, \u001b[0m%zmm0\n",
      "\t\u001b[96m\u001b[1mmovabsq\u001b[22m\u001b[39m\t\u001b[93m$.rodata\u001b[39m\u001b[0m, \u001b[0m%rcx\n",
      "\u001b[90m; │││││││└└└└└\u001b[39m\n",
      "\u001b[90m; │││││││┌ @ exp.jl:360 within `vexp_avx512'\u001b[39m\n",
      "\u001b[90m; ││││││││┌ @ exp.jl:84 within `vpermi2pd'\u001b[39m\n",
      "\u001b[90m; │││││││││┌ @ exp.jl:84 within `macro expansion'\u001b[39m\n",
      "\t\u001b[96m\u001b[1mvpermt2pd\u001b[22m\u001b[39m\t\u001b[33m(\u001b[39m\u001b[0m%rcx\u001b[33m)\u001b[39m\u001b[0m, \u001b[0m%zmm2\u001b[0m, \u001b[0m%zmm4\n",
      "\u001b[90m; │││││││└└└\u001b[39m\n",
      "\u001b[90m; │││││││┌ @ exp.jl:361 within `vexp_avx512'\u001b[39m\n",
      "\u001b[90m; ││││││││┌ @ intrin_funcs.jl:283 within `vfmadd'\u001b[39m\n",
      "\u001b[90m; │││││││││┌ @ intrin_funcs.jl:281 within `_vfmadd'\u001b[39m\n",
      "\u001b[90m; ││││││││││┌ @ intrin_funcs.jl:255 within `vfma'\u001b[39m\n",
      "\u001b[90m; │││││││││││┌ @ intrin_funcs.jl:255 within `macro expansion'\u001b[39m\n",
      "\t\u001b[96m\u001b[1mvfmadd231pd\u001b[22m\u001b[39m\t\u001b[0m%zmm4\u001b[0m, \u001b[0m%zmm0\u001b[0m, \u001b[0m%zmm4     \u001b[90m# zmm4 = (zmm0 * zmm4) + zmm4\u001b[39m\n",
      "\t\u001b[96m\u001b[1mmovabsq\u001b[22m\u001b[39m\t\u001b[33m$140380235047424\u001b[39m\u001b[0m, \u001b[0m%rcx          \u001b[90m# imm = 0x7FACD20B2200\u001b[39m\n",
      "\u001b[90m; │││││││└└└└└\u001b[39m\n",
      "\u001b[90m; │││││││┌ @ exp.jl:362 within `vexp_avx512'\u001b[39m\n",
      "\u001b[90m; ││││││││┌ @ base_defs.jl:90 within `*'\u001b[39m\n",
      "\u001b[90m; │││││││││┌ @ binary_ops.jl:93 within `vmul'\u001b[39m\n",
      "\u001b[90m; ││││││││││┌ @ binary_ops.jl:93 within `macro expansion'\u001b[39m\n",
      "\t\u001b[96m\u001b[1mvmulpd\u001b[22m\u001b[39m\t\u001b[33m(\u001b[39m\u001b[0m%rcx\u001b[33m)\u001b[39m\u001b[33m{\u001b[39m\u001b[95m1to8\u001b[39m\u001b[33m}\u001b[39m\u001b[0m, \u001b[0m%zmm1\u001b[0m, \u001b[0m%zmm0\n",
      "\u001b[90m; ││││││││└└└\u001b[39m\n",
      "\u001b[90m; ││││││││┌ @ exp.jl:20 within `vscalef' @ exp.jl:25\u001b[39m\n",
      "\u001b[90m; │││││││││┌ @ exp.jl:25 within `macro expansion'\u001b[39m\n",
      "\t\u001b[96m\u001b[1mvscalefpd\u001b[22m\u001b[39m\t\u001b[33m{\u001b[39m\u001b[95mrn-sae\u001b[39m\u001b[33m}\u001b[39m\u001b[0m, \u001b[0m%zmm0\u001b[0m, \u001b[0m%zmm4\u001b[0m, \u001b[0m%zmm0\n",
      "\t\u001b[96m\u001b[1mmovabsq\u001b[22m\u001b[39m\t\u001b[33m$140380235047432\u001b[39m\u001b[0m, \u001b[0m%rcx          \u001b[90m# imm = 0x7FACD20B2208\u001b[39m\n",
      "\u001b[90m; │││││└└└└└\u001b[39m\n",
      "\u001b[90m; │││││┌ @ base_defs.jl:90 within `add_fast'\u001b[39m\n",
      "\u001b[90m; ││││││┌ @ binary_ops.jl:94 within `vadd_fast'\u001b[39m\n",
      "\u001b[90m; │││││││┌ @ binary_ops.jl:94 within `macro expansion'\u001b[39m\n",
      "\t\u001b[96m\u001b[1mvbroadcastsd\u001b[22m\u001b[39m\t\u001b[33m(\u001b[39m\u001b[0m%rcx\u001b[33m)\u001b[39m\u001b[0m, \u001b[0m%zmm1\n",
      "\t\u001b[96m\u001b[1mvaddpd\u001b[22m\u001b[39m\t\u001b[0m%zmm1\u001b[0m, \u001b[0m%zmm0\u001b[0m, \u001b[0m%zmm0\n",
      "\u001b[90m; │││││└└└\u001b[39m\n",
      "\u001b[90m; │││││┌ @ unary_ops.jl:25 within `inv_fast'\u001b[39m\n",
      "\u001b[90m; ││││││┌ @ base_defs.jl:89 within `div_fast'\u001b[39m\n",
      "\u001b[90m; │││││││┌ @ binary_ops.jl:94 within `vfdiv_fast'\u001b[39m\n",
      "\u001b[90m; ││││││││┌ @ binary_ops.jl:94 within `macro expansion'\u001b[39m\n",
      "\t\u001b[96m\u001b[1mvdivpd\u001b[22m\u001b[39m\t\u001b[0m%zmm0\u001b[0m, \u001b[0m%zmm1\u001b[0m, \u001b[0m%zmm0\n",
      "\u001b[90m; │││││└└└└\u001b[39m\n",
      "\u001b[90m; │││││┌ @ stridedpointers.jl:236 within `_vstore!'\u001b[39m\n",
      "\u001b[90m; ││││││┌ @ memory_addr.jl:861 within `__vstore!'\u001b[39m\n",
      "\u001b[90m; │││││││┌ @ memory_addr.jl:861 within `macro expansion'\u001b[39m\n",
      "\t\u001b[96m\u001b[1mvmovupd\u001b[22m\u001b[39m\t\u001b[0m%zmm0\u001b[0m, \u001b[33m(\u001b[39m\u001b[0m%rdx\u001b[0m,\u001b[0m%r10\u001b[0m,\u001b[33m8\u001b[39m\u001b[33m)\u001b[39m \u001b[33m{\u001b[39m\u001b[0m%k1\u001b[33m}\u001b[39m\n",
      "\u001b[90m; │└└└└└└└\u001b[39m\n",
      "\t\u001b[96m\u001b[1mpopq\u001b[22m\u001b[39m\t\u001b[0m%rcx\n",
      "\t\u001b[96m\u001b[1mvzeroupper\u001b[22m\u001b[39m\n",
      "\t\u001b[96m\u001b[1mretq\u001b[22m\u001b[39m\n",
      "\u001b[90m; │┌ @ broadcast.jl:393 within `vmaterialize!'\u001b[39m\n",
      "\u001b[90m; ││┌ @ broadcast.jl:393 within `macro expansion'\u001b[39m\n",
      "\u001b[90m; │││┌ @ reconstruct_loopset.jl:711 within `_turbo_!'\u001b[39m\n",
      "\u001b[90m; ││││┌ @ reconstruct_loopset.jl:711 within `macro expansion'\u001b[39m\n",
      "\u001b[90m; │││││┌ @ memory.jl:420 within `_vload'\u001b[39m\n",
      "\u001b[90m; ││││││┌ @ memory.jl:362 within `_vload_unroll'\u001b[39m\n",
      "\u001b[90m; │││││││┌ @ memory.jl:44 within `macro expansion'\u001b[39m\n",
      "\u001b[90m; ││││││││┌ @ stridedpointers.jl:191 within `_vload'\u001b[39m\n",
      "\u001b[90m; │││││││││┌ @ memory_addr.jl:631 within `__vload'\u001b[39m\n",
      "\u001b[90m; ││││││││││┌ @ memory_addr.jl:631 within `macro expansion'\u001b[39m\n",
      "\u001b[91mL897:\u001b[39m\n",
      "\t\u001b[96m\u001b[1mvmovupd\u001b[22m\u001b[39m\t\u001b[33m(\u001b[39m\u001b[0m%rdi\u001b[0m,\u001b[0m%r10\u001b[0m,\u001b[33m8\u001b[39m\u001b[33m)\u001b[39m\u001b[0m, \u001b[0m%zmm2\n",
      "\u001b[90m; ││││││││└└└\u001b[39m\n",
      "\u001b[90m; ││││││││┌ @ stridedpointers.jl:197 within `_vload'\u001b[39m\n",
      "\u001b[90m; │││││││││┌ @ memory_addr.jl:638 within `__vload'\u001b[39m\n",
      "\u001b[90m; ││││││││││┌ @ memory_addr.jl:638 within `macro expansion'\u001b[39m\n",
      "\t\u001b[96m\u001b[1mkmovd\u001b[22m\u001b[39m\t\u001b[0m%r9d\u001b[0m, \u001b[0m%k1\n",
      "\t\u001b[96m\u001b[1mvmovupd\u001b[22m\u001b[39m\t\u001b[33m64\u001b[39m\u001b[33m(\u001b[39m\u001b[0m%rdi\u001b[0m,\u001b[0m%r10\u001b[0m,\u001b[33m8\u001b[39m\u001b[33m)\u001b[39m\u001b[0m, \u001b[0m%zmm3 \u001b[33m{\u001b[39m\u001b[0m%k1\u001b[33m}\u001b[39m \u001b[33m{\u001b[39m\u001b[95mz\u001b[39m\u001b[33m}\u001b[39m\n",
      "\t\u001b[96m\u001b[1mmovabsq\u001b[22m\u001b[39m\t\u001b[93m$.rodata.cst8\u001b[39m\u001b[0m, \u001b[0m%rcx\n",
      "\u001b[90m; │││││└└└└└└\u001b[39m\n",
      "\u001b[90m; │││││┌ @ exp.jl:379 within `exp'\u001b[39m\n",
      "\u001b[90m; ││││││┌ @ exp.jl:383 within `vexp' @ exp.jl:372\u001b[39m\n",
      "\u001b[90m; │││││││┌ @ exp.jl:355 within `vexp_avx512'\u001b[39m\n",
      "\u001b[90m; ││││││││┌ @ base_defs.jl:93 within `*'\u001b[39m\n",
      "\u001b[90m; │││││││││┌ @ fmap.jl:62 within `vmul'\u001b[39m\n",
      "\u001b[90m; ││││││││││┌ @ fmap.jl:9 within `fmap'\u001b[39m\n",
      "\u001b[90m; │││││││││││┌ @ binary_ops.jl:93 within `vmul'\u001b[39m\n",
      "\u001b[90m; ││││││││││││┌ @ binary_ops.jl:93 within `macro expansion'\u001b[39m\n",
      "\t\u001b[96m\u001b[1mvbroadcastsd\u001b[22m\u001b[39m\t\u001b[33m(\u001b[39m\u001b[0m%rcx\u001b[33m)\u001b[39m\u001b[0m, \u001b[0m%zmm0\n",
      "\t\u001b[96m\u001b[1mvmulpd\u001b[22m\u001b[39m\t\u001b[0m%zmm0\u001b[0m, \u001b[0m%zmm2\u001b[0m, \u001b[0m%zmm1\n",
      "\u001b[90m; ││││││││└└└└└\u001b[39m\n",
      "\u001b[90m; ││││││││┌ @ base_defs.jl:47 within `round'\u001b[39m\n",
      "\u001b[90m; │││││││││┌ @ fmap.jl:54 within `vround'\u001b[39m\n",
      "\u001b[90m; ││││││││││┌ @ fmap.jl:3 within `fmap'\u001b[39m\n",
      "\u001b[90m; │││││││││││┌ @ intrin_funcs.jl:101 within `vround'\u001b[39m\n",
      "\u001b[90m; ││││││││││││┌ @ intrin_funcs.jl:101 within `macro expansion'\u001b[39m\n",
      "\t\u001b[96m\u001b[1mvrndscalepd\u001b[22m\u001b[39m\t\u001b[33m$12\u001b[39m\u001b[0m, \u001b[0m%zmm1\u001b[0m, \u001b[0m%zmm1\n",
      "\u001b[90m; ││││││││└└└└└\u001b[39m\n",
      "\u001b[90m; ││││││││┌ @ base_defs.jl:93 within `*'\u001b[39m\n",
      "\u001b[90m; │││││││││┌ @ fmap.jl:62 within `vmul'\u001b[39m\n",
      "\u001b[90m; ││││││││││┌ @ fmap.jl:9 within `fmap' @ fmap.jl:6\u001b[39m\n",
      "\u001b[90m; │││││││││││┌ @ binary_ops.jl:93 within `vmul'\u001b[39m\n",
      "\u001b[90m; ││││││││││││┌ @ binary_ops.jl:93 within `macro expansion'\u001b[39m\n",
      "\t\u001b[96m\u001b[1mvmulpd\u001b[22m\u001b[39m\t\u001b[0m%zmm0\u001b[0m, \u001b[0m%zmm3\u001b[0m, \u001b[0m%zmm0\n",
      "\u001b[90m; ││││││││└└└└└\u001b[39m\n",
      "\u001b[90m; ││││││││┌ @ base_defs.jl:47 within `round'\u001b[39m\n",
      "\u001b[90m; │││││││││┌ @ fmap.jl:54 within `vround'\u001b[39m\n",
      "\u001b[90m; ││││││││││┌ @ fmap.jl:3 within `fmap' @ fmap.jl:2\u001b[39m\n",
      "\u001b[90m; │││││││││││┌ @ intrin_funcs.jl:101 within `vround'\u001b[39m\n",
      "\u001b[90m; ││││││││││││┌ @ intrin_funcs.jl:101 within `macro expansion'\u001b[39m\n",
      "\t\u001b[96m\u001b[1mvrndscalepd\u001b[22m\u001b[39m\t\u001b[33m$12\u001b[39m\u001b[0m, \u001b[0m%zmm0\u001b[0m, \u001b[0m%zmm0\n",
      "\t\u001b[96m\u001b[1mmovabsq\u001b[22m\u001b[39m\t\u001b[33m$140380235047352\u001b[39m\u001b[0m, \u001b[0m%rcx          \u001b[90m# imm = 0x7FACD20B21B8\u001b[39m\n",
      "\u001b[90m; │││││││└└└└└└\u001b[39m\n",
      "\u001b[90m; │││││││┌ @ exp.jl:356 within `vexp_avx512'\u001b[39m\n",
      "\u001b[90m; ││││││││┌ @ base_defs.jl:208 within `muladd'\u001b[39m\n",
      "\u001b[90m; │││││││││┌ @ fmap.jl:126 within `vmuladd'\u001b[39m\n",
      "\u001b[90m; ││││││││││┌ @ fmap.jl:18 within `fmap'\u001b[39m\n",
      "\u001b[90m; │││││││││││┌ @ fmap.jl:18 within `macro expansion'\u001b[39m\n",
      "\u001b[90m; ││││││││││││┌ @ intrin_funcs.jl:255 within `vmuladd'\u001b[39m\n",
      "\u001b[90m; │││││││││││││┌ @ intrin_funcs.jl:255 within `macro expansion'\u001b[39m\n",
      "\t\u001b[96m\u001b[1mvbroadcastsd\u001b[22m\u001b[39m\t\u001b[33m(\u001b[39m\u001b[0m%rcx\u001b[33m)\u001b[39m\u001b[0m, \u001b[0m%zmm4\n",
      "\t\u001b[96m\u001b[1mvfnmadd231pd\u001b[22m\u001b[39m\t\u001b[0m%zmm4\u001b[0m, \u001b[0m%zmm1\u001b[0m, \u001b[0m%zmm2     \u001b[90m# zmm2 = -(zmm1 * zmm4) + zmm2\u001b[39m\n",
      "\t\u001b[96m\u001b[1mvfnmadd213pd\u001b[22m\u001b[39m\t\u001b[0m%zmm3\u001b[0m, \u001b[0m%zmm0\u001b[0m, \u001b[0m%zmm4     \u001b[90m# zmm4 = -(zmm0 * zmm4) + zmm3\u001b[39m\n",
      "\t\u001b[96m\u001b[1mmovabsq\u001b[22m\u001b[39m\t\u001b[33m$140380235047360\u001b[39m\u001b[0m, \u001b[0m%rcx          \u001b[90m# imm = 0x7FACD20B21C0\u001b[39m\n",
      "\u001b[90m; │││││││└└└└└└└\u001b[39m\n",
      "\u001b[90m; │││││││┌ @ exp.jl:357 within `vexp_avx512'\u001b[39m\n",
      "\u001b[90m; ││││││││┌ @ base_defs.jl:208 within `muladd'\u001b[39m\n",
      "\u001b[90m; │││││││││┌ @ fmap.jl:126 within `vmuladd'\u001b[39m\n",
      "\u001b[90m; ││││││││││┌ @ fmap.jl:18 within `fmap'\u001b[39m\n",
      "\u001b[90m; │││││││││││┌ @ fmap.jl:18 within `macro expansion'\u001b[39m\n",
      "\u001b[90m; ││││││││││││┌ @ intrin_funcs.jl:255 within `vmuladd'\u001b[39m\n",
      "\u001b[90m; │││││││││││││┌ @ intrin_funcs.jl:255 within `macro expansion'\u001b[39m\n",
      "\t\u001b[96m\u001b[1mvbroadcastsd\u001b[22m\u001b[39m\t\u001b[33m(\u001b[39m\u001b[0m%rcx\u001b[33m)\u001b[39m\u001b[0m, \u001b[0m%zmm3\n",
      "\t\u001b[96m\u001b[1mvfmsub231pd\u001b[22m\u001b[39m\t\u001b[0m%zmm3\u001b[0m, \u001b[0m%zmm1\u001b[0m, \u001b[0m%zmm2     \u001b[90m# zmm2 = (zmm1 * zmm3) - zmm2\u001b[39m\n",
      "\t\u001b[96m\u001b[1mvfmsub231pd\u001b[22m\u001b[39m\t\u001b[0m%zmm3\u001b[0m, \u001b[0m%zmm0\u001b[0m, \u001b[0m%zmm4     \u001b[90m# zmm4 = (zmm0 * zmm3) - zmm4\u001b[39m\n",
      "\u001b[90m; │││││││└└└└└└└\u001b[39m\n",
      "\u001b[90m; │││││││┌ @ exp.jl:358 within `vexp_avx512'\u001b[39m\n",
      "\u001b[90m; ││││││││┌ @ base_defs.jl:154 within `trunc'\u001b[39m\n",
      "\u001b[90m; │││││││││┌ @ intrin_funcs.jl:113 within `vtrunc'\u001b[39m\n",
      "\u001b[90m; ││││││││││┌ @ conversion.jl:130 within `vconvert' @ conversion.jl:106\u001b[39m\n",
      "\u001b[90m; │││││││││││┌ @ fmap.jl:11 within `fmap'\u001b[39m\n",
      "\u001b[90m; ││││││││││││┌ @ conversion.jl:63 within `vconvert'\u001b[39m\n",
      "\u001b[90m; │││││││││││││┌ @ conversion.jl:12 within `macro expansion'\u001b[39m\n",
      "\t\u001b[96m\u001b[1mvcvttpd2qq\u001b[22m\u001b[39m\t\u001b[0m%zmm1\u001b[0m, \u001b[0m%zmm3\n",
      "\u001b[90m; ││││││││││││└└\u001b[39m\n",
      "\u001b[90m; ││││││││││││ @ fmap.jl:11 within `fmap' @ fmap.jl:8\u001b[39m\n",
      "\u001b[90m; ││││││││││││┌ @ conversion.jl:63 within `vconvert'\u001b[39m\n",
      "\u001b[90m; │││││││││││││┌ @ conversion.jl:12 within `macro expansion'\u001b[39m\n",
      "\t\u001b[96m\u001b[1mvcvttpd2qq\u001b[22m\u001b[39m\t\u001b[0m%zmm0\u001b[0m, \u001b[0m%zmm5\n",
      "\t\u001b[96m\u001b[1mmovabsq\u001b[22m\u001b[39m\t\u001b[33m$140380235047368\u001b[39m\u001b[0m, \u001b[0m%rcx          \u001b[90m# imm = 0x7FACD20B21C8\u001b[39m\n",
      "\u001b[90m; ││││││││└└└└└└\u001b[39m\n",
      "\u001b[90m; ││││││││┌ @ base_defs.jl:93 within `&'\u001b[39m\n",
      "\u001b[90m; │││││││││┌ @ fmap.jl:62 within `vand'\u001b[39m\n",
      "\u001b[90m; ││││││││││┌ @ fmap.jl:9 within `fmap'\u001b[39m\n",
      "\u001b[90m; │││││││││││┌ @ binary_ops.jl:83 within `vand'\u001b[39m\n",
      "\u001b[90m; ││││││││││││┌ @ binary_ops.jl:83 within `macro expansion'\u001b[39m\n",
      "\t\u001b[96m\u001b[1mvbroadcastsd\u001b[22m\u001b[39m\t\u001b[33m(\u001b[39m\u001b[0m%rcx\u001b[33m)\u001b[39m\u001b[0m, \u001b[0m%zmm6\n",
      "\t\u001b[96m\u001b[1mvandpd\u001b[22m\u001b[39m\t\u001b[0m%zmm6\u001b[0m, \u001b[0m%zmm3\u001b[0m, \u001b[0m%zmm3\n",
      "\u001b[90m; │││││││││││└└\u001b[39m\n",
      "\u001b[90m; │││││││││││ @ fmap.jl:9 within `fmap' @ fmap.jl:6\u001b[39m\n",
      "\u001b[90m; │││││││││││┌ @ binary_ops.jl:83 within `vand'\u001b[39m\n",
      "\u001b[90m; ││││││││││││┌ @ binary_ops.jl:83 within `macro expansion'\u001b[39m\n",
      "\t\u001b[96m\u001b[1mvandpd\u001b[22m\u001b[39m\t\u001b[0m%zmm6\u001b[0m, \u001b[0m%zmm5\u001b[0m, \u001b[0m%zmm5\n",
      "\t\u001b[96m\u001b[1mmovabsq\u001b[22m\u001b[39m\t\u001b[33m$140380235047376\u001b[39m\u001b[0m, \u001b[0m%rcx          \u001b[90m# imm = 0x7FACD20B21D0\u001b[39m\n",
      "\u001b[90m; │││││││└└└└└└\u001b[39m\n",
      "\u001b[90m; │││││││┌ @ exp.jl:359 within `vexp_avx512'\u001b[39m\n",
      "\u001b[90m; ││││││││┌ @ exp.jl:247 within `expm1b_kernel_16'\u001b[39m\n",
      "\u001b[90m; │││││││││┌ @ base_defs.jl:241 within `vmuladd_fast' @ fmap.jl:126\u001b[39m\n",
      "\u001b[90m; ││││││││││┌ @ fmap.jl:18 within `fmap'\u001b[39m\n",
      "\u001b[90m; │││││││││││┌ @ fmap.jl:18 within `macro expansion'\u001b[39m\n",
      "\u001b[90m; ││││││││││││┌ @ intrin_funcs.jl:255 within `vmuladd_fast'\u001b[39m\n",
      "\u001b[90m; │││││││││││││┌ @ intrin_funcs.jl:255 within `macro expansion'\u001b[39m\n",
      "\t\u001b[96m\u001b[1mvbroadcastsd\u001b[22m\u001b[39m\t\u001b[33m(\u001b[39m\u001b[0m%rcx\u001b[33m)\u001b[39m\u001b[0m, \u001b[0m%zmm6\n",
      "\t\u001b[96m\u001b[1mmovabsq\u001b[22m\u001b[39m\t\u001b[33m$140380235047384\u001b[39m\u001b[0m, \u001b[0m%rcx          \u001b[90m# imm = 0x7FACD20B21D8\u001b[39m\n",
      "\t\u001b[96m\u001b[1mvbroadcastsd\u001b[22m\u001b[39m\t\u001b[33m(\u001b[39m\u001b[0m%rcx\u001b[33m)\u001b[39m\u001b[0m, \u001b[0m%zmm7\n",
      "\t\u001b[96m\u001b[1mvmovapd\u001b[22m\u001b[39m\t\u001b[0m%zmm7\u001b[0m, \u001b[0m%zmm8\n",
      "\t\u001b[96m\u001b[1mvfmadd213pd\u001b[22m\u001b[39m\t\u001b[0m%zmm6\u001b[0m, \u001b[0m%zmm2\u001b[0m, \u001b[0m%zmm8     \u001b[90m# zmm8 = (zmm2 * zmm8) + zmm6\u001b[39m\n",
      "\t\u001b[96m\u001b[1mmovabsq\u001b[22m\u001b[39m\t\u001b[33m$140380235047392\u001b[39m\u001b[0m, \u001b[0m%rcx          \u001b[90m# imm = 0x7FACD20B21E0\u001b[39m\n",
      "\t\u001b[96m\u001b[1mvbroadcastsd\u001b[22m\u001b[39m\t\u001b[33m(\u001b[39m\u001b[0m%rcx\u001b[33m)\u001b[39m\u001b[0m, \u001b[0m%zmm9\n",
      "\t\u001b[96m\u001b[1mvfmadd213pd\u001b[22m\u001b[39m\t\u001b[0m%zmm6\u001b[0m, \u001b[0m%zmm4\u001b[0m, \u001b[0m%zmm7     \u001b[90m# zmm7 = (zmm4 * zmm7) + zmm6\u001b[39m\n",
      "\t\u001b[96m\u001b[1mvfmadd213pd\u001b[22m\u001b[39m\t\u001b[0m%zmm9\u001b[0m, \u001b[0m%zmm2\u001b[0m, \u001b[0m%zmm8     \u001b[90m# zmm8 = (zmm2 * zmm8) + zmm9\u001b[39m\n",
      "\t\u001b[96m\u001b[1mvfmadd213pd\u001b[22m\u001b[39m\t\u001b[0m%zmm9\u001b[0m, \u001b[0m%zmm4\u001b[0m, \u001b[0m%zmm7     \u001b[90m# zmm7 = (zmm4 * zmm7) + zmm9\u001b[39m\n",
      "\t\u001b[96m\u001b[1mmovabsq\u001b[22m\u001b[39m\t\u001b[33m$140380235047400\u001b[39m\u001b[0m, \u001b[0m%rcx          \u001b[90m# imm = 0x7FACD20B21E8\u001b[39m\n",
      "\t\u001b[96m\u001b[1mvbroadcastsd\u001b[22m\u001b[39m\t\u001b[33m(\u001b[39m\u001b[0m%rcx\u001b[33m)\u001b[39m\u001b[0m, \u001b[0m%zmm6\n",
      "\t\u001b[96m\u001b[1mvfmadd213pd\u001b[22m\u001b[39m\t\u001b[0m%zmm6\u001b[0m, \u001b[0m%zmm2\u001b[0m, \u001b[0m%zmm8     \u001b[90m# zmm8 = (zmm2 * zmm8) + zmm6\u001b[39m\n",
      "\t\u001b[96m\u001b[1mvfmadd213pd\u001b[22m\u001b[39m\t\u001b[0m%zmm6\u001b[0m, \u001b[0m%zmm4\u001b[0m, \u001b[0m%zmm7     \u001b[90m# zmm7 = (zmm4 * zmm7) + zmm6\u001b[39m\n",
      "\t\u001b[96m\u001b[1mmovabsq\u001b[22m\u001b[39m\t\u001b[33m$140380235047408\u001b[39m\u001b[0m, \u001b[0m%rcx          \u001b[90m# imm = 0x7FACD20B21F0\u001b[39m\n",
      "\t\u001b[96m\u001b[1mvbroadcastsd\u001b[22m\u001b[39m\t\u001b[33m(\u001b[39m\u001b[0m%rcx\u001b[33m)\u001b[39m\u001b[0m, \u001b[0m%zmm6\n",
      "\t\u001b[96m\u001b[1mvfmadd213pd\u001b[22m\u001b[39m\t\u001b[0m%zmm6\u001b[0m, \u001b[0m%zmm2\u001b[0m, \u001b[0m%zmm8     \u001b[90m# zmm8 = (zmm2 * zmm8) + zmm6\u001b[39m\n",
      "\t\u001b[96m\u001b[1mvfmadd213pd\u001b[22m\u001b[39m\t\u001b[0m%zmm6\u001b[0m, \u001b[0m%zmm4\u001b[0m, \u001b[0m%zmm7     \u001b[90m# zmm7 = (zmm4 * zmm7) + zmm6\u001b[39m\n",
      "\t\u001b[96m\u001b[1mmovabsq\u001b[22m\u001b[39m\t\u001b[33m$140380235047416\u001b[39m\u001b[0m, \u001b[0m%rcx          \u001b[90m# imm = 0x7FACD20B21F8\u001b[39m\n",
      "\t\u001b[96m\u001b[1mvbroadcastsd\u001b[22m\u001b[39m\t\u001b[33m(\u001b[39m\u001b[0m%rcx\u001b[33m)\u001b[39m\u001b[0m, \u001b[0m%zmm6\n",
      "\t\u001b[96m\u001b[1mvfmadd213pd\u001b[22m\u001b[39m\t\u001b[0m%zmm6\u001b[0m, \u001b[0m%zmm2\u001b[0m, \u001b[0m%zmm8     \u001b[90m# zmm8 = (zmm2 * zmm8) + zmm6\u001b[39m\n",
      "\t\u001b[96m\u001b[1mvfmadd213pd\u001b[22m\u001b[39m\t\u001b[0m%zmm6\u001b[0m, \u001b[0m%zmm4\u001b[0m, \u001b[0m%zmm7     \u001b[90m# zmm7 = (zmm4 * zmm7) + zmm6\u001b[39m\n",
      "\u001b[90m; │││││││││└└└└└\u001b[39m\n",
      "\u001b[90m; │││││││││┌ @ base_defs.jl:89 within `*'\u001b[39m\n",
      "\u001b[90m; ││││││││││┌ @ fmap.jl:62 within `vmul'\u001b[39m\n",
      "\u001b[90m; │││││││││││┌ @ fmap.jl:9 within `fmap'\u001b[39m\n",
      "\u001b[90m; ││││││││││││┌ @ binary_ops.jl:93 within `vmul'\u001b[39m\n",
      "\u001b[90m; │││││││││││││┌ @ binary_ops.jl:93 within `macro expansion'\u001b[39m\n",
      "\t\u001b[96m\u001b[1mvmulpd\u001b[22m\u001b[39m\t\u001b[0m%zmm8\u001b[0m, \u001b[0m%zmm2\u001b[0m, \u001b[0m%zmm2\n",
      "\u001b[90m; ││││││││││││└└\u001b[39m\n",
      "\u001b[90m; ││││││││││││ @ fmap.jl:9 within `fmap' @ fmap.jl:6\u001b[39m\n",
      "\u001b[90m; ││││││││││││┌ @ binary_ops.jl:93 within `vmul'\u001b[39m\n",
      "\u001b[90m; │││││││││││││┌ @ binary_ops.jl:93 within `macro expansion'\u001b[39m\n",
      "\t\u001b[96m\u001b[1mvmulpd\u001b[22m\u001b[39m\t\u001b[0m%zmm7\u001b[0m, \u001b[0m%zmm4\u001b[0m, \u001b[0m%zmm4\n",
      "\t\u001b[96m\u001b[1mmovabsq\u001b[22m\u001b[39m\t\u001b[93m$.rodata\u001b[39m\u001b[0m, \u001b[0m%rcx\n",
      "\u001b[90m; │││││││└└└└└└└\u001b[39m\n",
      "\u001b[90m; │││││││┌ @ exp.jl:360 within `vexp_avx512'\u001b[39m\n",
      "\u001b[90m; ││││││││┌ @ exp.jl:105 within `vpermi2pd'\u001b[39m\n",
      "\u001b[90m; │││││││││┌ @ fmap.jl:18 within `fmap'\u001b[39m\n",
      "\u001b[90m; ││││││││││┌ @ fmap.jl:18 within `macro expansion'\u001b[39m\n",
      "\u001b[90m; │││││││││││┌ @ exp.jl:84 within `vpermi2pd'\u001b[39m\n",
      "\u001b[90m; ││││││││││││┌ @ exp.jl:84 within `macro expansion'\u001b[39m\n",
      "\t\u001b[96m\u001b[1mvmovapd\u001b[22m\u001b[39m\t\u001b[33m(\u001b[39m\u001b[0m%rcx\u001b[33m)\u001b[39m\u001b[0m, \u001b[0m%zmm6\n",
      "\t\u001b[96m\u001b[1mmovabsq\u001b[22m\u001b[39m\t\u001b[33m$140380235047552\u001b[39m\u001b[0m, \u001b[0m%rcx          \u001b[90m# imm = 0x7FACD20B2280\u001b[39m\n",
      "\t\u001b[96m\u001b[1mvmovapd\u001b[22m\u001b[39m\t\u001b[33m(\u001b[39m\u001b[0m%rcx\u001b[33m)\u001b[39m\u001b[0m, \u001b[0m%zmm7\n",
      "\t\u001b[96m\u001b[1mvpermi2pd\u001b[22m\u001b[39m\t\u001b[0m%zmm6\u001b[0m, \u001b[0m%zmm7\u001b[0m, \u001b[0m%zmm3\n",
      "\t\u001b[96m\u001b[1mvpermi2pd\u001b[22m\u001b[39m\t\u001b[0m%zmm6\u001b[0m, \u001b[0m%zmm7\u001b[0m, \u001b[0m%zmm5\n",
      "\u001b[90m; │││││││└└└└└└\u001b[39m\n",
      "\u001b[90m; │││││││┌ @ exp.jl:361 within `vexp_avx512'\u001b[39m\n",
      "\u001b[90m; ││││││││┌ @ intrin_funcs.jl:283 within `vfmadd'\u001b[39m\n",
      "\u001b[90m; │││││││││┌ @ intrin_funcs.jl:281 within `_vfmadd'\u001b[39m\n",
      "\u001b[90m; ││││││││││┌ @ fmap.jl:126 within `vfma'\u001b[39m\n",
      "\u001b[90m; │││││││││││┌ @ fmap.jl:18 within `fmap'\u001b[39m\n",
      "\u001b[90m; ││││││││││││┌ @ fmap.jl:18 within `macro expansion'\u001b[39m\n",
      "\u001b[90m; │││││││││││││┌ @ intrin_funcs.jl:255 within `vfma'\u001b[39m\n",
      "\u001b[90m; ││││││││││││││┌ @ intrin_funcs.jl:255 within `macro expansion'\u001b[39m\n",
      "\t\u001b[96m\u001b[1mvfmadd231pd\u001b[22m\u001b[39m\t\u001b[0m%zmm3\u001b[0m, \u001b[0m%zmm2\u001b[0m, \u001b[0m%zmm3     \u001b[90m# zmm3 = (zmm2 * zmm3) + zmm3\u001b[39m\n",
      "\t\u001b[96m\u001b[1mvfmadd231pd\u001b[22m\u001b[39m\t\u001b[0m%zmm5\u001b[0m, \u001b[0m%zmm4\u001b[0m, \u001b[0m%zmm5     \u001b[90m# zmm5 = (zmm4 * zmm5) + zmm5\u001b[39m\n",
      "\t\u001b[96m\u001b[1mmovabsq\u001b[22m\u001b[39m\t\u001b[33m$140380235047424\u001b[39m\u001b[0m, \u001b[0m%rcx          \u001b[90m# imm = 0x7FACD20B2200\u001b[39m\n",
      "\u001b[90m; │││││││└└└└└└└└\u001b[39m\n",
      "\u001b[90m; │││││││┌ @ exp.jl:362 within `vexp_avx512'\u001b[39m\n",
      "\u001b[90m; ││││││││┌ @ base_defs.jl:92 within `*'\u001b[39m\n",
      "\u001b[90m; │││││││││┌ @ fmap.jl:62 within `vmul'\u001b[39m\n",
      "\u001b[90m; ││││││││││┌ @ fmap.jl:9 within `fmap'\u001b[39m\n",
      "\u001b[90m; │││││││││││┌ @ binary_ops.jl:93 within `vmul'\u001b[39m\n",
      "\u001b[90m; ││││││││││││┌ @ binary_ops.jl:93 within `macro expansion'\u001b[39m\n",
      "\t\u001b[96m\u001b[1mvbroadcastsd\u001b[22m\u001b[39m\t\u001b[33m(\u001b[39m\u001b[0m%rcx\u001b[33m)\u001b[39m\u001b[0m, \u001b[0m%zmm2\n",
      "\t\u001b[96m\u001b[1mvmulpd\u001b[22m\u001b[39m\t\u001b[0m%zmm2\u001b[0m, \u001b[0m%zmm1\u001b[0m, \u001b[0m%zmm1\n",
      "\u001b[90m; ││││││││└└└└└\u001b[39m\n",
      "\u001b[90m; ││││││││┌ @ exp.jl:101 within `vscalef'\u001b[39m\n",
      "\u001b[90m; │││││││││┌ @ fmap.jl:9 within `fmap'\u001b[39m\n",
      "\u001b[90m; ││││││││││┌ @ exp.jl:20 within `vscalef' @ exp.jl:25\u001b[39m\n",
      "\u001b[90m; │││││││││││┌ @ exp.jl:25 within `macro expansion'\u001b[39m\n",
      "\t\u001b[96m\u001b[1mvscalefpd\u001b[22m\u001b[39m\t\u001b[33m{\u001b[39m\u001b[95mrn-sae\u001b[39m\u001b[33m}\u001b[39m\u001b[0m, \u001b[0m%zmm1\u001b[0m, \u001b[0m%zmm3\u001b[0m, \u001b[0m%zmm1\n",
      "\u001b[90m; ││││││││└└└└\u001b[39m\n",
      "\u001b[90m; ││││││││┌ @ base_defs.jl:92 within `*'\u001b[39m\n",
      "\u001b[90m; │││││││││┌ @ fmap.jl:62 within `vmul'\u001b[39m\n",
      "\u001b[90m; ││││││││││┌ @ fmap.jl:9 within `fmap' @ fmap.jl:6\u001b[39m\n",
      "\u001b[90m; │││││││││││┌ @ binary_ops.jl:93 within `vmul'\u001b[39m\n",
      "\u001b[90m; ││││││││││││┌ @ binary_ops.jl:93 within `macro expansion'\u001b[39m\n",
      "\t\u001b[96m\u001b[1mvmulpd\u001b[22m\u001b[39m\t\u001b[0m%zmm2\u001b[0m, \u001b[0m%zmm0\u001b[0m, \u001b[0m%zmm0\n",
      "\u001b[90m; ││││││││└└└└└\u001b[39m\n",
      "\u001b[90m; ││││││││┌ @ exp.jl:101 within `vscalef'\u001b[39m\n",
      "\u001b[90m; │││││││││┌ @ fmap.jl:9 within `fmap' @ fmap.jl:6\u001b[39m\n",
      "\u001b[90m; ││││││││││┌ @ exp.jl:20 within `vscalef' @ exp.jl:25\u001b[39m\n",
      "\u001b[90m; │││││││││││┌ @ exp.jl:25 within `macro expansion'\u001b[39m\n",
      "\t\u001b[96m\u001b[1mvscalefpd\u001b[22m\u001b[39m\t\u001b[33m{\u001b[39m\u001b[95mrn-sae\u001b[39m\u001b[33m}\u001b[39m\u001b[0m, \u001b[0m%zmm0\u001b[0m, \u001b[0m%zmm5\u001b[0m, \u001b[0m%zmm0\n",
      "\t\u001b[96m\u001b[1mmovabsq\u001b[22m\u001b[39m\t\u001b[33m$140380235047432\u001b[39m\u001b[0m, \u001b[0m%rcx          \u001b[90m# imm = 0x7FACD20B2208\u001b[39m\n",
      "\u001b[90m; │││││└└└└└└└\u001b[39m\n",
      "\u001b[90m; │││││┌ @ base_defs.jl:92 within `add_fast'\u001b[39m\n",
      "\u001b[90m; ││││││┌ @ fmap.jl:62 within `vadd_fast'\u001b[39m\n",
      "\u001b[90m; │││││││┌ @ fmap.jl:9 within `fmap'\u001b[39m\n",
      "\u001b[90m; ││││││││┌ @ binary_ops.jl:94 within `vadd_fast'\u001b[39m\n",
      "\u001b[90m; │││││││││┌ @ binary_ops.jl:94 within `macro expansion'\u001b[39m\n",
      "\t\u001b[96m\u001b[1mvbroadcastsd\u001b[22m\u001b[39m\t\u001b[33m(\u001b[39m\u001b[0m%rcx\u001b[33m)\u001b[39m\u001b[0m, \u001b[0m%zmm2\n",
      "\t\u001b[96m\u001b[1mvaddpd\u001b[22m\u001b[39m\t\u001b[0m%zmm2\u001b[0m, \u001b[0m%zmm1\u001b[0m, \u001b[0m%zmm1\n",
      "\u001b[90m; ││││││││└└\u001b[39m\n",
      "\u001b[90m; ││││││││ @ fmap.jl:9 within `fmap' @ fmap.jl:6\u001b[39m\n",
      "\u001b[90m; ││││││││┌ @ binary_ops.jl:94 within `vadd_fast'\u001b[39m\n",
      "\u001b[90m; │││││││││┌ @ binary_ops.jl:94 within `macro expansion'\u001b[39m\n",
      "\t\u001b[96m\u001b[1mvaddpd\u001b[22m\u001b[39m\t\u001b[0m%zmm2\u001b[0m, \u001b[0m%zmm0\u001b[0m, \u001b[0m%zmm0\n",
      "\u001b[90m; │││││└└└└└\u001b[39m\n",
      "\u001b[90m; │││││┌ @ unary_ops.jl:25 within `inv_fast'\u001b[39m\n",
      "\u001b[90m; ││││││┌ @ base_defs.jl:89 within `div_fast'\u001b[39m\n",
      "\u001b[90m; │││││││┌ @ intrin_funcs.jl:722 within `vfdiv_fast'\u001b[39m\n",
      "\u001b[90m; ││││││││┌ @ intrin_funcs.jl:691 within `vfdiv_afast'\u001b[39m\n",
      "\u001b[90m; │││││││││┌ @ fmap.jl:9 within `fmap'\u001b[39m\n",
      "\u001b[90m; ││││││││││┌ @ binary_ops.jl:94 within `vfdiv_fast'\u001b[39m\n",
      "\u001b[90m; │││││││││││┌ @ binary_ops.jl:94 within `macro expansion'\u001b[39m\n",
      "\t\u001b[96m\u001b[1mvdivpd\u001b[22m\u001b[39m\t\u001b[0m%zmm1\u001b[0m, \u001b[0m%zmm2\u001b[0m, \u001b[0m%zmm1\n",
      "\u001b[90m; ││││││││││└└\u001b[39m\n",
      "\u001b[90m; ││││││││││ @ fmap.jl:9 within `fmap' @ fmap.jl:6\u001b[39m\n",
      "\u001b[90m; ││││││││││┌ @ binary_ops.jl:94 within `vfdiv_fast'\u001b[39m\n",
      "\u001b[90m; │││││││││││┌ @ binary_ops.jl:94 within `macro expansion'\u001b[39m\n",
      "\t\u001b[96m\u001b[1mvdivpd\u001b[22m\u001b[39m\t\u001b[0m%zmm0\u001b[0m, \u001b[0m%zmm2\u001b[0m, \u001b[0m%zmm0\n",
      "\u001b[90m; │││││└└└└└└└\u001b[39m\n",
      "\u001b[90m; │││││┌ @ memory.jl:839 within `_vstore!'\u001b[39m\n",
      "\u001b[90m; ││││││┌ @ memory.jl:761 within `_vstore_unroll!'\u001b[39m\n",
      "\u001b[90m; │││││││┌ @ memory.jl:457 within `macro expansion'\u001b[39m\n",
      "\u001b[90m; ││││││││┌ @ stridedpointers.jl:230 within `_vstore!'\u001b[39m\n",
      "\u001b[90m; │││││││││┌ @ memory_addr.jl:822 within `__vstore!'\u001b[39m\n",
      "\u001b[90m; ││││││││││┌ @ memory_addr.jl:822 within `macro expansion'\u001b[39m\n",
      "\t\u001b[96m\u001b[1mvmovupd\u001b[22m\u001b[39m\t\u001b[0m%zmm1\u001b[0m, \u001b[33m(\u001b[39m\u001b[0m%rdx\u001b[0m,\u001b[0m%r10\u001b[0m,\u001b[33m8\u001b[39m\u001b[33m)\u001b[39m\n",
      "\u001b[90m; ││││││││└└└\u001b[39m\n",
      "\u001b[90m; ││││││││┌ @ stridedpointers.jl:236 within `_vstore!'\u001b[39m\n",
      "\u001b[90m; │││││││││┌ @ memory_addr.jl:861 within `__vstore!'\u001b[39m\n",
      "\u001b[90m; ││││││││││┌ @ memory_addr.jl:861 within `macro expansion'\u001b[39m\n",
      "\t\u001b[96m\u001b[1mvmovupd\u001b[22m\u001b[39m\t\u001b[0m%zmm0\u001b[0m, \u001b[33m64\u001b[39m\u001b[33m(\u001b[39m\u001b[0m%rdx\u001b[0m,\u001b[0m%r10\u001b[0m,\u001b[33m8\u001b[39m\u001b[33m)\u001b[39m \u001b[33m{\u001b[39m\u001b[0m%k1\u001b[33m}\u001b[39m\n",
      "\u001b[90m; │└└└└└└└└└└\u001b[39m\n",
      "\t\u001b[96m\u001b[1mpopq\u001b[22m\u001b[39m\t\u001b[0m%rcx\n",
      "\t\u001b[96m\u001b[1mvzeroupper\u001b[22m\u001b[39m\n",
      "\t\u001b[96m\u001b[1mretq\u001b[22m\u001b[39m\n",
      "\u001b[90m; │┌ @ broadcast.jl:393 within `vmaterialize!'\u001b[39m\n",
      "\u001b[90m; ││┌ @ broadcast.jl:393 within `macro expansion'\u001b[39m\n",
      "\u001b[90m; │││┌ @ refvalue.jl:56 within `getindex'\u001b[39m\n",
      "\u001b[90m; ││││┌ @ Base.jl:33 within `getproperty'\u001b[39m\n",
      "\u001b[91mL1385:\u001b[39m\n",
      "\t\u001b[96m\u001b[1mmovabsq\u001b[22m\u001b[39m\t\u001b[93m$jl_throw\u001b[39m\u001b[0m, \u001b[0m%rax\n",
      "\t\u001b[96m\u001b[1mmovabsq\u001b[22m\u001b[39m\t\u001b[93m$jl_system_image_data\u001b[39m\u001b[0m, \u001b[0m%rdi\n",
      "\t\u001b[96m\u001b[1mcallq\u001b[22m\u001b[39m\t\u001b[0m*\u001b[0m%rax\n",
      "\u001b[90m; └└└└└\u001b[39m\n"
     ]
    }
   ],
   "source": [
    "@code_native logistic!(yvals, xvals)"
   ]
  },
  {
   "cell_type": "markdown",
   "id": "f25872a2",
   "metadata": {
    "slideshow": {
     "slide_type": "slide"
    }
   },
   "source": [
    "# Summary\n",
    "- All functions in Julia are *generic* and use *multiple dispatch*\n",
    "- A generic has one or more implementation methods, as returned by `methods()`.\n",
    "- Just-In-Time (JIT) compilation is performed on *method instances*, which are specific to the argument *signature* as concrete types\n",
    "- There are many steps from a method implementation to a compiled method instance.  Many of these steps are in Julia code, not llvm.\n",
    "- Some incredible tools for enhancing Julia code are being written in Julia."
   ]
  },
  {
   "cell_type": "markdown",
   "id": "2ccbe745",
   "metadata": {
    "slideshow": {
     "slide_type": "slide"
    }
   },
   "source": [
    "![One does not](assets/5hs27j.jpg)"
   ]
  }
 ],
 "metadata": {
  "celltoolbar": "Slideshow",
  "kernelspec": {
   "display_name": "Julia 1.6.2",
   "language": "julia",
   "name": "julia-1.6"
  },
  "language_info": {
   "file_extension": ".jl",
   "mimetype": "application/julia",
   "name": "julia",
   "version": "1.6.2"
  }
 },
 "nbformat": 4,
 "nbformat_minor": 5
}
