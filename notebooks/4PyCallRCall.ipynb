{
 "cells": [
  {
   "cell_type": "code",
   "execution_count": 1,
   "id": "4f79d6e4-5036-4557-9d52-0093b20b8116",
   "metadata": {},
   "outputs": [
    {
     "name": "stderr",
     "output_type": "stream",
     "text": [
      "\u001b[32m\u001b[1m  Activating\u001b[22m\u001b[39m environment at `~/git/JSM2021/Project.toml`\n"
     ]
    }
   ],
   "source": [
    "using Pkg; Pkg.activate(\"..\")"
   ]
  },
  {
   "cell_type": "markdown",
   "id": "2c1d3d1a-b7ec-4ee5-9684-d60bbde0acb0",
   "metadata": {
    "slideshow": {
     "slide_type": "slide"
    }
   },
   "source": [
    "# Using the RCall and PyCall packages\n",
    "\n",
    "## PyCall\n",
    "- Early in the development of Julia, Steven Johnson started the [PyCall package](https://github.com/JuliaPy/PyCall.jl) to interact with Python - in part to allow use of what were called *IPython notebooks* (now called *Jupyter notebooks*)\n",
    "- The [IJulia package](https://github.com/JuliaLang/IJulia.jl) now provides the Julia kernel(s) for Jupyter.\n",
    "- The `JuliaPy` github group also provides the [Conda.jl](https://github.com/JuliaPy/Conda.jl) package to access the Conda package manager from within Julia\n",
    "- I don't have a lot of experience with Python data science tools and will show only the rudiments."
   ]
  },
  {
   "cell_type": "markdown",
   "id": "6c39aad6",
   "metadata": {
    "slideshow": {
     "slide_type": "slide"
    }
   },
   "source": [
    "## Attach the Julia packages to be used"
   ]
  },
  {
   "cell_type": "code",
   "execution_count": 2,
   "id": "aa6de0bd-bab2-4bcd-8766-c1d999046499",
   "metadata": {
    "slideshow": {
     "slide_type": "-"
    }
   },
   "outputs": [],
   "source": [
    "using DataFrames, PyCall, Random, RCall"
   ]
  },
  {
   "cell_type": "markdown",
   "id": "e193b948",
   "metadata": {},
   "source": [
    "The `RCall` package has a special mechanism to display R plots in a Jupyter notebook"
   ]
  },
  {
   "cell_type": "code",
   "execution_count": 3,
   "id": "1d9a5f0b",
   "metadata": {},
   "outputs": [],
   "source": [
    "RCall.ijulia_setdevice(MIME(\"image/svg+xml\"))"
   ]
  },
  {
   "cell_type": "markdown",
   "id": "bd997164",
   "metadata": {
    "slideshow": {
     "slide_type": "slide"
    }
   },
   "source": [
    "## Accessing an Arrow file in Python"
   ]
  },
  {
   "cell_type": "code",
   "execution_count": 4,
   "id": "f5601b1e",
   "metadata": {},
   "outputs": [
    {
     "data": {
      "text/plain": [
       "PyObject <module 'pyarrow.feather' from '/home/bates/.julia/conda/3/lib/python3.9/site-packages/pyarrow/feather.py'>"
      ]
     },
     "execution_count": 4,
     "metadata": {},
     "output_type": "execute_result"
    }
   ],
   "source": [
    "feather = pyimport(\"pyarrow.feather\")"
   ]
  },
  {
   "cell_type": "code",
   "execution_count": 5,
   "id": "56d5b251",
   "metadata": {},
   "outputs": [],
   "source": [
    "MMdatadir = expanduser(\n",
    "    joinpath(\n",
    "        \"~\",\n",
    "        \".julia\",\n",
    "        \"artifacts\",\n",
    "        \"6d31be16850ffb7b5c0b80cb25f85b5c10df6546\",\n",
    "        ),\n",
    "    );"
   ]
  },
  {
   "cell_type": "code",
   "execution_count": 6,
   "id": "062f73db",
   "metadata": {
    "slideshow": {
     "slide_type": "slide"
    }
   },
   "outputs": [
    {
     "data": {
      "text/plain": [
       "PyObject pyarrow.Table\n",
       "subj: dictionary<values=string, indices=int8, ordered=0> not null\n",
       "item: dictionary<values=string, indices=int16, ordered=0> not null\n",
       "trial: int16 not null\n",
       "F: dictionary<values=string, indices=int8, ordered=0> not null\n",
       "P: dictionary<values=string, indices=int8, ordered=0> not null\n",
       "Q: dictionary<values=string, indices=int8, ordered=0> not null\n",
       "lQ: dictionary<values=string, indices=int8, ordered=0> not null\n",
       "lT: dictionary<values=string, indices=int8, ordered=0> not null\n",
       "rt: int16 not null"
      ]
     },
     "execution_count": 6,
     "metadata": {},
     "output_type": "execute_result"
    }
   ],
   "source": [
    "feather.read_table(joinpath(MMdatadir, \"mrk17_exp1.arrow\")) # schema"
   ]
  },
  {
   "cell_type": "markdown",
   "id": "8da95052",
   "metadata": {
    "slideshow": {
     "slide_type": "slide"
    }
   },
   "source": [
    "### As a Pandas data frame"
   ]
  },
  {
   "cell_type": "code",
   "execution_count": 7,
   "id": "0775dbc1",
   "metadata": {
    "slideshow": {
     "slide_type": "-"
    }
   },
   "outputs": [
    {
     "data": {
      "text/html": [
       "<div>\n",
       "<style scoped>\n",
       "    .dataframe tbody tr th:only-of-type {\n",
       "        vertical-align: middle;\n",
       "    }\n",
       "\n",
       "    .dataframe tbody tr th {\n",
       "        vertical-align: top;\n",
       "    }\n",
       "\n",
       "    .dataframe thead th {\n",
       "        text-align: right;\n",
       "    }\n",
       "</style>\n",
       "<table border=\"1\" class=\"dataframe\">\n",
       "  <thead>\n",
       "    <tr style=\"text-align: right;\">\n",
       "      <th></th>\n",
       "      <th>subj</th>\n",
       "      <th>item</th>\n",
       "      <th>trial</th>\n",
       "      <th>F</th>\n",
       "      <th>P</th>\n",
       "      <th>Q</th>\n",
       "      <th>lQ</th>\n",
       "      <th>lT</th>\n",
       "      <th>rt</th>\n",
       "    </tr>\n",
       "  </thead>\n",
       "  <tbody>\n",
       "    <tr>\n",
       "      <th>0</th>\n",
       "      <td>S01</td>\n",
       "      <td>CAKE</td>\n",
       "      <td>2</td>\n",
       "      <td>LF</td>\n",
       "      <td>unr</td>\n",
       "      <td>deg</td>\n",
       "      <td>deg</td>\n",
       "      <td>NW</td>\n",
       "      <td>794</td>\n",
       "    </tr>\n",
       "    <tr>\n",
       "      <th>1</th>\n",
       "      <td>S01</td>\n",
       "      <td>PARTY</td>\n",
       "      <td>3</td>\n",
       "      <td>HF</td>\n",
       "      <td>unr</td>\n",
       "      <td>clr</td>\n",
       "      <td>deg</td>\n",
       "      <td>WD</td>\n",
       "      <td>506</td>\n",
       "    </tr>\n",
       "    <tr>\n",
       "      <th>2</th>\n",
       "      <td>S01</td>\n",
       "      <td>SPOT</td>\n",
       "      <td>5</td>\n",
       "      <td>HF</td>\n",
       "      <td>rel</td>\n",
       "      <td>clr</td>\n",
       "      <td>deg</td>\n",
       "      <td>NW</td>\n",
       "      <td>491</td>\n",
       "    </tr>\n",
       "    <tr>\n",
       "      <th>3</th>\n",
       "      <td>S01</td>\n",
       "      <td>LONG</td>\n",
       "      <td>9</td>\n",
       "      <td>HF</td>\n",
       "      <td>rel</td>\n",
       "      <td>deg</td>\n",
       "      <td>deg</td>\n",
       "      <td>NW</td>\n",
       "      <td>486</td>\n",
       "    </tr>\n",
       "    <tr>\n",
       "      <th>4</th>\n",
       "      <td>S01</td>\n",
       "      <td>YEAR</td>\n",
       "      <td>10</td>\n",
       "      <td>HF</td>\n",
       "      <td>unr</td>\n",
       "      <td>deg</td>\n",
       "      <td>deg</td>\n",
       "      <td>WD</td>\n",
       "      <td>482</td>\n",
       "    </tr>\n",
       "    <tr>\n",
       "      <th>...</th>\n",
       "      <td>...</td>\n",
       "      <td>...</td>\n",
       "      <td>...</td>\n",
       "      <td>...</td>\n",
       "      <td>...</td>\n",
       "      <td>...</td>\n",
       "      <td>...</td>\n",
       "      <td>...</td>\n",
       "      <td>...</td>\n",
       "    </tr>\n",
       "    <tr>\n",
       "      <th>16404</th>\n",
       "      <td>S73</td>\n",
       "      <td>CORN</td>\n",
       "      <td>473</td>\n",
       "      <td>LF</td>\n",
       "      <td>rel</td>\n",
       "      <td>deg</td>\n",
       "      <td>clr</td>\n",
       "      <td>WD</td>\n",
       "      <td>694</td>\n",
       "    </tr>\n",
       "    <tr>\n",
       "      <th>16405</th>\n",
       "      <td>S73</td>\n",
       "      <td>READ</td>\n",
       "      <td>474</td>\n",
       "      <td>HF</td>\n",
       "      <td>unr</td>\n",
       "      <td>deg</td>\n",
       "      <td>deg</td>\n",
       "      <td>WD</td>\n",
       "      <td>491</td>\n",
       "    </tr>\n",
       "    <tr>\n",
       "      <th>16406</th>\n",
       "      <td>S73</td>\n",
       "      <td>MOUTH</td>\n",
       "      <td>475</td>\n",
       "      <td>HF</td>\n",
       "      <td>unr</td>\n",
       "      <td>deg</td>\n",
       "      <td>deg</td>\n",
       "      <td>WD</td>\n",
       "      <td>810</td>\n",
       "    </tr>\n",
       "    <tr>\n",
       "      <th>16407</th>\n",
       "      <td>S73</td>\n",
       "      <td>HOTEL</td>\n",
       "      <td>477</td>\n",
       "      <td>HF</td>\n",
       "      <td>rel</td>\n",
       "      <td>deg</td>\n",
       "      <td>clr</td>\n",
       "      <td>NW</td>\n",
       "      <td>544</td>\n",
       "    </tr>\n",
       "    <tr>\n",
       "      <th>16408</th>\n",
       "      <td>S73</td>\n",
       "      <td>SPACE</td>\n",
       "      <td>480</td>\n",
       "      <td>HF</td>\n",
       "      <td>rel</td>\n",
       "      <td>deg</td>\n",
       "      <td>deg</td>\n",
       "      <td>NW</td>\n",
       "      <td>520</td>\n",
       "    </tr>\n",
       "  </tbody>\n",
       "</table>\n",
       "<p>16409 rows × 9 columns</p>\n",
       "</div>"
      ],
      "text/plain": [
       "PyObject       subj   item  trial   F    P    Q   lQ  lT   rt\n",
       "0      S01   CAKE      2  LF  unr  deg  deg  NW  794\n",
       "1      S01  PARTY      3  HF  unr  clr  deg  WD  506\n",
       "2      S01   SPOT      5  HF  rel  clr  deg  NW  491\n",
       "3      S01   LONG      9  HF  rel  deg  deg  NW  486\n",
       "4      S01   YEAR     10  HF  unr  deg  deg  WD  482\n",
       "...    ...    ...    ...  ..  ...  ...  ...  ..  ...\n",
       "16404  S73   CORN    473  LF  rel  deg  clr  WD  694\n",
       "16405  S73   READ    474  HF  unr  deg  deg  WD  491\n",
       "16406  S73  MOUTH    475  HF  unr  deg  deg  WD  810\n",
       "16407  S73  HOTEL    477  HF  rel  deg  clr  NW  544\n",
       "16408  S73  SPACE    480  HF  rel  deg  deg  NW  520\n",
       "\n",
       "[16409 rows x 9 columns]"
      ]
     },
     "execution_count": 7,
     "metadata": {},
     "output_type": "execute_result"
    }
   ],
   "source": [
    "pdfrm = feather.read_feather(joinpath(MMdatadir, \"mrk17_exp1.arrow\"))"
   ]
  },
  {
   "cell_type": "markdown",
   "id": "2a01d8ba",
   "metadata": {},
   "source": [
    "- and the 16409 rows are numbered 0 to 16408!"
   ]
  },
  {
   "cell_type": "markdown",
   "id": "65ca8610",
   "metadata": {
    "slideshow": {
     "slide_type": "slide"
    }
   },
   "source": [
    "## RCall\n",
    "- in the REPL the user can switch to a native R mode (`$` as first character in the line)\n",
    "- otherwise use strings of the form `R\"x <- rnorm(5)\"` or with triple double quotes for multiple statements\n",
    "- can copy objects from Julia to R using the same name with the `@rput` macro, opposite direction with `@rget`\n",
    "- in general, the `rcopy` function in Julia creates a Julia copy of any R object that RCall \"knows\" about"
   ]
  },
  {
   "cell_type": "code",
   "execution_count": 8,
   "id": "217b2626",
   "metadata": {
    "slideshow": {
     "slide_type": "-"
    }
   },
   "outputs": [],
   "source": [
    "df = DataFrame(x = 1:40, y = cumsum(randn(MersenneTwister(12321), 40))); # a DataFrame in Julia"
   ]
  },
  {
   "cell_type": "code",
   "execution_count": 9,
   "id": "ac8bbc5e",
   "metadata": {
    "slideshow": {
     "slide_type": "slide"
    }
   },
   "outputs": [
    {
     "data": {
      "image/svg+xml": [
       "<?xml version=\"1.0\" encoding=\"UTF-8\"?>\n",
       "<svg xmlns=\"http://www.w3.org/2000/svg\" xmlns:xlink=\"http://www.w3.org/1999/xlink\" width=\"432pt\" height=\"360pt\" viewBox=\"0 0 432 360\" version=\"1.1\">\n",
       "<defs>\n",
       "<g>\n",
       "<symbol overflow=\"visible\" id=\"glyphNQPpL1qS0-0\">\n",
       "<path style=\"stroke:none;\" d=\"\"/>\n",
       "</symbol>\n",
       "<symbol overflow=\"visible\" id=\"glyphNQPpL1qS0-1\">\n",
       "<path style=\"stroke:none;\" d=\"M 2.5 -2.75 L 0.40625 -2.75 L 0.40625 -2.109375 L 2.5 -2.109375 Z M 2.5 -2.75 \"/>\n",
       "</symbol>\n",
       "<symbol overflow=\"visible\" id=\"glyphNQPpL1qS0-2\">\n",
       "<path style=\"stroke:none;\" d=\"M 2.875 -1.546875 L 2.875 0 L 3.65625 0 L 3.65625 -1.546875 L 4.578125 -1.546875 L 4.578125 -2.234375 L 3.65625 -2.234375 L 3.65625 -6.359375 L 3.078125 -6.359375 L 0.25 -2.359375 L 0.25 -1.546875 Z M 2.875 -2.234375 L 0.921875 -2.234375 L 2.875 -5.046875 Z M 2.875 -2.234375 \"/>\n",
       "</symbol>\n",
       "<symbol overflow=\"visible\" id=\"glyphNQPpL1qS0-3\">\n",
       "<path style=\"stroke:none;\" d=\"M 4.453125 -0.765625 L 1.171875 -0.765625 C 1.25 -1.296875 1.53125 -1.625 2.296875 -2.09375 L 3.171875 -2.59375 C 4.046875 -3.0625 4.5 -3.71875 4.5 -4.5 C 4.5 -5.03125 4.28125 -5.53125 3.921875 -5.875 C 3.546875 -6.203125 3.09375 -6.359375 2.5 -6.359375 C 1.703125 -6.359375 1.125 -6.078125 0.78125 -5.53125 C 0.546875 -5.203125 0.453125 -4.796875 0.4375 -4.15625 L 1.21875 -4.15625 C 1.234375 -4.59375 1.296875 -4.84375 1.40625 -5.0625 C 1.59375 -5.4375 2 -5.6875 2.46875 -5.6875 C 3.171875 -5.6875 3.703125 -5.171875 3.703125 -4.484375 C 3.703125 -3.96875 3.40625 -3.53125 2.859375 -3.21875 L 2.046875 -2.75 C 0.75 -2 0.375 -1.40625 0.296875 -0.015625 L 4.453125 -0.015625 Z M 4.453125 -0.765625 \"/>\n",
       "</symbol>\n",
       "<symbol overflow=\"visible\" id=\"glyphNQPpL1qS0-4\">\n",
       "<path style=\"stroke:none;\" d=\"M 2.421875 -6.359375 C 1.84375 -6.359375 1.3125 -6.09375 0.984375 -5.671875 C 0.578125 -5.109375 0.375 -4.25 0.375 -3.078125 C 0.375 -0.9375 1.078125 0.203125 2.421875 0.203125 C 3.734375 0.203125 4.453125 -0.9375 4.453125 -3.03125 C 4.453125 -4.25 4.265625 -5.078125 3.859375 -5.671875 C 3.53125 -6.109375 3.015625 -6.359375 2.421875 -6.359375 Z M 2.421875 -5.671875 C 3.25 -5.671875 3.671875 -4.828125 3.671875 -3.09375 C 3.671875 -1.28125 3.265625 -0.4375 2.40625 -0.4375 C 1.578125 -0.4375 1.171875 -1.3125 1.171875 -3.0625 C 1.171875 -4.828125 1.578125 -5.671875 2.421875 -5.671875 Z M 2.421875 -5.671875 \"/>\n",
       "</symbol>\n",
       "<symbol overflow=\"visible\" id=\"glyphNQPpL1qS0-5\">\n",
       "<path style=\"stroke:none;\" d=\"M 2.28125 -4.53125 L 2.28125 0 L 3.046875 0 L 3.046875 -6.359375 L 2.546875 -6.359375 C 2.265625 -5.390625 2.09375 -5.25 0.890625 -5.09375 L 0.890625 -4.53125 Z M 2.28125 -4.53125 \"/>\n",
       "</symbol>\n",
       "<symbol overflow=\"visible\" id=\"glyphNQPpL1qS0-6\">\n",
       "<path style=\"stroke:none;\" d=\"M 1.9375 -2.921875 L 2.359375 -2.921875 C 3.203125 -2.921875 3.65625 -2.53125 3.65625 -1.765625 C 3.65625 -0.96875 3.171875 -0.484375 2.375 -0.484375 C 1.515625 -0.484375 1.109375 -0.921875 1.0625 -1.84375 L 0.28125 -1.84375 C 0.3125 -1.34375 0.40625 -1 0.546875 -0.71875 C 0.875 -0.109375 1.484375 0.203125 2.34375 0.203125 C 3.625 0.203125 4.453125 -0.578125 4.453125 -1.78125 C 4.453125 -2.59375 4.140625 -3.03125 3.390625 -3.296875 C 3.96875 -3.53125 4.265625 -3.96875 4.265625 -4.609375 C 4.265625 -5.703125 3.546875 -6.359375 2.359375 -6.359375 C 1.109375 -6.359375 0.4375 -5.65625 0.40625 -4.3125 L 1.1875 -4.3125 C 1.203125 -4.703125 1.234375 -4.921875 1.328125 -5.109375 C 1.5 -5.46875 1.890625 -5.6875 2.375 -5.6875 C 3.0625 -5.6875 3.46875 -5.265625 3.46875 -4.578125 C 3.46875 -4.140625 3.3125 -3.859375 2.96875 -3.71875 C 2.765625 -3.625 2.484375 -3.59375 1.9375 -3.578125 Z M 1.9375 -2.921875 \"/>\n",
       "</symbol>\n",
       "<symbol overflow=\"visible\" id=\"glyphNQPpL1qS1-0\">\n",
       "<path style=\"stroke:none;\" d=\"\"/>\n",
       "</symbol>\n",
       "<symbol overflow=\"visible\" id=\"glyphNQPpL1qS1-1\">\n",
       "<path style=\"stroke:none;\" d=\"M 3.21875 -2.984375 L 5.140625 -5.765625 L 4.109375 -5.765625 L 2.734375 -3.671875 L 1.34375 -5.765625 L 0.296875 -5.765625 L 2.21875 -2.9375 L 0.1875 0 L 1.234375 0 L 2.6875 -2.21875 L 4.140625 0 L 5.203125 0 Z M 3.21875 -2.984375 \"/>\n",
       "</symbol>\n",
       "<symbol overflow=\"visible\" id=\"glyphNQPpL1qS2-0\">\n",
       "<path style=\"stroke:none;\" d=\"\"/>\n",
       "</symbol>\n",
       "<symbol overflow=\"visible\" id=\"glyphNQPpL1qS2-1\">\n",
       "<path style=\"stroke:none;\" d=\"M -5.765625 -4.265625 L -1.28125 -2.671875 L -5.765625 -1.203125 L -5.765625 -0.21875 L 0.015625 -2.171875 L 0.9375 -1.8125 C 1.34375 -1.65625 1.5 -1.46875 1.5 -1.078125 C 1.5 -0.921875 1.46875 -0.796875 1.4375 -0.59375 L 2.25 -0.59375 C 2.359375 -0.78125 2.390625 -0.96875 2.390625 -1.203125 C 2.390625 -1.5 2.296875 -1.828125 2.125 -2.0625 C 1.90625 -2.359375 1.671875 -2.515625 1.203125 -2.6875 L -5.765625 -5.265625 Z M -5.765625 -4.265625 \"/>\n",
       "</symbol>\n",
       "</g>\n",
       "<clipPath id=\"clip1\">\n",
       "  <path d=\"M 33.152344 5.480469 L 426.523438 5.480469 L 426.523438 325.851562 L 33.152344 325.851562 Z M 33.152344 5.480469 \"/>\n",
       "</clipPath>\n",
       "<clipPath id=\"clip2\">\n",
       "  <path d=\"M 33.152344 298 L 426.523438 298 L 426.523438 299 L 33.152344 299 Z M 33.152344 298 \"/>\n",
       "</clipPath>\n",
       "<clipPath id=\"clip3\">\n",
       "  <path d=\"M 33.152344 231 L 426.523438 231 L 426.523438 232 L 33.152344 232 Z M 33.152344 231 \"/>\n",
       "</clipPath>\n",
       "<clipPath id=\"clip4\">\n",
       "  <path d=\"M 33.152344 164 L 426.523438 164 L 426.523438 166 L 33.152344 166 Z M 33.152344 164 \"/>\n",
       "</clipPath>\n",
       "<clipPath id=\"clip5\">\n",
       "  <path d=\"M 33.152344 97 L 426.523438 97 L 426.523438 99 L 33.152344 99 Z M 33.152344 97 \"/>\n",
       "</clipPath>\n",
       "<clipPath id=\"clip6\">\n",
       "  <path d=\"M 33.152344 30 L 426.523438 30 L 426.523438 32 L 33.152344 32 Z M 33.152344 30 \"/>\n",
       "</clipPath>\n",
       "<clipPath id=\"clip7\">\n",
       "  <path d=\"M 87 5.480469 L 88 5.480469 L 88 325.851562 L 87 325.851562 Z M 87 5.480469 \"/>\n",
       "</clipPath>\n",
       "<clipPath id=\"clip8\">\n",
       "  <path d=\"M 179 5.480469 L 180 5.480469 L 180 325.851562 L 179 325.851562 Z M 179 5.480469 \"/>\n",
       "</clipPath>\n",
       "<clipPath id=\"clip9\">\n",
       "  <path d=\"M 270 5.480469 L 272 5.480469 L 272 325.851562 L 270 325.851562 Z M 270 5.480469 \"/>\n",
       "</clipPath>\n",
       "<clipPath id=\"clip10\">\n",
       "  <path d=\"M 362 5.480469 L 364 5.480469 L 364 325.851562 L 362 325.851562 Z M 362 5.480469 \"/>\n",
       "</clipPath>\n",
       "<clipPath id=\"clip11\">\n",
       "  <path d=\"M 33.152344 264 L 426.523438 264 L 426.523438 266 L 33.152344 266 Z M 33.152344 264 \"/>\n",
       "</clipPath>\n",
       "<clipPath id=\"clip12\">\n",
       "  <path d=\"M 33.152344 197 L 426.523438 197 L 426.523438 199 L 33.152344 199 Z M 33.152344 197 \"/>\n",
       "</clipPath>\n",
       "<clipPath id=\"clip13\">\n",
       "  <path d=\"M 33.152344 130 L 426.523438 130 L 426.523438 132 L 33.152344 132 Z M 33.152344 130 \"/>\n",
       "</clipPath>\n",
       "<clipPath id=\"clip14\">\n",
       "  <path d=\"M 33.152344 64 L 426.523438 64 L 426.523438 66 L 33.152344 66 Z M 33.152344 64 \"/>\n",
       "</clipPath>\n",
       "<clipPath id=\"clip15\">\n",
       "  <path d=\"M 41 5.480469 L 43 5.480469 L 43 325.851562 L 41 325.851562 Z M 41 5.480469 \"/>\n",
       "</clipPath>\n",
       "<clipPath id=\"clip16\">\n",
       "  <path d=\"M 133 5.480469 L 135 5.480469 L 135 325.851562 L 133 325.851562 Z M 133 5.480469 \"/>\n",
       "</clipPath>\n",
       "<clipPath id=\"clip17\">\n",
       "  <path d=\"M 224 5.480469 L 226 5.480469 L 226 325.851562 L 224 325.851562 Z M 224 5.480469 \"/>\n",
       "</clipPath>\n",
       "<clipPath id=\"clip18\">\n",
       "  <path d=\"M 316 5.480469 L 318 5.480469 L 318 325.851562 L 316 325.851562 Z M 316 5.480469 \"/>\n",
       "</clipPath>\n",
       "<clipPath id=\"clip19\">\n",
       "  <path d=\"M 408 5.480469 L 410 5.480469 L 410 325.851562 L 408 325.851562 Z M 408 5.480469 \"/>\n",
       "</clipPath>\n",
       "</defs>\n",
       "<g id=\"surface1\">\n",
       "<rect x=\"0\" y=\"0\" width=\"432\" height=\"360\" style=\"fill:rgb(100%,100%,100%);fill-opacity:1;stroke:none;\"/>\n",
       "<rect x=\"0\" y=\"0\" width=\"432\" height=\"360\" style=\"fill:rgb(100%,100%,100%);fill-opacity:1;stroke:none;\"/>\n",
       "<path style=\"fill:none;stroke-width:1.066978;stroke-linecap:round;stroke-linejoin:round;stroke:rgb(100%,100%,100%);stroke-opacity:1;stroke-miterlimit:10;\" d=\"M 0 360 L 432 360 L 432 0 L 0 0 Z M 0 360 \"/>\n",
       "<g clip-path=\"url(#clip1)\" clip-rule=\"nonzero\">\n",
       "<path style=\" stroke:none;fill-rule:nonzero;fill:rgb(92.156863%,92.156863%,92.156863%);fill-opacity:1;\" d=\"M 33.152344 325.847656 L 426.523438 325.847656 L 426.523438 5.476562 L 33.152344 5.476562 Z M 33.152344 325.847656 \"/>\n",
       "</g>\n",
       "<g clip-path=\"url(#clip2)\" clip-rule=\"nonzero\">\n",
       "<path style=\"fill:none;stroke-width:0.533489;stroke-linecap:butt;stroke-linejoin:round;stroke:rgb(100%,100%,100%);stroke-opacity:1;stroke-miterlimit:10;\" d=\"M 33.152344 298.589844 L 426.519531 298.589844 \"/>\n",
       "</g>\n",
       "<g clip-path=\"url(#clip3)\" clip-rule=\"nonzero\">\n",
       "<path style=\"fill:none;stroke-width:0.533489;stroke-linecap:butt;stroke-linejoin:round;stroke:rgb(100%,100%,100%);stroke-opacity:1;stroke-miterlimit:10;\" d=\"M 33.152344 231.734375 L 426.519531 231.734375 \"/>\n",
       "</g>\n",
       "<g clip-path=\"url(#clip4)\" clip-rule=\"nonzero\">\n",
       "<path style=\"fill:none;stroke-width:0.533489;stroke-linecap:butt;stroke-linejoin:round;stroke:rgb(100%,100%,100%);stroke-opacity:1;stroke-miterlimit:10;\" d=\"M 33.152344 164.878906 L 426.519531 164.878906 \"/>\n",
       "</g>\n",
       "<g clip-path=\"url(#clip5)\" clip-rule=\"nonzero\">\n",
       "<path style=\"fill:none;stroke-width:0.533489;stroke-linecap:butt;stroke-linejoin:round;stroke:rgb(100%,100%,100%);stroke-opacity:1;stroke-miterlimit:10;\" d=\"M 33.152344 98.023438 L 426.519531 98.023438 \"/>\n",
       "</g>\n",
       "<g clip-path=\"url(#clip6)\" clip-rule=\"nonzero\">\n",
       "<path style=\"fill:none;stroke-width:0.533489;stroke-linecap:butt;stroke-linejoin:round;stroke:rgb(100%,100%,100%);stroke-opacity:1;stroke-miterlimit:10;\" d=\"M 33.152344 31.167969 L 426.519531 31.167969 \"/>\n",
       "</g>\n",
       "<g clip-path=\"url(#clip7)\" clip-rule=\"nonzero\">\n",
       "<path style=\"fill:none;stroke-width:0.533489;stroke-linecap:butt;stroke-linejoin:round;stroke:rgb(100%,100%,100%);stroke-opacity:1;stroke-miterlimit:10;\" d=\"M 87.707031 325.847656 L 87.707031 5.480469 \"/>\n",
       "</g>\n",
       "<g clip-path=\"url(#clip8)\" clip-rule=\"nonzero\">\n",
       "<path style=\"fill:none;stroke-width:0.533489;stroke-linecap:butt;stroke-linejoin:round;stroke:rgb(100%,100%,100%);stroke-opacity:1;stroke-miterlimit:10;\" d=\"M 179.402344 325.847656 L 179.402344 5.480469 \"/>\n",
       "</g>\n",
       "<g clip-path=\"url(#clip9)\" clip-rule=\"nonzero\">\n",
       "<path style=\"fill:none;stroke-width:0.533489;stroke-linecap:butt;stroke-linejoin:round;stroke:rgb(100%,100%,100%);stroke-opacity:1;stroke-miterlimit:10;\" d=\"M 271.097656 325.847656 L 271.097656 5.480469 \"/>\n",
       "</g>\n",
       "<g clip-path=\"url(#clip10)\" clip-rule=\"nonzero\">\n",
       "<path style=\"fill:none;stroke-width:0.533489;stroke-linecap:butt;stroke-linejoin:round;stroke:rgb(100%,100%,100%);stroke-opacity:1;stroke-miterlimit:10;\" d=\"M 362.792969 325.847656 L 362.792969 5.480469 \"/>\n",
       "</g>\n",
       "<g clip-path=\"url(#clip11)\" clip-rule=\"nonzero\">\n",
       "<path style=\"fill:none;stroke-width:1.066978;stroke-linecap:butt;stroke-linejoin:round;stroke:rgb(100%,100%,100%);stroke-opacity:1;stroke-miterlimit:10;\" d=\"M 33.152344 265.160156 L 426.519531 265.160156 \"/>\n",
       "</g>\n",
       "<g clip-path=\"url(#clip12)\" clip-rule=\"nonzero\">\n",
       "<path style=\"fill:none;stroke-width:1.066978;stroke-linecap:butt;stroke-linejoin:round;stroke:rgb(100%,100%,100%);stroke-opacity:1;stroke-miterlimit:10;\" d=\"M 33.152344 198.304688 L 426.519531 198.304688 \"/>\n",
       "</g>\n",
       "<g clip-path=\"url(#clip13)\" clip-rule=\"nonzero\">\n",
       "<path style=\"fill:none;stroke-width:1.066978;stroke-linecap:butt;stroke-linejoin:round;stroke:rgb(100%,100%,100%);stroke-opacity:1;stroke-miterlimit:10;\" d=\"M 33.152344 131.449219 L 426.519531 131.449219 \"/>\n",
       "</g>\n",
       "<g clip-path=\"url(#clip14)\" clip-rule=\"nonzero\">\n",
       "<path style=\"fill:none;stroke-width:1.066978;stroke-linecap:butt;stroke-linejoin:round;stroke:rgb(100%,100%,100%);stroke-opacity:1;stroke-miterlimit:10;\" d=\"M 33.152344 64.59375 L 426.519531 64.59375 \"/>\n",
       "</g>\n",
       "<g clip-path=\"url(#clip15)\" clip-rule=\"nonzero\">\n",
       "<path style=\"fill:none;stroke-width:1.066978;stroke-linecap:butt;stroke-linejoin:round;stroke:rgb(100%,100%,100%);stroke-opacity:1;stroke-miterlimit:10;\" d=\"M 41.863281 325.847656 L 41.863281 5.480469 \"/>\n",
       "</g>\n",
       "<g clip-path=\"url(#clip16)\" clip-rule=\"nonzero\">\n",
       "<path style=\"fill:none;stroke-width:1.066978;stroke-linecap:butt;stroke-linejoin:round;stroke:rgb(100%,100%,100%);stroke-opacity:1;stroke-miterlimit:10;\" d=\"M 133.554688 325.847656 L 133.554688 5.480469 \"/>\n",
       "</g>\n",
       "<g clip-path=\"url(#clip17)\" clip-rule=\"nonzero\">\n",
       "<path style=\"fill:none;stroke-width:1.066978;stroke-linecap:butt;stroke-linejoin:round;stroke:rgb(100%,100%,100%);stroke-opacity:1;stroke-miterlimit:10;\" d=\"M 225.25 325.847656 L 225.25 5.480469 \"/>\n",
       "</g>\n",
       "<g clip-path=\"url(#clip18)\" clip-rule=\"nonzero\">\n",
       "<path style=\"fill:none;stroke-width:1.066978;stroke-linecap:butt;stroke-linejoin:round;stroke:rgb(100%,100%,100%);stroke-opacity:1;stroke-miterlimit:10;\" d=\"M 316.945312 325.847656 L 316.945312 5.480469 \"/>\n",
       "</g>\n",
       "<g clip-path=\"url(#clip19)\" clip-rule=\"nonzero\">\n",
       "<path style=\"fill:none;stroke-width:1.066978;stroke-linecap:butt;stroke-linejoin:round;stroke:rgb(100%,100%,100%);stroke-opacity:1;stroke-miterlimit:10;\" d=\"M 408.640625 325.847656 L 408.640625 5.480469 \"/>\n",
       "</g>\n",
       "<path style=\"fill:none;stroke-width:1.066978;stroke-linecap:butt;stroke-linejoin:round;stroke:rgb(0%,0%,0%);stroke-opacity:1;stroke-miterlimit:10;\" d=\"M 51.03125 108.917969 L 60.199219 75.6875 L 69.371094 97.050781 L 78.539062 105.554688 L 87.707031 109.332031 L 96.878906 150.464844 L 106.046875 104.757812 L 115.21875 62.851562 L 124.386719 127.941406 L 133.554688 171.195312 L 142.726562 126.390625 L 151.894531 124.21875 L 161.066406 104.871094 L 170.234375 103.722656 L 179.402344 119.363281 L 188.574219 20.042969 L 197.742188 61.765625 L 206.910156 74.953125 L 216.082031 55.484375 L 225.25 59.464844 L 234.421875 77.300781 L 243.589844 148.429688 L 252.757812 198.210938 L 261.929688 236.488281 L 271.097656 210.207031 L 280.269531 196.171875 L 289.4375 255.542969 L 298.605469 234.066406 L 307.777344 226.613281 L 316.945312 255.238281 L 326.113281 277.707031 L 335.285156 311.285156 L 344.453125 289.261719 L 353.625 283.460938 L 362.792969 223.601562 L 371.960938 215.785156 L 381.132812 265.441406 L 390.300781 254.777344 L 399.46875 268.386719 L 408.640625 281.878906 \"/>\n",
       "<g style=\"fill:rgb(30.196078%,30.196078%,30.196078%);fill-opacity:1;\">\n",
       "  <use xlink:href=\"#glyphNQPpL1qS0-1\" x=\"20.21875\" y=\"268.075195\"/>\n",
       "  <use xlink:href=\"#glyphNQPpL1qS0-2\" x=\"23.21875\" y=\"268.075195\"/>\n",
       "</g>\n",
       "<g style=\"fill:rgb(30.196078%,30.196078%,30.196078%);fill-opacity:1;\">\n",
       "  <use xlink:href=\"#glyphNQPpL1qS0-1\" x=\"20.21875\" y=\"201.219727\"/>\n",
       "  <use xlink:href=\"#glyphNQPpL1qS0-3\" x=\"23.21875\" y=\"201.219727\"/>\n",
       "</g>\n",
       "<g style=\"fill:rgb(30.196078%,30.196078%,30.196078%);fill-opacity:1;\">\n",
       "  <use xlink:href=\"#glyphNQPpL1qS0-4\" x=\"23.21875\" y=\"134.364258\"/>\n",
       "</g>\n",
       "<g style=\"fill:rgb(30.196078%,30.196078%,30.196078%);fill-opacity:1;\">\n",
       "  <use xlink:href=\"#glyphNQPpL1qS0-3\" x=\"23.21875\" y=\"67.508789\"/>\n",
       "</g>\n",
       "<path style=\"fill:none;stroke-width:1.066978;stroke-linecap:butt;stroke-linejoin:round;stroke:rgb(20%,20%,20%);stroke-opacity:1;stroke-miterlimit:10;\" d=\"M 30.410156 265.160156 L 33.152344 265.160156 \"/>\n",
       "<path style=\"fill:none;stroke-width:1.066978;stroke-linecap:butt;stroke-linejoin:round;stroke:rgb(20%,20%,20%);stroke-opacity:1;stroke-miterlimit:10;\" d=\"M 30.410156 198.304688 L 33.152344 198.304688 \"/>\n",
       "<path style=\"fill:none;stroke-width:1.066978;stroke-linecap:butt;stroke-linejoin:round;stroke:rgb(20%,20%,20%);stroke-opacity:1;stroke-miterlimit:10;\" d=\"M 30.410156 131.449219 L 33.152344 131.449219 \"/>\n",
       "<path style=\"fill:none;stroke-width:1.066978;stroke-linecap:butt;stroke-linejoin:round;stroke:rgb(20%,20%,20%);stroke-opacity:1;stroke-miterlimit:10;\" d=\"M 30.410156 64.59375 L 33.152344 64.59375 \"/>\n",
       "<path style=\"fill:none;stroke-width:1.066978;stroke-linecap:butt;stroke-linejoin:round;stroke:rgb(20%,20%,20%);stroke-opacity:1;stroke-miterlimit:10;\" d=\"M 41.863281 328.589844 L 41.863281 325.847656 \"/>\n",
       "<path style=\"fill:none;stroke-width:1.066978;stroke-linecap:butt;stroke-linejoin:round;stroke:rgb(20%,20%,20%);stroke-opacity:1;stroke-miterlimit:10;\" d=\"M 133.554688 328.589844 L 133.554688 325.847656 \"/>\n",
       "<path style=\"fill:none;stroke-width:1.066978;stroke-linecap:butt;stroke-linejoin:round;stroke:rgb(20%,20%,20%);stroke-opacity:1;stroke-miterlimit:10;\" d=\"M 225.25 328.589844 L 225.25 325.847656 \"/>\n",
       "<path style=\"fill:none;stroke-width:1.066978;stroke-linecap:butt;stroke-linejoin:round;stroke:rgb(20%,20%,20%);stroke-opacity:1;stroke-miterlimit:10;\" d=\"M 316.945312 328.589844 L 316.945312 325.847656 \"/>\n",
       "<path style=\"fill:none;stroke-width:1.066978;stroke-linecap:butt;stroke-linejoin:round;stroke:rgb(20%,20%,20%);stroke-opacity:1;stroke-miterlimit:10;\" d=\"M 408.640625 328.589844 L 408.640625 325.847656 \"/>\n",
       "<g style=\"fill:rgb(30.196078%,30.196078%,30.196078%);fill-opacity:1;\">\n",
       "  <use xlink:href=\"#glyphNQPpL1qS0-4\" x=\"39.363281\" y=\"337.196289\"/>\n",
       "</g>\n",
       "<g style=\"fill:rgb(30.196078%,30.196078%,30.196078%);fill-opacity:1;\">\n",
       "  <use xlink:href=\"#glyphNQPpL1qS0-5\" x=\"128.554688\" y=\"337.196289\"/>\n",
       "  <use xlink:href=\"#glyphNQPpL1qS0-4\" x=\"133.554688\" y=\"337.196289\"/>\n",
       "</g>\n",
       "<g style=\"fill:rgb(30.196078%,30.196078%,30.196078%);fill-opacity:1;\">\n",
       "  <use xlink:href=\"#glyphNQPpL1qS0-3\" x=\"220.25\" y=\"337.196289\"/>\n",
       "  <use xlink:href=\"#glyphNQPpL1qS0-4\" x=\"225.25\" y=\"337.196289\"/>\n",
       "</g>\n",
       "<g style=\"fill:rgb(30.196078%,30.196078%,30.196078%);fill-opacity:1;\">\n",
       "  <use xlink:href=\"#glyphNQPpL1qS0-6\" x=\"311.945312\" y=\"337.196289\"/>\n",
       "  <use xlink:href=\"#glyphNQPpL1qS0-4\" x=\"316.945312\" y=\"337.196289\"/>\n",
       "</g>\n",
       "<g style=\"fill:rgb(30.196078%,30.196078%,30.196078%);fill-opacity:1;\">\n",
       "  <use xlink:href=\"#glyphNQPpL1qS0-2\" x=\"403.640625\" y=\"337.196289\"/>\n",
       "  <use xlink:href=\"#glyphNQPpL1qS0-4\" x=\"408.640625\" y=\"337.196289\"/>\n",
       "</g>\n",
       "<g style=\"fill:rgb(0%,0%,0%);fill-opacity:1;\">\n",
       "  <use xlink:href=\"#glyphNQPpL1qS1-1\" x=\"227.335938\" y=\"350.538086\"/>\n",
       "</g>\n",
       "<g style=\"fill:rgb(0%,0%,0%);fill-opacity:1;\">\n",
       "  <use xlink:href=\"#glyphNQPpL1qS2-1\" x=\"13.499023\" y=\"168.164062\"/>\n",
       "</g>\n",
       "</g>\n",
       "</svg>\n"
      ]
     },
     "metadata": {},
     "output_type": "display_data"
    },
    {
     "data": {
      "text/plain": [
       "RObject{VecSxp}\n"
      ]
     },
     "execution_count": 9,
     "metadata": {},
     "output_type": "execute_result"
    }
   ],
   "source": [
    "@rput df;   # copy the Julia data frame to the R process\n",
    "            # evaluate R expressions in R\n",
    "R\"\"\"        \n",
    "library(ggplot2)\n",
    "ggplot(df, aes(x = x, y = y)) + geom_line()\n",
    "\"\"\""
   ]
  },
  {
   "cell_type": "code",
   "execution_count": 10,
   "id": "f5f9052d",
   "metadata": {
    "slideshow": {
     "slide_type": "slide"
    }
   },
   "outputs": [
    {
     "data": {
      "text/plain": [
       "RObject{StrSxp}\n",
       "[1] \"df\"\n"
      ]
     },
     "execution_count": 10,
     "metadata": {},
     "output_type": "execute_result"
    }
   ],
   "source": [
    "R\"ls()\"      # there is now a copy in the R process"
   ]
  },
  {
   "cell_type": "code",
   "execution_count": 11,
   "id": "a5d4bd8c",
   "metadata": {},
   "outputs": [
    {
     "name": "stdout",
     "output_type": "stream",
     "text": [
      "'data.frame':\t40 obs. of  2 variables:\n",
      " $ x: int  1 2 3 4 5 6 7 8 9 10 ...\n",
      " $ y: num  0.674 1.668 1.029 0.775 0.662 ...\n"
     ]
    },
    {
     "data": {
      "text/plain": [
       "RObject{NilSxp}\n",
       "NULL\n"
      ]
     },
     "execution_count": 11,
     "metadata": {},
     "output_type": "execute_result"
    }
   ],
   "source": [
    "R\"str(df)\"  # and I can check what it looks like in R"
   ]
  },
  {
   "cell_type": "markdown",
   "id": "db6d658f",
   "metadata": {
    "slideshow": {
     "slide_type": "slide"
    }
   },
   "source": [
    "### Using `@rimport` and `@rlibrary`\n",
    "- RCall provides more transparent (although potentially less effective) ways of using an R package in Julia\n",
    "- the `@rimport` macro creates a Julia module with the names from the R package\n",
    "- the `@rlibrary` macro installs the names from the R package in the `Main` namespace\n",
    "- I think it is safer to use `@rimport`"
   ]
  },
  {
   "cell_type": "code",
   "execution_count": 12,
   "id": "fdd21023",
   "metadata": {
    "slideshow": {
     "slide_type": "slide"
    }
   },
   "outputs": [
    {
     "data": {
      "image/svg+xml": [
       "<?xml version=\"1.0\" encoding=\"UTF-8\"?>\n",
       "<svg xmlns=\"http://www.w3.org/2000/svg\" xmlns:xlink=\"http://www.w3.org/1999/xlink\" width=\"432pt\" height=\"360pt\" viewBox=\"0 0 432 360\" version=\"1.1\">\n",
       "<defs>\n",
       "<g>\n",
       "<symbol overflow=\"visible\" id=\"glyphCxB6e9250-0\">\n",
       "<path style=\"stroke:none;\" d=\"\"/>\n",
       "</symbol>\n",
       "<symbol overflow=\"visible\" id=\"glyphCxB6e9250-1\">\n",
       "<path style=\"stroke:none;\" d=\"M 2.5 -2.75 L 0.40625 -2.75 L 0.40625 -2.109375 L 2.5 -2.109375 Z M 2.5 -2.75 \"/>\n",
       "</symbol>\n",
       "<symbol overflow=\"visible\" id=\"glyphCxB6e9250-2\">\n",
       "<path style=\"stroke:none;\" d=\"M 2.875 -1.546875 L 2.875 0 L 3.65625 0 L 3.65625 -1.546875 L 4.578125 -1.546875 L 4.578125 -2.234375 L 3.65625 -2.234375 L 3.65625 -6.359375 L 3.078125 -6.359375 L 0.25 -2.359375 L 0.25 -1.546875 Z M 2.875 -2.234375 L 0.921875 -2.234375 L 2.875 -5.046875 Z M 2.875 -2.234375 \"/>\n",
       "</symbol>\n",
       "<symbol overflow=\"visible\" id=\"glyphCxB6e9250-3\">\n",
       "<path style=\"stroke:none;\" d=\"M 4.453125 -0.765625 L 1.171875 -0.765625 C 1.25 -1.296875 1.53125 -1.625 2.296875 -2.09375 L 3.171875 -2.59375 C 4.046875 -3.0625 4.5 -3.71875 4.5 -4.5 C 4.5 -5.03125 4.28125 -5.53125 3.921875 -5.875 C 3.546875 -6.203125 3.09375 -6.359375 2.5 -6.359375 C 1.703125 -6.359375 1.125 -6.078125 0.78125 -5.53125 C 0.546875 -5.203125 0.453125 -4.796875 0.4375 -4.15625 L 1.21875 -4.15625 C 1.234375 -4.59375 1.296875 -4.84375 1.40625 -5.0625 C 1.59375 -5.4375 2 -5.6875 2.46875 -5.6875 C 3.171875 -5.6875 3.703125 -5.171875 3.703125 -4.484375 C 3.703125 -3.96875 3.40625 -3.53125 2.859375 -3.21875 L 2.046875 -2.75 C 0.75 -2 0.375 -1.40625 0.296875 -0.015625 L 4.453125 -0.015625 Z M 4.453125 -0.765625 \"/>\n",
       "</symbol>\n",
       "<symbol overflow=\"visible\" id=\"glyphCxB6e9250-4\">\n",
       "<path style=\"stroke:none;\" d=\"M 2.421875 -6.359375 C 1.84375 -6.359375 1.3125 -6.09375 0.984375 -5.671875 C 0.578125 -5.109375 0.375 -4.25 0.375 -3.078125 C 0.375 -0.9375 1.078125 0.203125 2.421875 0.203125 C 3.734375 0.203125 4.453125 -0.9375 4.453125 -3.03125 C 4.453125 -4.25 4.265625 -5.078125 3.859375 -5.671875 C 3.53125 -6.109375 3.015625 -6.359375 2.421875 -6.359375 Z M 2.421875 -5.671875 C 3.25 -5.671875 3.671875 -4.828125 3.671875 -3.09375 C 3.671875 -1.28125 3.265625 -0.4375 2.40625 -0.4375 C 1.578125 -0.4375 1.171875 -1.3125 1.171875 -3.0625 C 1.171875 -4.828125 1.578125 -5.671875 2.421875 -5.671875 Z M 2.421875 -5.671875 \"/>\n",
       "</symbol>\n",
       "<symbol overflow=\"visible\" id=\"glyphCxB6e9250-5\">\n",
       "<path style=\"stroke:none;\" d=\"M 2.28125 -4.53125 L 2.28125 0 L 3.046875 0 L 3.046875 -6.359375 L 2.546875 -6.359375 C 2.265625 -5.390625 2.09375 -5.25 0.890625 -5.09375 L 0.890625 -4.53125 Z M 2.28125 -4.53125 \"/>\n",
       "</symbol>\n",
       "<symbol overflow=\"visible\" id=\"glyphCxB6e9250-6\">\n",
       "<path style=\"stroke:none;\" d=\"M 1.9375 -2.921875 L 2.359375 -2.921875 C 3.203125 -2.921875 3.65625 -2.53125 3.65625 -1.765625 C 3.65625 -0.96875 3.171875 -0.484375 2.375 -0.484375 C 1.515625 -0.484375 1.109375 -0.921875 1.0625 -1.84375 L 0.28125 -1.84375 C 0.3125 -1.34375 0.40625 -1 0.546875 -0.71875 C 0.875 -0.109375 1.484375 0.203125 2.34375 0.203125 C 3.625 0.203125 4.453125 -0.578125 4.453125 -1.78125 C 4.453125 -2.59375 4.140625 -3.03125 3.390625 -3.296875 C 3.96875 -3.53125 4.265625 -3.96875 4.265625 -4.609375 C 4.265625 -5.703125 3.546875 -6.359375 2.359375 -6.359375 C 1.109375 -6.359375 0.4375 -5.65625 0.40625 -4.3125 L 1.1875 -4.3125 C 1.203125 -4.703125 1.234375 -4.921875 1.328125 -5.109375 C 1.5 -5.46875 1.890625 -5.6875 2.375 -5.6875 C 3.0625 -5.6875 3.46875 -5.265625 3.46875 -4.578125 C 3.46875 -4.140625 3.3125 -3.859375 2.96875 -3.71875 C 2.765625 -3.625 2.484375 -3.59375 1.9375 -3.578125 Z M 1.9375 -2.921875 \"/>\n",
       "</symbol>\n",
       "<symbol overflow=\"visible\" id=\"glyphCxB6e9251-0\">\n",
       "<path style=\"stroke:none;\" d=\"\"/>\n",
       "</symbol>\n",
       "<symbol overflow=\"visible\" id=\"glyphCxB6e9251-1\">\n",
       "<path style=\"stroke:none;\" d=\"M 3.21875 -2.984375 L 5.140625 -5.765625 L 4.109375 -5.765625 L 2.734375 -3.671875 L 1.34375 -5.765625 L 0.296875 -5.765625 L 2.21875 -2.9375 L 0.1875 0 L 1.234375 0 L 2.6875 -2.21875 L 4.140625 0 L 5.203125 0 Z M 3.21875 -2.984375 \"/>\n",
       "</symbol>\n",
       "<symbol overflow=\"visible\" id=\"glyphCxB6e9252-0\">\n",
       "<path style=\"stroke:none;\" d=\"\"/>\n",
       "</symbol>\n",
       "<symbol overflow=\"visible\" id=\"glyphCxB6e9252-1\">\n",
       "<path style=\"stroke:none;\" d=\"M -5.765625 -4.265625 L -1.28125 -2.671875 L -5.765625 -1.203125 L -5.765625 -0.21875 L 0.015625 -2.171875 L 0.9375 -1.8125 C 1.34375 -1.65625 1.5 -1.46875 1.5 -1.078125 C 1.5 -0.921875 1.46875 -0.796875 1.4375 -0.59375 L 2.25 -0.59375 C 2.359375 -0.78125 2.390625 -0.96875 2.390625 -1.203125 C 2.390625 -1.5 2.296875 -1.828125 2.125 -2.0625 C 1.90625 -2.359375 1.671875 -2.515625 1.203125 -2.6875 L -5.765625 -5.265625 Z M -5.765625 -4.265625 \"/>\n",
       "</symbol>\n",
       "</g>\n",
       "<clipPath id=\"clip1\">\n",
       "  <path d=\"M 33.152344 5.480469 L 426.523438 5.480469 L 426.523438 325.851562 L 33.152344 325.851562 Z M 33.152344 5.480469 \"/>\n",
       "</clipPath>\n",
       "<clipPath id=\"clip2\">\n",
       "  <path d=\"M 33.152344 298 L 426.523438 298 L 426.523438 299 L 33.152344 299 Z M 33.152344 298 \"/>\n",
       "</clipPath>\n",
       "<clipPath id=\"clip3\">\n",
       "  <path d=\"M 33.152344 231 L 426.523438 231 L 426.523438 232 L 33.152344 232 Z M 33.152344 231 \"/>\n",
       "</clipPath>\n",
       "<clipPath id=\"clip4\">\n",
       "  <path d=\"M 33.152344 164 L 426.523438 164 L 426.523438 166 L 33.152344 166 Z M 33.152344 164 \"/>\n",
       "</clipPath>\n",
       "<clipPath id=\"clip5\">\n",
       "  <path d=\"M 33.152344 97 L 426.523438 97 L 426.523438 99 L 33.152344 99 Z M 33.152344 97 \"/>\n",
       "</clipPath>\n",
       "<clipPath id=\"clip6\">\n",
       "  <path d=\"M 33.152344 30 L 426.523438 30 L 426.523438 32 L 33.152344 32 Z M 33.152344 30 \"/>\n",
       "</clipPath>\n",
       "<clipPath id=\"clip7\">\n",
       "  <path d=\"M 87 5.480469 L 88 5.480469 L 88 325.851562 L 87 325.851562 Z M 87 5.480469 \"/>\n",
       "</clipPath>\n",
       "<clipPath id=\"clip8\">\n",
       "  <path d=\"M 179 5.480469 L 180 5.480469 L 180 325.851562 L 179 325.851562 Z M 179 5.480469 \"/>\n",
       "</clipPath>\n",
       "<clipPath id=\"clip9\">\n",
       "  <path d=\"M 270 5.480469 L 272 5.480469 L 272 325.851562 L 270 325.851562 Z M 270 5.480469 \"/>\n",
       "</clipPath>\n",
       "<clipPath id=\"clip10\">\n",
       "  <path d=\"M 362 5.480469 L 364 5.480469 L 364 325.851562 L 362 325.851562 Z M 362 5.480469 \"/>\n",
       "</clipPath>\n",
       "<clipPath id=\"clip11\">\n",
       "  <path d=\"M 33.152344 264 L 426.523438 264 L 426.523438 266 L 33.152344 266 Z M 33.152344 264 \"/>\n",
       "</clipPath>\n",
       "<clipPath id=\"clip12\">\n",
       "  <path d=\"M 33.152344 197 L 426.523438 197 L 426.523438 199 L 33.152344 199 Z M 33.152344 197 \"/>\n",
       "</clipPath>\n",
       "<clipPath id=\"clip13\">\n",
       "  <path d=\"M 33.152344 130 L 426.523438 130 L 426.523438 132 L 33.152344 132 Z M 33.152344 130 \"/>\n",
       "</clipPath>\n",
       "<clipPath id=\"clip14\">\n",
       "  <path d=\"M 33.152344 64 L 426.523438 64 L 426.523438 66 L 33.152344 66 Z M 33.152344 64 \"/>\n",
       "</clipPath>\n",
       "<clipPath id=\"clip15\">\n",
       "  <path d=\"M 41 5.480469 L 43 5.480469 L 43 325.851562 L 41 325.851562 Z M 41 5.480469 \"/>\n",
       "</clipPath>\n",
       "<clipPath id=\"clip16\">\n",
       "  <path d=\"M 133 5.480469 L 135 5.480469 L 135 325.851562 L 133 325.851562 Z M 133 5.480469 \"/>\n",
       "</clipPath>\n",
       "<clipPath id=\"clip17\">\n",
       "  <path d=\"M 224 5.480469 L 226 5.480469 L 226 325.851562 L 224 325.851562 Z M 224 5.480469 \"/>\n",
       "</clipPath>\n",
       "<clipPath id=\"clip18\">\n",
       "  <path d=\"M 316 5.480469 L 318 5.480469 L 318 325.851562 L 316 325.851562 Z M 316 5.480469 \"/>\n",
       "</clipPath>\n",
       "<clipPath id=\"clip19\">\n",
       "  <path d=\"M 408 5.480469 L 410 5.480469 L 410 325.851562 L 408 325.851562 Z M 408 5.480469 \"/>\n",
       "</clipPath>\n",
       "</defs>\n",
       "<g id=\"surface6\">\n",
       "<rect x=\"0\" y=\"0\" width=\"432\" height=\"360\" style=\"fill:rgb(100%,100%,100%);fill-opacity:1;stroke:none;\"/>\n",
       "<rect x=\"0\" y=\"0\" width=\"432\" height=\"360\" style=\"fill:rgb(100%,100%,100%);fill-opacity:1;stroke:none;\"/>\n",
       "<path style=\"fill:none;stroke-width:1.066978;stroke-linecap:round;stroke-linejoin:round;stroke:rgb(100%,100%,100%);stroke-opacity:1;stroke-miterlimit:10;\" d=\"M 0 360 L 432 360 L 432 0 L 0 0 Z M 0 360 \"/>\n",
       "<g clip-path=\"url(#clip1)\" clip-rule=\"nonzero\">\n",
       "<path style=\" stroke:none;fill-rule:nonzero;fill:rgb(92.156863%,92.156863%,92.156863%);fill-opacity:1;\" d=\"M 33.152344 325.847656 L 426.523438 325.847656 L 426.523438 5.476562 L 33.152344 5.476562 Z M 33.152344 325.847656 \"/>\n",
       "</g>\n",
       "<g clip-path=\"url(#clip2)\" clip-rule=\"nonzero\">\n",
       "<path style=\"fill:none;stroke-width:0.533489;stroke-linecap:butt;stroke-linejoin:round;stroke:rgb(100%,100%,100%);stroke-opacity:1;stroke-miterlimit:10;\" d=\"M 33.152344 298.589844 L 426.519531 298.589844 \"/>\n",
       "</g>\n",
       "<g clip-path=\"url(#clip3)\" clip-rule=\"nonzero\">\n",
       "<path style=\"fill:none;stroke-width:0.533489;stroke-linecap:butt;stroke-linejoin:round;stroke:rgb(100%,100%,100%);stroke-opacity:1;stroke-miterlimit:10;\" d=\"M 33.152344 231.734375 L 426.519531 231.734375 \"/>\n",
       "</g>\n",
       "<g clip-path=\"url(#clip4)\" clip-rule=\"nonzero\">\n",
       "<path style=\"fill:none;stroke-width:0.533489;stroke-linecap:butt;stroke-linejoin:round;stroke:rgb(100%,100%,100%);stroke-opacity:1;stroke-miterlimit:10;\" d=\"M 33.152344 164.878906 L 426.519531 164.878906 \"/>\n",
       "</g>\n",
       "<g clip-path=\"url(#clip5)\" clip-rule=\"nonzero\">\n",
       "<path style=\"fill:none;stroke-width:0.533489;stroke-linecap:butt;stroke-linejoin:round;stroke:rgb(100%,100%,100%);stroke-opacity:1;stroke-miterlimit:10;\" d=\"M 33.152344 98.023438 L 426.519531 98.023438 \"/>\n",
       "</g>\n",
       "<g clip-path=\"url(#clip6)\" clip-rule=\"nonzero\">\n",
       "<path style=\"fill:none;stroke-width:0.533489;stroke-linecap:butt;stroke-linejoin:round;stroke:rgb(100%,100%,100%);stroke-opacity:1;stroke-miterlimit:10;\" d=\"M 33.152344 31.167969 L 426.519531 31.167969 \"/>\n",
       "</g>\n",
       "<g clip-path=\"url(#clip7)\" clip-rule=\"nonzero\">\n",
       "<path style=\"fill:none;stroke-width:0.533489;stroke-linecap:butt;stroke-linejoin:round;stroke:rgb(100%,100%,100%);stroke-opacity:1;stroke-miterlimit:10;\" d=\"M 87.707031 325.847656 L 87.707031 5.480469 \"/>\n",
       "</g>\n",
       "<g clip-path=\"url(#clip8)\" clip-rule=\"nonzero\">\n",
       "<path style=\"fill:none;stroke-width:0.533489;stroke-linecap:butt;stroke-linejoin:round;stroke:rgb(100%,100%,100%);stroke-opacity:1;stroke-miterlimit:10;\" d=\"M 179.402344 325.847656 L 179.402344 5.480469 \"/>\n",
       "</g>\n",
       "<g clip-path=\"url(#clip9)\" clip-rule=\"nonzero\">\n",
       "<path style=\"fill:none;stroke-width:0.533489;stroke-linecap:butt;stroke-linejoin:round;stroke:rgb(100%,100%,100%);stroke-opacity:1;stroke-miterlimit:10;\" d=\"M 271.097656 325.847656 L 271.097656 5.480469 \"/>\n",
       "</g>\n",
       "<g clip-path=\"url(#clip10)\" clip-rule=\"nonzero\">\n",
       "<path style=\"fill:none;stroke-width:0.533489;stroke-linecap:butt;stroke-linejoin:round;stroke:rgb(100%,100%,100%);stroke-opacity:1;stroke-miterlimit:10;\" d=\"M 362.792969 325.847656 L 362.792969 5.480469 \"/>\n",
       "</g>\n",
       "<g clip-path=\"url(#clip11)\" clip-rule=\"nonzero\">\n",
       "<path style=\"fill:none;stroke-width:1.066978;stroke-linecap:butt;stroke-linejoin:round;stroke:rgb(100%,100%,100%);stroke-opacity:1;stroke-miterlimit:10;\" d=\"M 33.152344 265.160156 L 426.519531 265.160156 \"/>\n",
       "</g>\n",
       "<g clip-path=\"url(#clip12)\" clip-rule=\"nonzero\">\n",
       "<path style=\"fill:none;stroke-width:1.066978;stroke-linecap:butt;stroke-linejoin:round;stroke:rgb(100%,100%,100%);stroke-opacity:1;stroke-miterlimit:10;\" d=\"M 33.152344 198.304688 L 426.519531 198.304688 \"/>\n",
       "</g>\n",
       "<g clip-path=\"url(#clip13)\" clip-rule=\"nonzero\">\n",
       "<path style=\"fill:none;stroke-width:1.066978;stroke-linecap:butt;stroke-linejoin:round;stroke:rgb(100%,100%,100%);stroke-opacity:1;stroke-miterlimit:10;\" d=\"M 33.152344 131.449219 L 426.519531 131.449219 \"/>\n",
       "</g>\n",
       "<g clip-path=\"url(#clip14)\" clip-rule=\"nonzero\">\n",
       "<path style=\"fill:none;stroke-width:1.066978;stroke-linecap:butt;stroke-linejoin:round;stroke:rgb(100%,100%,100%);stroke-opacity:1;stroke-miterlimit:10;\" d=\"M 33.152344 64.59375 L 426.519531 64.59375 \"/>\n",
       "</g>\n",
       "<g clip-path=\"url(#clip15)\" clip-rule=\"nonzero\">\n",
       "<path style=\"fill:none;stroke-width:1.066978;stroke-linecap:butt;stroke-linejoin:round;stroke:rgb(100%,100%,100%);stroke-opacity:1;stroke-miterlimit:10;\" d=\"M 41.863281 325.847656 L 41.863281 5.480469 \"/>\n",
       "</g>\n",
       "<g clip-path=\"url(#clip16)\" clip-rule=\"nonzero\">\n",
       "<path style=\"fill:none;stroke-width:1.066978;stroke-linecap:butt;stroke-linejoin:round;stroke:rgb(100%,100%,100%);stroke-opacity:1;stroke-miterlimit:10;\" d=\"M 133.554688 325.847656 L 133.554688 5.480469 \"/>\n",
       "</g>\n",
       "<g clip-path=\"url(#clip17)\" clip-rule=\"nonzero\">\n",
       "<path style=\"fill:none;stroke-width:1.066978;stroke-linecap:butt;stroke-linejoin:round;stroke:rgb(100%,100%,100%);stroke-opacity:1;stroke-miterlimit:10;\" d=\"M 225.25 325.847656 L 225.25 5.480469 \"/>\n",
       "</g>\n",
       "<g clip-path=\"url(#clip18)\" clip-rule=\"nonzero\">\n",
       "<path style=\"fill:none;stroke-width:1.066978;stroke-linecap:butt;stroke-linejoin:round;stroke:rgb(100%,100%,100%);stroke-opacity:1;stroke-miterlimit:10;\" d=\"M 316.945312 325.847656 L 316.945312 5.480469 \"/>\n",
       "</g>\n",
       "<g clip-path=\"url(#clip19)\" clip-rule=\"nonzero\">\n",
       "<path style=\"fill:none;stroke-width:1.066978;stroke-linecap:butt;stroke-linejoin:round;stroke:rgb(100%,100%,100%);stroke-opacity:1;stroke-miterlimit:10;\" d=\"M 408.640625 325.847656 L 408.640625 5.480469 \"/>\n",
       "</g>\n",
       "<path style=\"fill:none;stroke-width:1.066978;stroke-linecap:butt;stroke-linejoin:round;stroke:rgb(0%,0%,0%);stroke-opacity:1;stroke-miterlimit:10;\" d=\"M 51.03125 108.917969 L 60.199219 75.6875 L 69.371094 97.050781 L 78.539062 105.554688 L 87.707031 109.332031 L 96.878906 150.464844 L 106.046875 104.757812 L 115.21875 62.851562 L 124.386719 127.941406 L 133.554688 171.195312 L 142.726562 126.390625 L 151.894531 124.21875 L 161.066406 104.871094 L 170.234375 103.722656 L 179.402344 119.363281 L 188.574219 20.042969 L 197.742188 61.765625 L 206.910156 74.953125 L 216.082031 55.484375 L 225.25 59.464844 L 234.421875 77.300781 L 243.589844 148.429688 L 252.757812 198.210938 L 261.929688 236.488281 L 271.097656 210.207031 L 280.269531 196.171875 L 289.4375 255.542969 L 298.605469 234.066406 L 307.777344 226.613281 L 316.945312 255.238281 L 326.113281 277.707031 L 335.285156 311.285156 L 344.453125 289.261719 L 353.625 283.460938 L 362.792969 223.601562 L 371.960938 215.785156 L 381.132812 265.441406 L 390.300781 254.777344 L 399.46875 268.386719 L 408.640625 281.878906 \"/>\n",
       "<g style=\"fill:rgb(30.196078%,30.196078%,30.196078%);fill-opacity:1;\">\n",
       "  <use xlink:href=\"#glyphCxB6e9250-1\" x=\"20.21875\" y=\"268.075195\"/>\n",
       "  <use xlink:href=\"#glyphCxB6e9250-2\" x=\"23.21875\" y=\"268.075195\"/>\n",
       "</g>\n",
       "<g style=\"fill:rgb(30.196078%,30.196078%,30.196078%);fill-opacity:1;\">\n",
       "  <use xlink:href=\"#glyphCxB6e9250-1\" x=\"20.21875\" y=\"201.219727\"/>\n",
       "  <use xlink:href=\"#glyphCxB6e9250-3\" x=\"23.21875\" y=\"201.219727\"/>\n",
       "</g>\n",
       "<g style=\"fill:rgb(30.196078%,30.196078%,30.196078%);fill-opacity:1;\">\n",
       "  <use xlink:href=\"#glyphCxB6e9250-4\" x=\"23.21875\" y=\"134.364258\"/>\n",
       "</g>\n",
       "<g style=\"fill:rgb(30.196078%,30.196078%,30.196078%);fill-opacity:1;\">\n",
       "  <use xlink:href=\"#glyphCxB6e9250-3\" x=\"23.21875\" y=\"67.508789\"/>\n",
       "</g>\n",
       "<path style=\"fill:none;stroke-width:1.066978;stroke-linecap:butt;stroke-linejoin:round;stroke:rgb(20%,20%,20%);stroke-opacity:1;stroke-miterlimit:10;\" d=\"M 30.410156 265.160156 L 33.152344 265.160156 \"/>\n",
       "<path style=\"fill:none;stroke-width:1.066978;stroke-linecap:butt;stroke-linejoin:round;stroke:rgb(20%,20%,20%);stroke-opacity:1;stroke-miterlimit:10;\" d=\"M 30.410156 198.304688 L 33.152344 198.304688 \"/>\n",
       "<path style=\"fill:none;stroke-width:1.066978;stroke-linecap:butt;stroke-linejoin:round;stroke:rgb(20%,20%,20%);stroke-opacity:1;stroke-miterlimit:10;\" d=\"M 30.410156 131.449219 L 33.152344 131.449219 \"/>\n",
       "<path style=\"fill:none;stroke-width:1.066978;stroke-linecap:butt;stroke-linejoin:round;stroke:rgb(20%,20%,20%);stroke-opacity:1;stroke-miterlimit:10;\" d=\"M 30.410156 64.59375 L 33.152344 64.59375 \"/>\n",
       "<path style=\"fill:none;stroke-width:1.066978;stroke-linecap:butt;stroke-linejoin:round;stroke:rgb(20%,20%,20%);stroke-opacity:1;stroke-miterlimit:10;\" d=\"M 41.863281 328.589844 L 41.863281 325.847656 \"/>\n",
       "<path style=\"fill:none;stroke-width:1.066978;stroke-linecap:butt;stroke-linejoin:round;stroke:rgb(20%,20%,20%);stroke-opacity:1;stroke-miterlimit:10;\" d=\"M 133.554688 328.589844 L 133.554688 325.847656 \"/>\n",
       "<path style=\"fill:none;stroke-width:1.066978;stroke-linecap:butt;stroke-linejoin:round;stroke:rgb(20%,20%,20%);stroke-opacity:1;stroke-miterlimit:10;\" d=\"M 225.25 328.589844 L 225.25 325.847656 \"/>\n",
       "<path style=\"fill:none;stroke-width:1.066978;stroke-linecap:butt;stroke-linejoin:round;stroke:rgb(20%,20%,20%);stroke-opacity:1;stroke-miterlimit:10;\" d=\"M 316.945312 328.589844 L 316.945312 325.847656 \"/>\n",
       "<path style=\"fill:none;stroke-width:1.066978;stroke-linecap:butt;stroke-linejoin:round;stroke:rgb(20%,20%,20%);stroke-opacity:1;stroke-miterlimit:10;\" d=\"M 408.640625 328.589844 L 408.640625 325.847656 \"/>\n",
       "<g style=\"fill:rgb(30.196078%,30.196078%,30.196078%);fill-opacity:1;\">\n",
       "  <use xlink:href=\"#glyphCxB6e9250-4\" x=\"39.363281\" y=\"337.196289\"/>\n",
       "</g>\n",
       "<g style=\"fill:rgb(30.196078%,30.196078%,30.196078%);fill-opacity:1;\">\n",
       "  <use xlink:href=\"#glyphCxB6e9250-5\" x=\"128.554688\" y=\"337.196289\"/>\n",
       "  <use xlink:href=\"#glyphCxB6e9250-4\" x=\"133.554688\" y=\"337.196289\"/>\n",
       "</g>\n",
       "<g style=\"fill:rgb(30.196078%,30.196078%,30.196078%);fill-opacity:1;\">\n",
       "  <use xlink:href=\"#glyphCxB6e9250-3\" x=\"220.25\" y=\"337.196289\"/>\n",
       "  <use xlink:href=\"#glyphCxB6e9250-4\" x=\"225.25\" y=\"337.196289\"/>\n",
       "</g>\n",
       "<g style=\"fill:rgb(30.196078%,30.196078%,30.196078%);fill-opacity:1;\">\n",
       "  <use xlink:href=\"#glyphCxB6e9250-6\" x=\"311.945312\" y=\"337.196289\"/>\n",
       "  <use xlink:href=\"#glyphCxB6e9250-4\" x=\"316.945312\" y=\"337.196289\"/>\n",
       "</g>\n",
       "<g style=\"fill:rgb(30.196078%,30.196078%,30.196078%);fill-opacity:1;\">\n",
       "  <use xlink:href=\"#glyphCxB6e9250-2\" x=\"403.640625\" y=\"337.196289\"/>\n",
       "  <use xlink:href=\"#glyphCxB6e9250-4\" x=\"408.640625\" y=\"337.196289\"/>\n",
       "</g>\n",
       "<g style=\"fill:rgb(0%,0%,0%);fill-opacity:1;\">\n",
       "  <use xlink:href=\"#glyphCxB6e9251-1\" x=\"227.335938\" y=\"350.538086\"/>\n",
       "</g>\n",
       "<g style=\"fill:rgb(0%,0%,0%);fill-opacity:1;\">\n",
       "  <use xlink:href=\"#glyphCxB6e9252-1\" x=\"13.499023\" y=\"168.164062\"/>\n",
       "</g>\n",
       "</g>\n",
       "</svg>\n"
      ]
     },
     "metadata": {},
     "output_type": "display_data"
    },
    {
     "data": {
      "text/plain": [
       "RObject{VecSxp}\n"
      ]
     },
     "execution_count": 12,
     "metadata": {},
     "output_type": "execute_result"
    }
   ],
   "source": [
    "@rimport ggplot2 as ggp\n",
    "ggp.ggplot(df, ggp.aes(x = :x, y = :y)) + ggp.geom_line()"
   ]
  },
  {
   "cell_type": "code",
   "execution_count": 13,
   "id": "ec590521",
   "metadata": {},
   "outputs": [
    {
     "data": {
      "text/plain": [
       "RObject{ClosSxp}"
      ]
     },
     "execution_count": 13,
     "metadata": {},
     "output_type": "execute_result"
    }
   ],
   "source": [
    "typeof(ggp.ggplot)"
   ]
  },
  {
   "cell_type": "markdown",
   "id": "2ddf39f8",
   "metadata": {
    "slideshow": {
     "slide_type": "slide"
    }
   },
   "source": [
    "### Limitations\n",
    "- There are limitations when using `@rimport` or `@rlibrary`\n",
    "- The expression is parsed and the arguments are evaluated in Julia.\n",
    "    + This is why the arguments in the call to `ggp.aes` are of the form `x = :x` and not `x = x`\n",
    "    + The first form is valid in Julia because `:x` is a symbol.\n",
    "    + The second form is only valid if `x` has a binding in the Julia session.\n",
    "- Arguments like `df` are evaluated in Julia and interpolated into the call to the R object `ggp.ggplot`\n",
    "    + This means that every call with an argument `df` copies the data frame over to R.\n",
    "    + If you evaluate an expression like `R\"ggplot(df, ...)\"` instead, it re-uses the frame in R."
   ]
  },
  {
   "cell_type": "markdown",
   "id": "99751b9f",
   "metadata": {
    "slideshow": {
     "slide_type": "slide"
    }
   },
   "source": [
    "## RCall is 100% Julia and PyCall is 99.9% Julia code\n",
    "- If you have never tried to write code to do something like this, that may seem mundane.  \n",
    "- If you have tried, it will be astonishing\n",
    "- Regardless of how it is accomplished, these language interfaces allow you a fallback while trying to get up to speed with a new language."
   ]
  }
 ],
 "metadata": {
  "celltoolbar": "Slideshow",
  "kernelspec": {
   "display_name": "Julia 1.6.2",
   "language": "julia",
   "name": "julia-1.6"
  },
  "language_info": {
   "file_extension": ".jl",
   "mimetype": "application/julia",
   "name": "julia",
   "version": "1.6.2"
  }
 },
 "nbformat": 4,
 "nbformat_minor": 5
}
